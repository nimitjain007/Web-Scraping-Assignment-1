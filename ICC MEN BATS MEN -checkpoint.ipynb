{
 "cells": [
  {
   "cell_type": "code",
   "execution_count": 1,
   "metadata": {},
   "outputs": [],
   "source": [
    "import pandas as pd\n",
    "from bs4 import BeautifulSoup\n",
    "import requests"
   ]
  },
  {
   "cell_type": "code",
   "execution_count": 2,
   "metadata": {},
   "outputs": [],
   "source": [
    "url =\"https://www.icc-cricket.com/rankings/mens/player-rankings/odi\"\n",
    "page2 = requests.get(url)\n",
    "soup2 = BeautifulSoup(page2.content)"
   ]
  },
  {
   "cell_type": "code",
   "execution_count": 4,
   "metadata": {},
   "outputs": [
    {
     "data": {
      "text/plain": [
       "['\\nVirat Kohli\\n',\n",
       " '\\nRohit Sharma\\n',\n",
       " '\\nRoss Taylor\\n',\n",
       " '\\nAaron Finch\\n',\n",
       " '\\nJonny Bairstow\\n',\n",
       " '\\nFakhar Zaman\\n',\n",
       " '\\nFrancois du Plessis\\n',\n",
       " '\\nDavid Warner\\n',\n",
       " '\\nShai Hope\\n',\n",
       " '\\nMehedi Hasan\\n',\n",
       " '\\nMujeeb Ur Rahman\\n',\n",
       " '\\nMatt Henry\\n',\n",
       " '\\nJasprit Bumrah\\n',\n",
       " '\\nKagiso Rabada\\n',\n",
       " '\\nChris Woakes\\n',\n",
       " '\\nJosh Hazlewood\\n',\n",
       " '\\nPat Cummins\\n',\n",
       " '\\nMustafizur Rahman\\n',\n",
       " '\\nBen Stokes\\n',\n",
       " '\\nMohammad Nabi\\n',\n",
       " '\\nChris Woakes\\n',\n",
       " '\\nRashid Khan\\n',\n",
       " '\\nMitchell Santner\\n',\n",
       " '\\nImad Wasim\\n',\n",
       " '\\nColin de Grandhomme\\n',\n",
       " '\\nRavindra Jadeja\\n',\n",
       " '\\nSean Williams\\n',\n",
       " '\\nVirat Kohli\\n',\n",
       " '\\nRohit Sharma\\n',\n",
       " '\\nRoss Taylor\\n',\n",
       " '\\nAaron Finch\\n',\n",
       " '\\nJonny Bairstow\\n',\n",
       " '\\nFakhar Zaman\\n',\n",
       " '\\nFrancois du Plessis\\n',\n",
       " '\\nDavid Warner\\n',\n",
       " '\\nShai Hope\\n',\n",
       " '\\nMehedi Hasan\\n',\n",
       " '\\nMujeeb Ur Rahman\\n',\n",
       " '\\nMatt Henry\\n',\n",
       " '\\nJasprit Bumrah\\n',\n",
       " '\\nKagiso Rabada\\n',\n",
       " '\\nChris Woakes\\n',\n",
       " '\\nJosh Hazlewood\\n',\n",
       " '\\nPat Cummins\\n',\n",
       " '\\nMustafizur Rahman\\n',\n",
       " '\\nBen Stokes\\n',\n",
       " '\\nMohammad Nabi\\n',\n",
       " '\\nChris Woakes\\n',\n",
       " '\\nRashid Khan\\n',\n",
       " '\\nMitchell Santner\\n',\n",
       " '\\nImad Wasim\\n',\n",
       " '\\nColin de Grandhomme\\n',\n",
       " '\\nRavindra Jadeja\\n',\n",
       " '\\nSean Williams\\n']"
      ]
     },
     "execution_count": 4,
     "metadata": {},
     "output_type": "execute_result"
    }
   ],
   "source": [
    "name = soup2.find_all(\"td\", class_=\"table-body__cell name\")\n",
    "BATSMEN = []\n",
    "for i in name:\n",
    "    BATSMEN.append(i.text)\n",
    "BATSMEN"
   ]
  },
  {
   "cell_type": "code",
   "execution_count": 5,
   "metadata": {},
   "outputs": [
    {
     "data": {
      "text/plain": [
       "['IND',\n",
       " 'IND',\n",
       " 'NZ',\n",
       " 'AUS',\n",
       " 'ENG',\n",
       " 'PAK',\n",
       " 'SA',\n",
       " 'AUS',\n",
       " 'WI',\n",
       " 'BAN',\n",
       " 'AFG',\n",
       " 'NZ',\n",
       " 'IND',\n",
       " 'SA',\n",
       " 'ENG',\n",
       " 'AUS',\n",
       " 'AUS',\n",
       " 'BAN',\n",
       " 'ENG',\n",
       " 'AFG',\n",
       " 'ENG',\n",
       " 'AFG',\n",
       " 'NZ',\n",
       " 'PAK',\n",
       " 'NZ',\n",
       " 'IND',\n",
       " 'ZIM',\n",
       " 'IND',\n",
       " 'IND',\n",
       " 'NZ',\n",
       " 'AUS',\n",
       " 'ENG',\n",
       " 'PAK',\n",
       " 'SA',\n",
       " 'AUS',\n",
       " 'WI',\n",
       " 'BAN',\n",
       " 'AFG',\n",
       " 'NZ',\n",
       " 'IND',\n",
       " 'SA',\n",
       " 'ENG',\n",
       " 'AUS',\n",
       " 'AUS',\n",
       " 'BAN',\n",
       " 'ENG',\n",
       " 'AFG',\n",
       " 'ENG',\n",
       " 'AFG',\n",
       " 'NZ',\n",
       " 'PAK',\n",
       " 'NZ',\n",
       " 'IND',\n",
       " 'ZIM']"
      ]
     },
     "execution_count": 5,
     "metadata": {},
     "output_type": "execute_result"
    }
   ],
   "source": [
    "name = soup2.find_all(\"span\", class_=\"table-body__logo-text\")\n",
    "TEAM = []\n",
    "for M in name:\n",
    "    TEAM.append(M.text)\n",
    "TEAM"
   ]
  },
  {
   "cell_type": "code",
   "execution_count": 6,
   "metadata": {},
   "outputs": [
    {
     "data": {
      "text/plain": [
       "['857',\n",
       " '825',\n",
       " '801',\n",
       " '791',\n",
       " '785',\n",
       " '778',\n",
       " '778',\n",
       " '773',\n",
       " '773',\n",
       " '713',\n",
       " '708',\n",
       " '691',\n",
       " '690',\n",
       " '666',\n",
       " '665',\n",
       " '660',\n",
       " '646',\n",
       " '645',\n",
       " '295',\n",
       " '294',\n",
       " '273',\n",
       " '270',\n",
       " '268',\n",
       " '263',\n",
       " '257',\n",
       " '245',\n",
       " '238',\n",
       " '857',\n",
       " '825',\n",
       " '801',\n",
       " '791',\n",
       " '785',\n",
       " '778',\n",
       " '778',\n",
       " '773',\n",
       " '773',\n",
       " '713',\n",
       " '708',\n",
       " '691',\n",
       " '690',\n",
       " '666',\n",
       " '665',\n",
       " '660',\n",
       " '646',\n",
       " '645',\n",
       " '295',\n",
       " '294',\n",
       " '273',\n",
       " '270',\n",
       " '268',\n",
       " '263',\n",
       " '257',\n",
       " '245',\n",
       " '238']"
      ]
     },
     "execution_count": 6,
     "metadata": {},
     "output_type": "execute_result"
    }
   ],
   "source": [
    "name = soup2.find_all(\"td\", class_=\"table-body__cell u-text-right rating\")\n",
    "RATING = []\n",
    "for l in name:\n",
    "    RATING.append(l.text)\n",
    "RATING"
   ]
  },
  {
   "cell_type": "code",
   "execution_count": 7,
   "metadata": {},
   "outputs": [
    {
     "name": "stdout",
     "output_type": "stream",
     "text": [
      "54 54 54\n"
     ]
    }
   ],
   "source": [
    "print(len(BATSMEN), len(TEAM), len(RATING))"
   ]
  },
  {
   "cell_type": "code",
   "execution_count": null,
   "metadata": {},
   "outputs": [],
   "source": []
  }
 ],
 "metadata": {
  "kernelspec": {
   "display_name": "Python 3",
   "language": "python",
   "name": "python3"
  },
  "language_info": {
   "codemirror_mode": {
    "name": "ipython",
    "version": 3
   },
   "file_extension": ".py",
   "mimetype": "text/x-python",
   "name": "python",
   "nbconvert_exporter": "python",
   "pygments_lexer": "ipython3",
   "version": "3.8.5"
  }
 },
 "nbformat": 4,
 "nbformat_minor": 4
}
