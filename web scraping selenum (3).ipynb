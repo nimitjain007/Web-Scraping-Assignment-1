{
 "cells": [
  {
   "cell_type": "code",
   "execution_count": 1,
   "metadata": {},
   "outputs": [
    {
     "name": "stdout",
     "output_type": "stream",
     "text": [
      "Collecting selenium\n",
      "  Downloading selenium-3.141.0-py2.py3-none-any.whl (904 kB)\n",
      "Requirement already satisfied: urllib3 in c:\\users\\lenovo\\anaconda3\\lib\\site-packages (from selenium) (1.25.11)\n",
      "Installing collected packages: selenium\n",
      "Successfully installed selenium-3.141.0\n"
     ]
    }
   ],
   "source": [
    "!pip install selenium"
   ]
  },
  {
   "cell_type": "code",
   "execution_count": null,
   "metadata": {},
   "outputs": [],
   "source": [
    "#Q1: Write a python program to scrape data for “Data Analyst” Job position in \n",
    "“Bangalore” location. You have to scrape the job-title, job-location, company_name,\n",
    "experience_required. You have to scrape first 10 jobs data."
   ]
  },
  {
   "cell_type": "code",
   "execution_count": 1,
   "metadata": {},
   "outputs": [],
   "source": [
    "import selenium\n",
    "import pandas as pd\n",
    "from selenium import webdriver"
   ]
  },
  {
   "cell_type": "code",
   "execution_count": 3,
   "metadata": {
    "collapsed": true
   },
   "outputs": [
    {
     "ename": "NameError",
     "evalue": "name 'webdriver' is not defined",
     "output_type": "error",
     "traceback": [
      "\u001b[1;31m---------------------------------------------------------------------------\u001b[0m",
      "\u001b[1;31mNameError\u001b[0m                                 Traceback (most recent call last)",
      "\u001b[1;32m<ipython-input-3-d64e1d546397>\u001b[0m in \u001b[0;36m<module>\u001b[1;34m\u001b[0m\n\u001b[1;32m----> 1\u001b[1;33m \u001b[0mdriver\u001b[0m \u001b[1;33m=\u001b[0m \u001b[0mwebdriver\u001b[0m\u001b[1;33m.\u001b[0m\u001b[0mchrome\u001b[0m\u001b[1;33m(\u001b[0m\u001b[1;34mr\"C:\\Users\\Lenovo\\Downloads\\chromedriver_win32\"\u001b[0m\u001b[1;33m)\u001b[0m\u001b[1;33m\u001b[0m\u001b[1;33m\u001b[0m\u001b[0m\n\u001b[0m",
      "\u001b[1;31mNameError\u001b[0m: name 'webdriver' is not defined"
     ]
    }
   ],
   "source": [
    "driver = webdriver.chrome(r\"C:\\Users\\Lenovo\\Downloads\\chromedriver_win32\")"
   ]
  },
  {
   "cell_type": "code",
   "execution_count": 2,
   "metadata": {
    "collapsed": true
   },
   "outputs": [
    {
     "ename": "NameError",
     "evalue": "name 'webdriver' is not defined",
     "output_type": "error",
     "traceback": [
      "\u001b[1;31m---------------------------------------------------------------------------\u001b[0m",
      "\u001b[1;31mNameError\u001b[0m                                 Traceback (most recent call last)",
      "\u001b[1;32m<ipython-input-2-b87f01e77cdf>\u001b[0m in \u001b[0;36m<module>\u001b[1;34m\u001b[0m\n\u001b[1;32m----> 1\u001b[1;33m \u001b[0mdriver\u001b[0m \u001b[1;33m=\u001b[0m \u001b[0mwebdriver\u001b[0m\u001b[1;33m.\u001b[0m\u001b[0mChrome\u001b[0m\u001b[1;33m(\u001b[0m\u001b[1;34m\"chromedriver.exe\"\u001b[0m\u001b[1;33m)\u001b[0m\u001b[1;33m\u001b[0m\u001b[1;33m\u001b[0m\u001b[0m\n\u001b[0m",
      "\u001b[1;31mNameError\u001b[0m: name 'webdriver' is not defined"
     ]
    }
   ],
   "source": [
    "driver = webdriver.Chrome(\"chromedriver.exe\")"
   ]
  },
  {
   "cell_type": "code",
   "execution_count": 16,
   "metadata": {},
   "outputs": [],
   "source": [
    "url = 'https://www.naukri.com/'\n",
    "driver.get(url)"
   ]
  },
  {
   "cell_type": "code",
   "execution_count": 17,
   "metadata": {
    "collapsed": true
   },
   "outputs": [
    {
     "data": {
      "text/plain": [
       "<selenium.webdriver.remote.webelement.WebElement (session=\"a331a93de9d9e77540cafd07ef10e57c\", element=\"7606ee62-3a2c-4fe9-93bc-54482bca6613\")>"
      ]
     },
     "execution_count": 17,
     "metadata": {},
     "output_type": "execute_result"
    }
   ],
   "source": [
    "search_job = driver.find_element_by_id('qsb-keyword-sugg')\n",
    "search_job"
   ]
  },
  {
   "cell_type": "code",
   "execution_count": 18,
   "metadata": {},
   "outputs": [],
   "source": [
    "search_job.send_keys(\"Data analyst\")"
   ]
  },
  {
   "cell_type": "code",
   "execution_count": 19,
   "metadata": {
    "collapsed": true
   },
   "outputs": [
    {
     "data": {
      "text/plain": [
       "<selenium.webdriver.remote.webelement.WebElement (session=\"a331a93de9d9e77540cafd07ef10e57c\", element=\"ec79458d-fb3c-4ee9-addd-6537518a913c\")>"
      ]
     },
     "execution_count": 19,
     "metadata": {},
     "output_type": "execute_result"
    }
   ],
   "source": [
    "search_loc = driver.find_element_by_id('qsb-location-sugg')\n",
    "search_loc"
   ]
  },
  {
   "cell_type": "code",
   "execution_count": 20,
   "metadata": {},
   "outputs": [],
   "source": [
    "search_loc.send_keys(\"Bangalore\")"
   ]
  },
  {
   "cell_type": "code",
   "execution_count": 26,
   "metadata": {
    "collapsed": true
   },
   "outputs": [
    {
     "data": {
      "text/plain": [
       "<selenium.webdriver.remote.webelement.WebElement (session=\"a331a93de9d9e77540cafd07ef10e57c\", element=\"120afd44-13ab-46f9-857f-e9e470f9c201\")>"
      ]
     },
     "execution_count": 26,
     "metadata": {},
     "output_type": "execute_result"
    }
   ],
   "source": [
    "search_btn = driver.find_element_by_xpath(\"//button[@class='btn']\")\n",
    "search_btn"
   ]
  },
  {
   "cell_type": "code",
   "execution_count": 27,
   "metadata": {},
   "outputs": [],
   "source": [
    "search_btn.click()"
   ]
  },
  {
   "cell_type": "code",
   "execution_count": 51,
   "metadata": {
    "collapsed": true
   },
   "outputs": [
    {
     "data": {
      "text/plain": [
       "[<selenium.webdriver.remote.webelement.WebElement (session=\"a331a93de9d9e77540cafd07ef10e57c\", element=\"fbd7a6c2-1dd1-499c-aa79-51ec2c8eb06b\")>,\n",
       " <selenium.webdriver.remote.webelement.WebElement (session=\"a331a93de9d9e77540cafd07ef10e57c\", element=\"5d30dc23-1299-45d8-ac36-9ea59c612a9d\")>,\n",
       " <selenium.webdriver.remote.webelement.WebElement (session=\"a331a93de9d9e77540cafd07ef10e57c\", element=\"b97fb3d8-26a9-4ce1-8868-ebf21f3524c1\")>,\n",
       " <selenium.webdriver.remote.webelement.WebElement (session=\"a331a93de9d9e77540cafd07ef10e57c\", element=\"4507c0b4-3264-423e-92a0-c347604310e0\")>,\n",
       " <selenium.webdriver.remote.webelement.WebElement (session=\"a331a93de9d9e77540cafd07ef10e57c\", element=\"b4fa844b-0565-4fe7-9088-ef187c3eb776\")>,\n",
       " <selenium.webdriver.remote.webelement.WebElement (session=\"a331a93de9d9e77540cafd07ef10e57c\", element=\"85fa5762-416a-4fc5-9e45-c997a2517a30\")>,\n",
       " <selenium.webdriver.remote.webelement.WebElement (session=\"a331a93de9d9e77540cafd07ef10e57c\", element=\"647fe03d-982e-43ee-96c0-4b54557b431f\")>,\n",
       " <selenium.webdriver.remote.webelement.WebElement (session=\"a331a93de9d9e77540cafd07ef10e57c\", element=\"d8eca95d-e970-4794-b783-e70034e85904\")>,\n",
       " <selenium.webdriver.remote.webelement.WebElement (session=\"a331a93de9d9e77540cafd07ef10e57c\", element=\"456527a0-1a11-47fd-a6a8-bbb3f6c9c3ce\")>,\n",
       " <selenium.webdriver.remote.webelement.WebElement (session=\"a331a93de9d9e77540cafd07ef10e57c\", element=\"eece9dd1-2961-490e-86b1-d551c2453268\")>]"
      ]
     },
     "execution_count": 51,
     "metadata": {},
     "output_type": "execute_result"
    }
   ],
   "source": [
    "titles_tags=driver.find_elements_by_xpath(\"//a[@class='title fw500 ellipsis']\")\n",
    "titles_tags[:10]"
   ]
  },
  {
   "cell_type": "code",
   "execution_count": 46,
   "metadata": {
    "collapsed": true
   },
   "outputs": [
    {
     "data": {
      "text/plain": [
       "['Business Analyst / Data Analyst - SQL Queries, Power BI & Python exp.',\n",
       " 'Immediate job openings For Partner Consultant - Sizing(Data Analyst) ',\n",
       " 'Data Analyst',\n",
       " 'Senior Data Analyst',\n",
       " 'Data Analyst (Data Stewards)//Immediate Joiners//Bangalore',\n",
       " 'Senior Data Analyst',\n",
       " 'Senior Data Analyst',\n",
       " 'Senior Data Analyst',\n",
       " 'Data Analyst, Component Engineering',\n",
       " 'Data Analyst-Immediate Joiners']"
      ]
     },
     "execution_count": 46,
     "metadata": {},
     "output_type": "execute_result"
    }
   ],
   "source": [
    "job_titles=[]\n",
    "for i in titles_tags:\n",
    "    job_titles.append(i.text)\n",
    "job_titles[:10]"
   ]
  },
  {
   "cell_type": "code",
   "execution_count": 50,
   "metadata": {
    "collapsed": true
   },
   "outputs": [
    {
     "data": {
      "text/plain": [
       "[<selenium.webdriver.remote.webelement.WebElement (session=\"a331a93de9d9e77540cafd07ef10e57c\", element=\"f1d93eba-66d9-41ce-a9b5-3b42ad52e0cc\")>,\n",
       " <selenium.webdriver.remote.webelement.WebElement (session=\"a331a93de9d9e77540cafd07ef10e57c\", element=\"09a81e40-09df-4480-a52e-2d49d0f7bdde\")>,\n",
       " <selenium.webdriver.remote.webelement.WebElement (session=\"a331a93de9d9e77540cafd07ef10e57c\", element=\"e778b76f-d268-4889-869b-c58c01afcf35\")>,\n",
       " <selenium.webdriver.remote.webelement.WebElement (session=\"a331a93de9d9e77540cafd07ef10e57c\", element=\"ec306f0f-39e3-4499-8683-8f616f41249b\")>,\n",
       " <selenium.webdriver.remote.webelement.WebElement (session=\"a331a93de9d9e77540cafd07ef10e57c\", element=\"d2d0ab56-0d4e-4852-bd05-0599450e9571\")>,\n",
       " <selenium.webdriver.remote.webelement.WebElement (session=\"a331a93de9d9e77540cafd07ef10e57c\", element=\"b11ade5a-7f58-49bb-9cd2-ce0485c39902\")>,\n",
       " <selenium.webdriver.remote.webelement.WebElement (session=\"a331a93de9d9e77540cafd07ef10e57c\", element=\"682492dc-34f2-4c15-a308-c3ee6ed537f2\")>,\n",
       " <selenium.webdriver.remote.webelement.WebElement (session=\"a331a93de9d9e77540cafd07ef10e57c\", element=\"d197cf3e-f0ab-49d1-9e4b-ce256c5227e4\")>,\n",
       " <selenium.webdriver.remote.webelement.WebElement (session=\"a331a93de9d9e77540cafd07ef10e57c\", element=\"75b9556c-a12e-4d5f-904d-d6fed6e2cf6b\")>,\n",
       " <selenium.webdriver.remote.webelement.WebElement (session=\"a331a93de9d9e77540cafd07ef10e57c\", element=\"11c56d60-8e83-4963-a7d7-2d28318f77eb\")>]"
      ]
     },
     "execution_count": 50,
     "metadata": {},
     "output_type": "execute_result"
    }
   ],
   "source": [
    "location_tags=driver.find_elements_by_xpath(\"//li[@class='fleft grey-text br2 placeHolderLi location']//span\")\n",
    "location_tags[:10]"
   ]
  },
  {
   "cell_type": "code",
   "execution_count": 47,
   "metadata": {
    "collapsed": true
   },
   "outputs": [
    {
     "data": {
      "text/plain": [
       "['Chennai, Coimbatore, Bangalore/Bengaluru',\n",
       " 'Bangalore/Bengaluru(Marathahalli)',\n",
       " 'Bangalore/Bengaluru',\n",
       " 'Bangalore/Bengaluru',\n",
       " 'Bangalore/Bengaluru',\n",
       " 'Bangalore/Bengaluru',\n",
       " 'Bangalore/Bengaluru',\n",
       " 'Bangalore/Bengaluru(2nd Phase JP Nagar)',\n",
       " 'Bangalore/Bengaluru',\n",
       " 'Bangalore/Bengaluru']"
      ]
     },
     "execution_count": 47,
     "metadata": {},
     "output_type": "execute_result"
    }
   ],
   "source": [
    "location_list=[]\n",
    "for i in location_tags:\n",
    "    location_list.append(i.text)\n",
    "location_list[:10]"
   ]
  },
  {
   "cell_type": "code",
   "execution_count": 52,
   "metadata": {
    "collapsed": true
   },
   "outputs": [
    {
     "name": "stdout",
     "output_type": "stream",
     "text": [
      "20 20\n"
     ]
    }
   ],
   "source": [
    "print(len(job_titles),len(location_list))"
   ]
  },
  {
   "cell_type": "code",
   "execution_count": 53,
   "metadata": {},
   "outputs": [],
   "source": [
    "jobs=pd.DataFrame({})\n",
    "jobs['title']=job_titles[:10]\n",
    "jobs['location']=location_list[:10]"
   ]
  },
  {
   "cell_type": "code",
   "execution_count": 54,
   "metadata": {
    "collapsed": true
   },
   "outputs": [
    {
     "data": {
      "text/html": [
       "<div>\n",
       "<style scoped>\n",
       "    .dataframe tbody tr th:only-of-type {\n",
       "        vertical-align: middle;\n",
       "    }\n",
       "\n",
       "    .dataframe tbody tr th {\n",
       "        vertical-align: top;\n",
       "    }\n",
       "\n",
       "    .dataframe thead th {\n",
       "        text-align: right;\n",
       "    }\n",
       "</style>\n",
       "<table border=\"1\" class=\"dataframe\">\n",
       "  <thead>\n",
       "    <tr style=\"text-align: right;\">\n",
       "      <th></th>\n",
       "      <th>title</th>\n",
       "      <th>location</th>\n",
       "    </tr>\n",
       "  </thead>\n",
       "  <tbody>\n",
       "    <tr>\n",
       "      <th>0</th>\n",
       "      <td>Business Analyst / Data Analyst - SQL Queries,...</td>\n",
       "      <td>Chennai, Coimbatore, Bangalore/Bengaluru</td>\n",
       "    </tr>\n",
       "    <tr>\n",
       "      <th>1</th>\n",
       "      <td>Immediate job openings For Partner Consultant ...</td>\n",
       "      <td>Bangalore/Bengaluru(Marathahalli)</td>\n",
       "    </tr>\n",
       "    <tr>\n",
       "      <th>2</th>\n",
       "      <td>Data Analyst</td>\n",
       "      <td>Bangalore/Bengaluru</td>\n",
       "    </tr>\n",
       "    <tr>\n",
       "      <th>3</th>\n",
       "      <td>Senior Data Analyst</td>\n",
       "      <td>Bangalore/Bengaluru</td>\n",
       "    </tr>\n",
       "    <tr>\n",
       "      <th>4</th>\n",
       "      <td>Data Analyst (Data Stewards)//Immediate Joiner...</td>\n",
       "      <td>Bangalore/Bengaluru</td>\n",
       "    </tr>\n",
       "    <tr>\n",
       "      <th>5</th>\n",
       "      <td>Senior Data Analyst</td>\n",
       "      <td>Bangalore/Bengaluru</td>\n",
       "    </tr>\n",
       "    <tr>\n",
       "      <th>6</th>\n",
       "      <td>Senior Data Analyst</td>\n",
       "      <td>Bangalore/Bengaluru</td>\n",
       "    </tr>\n",
       "    <tr>\n",
       "      <th>7</th>\n",
       "      <td>Senior Data Analyst</td>\n",
       "      <td>Bangalore/Bengaluru(2nd Phase JP Nagar)</td>\n",
       "    </tr>\n",
       "    <tr>\n",
       "      <th>8</th>\n",
       "      <td>Data Analyst, Component Engineering</td>\n",
       "      <td>Bangalore/Bengaluru</td>\n",
       "    </tr>\n",
       "    <tr>\n",
       "      <th>9</th>\n",
       "      <td>Data Analyst-Immediate Joiners</td>\n",
       "      <td>Bangalore/Bengaluru</td>\n",
       "    </tr>\n",
       "  </tbody>\n",
       "</table>\n",
       "</div>"
      ],
      "text/plain": [
       "                                               title  \\\n",
       "0  Business Analyst / Data Analyst - SQL Queries,...   \n",
       "1  Immediate job openings For Partner Consultant ...   \n",
       "2                                       Data Analyst   \n",
       "3                                Senior Data Analyst   \n",
       "4  Data Analyst (Data Stewards)//Immediate Joiner...   \n",
       "5                                Senior Data Analyst   \n",
       "6                                Senior Data Analyst   \n",
       "7                                Senior Data Analyst   \n",
       "8                Data Analyst, Component Engineering   \n",
       "9                     Data Analyst-Immediate Joiners   \n",
       "\n",
       "                                   location  \n",
       "0  Chennai, Coimbatore, Bangalore/Bengaluru  \n",
       "1         Bangalore/Bengaluru(Marathahalli)  \n",
       "2                       Bangalore/Bengaluru  \n",
       "3                       Bangalore/Bengaluru  \n",
       "4                       Bangalore/Bengaluru  \n",
       "5                       Bangalore/Bengaluru  \n",
       "6                       Bangalore/Bengaluru  \n",
       "7   Bangalore/Bengaluru(2nd Phase JP Nagar)  \n",
       "8                       Bangalore/Bengaluru  \n",
       "9                       Bangalore/Bengaluru  "
      ]
     },
     "execution_count": 54,
     "metadata": {},
     "output_type": "execute_result"
    }
   ],
   "source": [
    "jobs"
   ]
  },
  {
   "cell_type": "code",
   "execution_count": 7,
   "metadata": {},
   "outputs": [],
   "source": [
    "driver = webdriver.Chrome(\"chromedriver.exe\")"
   ]
  },
  {
   "cell_type": "markdown",
   "metadata": {},
   "source": [
    "#Q4: Write a python program to scrape data for first 10 job results for Data scientist \n",
    "Designation in Noida location. You have to scrape company_name, No. of days \n",
    "ago when job was posted, Rating of the company.\n",
    "This task will be done in following steps:\n",
    "1. first get the webpage https://www.glassdoor.co.in/index.htm\n",
    "2. Enter “Data Scientist” in “Job Title,Keyword,Company” field and enter “Noida” \n",
    "in “location” field"
   ]
  },
  {
   "cell_type": "code",
   "execution_count": null,
   "metadata": {},
   "outputs": [],
   "source": []
  },
  {
   "cell_type": "code",
   "execution_count": null,
   "metadata": {},
   "outputs": [],
   "source": []
  },
  {
   "cell_type": "code",
   "execution_count": 8,
   "metadata": {},
   "outputs": [],
   "source": [
    "url = 'https://www.glassdoor.co.in/index.htm'\n",
    "driver.get(url)"
   ]
  },
  {
   "cell_type": "code",
   "execution_count": 12,
   "metadata": {
    "collapsed": true
   },
   "outputs": [
    {
     "data": {
      "text/plain": [
       "<selenium.webdriver.remote.webelement.WebElement (session=\"8e62919b2fa1c6e3895a5d5c85523990\", element=\"5029b21e-203c-4b92-8b23-ea3a3ded85cd\")>"
      ]
     },
     "execution_count": 12,
     "metadata": {},
     "output_type": "execute_result"
    }
   ],
   "source": [
    "search_job = driver.find_element_by_xpath('/html/body/header/nav[1]/div/div/div/div[4]/div[3]/div[2]/form/div[2]/div[1]/div/div/input')\n",
    "search_job"
   ]
  },
  {
   "cell_type": "code",
   "execution_count": 13,
   "metadata": {},
   "outputs": [],
   "source": [
    "search_job.send_keys(\"Data Scientist\")"
   ]
  },
  {
   "cell_type": "code",
   "execution_count": 14,
   "metadata": {
    "collapsed": true
   },
   "outputs": [
    {
     "data": {
      "text/plain": [
       "<selenium.webdriver.remote.webelement.WebElement (session=\"8e62919b2fa1c6e3895a5d5c85523990\", element=\"b3ee8604-af90-4328-b451-9e6162d2c3d4\")>"
      ]
     },
     "execution_count": 14,
     "metadata": {},
     "output_type": "execute_result"
    }
   ],
   "source": [
    "search_location = driver.find_element_by_xpath('/html/body/header/nav[1]/div/div/div/div[4]/div[3]/div[2]/form/div[2]/div[2]/div/div/input')\n",
    "search_location"
   ]
  },
  {
   "cell_type": "code",
   "execution_count": 15,
   "metadata": {},
   "outputs": [],
   "source": [
    "search_location.send_keys(\"Noida\")"
   ]
  },
  {
   "cell_type": "code",
   "execution_count": 16,
   "metadata": {
    "collapsed": true
   },
   "outputs": [
    {
     "data": {
      "text/plain": [
       "[<selenium.webdriver.remote.webelement.WebElement (session=\"8e62919b2fa1c6e3895a5d5c85523990\", element=\"df00c818-02d9-4910-8650-9eb186d5cbef\")>,\n",
       " <selenium.webdriver.remote.webelement.WebElement (session=\"8e62919b2fa1c6e3895a5d5c85523990\", element=\"939e1a50-182b-4034-a1fd-822cecea7764\")>,\n",
       " <selenium.webdriver.remote.webelement.WebElement (session=\"8e62919b2fa1c6e3895a5d5c85523990\", element=\"2545aade-7714-4485-b8b9-59af37cbaa18\")>,\n",
       " <selenium.webdriver.remote.webelement.WebElement (session=\"8e62919b2fa1c6e3895a5d5c85523990\", element=\"896424e6-0202-4bc9-844c-dd3140b15c62\")>,\n",
       " <selenium.webdriver.remote.webelement.WebElement (session=\"8e62919b2fa1c6e3895a5d5c85523990\", element=\"643486c5-7a04-4d8c-8d8b-45be4e7583e2\")>,\n",
       " <selenium.webdriver.remote.webelement.WebElement (session=\"8e62919b2fa1c6e3895a5d5c85523990\", element=\"95d97402-e109-4a0b-9d9a-5b25c1285f06\")>,\n",
       " <selenium.webdriver.remote.webelement.WebElement (session=\"8e62919b2fa1c6e3895a5d5c85523990\", element=\"86883579-202e-4b1b-913a-455048549ea0\")>,\n",
       " <selenium.webdriver.remote.webelement.WebElement (session=\"8e62919b2fa1c6e3895a5d5c85523990\", element=\"c79925bd-ad24-4818-b615-4157ac0342e9\")>,\n",
       " <selenium.webdriver.remote.webelement.WebElement (session=\"8e62919b2fa1c6e3895a5d5c85523990\", element=\"eedaf79b-49a4-40a2-b0ce-4d880a8259b1\")>,\n",
       " <selenium.webdriver.remote.webelement.WebElement (session=\"8e62919b2fa1c6e3895a5d5c85523990\", element=\"b2ad0d2a-83bd-438b-8941-21a194edf06e\")>]"
      ]
     },
     "execution_count": 16,
     "metadata": {},
     "output_type": "execute_result"
    }
   ],
   "source": [
    "titles_tags=driver.find_elements_by_xpath(\"//a[@class='jobLink css-1rd3saf eigr9kq2']\")\n",
    "titles_tags[:10]"
   ]
  },
  {
   "cell_type": "code",
   "execution_count": 17,
   "metadata": {
    "collapsed": true
   },
   "outputs": [
    {
     "data": {
      "text/plain": [
       "['Data Analytics Internship',\n",
       " 'Data Scientist',\n",
       " 'Data Scientist',\n",
       " 'Data Analyst / Data Scientist',\n",
       " 'Data Scientist',\n",
       " 'Data Scientist',\n",
       " 'Business Analytics Internship',\n",
       " 'Data Scientist',\n",
       " 'Machine Learning Engineering part time job/internship at Multiple locations',\n",
       " 'Data Science Trainee']"
      ]
     },
     "execution_count": 17,
     "metadata": {},
     "output_type": "execute_result"
    }
   ],
   "source": [
    "job_titles=[]\n",
    "for i in titles_tags:\n",
    "    job_titles.append(i.text)\n",
    "job_titles[:10]"
   ]
  },
  {
   "cell_type": "code",
   "execution_count": 18,
   "metadata": {
    "collapsed": true
   },
   "outputs": [
    {
     "data": {
      "text/plain": [
       "[<selenium.webdriver.remote.webelement.WebElement (session=\"8e62919b2fa1c6e3895a5d5c85523990\", element=\"80b05d3b-bf86-4992-9801-d1d1b3528f3e\")>,\n",
       " <selenium.webdriver.remote.webelement.WebElement (session=\"8e62919b2fa1c6e3895a5d5c85523990\", element=\"61cab099-f4f9-4a54-b5e9-32aaea8f32ad\")>,\n",
       " <selenium.webdriver.remote.webelement.WebElement (session=\"8e62919b2fa1c6e3895a5d5c85523990\", element=\"cfd217b0-2b4d-4615-82ad-87e5ce21033f\")>,\n",
       " <selenium.webdriver.remote.webelement.WebElement (session=\"8e62919b2fa1c6e3895a5d5c85523990\", element=\"8fdb5b5f-e894-432e-a8cd-cf6bcb86d462\")>,\n",
       " <selenium.webdriver.remote.webelement.WebElement (session=\"8e62919b2fa1c6e3895a5d5c85523990\", element=\"dd113fbe-f6f7-4513-96b9-6f5925bfe11e\")>,\n",
       " <selenium.webdriver.remote.webelement.WebElement (session=\"8e62919b2fa1c6e3895a5d5c85523990\", element=\"c5196789-62cd-4de7-9a2c-b267b7d74721\")>,\n",
       " <selenium.webdriver.remote.webelement.WebElement (session=\"8e62919b2fa1c6e3895a5d5c85523990\", element=\"081e978c-8cde-4a8b-99a1-2b565dd45fcf\")>,\n",
       " <selenium.webdriver.remote.webelement.WebElement (session=\"8e62919b2fa1c6e3895a5d5c85523990\", element=\"5f4d368d-fff7-4cdb-907d-d0a1d363153f\")>,\n",
       " <selenium.webdriver.remote.webelement.WebElement (session=\"8e62919b2fa1c6e3895a5d5c85523990\", element=\"a8cacc1a-513c-4151-b830-fa09c1a8dbe3\")>,\n",
       " <selenium.webdriver.remote.webelement.WebElement (session=\"8e62919b2fa1c6e3895a5d5c85523990\", element=\"d976f8cf-297d-4f61-a1dc-d471e904a9a6\")>]"
      ]
     },
     "execution_count": 18,
     "metadata": {},
     "output_type": "execute_result"
    }
   ],
   "source": [
    "location_tags=driver.find_elements_by_xpath(\"//div[@class='d-flex flex-wrap css-11d3uq0 e1rrn5ka2']//span\")\n",
    "location_tags[:10]"
   ]
  },
  {
   "cell_type": "code",
   "execution_count": 19,
   "metadata": {
    "collapsed": true
   },
   "outputs": [
    {
     "data": {
      "text/plain": [
       "['Noida',\n",
       " 'New Delhi',\n",
       " 'Noida',\n",
       " 'Noida',\n",
       " 'New Delhi',\n",
       " 'Noida',\n",
       " 'Noida',\n",
       " 'Noida',\n",
       " 'Noida',\n",
       " 'Noida']"
      ]
     },
     "execution_count": 19,
     "metadata": {},
     "output_type": "execute_result"
    }
   ],
   "source": [
    "location_list=[]\n",
    "for i in location_tags:\n",
    "    location_list.append(i.text)\n",
    "location_list[:10]"
   ]
  },
  {
   "cell_type": "code",
   "execution_count": 24,
   "metadata": {},
   "outputs": [],
   "source": [
    "company_name=[]\n",
    "\n",
    "\n",
    "\n",
    "time.sleep(3)\n",
    "# finding the element where company name is present\n",
    "companies=driver.find_elements_by_xpath(\"//div[@class='d-flex justify-content-between align-items-start']/a\")\n",
    "for i in companies:\n",
    "    if i.text is None :\n",
    "        company_name.append(\"--\") \n",
    "    else:\n",
    "        company_name.append(i.text)"
   ]
  },
  {
   "cell_type": "code",
   "execution_count": 25,
   "metadata": {
    "collapsed": true
   },
   "outputs": [
    {
     "data": {
      "text/plain": [
       "30"
      ]
     },
     "execution_count": 25,
     "metadata": {},
     "output_type": "execute_result"
    }
   ],
   "source": [
    "len(company_name)"
   ]
  },
  {
   "cell_type": "code",
   "execution_count": 2,
   "metadata": {},
   "outputs": [],
   "source": [
    "import time"
   ]
  },
  {
   "cell_type": "code",
   "execution_count": 26,
   "metadata": {
    "collapsed": true
   },
   "outputs": [
    {
     "data": {
      "text/plain": [
       "['MediGence',\n",
       " 'White Vectors',\n",
       " 'Biz2Credit Inc',\n",
       " 'Ginger Webs Pvt. Ltd.',\n",
       " 'Barclays',\n",
       " 'Ericsson',\n",
       " 'Ori',\n",
       " 'Crowe',\n",
       " 'Bulkbyte Company',\n",
       " 'Algo8 AI Pvt. Ltd.',\n",
       " 'Applicate IT Solutions Pvt. Ltd.',\n",
       " 'Applicate IT Solutions Private Limited',\n",
       " 'Data Patterns',\n",
       " 'Urban Company',\n",
       " 'Techlive',\n",
       " 'Innovacer',\n",
       " 'Salasar New Age Technologies',\n",
       " 'Salasar New Age Technologies',\n",
       " 'Scymes Services Pvt. ltd',\n",
       " 'United Airlines',\n",
       " 'Wobb.ai',\n",
       " 'NatWest Group',\n",
       " 'WishFin',\n",
       " 'Conduent',\n",
       " 'Genpact',\n",
       " 'dunnhumby',\n",
       " 'Ally wiredsoft solutions (P) ltd',\n",
       " 'SearchUrCollege',\n",
       " 'Siemens Technology and Services Private Limited',\n",
       " 'CSTEP']"
      ]
     },
     "execution_count": 26,
     "metadata": {},
     "output_type": "execute_result"
    }
   ],
   "source": [
    "company_name"
   ]
  },
  {
   "cell_type": "code",
   "execution_count": 27,
   "metadata": {
    "collapsed": true
   },
   "outputs": [
    {
     "name": "stdout",
     "output_type": "stream",
     "text": [
      "30 30 30\n"
     ]
    }
   ],
   "source": [
    "print(len(job_titles),len(company_name),len(location_list))"
   ]
  },
  {
   "cell_type": "code",
   "execution_count": 32,
   "metadata": {},
   "outputs": [],
   "source": [
    "jobs=pd.DataFrame({})\n",
    "jobs['title']=job_titles[:10]\n",
    "jobs['Company']=company_name[:10]\n",
    "jobs['location']=location_list[:10]"
   ]
  },
  {
   "cell_type": "code",
   "execution_count": 33,
   "metadata": {
    "collapsed": true
   },
   "outputs": [
    {
     "data": {
      "text/html": [
       "<div>\n",
       "<style scoped>\n",
       "    .dataframe tbody tr th:only-of-type {\n",
       "        vertical-align: middle;\n",
       "    }\n",
       "\n",
       "    .dataframe tbody tr th {\n",
       "        vertical-align: top;\n",
       "    }\n",
       "\n",
       "    .dataframe thead th {\n",
       "        text-align: right;\n",
       "    }\n",
       "</style>\n",
       "<table border=\"1\" class=\"dataframe\">\n",
       "  <thead>\n",
       "    <tr style=\"text-align: right;\">\n",
       "      <th></th>\n",
       "      <th>title</th>\n",
       "      <th>Company</th>\n",
       "      <th>location</th>\n",
       "    </tr>\n",
       "  </thead>\n",
       "  <tbody>\n",
       "    <tr>\n",
       "      <th>0</th>\n",
       "      <td>Data Analytics Internship</td>\n",
       "      <td>MediGence</td>\n",
       "      <td>Noida</td>\n",
       "    </tr>\n",
       "    <tr>\n",
       "      <th>1</th>\n",
       "      <td>Data Scientist</td>\n",
       "      <td>White Vectors</td>\n",
       "      <td>New Delhi</td>\n",
       "    </tr>\n",
       "    <tr>\n",
       "      <th>2</th>\n",
       "      <td>Data Scientist</td>\n",
       "      <td>Biz2Credit Inc</td>\n",
       "      <td>Noida</td>\n",
       "    </tr>\n",
       "    <tr>\n",
       "      <th>3</th>\n",
       "      <td>Data Analyst / Data Scientist</td>\n",
       "      <td>Ginger Webs Pvt. Ltd.</td>\n",
       "      <td>Noida</td>\n",
       "    </tr>\n",
       "    <tr>\n",
       "      <th>4</th>\n",
       "      <td>Data Scientist</td>\n",
       "      <td>Barclays</td>\n",
       "      <td>New Delhi</td>\n",
       "    </tr>\n",
       "    <tr>\n",
       "      <th>5</th>\n",
       "      <td>Data Scientist</td>\n",
       "      <td>Ericsson</td>\n",
       "      <td>Noida</td>\n",
       "    </tr>\n",
       "    <tr>\n",
       "      <th>6</th>\n",
       "      <td>Business Analytics Internship</td>\n",
       "      <td>Ori</td>\n",
       "      <td>Noida</td>\n",
       "    </tr>\n",
       "    <tr>\n",
       "      <th>7</th>\n",
       "      <td>Data Scientist</td>\n",
       "      <td>Crowe</td>\n",
       "      <td>Noida</td>\n",
       "    </tr>\n",
       "    <tr>\n",
       "      <th>8</th>\n",
       "      <td>Machine Learning Engineering part time job/int...</td>\n",
       "      <td>Bulkbyte Company</td>\n",
       "      <td>Noida</td>\n",
       "    </tr>\n",
       "    <tr>\n",
       "      <th>9</th>\n",
       "      <td>Data Science Trainee</td>\n",
       "      <td>Algo8 AI Pvt. Ltd.</td>\n",
       "      <td>Noida</td>\n",
       "    </tr>\n",
       "  </tbody>\n",
       "</table>\n",
       "</div>"
      ],
      "text/plain": [
       "                                               title                Company  \\\n",
       "0                          Data Analytics Internship              MediGence   \n",
       "1                                     Data Scientist          White Vectors   \n",
       "2                                     Data Scientist         Biz2Credit Inc   \n",
       "3                      Data Analyst / Data Scientist  Ginger Webs Pvt. Ltd.   \n",
       "4                                     Data Scientist               Barclays   \n",
       "5                                     Data Scientist               Ericsson   \n",
       "6                      Business Analytics Internship                    Ori   \n",
       "7                                     Data Scientist                  Crowe   \n",
       "8  Machine Learning Engineering part time job/int...       Bulkbyte Company   \n",
       "9                               Data Science Trainee     Algo8 AI Pvt. Ltd.   \n",
       "\n",
       "    location  \n",
       "0      Noida  \n",
       "1  New Delhi  \n",
       "2      Noida  \n",
       "3      Noida  \n",
       "4  New Delhi  \n",
       "5      Noida  \n",
       "6      Noida  \n",
       "7      Noida  \n",
       "8      Noida  \n",
       "9      Noida  "
      ]
     },
     "execution_count": 33,
     "metadata": {},
     "output_type": "execute_result"
    }
   ],
   "source": [
    "jobs"
   ]
  },
  {
   "cell_type": "markdown",
   "metadata": {},
   "source": []
  },
  {
   "cell_type": "code",
   "execution_count": null,
   "metadata": {},
   "outputs": [],
   "source": []
  },
  {
   "cell_type": "code",
   "execution_count": 146,
   "metadata": {
    "collapsed": true
   },
   "outputs": [
    {
     "name": "stdout",
     "output_type": "stream",
     "text": [
      "30 90 30\n"
     ]
    }
   ],
   "source": [
    "print(len(job_titles),len(Companies_list),len(location_list))"
   ]
  },
  {
   "cell_type": "code",
   "execution_count": 157,
   "metadata": {},
   "outputs": [],
   "source": [
    "jobs=pd.DataFrame({})\n",
    "jobs['title']=job_titles[:10]\n",
    "jobs['Companies']=Companies_list[:10]\n",
    "jobs['location']=location_list[:10]"
   ]
  },
  {
   "cell_type": "code",
   "execution_count": 158,
   "metadata": {
    "collapsed": true
   },
   "outputs": [
    {
     "data": {
      "text/html": [
       "<div>\n",
       "<style scoped>\n",
       "    .dataframe tbody tr th:only-of-type {\n",
       "        vertical-align: middle;\n",
       "    }\n",
       "\n",
       "    .dataframe tbody tr th {\n",
       "        vertical-align: top;\n",
       "    }\n",
       "\n",
       "    .dataframe thead th {\n",
       "        text-align: right;\n",
       "    }\n",
       "</style>\n",
       "<table border=\"1\" class=\"dataframe\">\n",
       "  <thead>\n",
       "    <tr style=\"text-align: right;\">\n",
       "      <th></th>\n",
       "      <th>title</th>\n",
       "      <th>Companies</th>\n",
       "      <th>location</th>\n",
       "    </tr>\n",
       "  </thead>\n",
       "  <tbody>\n",
       "    <tr>\n",
       "      <th>0</th>\n",
       "      <td>Data Scientist</td>\n",
       "      <td>White Vectors</td>\n",
       "      <td>New Delhi</td>\n",
       "    </tr>\n",
       "    <tr>\n",
       "      <th>1</th>\n",
       "      <td>Data Scientist</td>\n",
       "      <td></td>\n",
       "      <td>Gurgaon</td>\n",
       "    </tr>\n",
       "    <tr>\n",
       "      <th>2</th>\n",
       "      <td>Data Scientist</td>\n",
       "      <td></td>\n",
       "      <td>Noida</td>\n",
       "    </tr>\n",
       "    <tr>\n",
       "      <th>3</th>\n",
       "      <td>Data Science- Chennai/Noida(Immediate-15days,M...</td>\n",
       "      <td>Applicate IT Solutions Pvt. Ltd.</td>\n",
       "      <td>Noida</td>\n",
       "    </tr>\n",
       "    <tr>\n",
       "      <th>4</th>\n",
       "      <td>Data Analyst / Data Scientist</td>\n",
       "      <td></td>\n",
       "      <td>Noida</td>\n",
       "    </tr>\n",
       "    <tr>\n",
       "      <th>5</th>\n",
       "      <td>Data Analytics Internship</td>\n",
       "      <td></td>\n",
       "      <td>Noida</td>\n",
       "    </tr>\n",
       "    <tr>\n",
       "      <th>6</th>\n",
       "      <td>Data Scientist</td>\n",
       "      <td>Data Patterns</td>\n",
       "      <td>Noida</td>\n",
       "    </tr>\n",
       "    <tr>\n",
       "      <th>7</th>\n",
       "      <td>Data Science Trainee</td>\n",
       "      <td></td>\n",
       "      <td>Noida</td>\n",
       "    </tr>\n",
       "    <tr>\n",
       "      <th>8</th>\n",
       "      <td>Data Scientist</td>\n",
       "      <td></td>\n",
       "      <td>Noida</td>\n",
       "    </tr>\n",
       "    <tr>\n",
       "      <th>9</th>\n",
       "      <td>Data Scientist</td>\n",
       "      <td>Scymes Services Pvt. ltd</td>\n",
       "      <td>Noida</td>\n",
       "    </tr>\n",
       "  </tbody>\n",
       "</table>\n",
       "</div>"
      ],
      "text/plain": [
       "                                               title  \\\n",
       "0                                     Data Scientist   \n",
       "1                                     Data Scientist   \n",
       "2                                     Data Scientist   \n",
       "3  Data Science- Chennai/Noida(Immediate-15days,M...   \n",
       "4                      Data Analyst / Data Scientist   \n",
       "5                          Data Analytics Internship   \n",
       "6                                     Data Scientist   \n",
       "7                               Data Science Trainee   \n",
       "8                                     Data Scientist   \n",
       "9                                     Data Scientist   \n",
       "\n",
       "                          Companies   location  \n",
       "0                     White Vectors  New Delhi  \n",
       "1                                      Gurgaon  \n",
       "2                                        Noida  \n",
       "3  Applicate IT Solutions Pvt. Ltd.      Noida  \n",
       "4                                        Noida  \n",
       "5                                        Noida  \n",
       "6                     Data Patterns      Noida  \n",
       "7                                        Noida  \n",
       "8                                        Noida  \n",
       "9          Scymes Services Pvt. ltd      Noida  "
      ]
     },
     "execution_count": 158,
     "metadata": {},
     "output_type": "execute_result"
    }
   ],
   "source": [
    "jobs"
   ]
  },
  {
   "cell_type": "markdown",
   "metadata": {},
   "source": [
    "#Q2: Write a python program to scrape data for “Data Scientist” Job position in \n",
    "“Bangalore” location. You have to scrape the job-title, job-location,\n",
    "company_name, full job-description. You have to scrape first 10 jobs data.\n",
    "This task will be done in following steps:\n",
    "1. first get the webpage https://www.naukri.com/\n",
    "2. Enter “Data Scientist” in “Skill,Designations,Companies” field and enter \n",
    "“Bangalore” in “enter the location” field.\n",
    "3. Then click the search button.\n",
    "4. Then scrape the data for the first 10 jobs results you get.\n",
    "5. Finally create a dataframe of the scraped data.\n"
   ]
  },
  {
   "cell_type": "code",
   "execution_count": null,
   "metadata": {},
   "outputs": [],
   "source": []
  },
  {
   "cell_type": "code",
   "execution_count": 5,
   "metadata": {},
   "outputs": [],
   "source": [
    "import selenium\n",
    "import pandas as pd\n",
    "from selenium import webdriver"
   ]
  },
  {
   "cell_type": "code",
   "execution_count": 6,
   "metadata": {},
   "outputs": [],
   "source": [
    "driver = webdriver.Chrome(\"chromedriver.exe\")"
   ]
  },
  {
   "cell_type": "code",
   "execution_count": null,
   "metadata": {},
   "outputs": [],
   "source": []
  },
  {
   "cell_type": "code",
   "execution_count": 7,
   "metadata": {},
   "outputs": [],
   "source": [
    "url = 'https://www.naukri.com/'\n",
    "driver.get(url)"
   ]
  },
  {
   "cell_type": "code",
   "execution_count": 8,
   "metadata": {
    "collapsed": true
   },
   "outputs": [
    {
     "data": {
      "text/plain": [
       "<selenium.webdriver.remote.webelement.WebElement (session=\"a0bfc7a2e82758cd7d37ed3cb105c4e0\", element=\"d5e12fd8-ca37-461f-a3c4-669f9f3b6b11\")>"
      ]
     },
     "execution_count": 8,
     "metadata": {},
     "output_type": "execute_result"
    }
   ],
   "source": [
    "search_job = driver.find_element_by_id('qsb-keyword-sugg')\n",
    "search_job"
   ]
  },
  {
   "cell_type": "code",
   "execution_count": 9,
   "metadata": {},
   "outputs": [],
   "source": [
    "search_job.send_keys(\"Data scientist\")"
   ]
  },
  {
   "cell_type": "code",
   "execution_count": 10,
   "metadata": {
    "collapsed": true
   },
   "outputs": [
    {
     "data": {
      "text/plain": [
       "<selenium.webdriver.remote.webelement.WebElement (session=\"a0bfc7a2e82758cd7d37ed3cb105c4e0\", element=\"a0db374e-cd3d-48f2-8866-47c5abbd3db4\")>"
      ]
     },
     "execution_count": 10,
     "metadata": {},
     "output_type": "execute_result"
    }
   ],
   "source": [
    "search_loc = driver.find_element_by_id('qsb-location-sugg')\n",
    "search_loc"
   ]
  },
  {
   "cell_type": "code",
   "execution_count": 11,
   "metadata": {},
   "outputs": [],
   "source": [
    "search_loc.send_keys(\"Bangalore\")"
   ]
  },
  {
   "cell_type": "code",
   "execution_count": 12,
   "metadata": {
    "collapsed": true
   },
   "outputs": [
    {
     "data": {
      "text/plain": [
       "<selenium.webdriver.remote.webelement.WebElement (session=\"a0bfc7a2e82758cd7d37ed3cb105c4e0\", element=\"9c5ea969-c0e3-4c9f-ab2b-28e68f2617ee\")>"
      ]
     },
     "execution_count": 12,
     "metadata": {},
     "output_type": "execute_result"
    }
   ],
   "source": [
    "search_btn = driver.find_element_by_xpath(\"//button[@class='btn']\")\n",
    "search_btn"
   ]
  },
  {
   "cell_type": "code",
   "execution_count": 14,
   "metadata": {},
   "outputs": [],
   "source": [
    "search_btn.click()"
   ]
  },
  {
   "cell_type": "code",
   "execution_count": 15,
   "metadata": {
    "collapsed": true
   },
   "outputs": [
    {
     "data": {
      "text/plain": [
       "[<selenium.webdriver.remote.webelement.WebElement (session=\"a0bfc7a2e82758cd7d37ed3cb105c4e0\", element=\"9c70c4ee-a833-4b06-8e29-f45106981064\")>,\n",
       " <selenium.webdriver.remote.webelement.WebElement (session=\"a0bfc7a2e82758cd7d37ed3cb105c4e0\", element=\"9709b79c-4c2a-4e16-9b79-25d3f1e3b8fc\")>,\n",
       " <selenium.webdriver.remote.webelement.WebElement (session=\"a0bfc7a2e82758cd7d37ed3cb105c4e0\", element=\"064380d2-b7fe-49b9-8cd3-90dd73dffd71\")>,\n",
       " <selenium.webdriver.remote.webelement.WebElement (session=\"a0bfc7a2e82758cd7d37ed3cb105c4e0\", element=\"4a3a3df5-9042-4689-8326-050ea0b6d6b0\")>,\n",
       " <selenium.webdriver.remote.webelement.WebElement (session=\"a0bfc7a2e82758cd7d37ed3cb105c4e0\", element=\"144ed299-d534-4ffb-bd08-4cce888626b2\")>,\n",
       " <selenium.webdriver.remote.webelement.WebElement (session=\"a0bfc7a2e82758cd7d37ed3cb105c4e0\", element=\"52a41e0e-fdae-4255-9b3b-0efd30de5854\")>,\n",
       " <selenium.webdriver.remote.webelement.WebElement (session=\"a0bfc7a2e82758cd7d37ed3cb105c4e0\", element=\"1a6ee6f3-3f32-41a7-8281-d841074dc6f0\")>,\n",
       " <selenium.webdriver.remote.webelement.WebElement (session=\"a0bfc7a2e82758cd7d37ed3cb105c4e0\", element=\"68d1810e-bfc3-4066-ba94-250c64951460\")>,\n",
       " <selenium.webdriver.remote.webelement.WebElement (session=\"a0bfc7a2e82758cd7d37ed3cb105c4e0\", element=\"c68fdc3a-c8eb-4e7a-951b-7dcd4b4ae009\")>,\n",
       " <selenium.webdriver.remote.webelement.WebElement (session=\"a0bfc7a2e82758cd7d37ed3cb105c4e0\", element=\"b34c5095-ab01-4a42-8c22-826b2f94e250\")>]"
      ]
     },
     "execution_count": 15,
     "metadata": {},
     "output_type": "execute_result"
    }
   ],
   "source": [
    "titles_tags=driver.find_elements_by_xpath(\"//a[@class='title fw500 ellipsis']\")\n",
    "titles_tags[:10]"
   ]
  },
  {
   "cell_type": "code",
   "execution_count": 16,
   "metadata": {
    "collapsed": true
   },
   "outputs": [
    {
     "data": {
      "text/plain": [
       "['Data Scientist',\n",
       " 'Data Scientist',\n",
       " 'Data Scientist - Python/ SQL',\n",
       " 'Data Scientist',\n",
       " 'Data Scientist - Machine Learning',\n",
       " 'Data Scientist - Python/r',\n",
       " 'Data Scientist - Predictive Analytics',\n",
       " 'Data Scientist - Machine Learning',\n",
       " 'Data Scientist - KPO',\n",
       " 'Data Scientist']"
      ]
     },
     "execution_count": 16,
     "metadata": {},
     "output_type": "execute_result"
    }
   ],
   "source": [
    "job_titles=[]\n",
    "for i in titles_tags:\n",
    "    job_titles.append(i.text)\n",
    "job_titles[:10]"
   ]
  },
  {
   "cell_type": "code",
   "execution_count": 17,
   "metadata": {
    "collapsed": true
   },
   "outputs": [
    {
     "data": {
      "text/plain": [
       "[<selenium.webdriver.remote.webelement.WebElement (session=\"a0bfc7a2e82758cd7d37ed3cb105c4e0\", element=\"55366ef2-2a43-4320-b4ff-35285607952a\")>,\n",
       " <selenium.webdriver.remote.webelement.WebElement (session=\"a0bfc7a2e82758cd7d37ed3cb105c4e0\", element=\"80e0a4d4-74e0-423c-8dec-9bf296a31431\")>,\n",
       " <selenium.webdriver.remote.webelement.WebElement (session=\"a0bfc7a2e82758cd7d37ed3cb105c4e0\", element=\"99dded0f-4a97-4b57-9268-cde22593c6c9\")>,\n",
       " <selenium.webdriver.remote.webelement.WebElement (session=\"a0bfc7a2e82758cd7d37ed3cb105c4e0\", element=\"f0136418-250b-467d-a221-e2a6872d3353\")>,\n",
       " <selenium.webdriver.remote.webelement.WebElement (session=\"a0bfc7a2e82758cd7d37ed3cb105c4e0\", element=\"b48e1ea2-3080-44b1-9447-b49a22297cc7\")>,\n",
       " <selenium.webdriver.remote.webelement.WebElement (session=\"a0bfc7a2e82758cd7d37ed3cb105c4e0\", element=\"71ead851-9af6-4498-8414-1ea7ee218b93\")>,\n",
       " <selenium.webdriver.remote.webelement.WebElement (session=\"a0bfc7a2e82758cd7d37ed3cb105c4e0\", element=\"04571a3d-7944-4791-8dca-39128b4c3516\")>,\n",
       " <selenium.webdriver.remote.webelement.WebElement (session=\"a0bfc7a2e82758cd7d37ed3cb105c4e0\", element=\"1bc709c4-befc-4622-af04-73be1770512a\")>,\n",
       " <selenium.webdriver.remote.webelement.WebElement (session=\"a0bfc7a2e82758cd7d37ed3cb105c4e0\", element=\"19c5fd10-9511-4685-9c07-74a86d03d42b\")>,\n",
       " <selenium.webdriver.remote.webelement.WebElement (session=\"a0bfc7a2e82758cd7d37ed3cb105c4e0\", element=\"a176a8d2-5269-4521-838b-1345dc171bf8\")>]"
      ]
     },
     "execution_count": 17,
     "metadata": {},
     "output_type": "execute_result"
    }
   ],
   "source": [
    "location_tags=driver.find_elements_by_xpath(\"//li[@class='fleft grey-text br2 placeHolderLi location']//span\")\n",
    "location_tags[:10]"
   ]
  },
  {
   "cell_type": "code",
   "execution_count": 18,
   "metadata": {
    "collapsed": true
   },
   "outputs": [
    {
     "data": {
      "text/plain": [
       "['Bangalore/Bengaluru',\n",
       " 'Bangalore/Bengaluru',\n",
       " 'Bangalore/Bengaluru',\n",
       " 'Bangalore/Bengaluru',\n",
       " 'Bangalore/Bengaluru',\n",
       " 'Bangalore/Bengaluru',\n",
       " 'Bangalore/Bengaluru',\n",
       " 'Bangalore/Bengaluru',\n",
       " 'Bangalore/Bengaluru',\n",
       " 'Bangalore/Bengaluru']"
      ]
     },
     "execution_count": 18,
     "metadata": {},
     "output_type": "execute_result"
    }
   ],
   "source": [
    "location_list=[]\n",
    "for i in location_tags:\n",
    "    location_list.append(i.text)\n",
    "location_list[:10]"
   ]
  },
  {
   "cell_type": "code",
   "execution_count": 30,
   "metadata": {
    "collapsed": true
   },
   "outputs": [
    {
     "data": {
      "text/plain": [
       "[<selenium.webdriver.remote.webelement.WebElement (session=\"a0bfc7a2e82758cd7d37ed3cb105c4e0\", element=\"fb2fb838-50dc-49fe-9ebd-d24418208b56\")>,\n",
       " <selenium.webdriver.remote.webelement.WebElement (session=\"a0bfc7a2e82758cd7d37ed3cb105c4e0\", element=\"c01e4abd-55be-4cda-93b3-3dc1055b1ab3\")>,\n",
       " <selenium.webdriver.remote.webelement.WebElement (session=\"a0bfc7a2e82758cd7d37ed3cb105c4e0\", element=\"dd1c35d3-fbe3-4e27-a81d-e42ac7d4bc6a\")>,\n",
       " <selenium.webdriver.remote.webelement.WebElement (session=\"a0bfc7a2e82758cd7d37ed3cb105c4e0\", element=\"0b2bdfc9-8467-4f71-b132-09ced01bd23f\")>,\n",
       " <selenium.webdriver.remote.webelement.WebElement (session=\"a0bfc7a2e82758cd7d37ed3cb105c4e0\", element=\"5522719e-3c21-4fec-9b7f-5157a64a4ec9\")>,\n",
       " <selenium.webdriver.remote.webelement.WebElement (session=\"a0bfc7a2e82758cd7d37ed3cb105c4e0\", element=\"a4dbfbd5-46ae-4995-ad92-33d0d20b1ffe\")>,\n",
       " <selenium.webdriver.remote.webelement.WebElement (session=\"a0bfc7a2e82758cd7d37ed3cb105c4e0\", element=\"bd0c6698-b162-4535-ae73-0c313b1a4833\")>,\n",
       " <selenium.webdriver.remote.webelement.WebElement (session=\"a0bfc7a2e82758cd7d37ed3cb105c4e0\", element=\"397d2655-694f-4b4d-ad31-15cd7e224ba1\")>,\n",
       " <selenium.webdriver.remote.webelement.WebElement (session=\"a0bfc7a2e82758cd7d37ed3cb105c4e0\", element=\"ca73c20c-de98-4528-b510-9df517a92c19\")>,\n",
       " <selenium.webdriver.remote.webelement.WebElement (session=\"a0bfc7a2e82758cd7d37ed3cb105c4e0\", element=\"77d23392-2530-43c9-b640-7b9b36db5077\")>]"
      ]
     },
     "execution_count": 30,
     "metadata": {},
     "output_type": "execute_result"
    }
   ],
   "source": [
    "company_tag=driver.find_elements_by_xpath(\"//a[@class='subTitle ellipsis fleft']\")\n",
    "company_tag[:10]"
   ]
  },
  {
   "cell_type": "code",
   "execution_count": 31,
   "metadata": {
    "collapsed": true
   },
   "outputs": [
    {
     "data": {
      "text/plain": [
       "['Bion',\n",
       " 'Bion',\n",
       " 'Catalyst',\n",
       " 'Catalyst',\n",
       " 'Catalyst',\n",
       " 'Catalyst',\n",
       " 'TalentStack',\n",
       " 'AugmatrixGo',\n",
       " 'Antrors HR Solutions',\n",
       " 'Narayana Health']"
      ]
     },
     "execution_count": 31,
     "metadata": {},
     "output_type": "execute_result"
    }
   ],
   "source": [
    "company_name=[]\n",
    "for i in company_tag:\n",
    "    company_name.append(i.text)\n",
    "company_name[:10]"
   ]
  },
  {
   "cell_type": "code",
   "execution_count": 32,
   "metadata": {
    "collapsed": true
   },
   "outputs": [
    {
     "name": "stdout",
     "output_type": "stream",
     "text": [
      "20 20 20\n"
     ]
    }
   ],
   "source": [
    "print(len(job_titles),len(company_name),len(location_list))"
   ]
  },
  {
   "cell_type": "code",
   "execution_count": 33,
   "metadata": {},
   "outputs": [],
   "source": [
    "jobs=pd.DataFrame({})\n",
    "jobs['title']=job_titles[:10]\n",
    "jobs['company']=company_name[:10]\n",
    "jobs['location']=location_list[:10]"
   ]
  },
  {
   "cell_type": "code",
   "execution_count": 34,
   "metadata": {
    "collapsed": true
   },
   "outputs": [
    {
     "data": {
      "text/html": [
       "<div>\n",
       "<style scoped>\n",
       "    .dataframe tbody tr th:only-of-type {\n",
       "        vertical-align: middle;\n",
       "    }\n",
       "\n",
       "    .dataframe tbody tr th {\n",
       "        vertical-align: top;\n",
       "    }\n",
       "\n",
       "    .dataframe thead th {\n",
       "        text-align: right;\n",
       "    }\n",
       "</style>\n",
       "<table border=\"1\" class=\"dataframe\">\n",
       "  <thead>\n",
       "    <tr style=\"text-align: right;\">\n",
       "      <th></th>\n",
       "      <th>title</th>\n",
       "      <th>company</th>\n",
       "      <th>location</th>\n",
       "    </tr>\n",
       "  </thead>\n",
       "  <tbody>\n",
       "    <tr>\n",
       "      <th>0</th>\n",
       "      <td>Data Scientist</td>\n",
       "      <td>Bion</td>\n",
       "      <td>Bangalore/Bengaluru</td>\n",
       "    </tr>\n",
       "    <tr>\n",
       "      <th>1</th>\n",
       "      <td>Data Scientist</td>\n",
       "      <td>Bion</td>\n",
       "      <td>Bangalore/Bengaluru</td>\n",
       "    </tr>\n",
       "    <tr>\n",
       "      <th>2</th>\n",
       "      <td>Data Scientist - Python/ SQL</td>\n",
       "      <td>Catalyst</td>\n",
       "      <td>Bangalore/Bengaluru</td>\n",
       "    </tr>\n",
       "    <tr>\n",
       "      <th>3</th>\n",
       "      <td>Data Scientist</td>\n",
       "      <td>Catalyst</td>\n",
       "      <td>Bangalore/Bengaluru</td>\n",
       "    </tr>\n",
       "    <tr>\n",
       "      <th>4</th>\n",
       "      <td>Data Scientist - Machine Learning</td>\n",
       "      <td>Catalyst</td>\n",
       "      <td>Bangalore/Bengaluru</td>\n",
       "    </tr>\n",
       "    <tr>\n",
       "      <th>5</th>\n",
       "      <td>Data Scientist - Python/r</td>\n",
       "      <td>Catalyst</td>\n",
       "      <td>Bangalore/Bengaluru</td>\n",
       "    </tr>\n",
       "    <tr>\n",
       "      <th>6</th>\n",
       "      <td>Data Scientist - Predictive Analytics</td>\n",
       "      <td>TalentStack</td>\n",
       "      <td>Bangalore/Bengaluru</td>\n",
       "    </tr>\n",
       "    <tr>\n",
       "      <th>7</th>\n",
       "      <td>Data Scientist - Machine Learning</td>\n",
       "      <td>AugmatrixGo</td>\n",
       "      <td>Bangalore/Bengaluru</td>\n",
       "    </tr>\n",
       "    <tr>\n",
       "      <th>8</th>\n",
       "      <td>Data Scientist - KPO</td>\n",
       "      <td>Antrors HR Solutions</td>\n",
       "      <td>Bangalore/Bengaluru</td>\n",
       "    </tr>\n",
       "    <tr>\n",
       "      <th>9</th>\n",
       "      <td>Data Scientist</td>\n",
       "      <td>Narayana Health</td>\n",
       "      <td>Bangalore/Bengaluru</td>\n",
       "    </tr>\n",
       "  </tbody>\n",
       "</table>\n",
       "</div>"
      ],
      "text/plain": [
       "                                   title               company  \\\n",
       "0                         Data Scientist                  Bion   \n",
       "1                         Data Scientist                  Bion   \n",
       "2           Data Scientist - Python/ SQL              Catalyst   \n",
       "3                         Data Scientist              Catalyst   \n",
       "4      Data Scientist - Machine Learning              Catalyst   \n",
       "5              Data Scientist - Python/r              Catalyst   \n",
       "6  Data Scientist - Predictive Analytics           TalentStack   \n",
       "7      Data Scientist - Machine Learning           AugmatrixGo   \n",
       "8                   Data Scientist - KPO  Antrors HR Solutions   \n",
       "9                         Data Scientist       Narayana Health   \n",
       "\n",
       "              location  \n",
       "0  Bangalore/Bengaluru  \n",
       "1  Bangalore/Bengaluru  \n",
       "2  Bangalore/Bengaluru  \n",
       "3  Bangalore/Bengaluru  \n",
       "4  Bangalore/Bengaluru  \n",
       "5  Bangalore/Bengaluru  \n",
       "6  Bangalore/Bengaluru  \n",
       "7  Bangalore/Bengaluru  \n",
       "8  Bangalore/Bengaluru  \n",
       "9  Bangalore/Bengaluru  "
      ]
     },
     "execution_count": 34,
     "metadata": {},
     "output_type": "execute_result"
    }
   ],
   "source": [
    "jobs"
   ]
  },
  {
   "cell_type": "markdown",
   "metadata": {},
   "source": [
    "# Q3: In this question you have to scrape data using the filters available on the \n",
    " webpage as shown below:\n",
    "You have to use the location and salary filter.\n",
    "You have to scrape data for “Data Scientist” designation for first 10 job results.\n",
    "You have to scrape the job-title, job-location, company_name,\n",
    "experience_required.\n",
    "The location filter to be used is “Delhi/NCR”\n",
    "The salary filter to be used is “3-6” lakhs\n",
    "The task will be done as shown in the below steps:\n",
    "1. first get the webpage https://www.naukri.com/\n",
    "2. Enter “Data Scientist” in “Skill,Designations,Companies” field .WEB SCRAPING ASSIGNMENT-2\n",
    ".\n",
    "3. Then click the search button.\n",
    "4. Then apply the location filter and salary filter by checking the respective boxes\n",
    "4. Then scrape the data for the first 10 jobs results you get.\n",
    "5. Finally create a dataframe of the scraped data."
   ]
  },
  {
   "cell_type": "code",
   "execution_count": 1,
   "metadata": {},
   "outputs": [],
   "source": [
    "import selenium\n",
    "import pandas as pd\n",
    "from selenium import webdriver"
   ]
  },
  {
   "cell_type": "code",
   "execution_count": 2,
   "metadata": {},
   "outputs": [],
   "source": [
    "driver = webdriver.Chrome(\"chromedriver.exe\")"
   ]
  },
  {
   "cell_type": "code",
   "execution_count": 3,
   "metadata": {},
   "outputs": [],
   "source": [
    "url = 'https://www.naukri.com/'\n",
    "driver.get(url)"
   ]
  },
  {
   "cell_type": "code",
   "execution_count": 6,
   "metadata": {
    "collapsed": true
   },
   "outputs": [
    {
     "data": {
      "text/plain": [
       "<selenium.webdriver.remote.webelement.WebElement (session=\"c6a2f0b4886d26b2a71d9ac99581adbf\", element=\"33e7b6f4-82f2-457f-83d5-339c20898f8d\")>"
      ]
     },
     "execution_count": 6,
     "metadata": {},
     "output_type": "execute_result"
    }
   ],
   "source": [
    "search_job = driver.find_element_by_id('qsb-keyword-sugg')\n",
    "search_job"
   ]
  },
  {
   "cell_type": "code",
   "execution_count": 7,
   "metadata": {},
   "outputs": [],
   "source": [
    "search_job.send_keys(\"Data scientist\")"
   ]
  },
  {
   "cell_type": "code",
   "execution_count": 8,
   "metadata": {
    "collapsed": true
   },
   "outputs": [
    {
     "data": {
      "text/plain": [
       "<selenium.webdriver.remote.webelement.WebElement (session=\"c6a2f0b4886d26b2a71d9ac99581adbf\", element=\"21d75fd3-a891-49de-a121-658ab92bb804\")>"
      ]
     },
     "execution_count": 8,
     "metadata": {},
     "output_type": "execute_result"
    }
   ],
   "source": [
    "search_loc = driver.find_element_by_id('qsb-location-sugg')\n",
    "search_loc"
   ]
  },
  {
   "cell_type": "code",
   "execution_count": 9,
   "metadata": {
    "collapsed": true
   },
   "outputs": [
    {
     "data": {
      "text/plain": [
       "<selenium.webdriver.remote.webelement.WebElement (session=\"c6a2f0b4886d26b2a71d9ac99581adbf\", element=\"a9ac5219-c807-48c2-8f74-734063650ee3\")>"
      ]
     },
     "execution_count": 9,
     "metadata": {},
     "output_type": "execute_result"
    }
   ],
   "source": [
    "search_btn = driver.find_element_by_xpath(\"//button[@class='btn']\")\n",
    "search_btn"
   ]
  },
  {
   "cell_type": "code",
   "execution_count": 10,
   "metadata": {},
   "outputs": [],
   "source": [
    "search_loc.send_keys(\"Bangalore\")"
   ]
  },
  {
   "cell_type": "code",
   "execution_count": 11,
   "metadata": {
    "collapsed": true
   },
   "outputs": [
    {
     "data": {
      "text/plain": [
       "<selenium.webdriver.remote.webelement.WebElement (session=\"c6a2f0b4886d26b2a71d9ac99581adbf\", element=\"a9ac5219-c807-48c2-8f74-734063650ee3\")>"
      ]
     },
     "execution_count": 11,
     "metadata": {},
     "output_type": "execute_result"
    }
   ],
   "source": [
    "search_btn = driver.find_element_by_xpath(\"//button[@class='btn']\")\n",
    "search_btn"
   ]
  },
  {
   "cell_type": "code",
   "execution_count": 12,
   "metadata": {},
   "outputs": [],
   "source": [
    "search_btn.click()"
   ]
  },
  {
   "cell_type": "code",
   "execution_count": 13,
   "metadata": {
    "collapsed": true
   },
   "outputs": [
    {
     "data": {
      "text/plain": [
       "[<selenium.webdriver.remote.webelement.WebElement (session=\"c6a2f0b4886d26b2a71d9ac99581adbf\", element=\"5fccabb9-fce0-42cb-8e7c-e1085053f59b\")>,\n",
       " <selenium.webdriver.remote.webelement.WebElement (session=\"c6a2f0b4886d26b2a71d9ac99581adbf\", element=\"c44572ba-7740-482e-9cb2-93c63411ea7c\")>,\n",
       " <selenium.webdriver.remote.webelement.WebElement (session=\"c6a2f0b4886d26b2a71d9ac99581adbf\", element=\"0a692233-949f-49e3-b652-a4d949e433af\")>,\n",
       " <selenium.webdriver.remote.webelement.WebElement (session=\"c6a2f0b4886d26b2a71d9ac99581adbf\", element=\"3888ff73-551b-464a-8de4-0c55933ddb73\")>,\n",
       " <selenium.webdriver.remote.webelement.WebElement (session=\"c6a2f0b4886d26b2a71d9ac99581adbf\", element=\"77a16c67-332f-4036-b0ff-0ce79a437270\")>,\n",
       " <selenium.webdriver.remote.webelement.WebElement (session=\"c6a2f0b4886d26b2a71d9ac99581adbf\", element=\"8dbefb3f-615a-40ad-a4c4-3393037bc2e2\")>,\n",
       " <selenium.webdriver.remote.webelement.WebElement (session=\"c6a2f0b4886d26b2a71d9ac99581adbf\", element=\"397362c1-b2be-418c-9c09-ae9a031c5194\")>,\n",
       " <selenium.webdriver.remote.webelement.WebElement (session=\"c6a2f0b4886d26b2a71d9ac99581adbf\", element=\"df6ebba1-bbd0-4d92-af20-6c8e0a26680d\")>,\n",
       " <selenium.webdriver.remote.webelement.WebElement (session=\"c6a2f0b4886d26b2a71d9ac99581adbf\", element=\"f39907c2-6a71-47cf-80d4-7f617b4f8000\")>,\n",
       " <selenium.webdriver.remote.webelement.WebElement (session=\"c6a2f0b4886d26b2a71d9ac99581adbf\", element=\"0d47fc1b-1230-42b4-b7fe-093ee58c0723\")>]"
      ]
     },
     "execution_count": 13,
     "metadata": {},
     "output_type": "execute_result"
    }
   ],
   "source": [
    "titles_tags=driver.find_elements_by_xpath(\"//a[@class='title fw500 ellipsis']\")\n",
    "titles_tags[:10]"
   ]
  },
  {
   "cell_type": "code",
   "execution_count": 14,
   "metadata": {
    "collapsed": true
   },
   "outputs": [
    {
     "data": {
      "text/plain": [
       "['Senior Data Scientist',\n",
       " 'Senior Data Scientist',\n",
       " 'Senior Data Scientist',\n",
       " 'Data Scientist',\n",
       " 'Senior Data Scientist',\n",
       " 'Senior Data Scientist',\n",
       " 'Senior Data Scientist I',\n",
       " 'IDM - Lead Data Scientist',\n",
       " 'Senior/Lead Data Scientist',\n",
       " 'Data Scientist']"
      ]
     },
     "execution_count": 14,
     "metadata": {},
     "output_type": "execute_result"
    }
   ],
   "source": [
    "job_titles=[]\n",
    "for i in titles_tags:\n",
    "    job_titles.append(i.text)\n",
    "job_titles[:10]"
   ]
  },
  {
   "cell_type": "code",
   "execution_count": 15,
   "metadata": {
    "collapsed": true
   },
   "outputs": [
    {
     "data": {
      "text/plain": [
       "[<selenium.webdriver.remote.webelement.WebElement (session=\"c6a2f0b4886d26b2a71d9ac99581adbf\", element=\"674dd54f-a497-4b76-9e19-f58c9955a0fa\")>,\n",
       " <selenium.webdriver.remote.webelement.WebElement (session=\"c6a2f0b4886d26b2a71d9ac99581adbf\", element=\"a31cd46f-2363-45f8-9da2-3d05a602aa6b\")>,\n",
       " <selenium.webdriver.remote.webelement.WebElement (session=\"c6a2f0b4886d26b2a71d9ac99581adbf\", element=\"21cc73cc-4f64-4393-8928-caa56b0dd57e\")>,\n",
       " <selenium.webdriver.remote.webelement.WebElement (session=\"c6a2f0b4886d26b2a71d9ac99581adbf\", element=\"69c545f5-70c1-4c80-bb16-2c9cfff492fc\")>,\n",
       " <selenium.webdriver.remote.webelement.WebElement (session=\"c6a2f0b4886d26b2a71d9ac99581adbf\", element=\"15c1a21a-84ac-412a-9eb9-f9e29323c68e\")>,\n",
       " <selenium.webdriver.remote.webelement.WebElement (session=\"c6a2f0b4886d26b2a71d9ac99581adbf\", element=\"c74cc86b-6294-43cc-b5cf-195a5b0d3eec\")>,\n",
       " <selenium.webdriver.remote.webelement.WebElement (session=\"c6a2f0b4886d26b2a71d9ac99581adbf\", element=\"7320b522-6ee9-4962-bd62-9d0b70fe402f\")>,\n",
       " <selenium.webdriver.remote.webelement.WebElement (session=\"c6a2f0b4886d26b2a71d9ac99581adbf\", element=\"946f1bde-88d9-42e8-8901-ba9f81de973d\")>,\n",
       " <selenium.webdriver.remote.webelement.WebElement (session=\"c6a2f0b4886d26b2a71d9ac99581adbf\", element=\"34e6c779-423e-4a19-97a2-391b6a8d5642\")>,\n",
       " <selenium.webdriver.remote.webelement.WebElement (session=\"c6a2f0b4886d26b2a71d9ac99581adbf\", element=\"000a0dad-137b-41a0-801a-d348be2e3460\")>]"
      ]
     },
     "execution_count": 15,
     "metadata": {},
     "output_type": "execute_result"
    }
   ],
   "source": [
    "location_tags=driver.find_elements_by_xpath(\"//li[@class='fleft grey-text br2 placeHolderLi location']//span\")\n",
    "location_tags[:10]"
   ]
  },
  {
   "cell_type": "code",
   "execution_count": 16,
   "metadata": {
    "collapsed": true
   },
   "outputs": [
    {
     "data": {
      "text/plain": [
       "['Bangalore/Bengaluru',\n",
       " 'Mumbai, Gurgaon/Gurugram, Bangalore/Bengaluru',\n",
       " 'Chennai, Bangalore/Bengaluru, Vadodara',\n",
       " 'Hyderabad/Secunderabad, Bangalore/Bengaluru, Pune',\n",
       " 'Bangalore/Bengaluru',\n",
       " 'Bangalore/Bengaluru',\n",
       " 'Bangalore/Bengaluru',\n",
       " 'Bangalore/Bengaluru',\n",
       " 'Hyderabad/Secunderabad, Chennai, Bangalore/Bengaluru',\n",
       " 'Bangalore/Bengaluru']"
      ]
     },
     "execution_count": 16,
     "metadata": {},
     "output_type": "execute_result"
    }
   ],
   "source": [
    "location_list=[]\n",
    "for i in location_tags:\n",
    "    location_list.append(i.text)\n",
    "location_list[:10]"
   ]
  },
  {
   "cell_type": "code",
   "execution_count": 17,
   "metadata": {
    "collapsed": true
   },
   "outputs": [
    {
     "data": {
      "text/plain": [
       "[<selenium.webdriver.remote.webelement.WebElement (session=\"c6a2f0b4886d26b2a71d9ac99581adbf\", element=\"aa0f3943-60d2-4561-a4d4-7a9bf333f787\")>,\n",
       " <selenium.webdriver.remote.webelement.WebElement (session=\"c6a2f0b4886d26b2a71d9ac99581adbf\", element=\"513bc568-aa95-4c1b-b636-0d0432f79afd\")>,\n",
       " <selenium.webdriver.remote.webelement.WebElement (session=\"c6a2f0b4886d26b2a71d9ac99581adbf\", element=\"cea17d75-c86f-44fe-9fd8-11913390a0d0\")>,\n",
       " <selenium.webdriver.remote.webelement.WebElement (session=\"c6a2f0b4886d26b2a71d9ac99581adbf\", element=\"9007b755-bf9f-46d3-95ca-a36aaca87883\")>,\n",
       " <selenium.webdriver.remote.webelement.WebElement (session=\"c6a2f0b4886d26b2a71d9ac99581adbf\", element=\"d45dab3e-8167-4bf8-94ea-a84f51028aa8\")>,\n",
       " <selenium.webdriver.remote.webelement.WebElement (session=\"c6a2f0b4886d26b2a71d9ac99581adbf\", element=\"1f483326-2241-4fcb-8bdf-4e4e8fe3aa2f\")>,\n",
       " <selenium.webdriver.remote.webelement.WebElement (session=\"c6a2f0b4886d26b2a71d9ac99581adbf\", element=\"6254ca81-5603-4bb7-95ff-19d0dea18a02\")>,\n",
       " <selenium.webdriver.remote.webelement.WebElement (session=\"c6a2f0b4886d26b2a71d9ac99581adbf\", element=\"c26c224f-d230-4165-8050-aa454e9f505b\")>,\n",
       " <selenium.webdriver.remote.webelement.WebElement (session=\"c6a2f0b4886d26b2a71d9ac99581adbf\", element=\"742237ce-037e-4b80-bff2-05e1e7489d42\")>,\n",
       " <selenium.webdriver.remote.webelement.WebElement (session=\"c6a2f0b4886d26b2a71d9ac99581adbf\", element=\"f0fdb3fb-ddc0-40b9-b72d-1bdb1bb3376d\")>]"
      ]
     },
     "execution_count": 17,
     "metadata": {},
     "output_type": "execute_result"
    }
   ],
   "source": [
    "company_tag=driver.find_elements_by_xpath(\"//a[@class='subTitle ellipsis fleft']\")\n",
    "company_tag[:10]"
   ]
  },
  {
   "cell_type": "code",
   "execution_count": 18,
   "metadata": {
    "collapsed": true
   },
   "outputs": [
    {
     "data": {
      "text/plain": [
       "['24/7 Customer',\n",
       " 'Fractal Analytics',\n",
       " 'Nielsen',\n",
       " 'Wipro Limited',\n",
       " 'Pluto7',\n",
       " 'Publicis Groupe',\n",
       " 'Philips India Limited',\n",
       " 'Philips India Limited',\n",
       " 'AUREUSTECH SYSTEMS PRIVATE LIMITED',\n",
       " 'Pluto7']"
      ]
     },
     "execution_count": 18,
     "metadata": {},
     "output_type": "execute_result"
    }
   ],
   "source": [
    "company_name=[]\n",
    "for i in company_tag:\n",
    "    company_name.append(i.text)\n",
    "company_name[:10]"
   ]
  },
  {
   "cell_type": "code",
   "execution_count": 19,
   "metadata": {
    "collapsed": true
   },
   "outputs": [
    {
     "name": "stdout",
     "output_type": "stream",
     "text": [
      "20 20 20\n"
     ]
    }
   ],
   "source": [
    "print(len(job_titles),len(company_name),len(location_list))"
   ]
  },
  {
   "cell_type": "code",
   "execution_count": 20,
   "metadata": {},
   "outputs": [],
   "source": [
    "jobs=pd.DataFrame({})\n",
    "jobs['title']=job_titles[:10]\n",
    "jobs['company']=company_name[:10]\n",
    "jobs['location']=location_list[:10]"
   ]
  },
  {
   "cell_type": "code",
   "execution_count": 21,
   "metadata": {
    "collapsed": true
   },
   "outputs": [
    {
     "data": {
      "text/html": [
       "<div>\n",
       "<style scoped>\n",
       "    .dataframe tbody tr th:only-of-type {\n",
       "        vertical-align: middle;\n",
       "    }\n",
       "\n",
       "    .dataframe tbody tr th {\n",
       "        vertical-align: top;\n",
       "    }\n",
       "\n",
       "    .dataframe thead th {\n",
       "        text-align: right;\n",
       "    }\n",
       "</style>\n",
       "<table border=\"1\" class=\"dataframe\">\n",
       "  <thead>\n",
       "    <tr style=\"text-align: right;\">\n",
       "      <th></th>\n",
       "      <th>title</th>\n",
       "      <th>company</th>\n",
       "      <th>location</th>\n",
       "    </tr>\n",
       "  </thead>\n",
       "  <tbody>\n",
       "    <tr>\n",
       "      <th>0</th>\n",
       "      <td>Senior Data Scientist</td>\n",
       "      <td>24/7 Customer</td>\n",
       "      <td>Bangalore/Bengaluru</td>\n",
       "    </tr>\n",
       "    <tr>\n",
       "      <th>1</th>\n",
       "      <td>Senior Data Scientist</td>\n",
       "      <td>Fractal Analytics</td>\n",
       "      <td>Mumbai, Gurgaon/Gurugram, Bangalore/Bengaluru</td>\n",
       "    </tr>\n",
       "    <tr>\n",
       "      <th>2</th>\n",
       "      <td>Senior Data Scientist</td>\n",
       "      <td>Nielsen</td>\n",
       "      <td>Chennai, Bangalore/Bengaluru, Vadodara</td>\n",
       "    </tr>\n",
       "    <tr>\n",
       "      <th>3</th>\n",
       "      <td>Data Scientist</td>\n",
       "      <td>Wipro Limited</td>\n",
       "      <td>Hyderabad/Secunderabad, Bangalore/Bengaluru, Pune</td>\n",
       "    </tr>\n",
       "    <tr>\n",
       "      <th>4</th>\n",
       "      <td>Senior Data Scientist</td>\n",
       "      <td>Pluto7</td>\n",
       "      <td>Bangalore/Bengaluru</td>\n",
       "    </tr>\n",
       "    <tr>\n",
       "      <th>5</th>\n",
       "      <td>Senior Data Scientist</td>\n",
       "      <td>Publicis Groupe</td>\n",
       "      <td>Bangalore/Bengaluru</td>\n",
       "    </tr>\n",
       "    <tr>\n",
       "      <th>6</th>\n",
       "      <td>Senior Data Scientist I</td>\n",
       "      <td>Philips India Limited</td>\n",
       "      <td>Bangalore/Bengaluru</td>\n",
       "    </tr>\n",
       "    <tr>\n",
       "      <th>7</th>\n",
       "      <td>IDM - Lead Data Scientist</td>\n",
       "      <td>Philips India Limited</td>\n",
       "      <td>Bangalore/Bengaluru</td>\n",
       "    </tr>\n",
       "    <tr>\n",
       "      <th>8</th>\n",
       "      <td>Senior/Lead Data Scientist</td>\n",
       "      <td>AUREUSTECH SYSTEMS PRIVATE LIMITED</td>\n",
       "      <td>Hyderabad/Secunderabad, Chennai, Bangalore/Ben...</td>\n",
       "    </tr>\n",
       "    <tr>\n",
       "      <th>9</th>\n",
       "      <td>Data Scientist</td>\n",
       "      <td>Pluto7</td>\n",
       "      <td>Bangalore/Bengaluru</td>\n",
       "    </tr>\n",
       "  </tbody>\n",
       "</table>\n",
       "</div>"
      ],
      "text/plain": [
       "                        title                             company  \\\n",
       "0       Senior Data Scientist                       24/7 Customer   \n",
       "1       Senior Data Scientist                   Fractal Analytics   \n",
       "2       Senior Data Scientist                             Nielsen   \n",
       "3              Data Scientist                       Wipro Limited   \n",
       "4       Senior Data Scientist                              Pluto7   \n",
       "5       Senior Data Scientist                     Publicis Groupe   \n",
       "6     Senior Data Scientist I               Philips India Limited   \n",
       "7   IDM - Lead Data Scientist               Philips India Limited   \n",
       "8  Senior/Lead Data Scientist  AUREUSTECH SYSTEMS PRIVATE LIMITED   \n",
       "9              Data Scientist                              Pluto7   \n",
       "\n",
       "                                            location  \n",
       "0                                Bangalore/Bengaluru  \n",
       "1      Mumbai, Gurgaon/Gurugram, Bangalore/Bengaluru  \n",
       "2             Chennai, Bangalore/Bengaluru, Vadodara  \n",
       "3  Hyderabad/Secunderabad, Bangalore/Bengaluru, Pune  \n",
       "4                                Bangalore/Bengaluru  \n",
       "5                                Bangalore/Bengaluru  \n",
       "6                                Bangalore/Bengaluru  \n",
       "7                                Bangalore/Bengaluru  \n",
       "8  Hyderabad/Secunderabad, Chennai, Bangalore/Ben...  \n",
       "9                                Bangalore/Bengaluru  "
      ]
     },
     "execution_count": 21,
     "metadata": {},
     "output_type": "execute_result"
    }
   ],
   "source": [
    "jobs"
   ]
  },
  {
   "cell_type": "code",
   "execution_count": 34,
   "metadata": {
    "collapsed": true
   },
   "outputs": [
    {
     "data": {
      "text/plain": [
       "['https://www.naukri.com/data-scientist-jobs-in-bangalore',\n",
       " 'https://www.naukri.com/data-scientist-jobs-in-bangalore-2',\n",
       " 'https://www.naukri.com/data-scientist-jobs-in-bangalore-3',\n",
       " 'https://www.naukri.com/data-scientist-jobs-in-bangalore-4',\n",
       " 'https://www.naukri.com/data-scientist-jobs-in-bangalore-5',\n",
       " 'https://www.naukri.com/data-scientist-jobs-in-bangalore-6',\n",
       " 'https://www.naukri.com/data-scientist-jobs-in-bangalore-7',\n",
       " 'https://www.naukri.com/data-scientist-jobs-in-bangalore-8',\n",
       " 'https://www.naukri.com/data-scientist-jobs-in-bangalore-9',\n",
       " 'https://www.naukri.com/data-scientist-jobs-in-bangalore-10']"
      ]
     },
     "execution_count": 34,
     "metadata": {},
     "output_type": "execute_result"
    }
   ],
   "source": [
    "page_url = []\n",
    "url = driver.find_elements_by_xpath(\"//div[@class='fleft pages']//a\")\n",
    "for i in url:\n",
    "    page_url.append(i.get_attribute(\"href\"))\n",
    "page_url"
   ]
  },
  {
   "cell_type": "code",
   "execution_count": 36,
   "metadata": {
    "collapsed": true
   },
   "outputs": [
    {
     "data": {
      "text/plain": [
       "['https://www.naukri.com/job-listings-senior-data-scientist-24-7-customer-private-ltd-bangalore-bengaluru-5-to-10-years-280621501037?src=jobsearchDesk&sid=16250293853485957&xp=1&px=1',\n",
       " 'https://www.naukri.com/job-listings-senior-data-scientist-fractal-analytics-ltd-mumbai-gurgaon-gurugram-bangalore-bengaluru-4-to-8-years-290621500776?src=jobsearchDesk&sid=16250293853485957&xp=2&px=1',\n",
       " 'https://www.naukri.com/job-listings-senior-data-scientist-nielsen-india-private-limited-chennai-bangalore-bengaluru-vadodara-baroda-3-to-5-years-290621001647?src=jobsearchDesk&sid=16250293853485957&xp=3&px=1',\n",
       " 'https://www.naukri.com/job-listings-data-scientist-wipro-limited-hyderabad-secunderabad-bangalore-bengaluru-pune-5-to-10-years-280621014912?src=jobsearchDesk&sid=16250293853485957&xp=4&px=1',\n",
       " 'https://www.naukri.com/job-listings-senior-data-scientist-pluto7-bangalore-bengaluru-2-to-4-years-280621500617?src=jobsearchDesk&sid=16250293853485957&xp=5&px=1',\n",
       " 'https://www.naukri.com/job-listings-senior-data-scientist-publicis-groupe-bangalore-bengaluru-2-to-5-years-290621500896?src=jobsearchDesk&sid=16250293853485957&xp=6&px=1',\n",
       " 'https://www.naukri.com/job-listings-senior-data-scientist-i-philips-india-limited-bangalore-bengaluru-6-to-10-years-250621500799?src=jobsearchDesk&sid=16250293853485957&xp=7&px=1',\n",
       " 'https://www.naukri.com/job-listings-idm-lead-data-scientist-philips-india-limited-bangalore-bengaluru-10-to-15-years-250621500736?src=jobsearchDesk&sid=16250293853485957&xp=8&px=1',\n",
       " 'https://www.naukri.com/job-listings-senior-lead-data-scientist-aureustech-systems-private-limited-hyderabad-secunderabad-chennai-bangalore-bengaluru-9-to-14-years-230621004832?src=jobsearchDesk&sid=16250293853485957&xp=9&px=1',\n",
       " 'https://www.naukri.com/job-listings-data-scientist-pluto7-bangalore-bengaluru-3-to-6-years-280621500624?src=jobsearchDesk&sid=16250293853485957&xp=10&px=1',\n",
       " 'https://www.naukri.com/job-listings-data-scientist-heal-software-inc-bangalore-bengaluru-5-to-10-years-290621501666?src=jobsearchDesk&sid=16250293853485957&xp=11&px=1',\n",
       " 'https://www.naukri.com/job-listings-principal-data-scientist-24-7-customer-private-ltd-bangalore-bengaluru-8-to-13-years-280621501036?src=jobsearchDesk&sid=16250293853485957&xp=12&px=1',\n",
       " 'https://www.naukri.com/job-listings-principal-data-scientist-philips-india-limited-bangalore-bengaluru-9-to-13-years-250621500764?src=jobsearchDesk&sid=16250293853485957&xp=13&px=1',\n",
       " 'https://www.naukri.com/job-listings-data-scientist-business-analytics-philips-india-limited-bangalore-bengaluru-4-to-8-years-250621500272?src=jobsearchDesk&sid=16250293853485957&xp=14&px=1',\n",
       " 'https://www.naukri.com/job-listings-data-scientist-philips-india-limited-bangalore-bengaluru-2-to-15-years-250621500719?src=jobsearchDesk&sid=16250293853485957&xp=15&px=1',\n",
       " 'https://www.naukri.com/job-listings-lead-data-scientist-winfort-services-pvt-ltd-hyderabad-secunderabad-pune-chennai-bangalore-bengaluru-10-to-15-years-290621005092?src=jobsearchDesk&sid=16250293853485957&xp=16&px=1',\n",
       " 'https://www.naukri.com/job-listings-senior-data-scientist-kwalee-india-pvt-ltd-bangalore-bengaluru-5-to-10-years-260321000780?src=jobsearchDesk&sid=16250293853485957&xp=17&px=1',\n",
       " 'https://www.naukri.com/job-listings-data-scientist-replicon-software-kolkata-hyderabad-secunderabad-pune-ahmedabad-chennai-bangalore-bengaluru-delhi-ncr-mumbai-all-areas-5-to-10-years-260621603052?src=jobsearchDesk&sid=16250293853485957&xp=18&px=1',\n",
       " 'https://www.naukri.com/job-listings-data-scientist-replicon-software-kolkata-hyderabad-secunderabad-pune-ahmedabad-chennai-bangalore-bengaluru-delhi-ncr-mumbai-all-areas-5-to-10-years-260621003050?src=jobsearchDesk&sid=16250293853485957&xp=19&px=1',\n",
       " 'https://www.naukri.com/job-listings-data-scientist-applied-materials-india-private-limited-bangalore-bengaluru-2-to-4-years-250621903137?src=jobsearchDesk&sid=16250293853485957&xp=20&px=1']"
      ]
     },
     "execution_count": 36,
     "metadata": {},
     "output_type": "execute_result"
    }
   ],
   "source": [
    "job_opening_urls = []\n",
    "\n",
    "url = driver.find_elements_by_xpath('//a[@class=\"title fw500 ellipsis\"]')\n",
    "for i in url:\n",
    "    job_opening_urls.append(i.get_attribute('href'))\n",
    "job_opening_urls"
   ]
  },
  {
   "cell_type": "code",
   "execution_count": 38,
   "metadata": {},
   "outputs": [],
   "source": [
    "url = 'https://www.naukri.com/job-listings-senior-data-scientist-24-7-customer-private-ltd-bangalore-bengaluru-5-to-10-years-280621501037?src=jobsearchDesk&sid=16250293853485957&xp=1&px=1'\n",
    "driver.get(url)"
   ]
  },
  {
   "cell_type": "code",
   "execution_count": null,
   "metadata": {},
   "outputs": [],
   "source": []
  },
  {
   "cell_type": "code",
   "execution_count": null,
   "metadata": {},
   "outputs": [],
   "source": []
  },
  {
   "cell_type": "code",
   "execution_count": null,
   "metadata": {},
   "outputs": [],
   "source": []
  },
  {
   "cell_type": "code",
   "execution_count": null,
   "metadata": {},
   "outputs": [],
   "source": []
  },
  {
   "cell_type": "code",
   "execution_count": null,
   "metadata": {},
   "outputs": [],
   "source": []
  },
  {
   "cell_type": "code",
   "execution_count": null,
   "metadata": {},
   "outputs": [],
   "source": []
  },
  {
   "cell_type": "code",
   "execution_count": null,
   "metadata": {},
   "outputs": [],
   "source": []
  },
  {
   "cell_type": "code",
   "execution_count": null,
   "metadata": {},
   "outputs": [],
   "source": []
  },
  {
   "cell_type": "code",
   "execution_count": null,
   "metadata": {},
   "outputs": [],
   "source": []
  },
  {
   "cell_type": "code",
   "execution_count": null,
   "metadata": {},
   "outputs": [],
   "source": []
  },
  {
   "cell_type": "markdown",
   "metadata": {},
   "source": [
    "#Q3: In this question you have to scrape data using the filters available on the \n",
    "webpage as shown below:\n",
    "You have to use the location and salary filter.\n",
    "You have to scrape data for “Data Scientist” designation for first 10 job results.\n",
    "You have to scrape the job-title, job-location, company_name,\n",
    "experience_required.\n",
    "The location filter to be used is “Delhi/NCR”\n",
    "The salary filter to be used is “3-6” lakhs\n",
    "The task will be done as shown in the below steps:\n",
    "1. first get the webpage https://www.naukri.com/\n",
    "2. Enter “Data Scientist” in “Skill,Designations,Companies” field .WEB SCRAPING ASSIGNMENT-2\n",
    ".\n",
    "3. Then click the search button.\n",
    "4. Then apply the location filter and salary filter by checking the respective boxes\n",
    "4. Then scrape the data for the first 10 jobs results you get.\n",
    "5. Finally create a dataframe of the scraped data."
   ]
  },
  {
   "cell_type": "code",
   "execution_count": 47,
   "metadata": {},
   "outputs": [],
   "source": [
    "url = 'https://www.naukri.com/'\n",
    "driver.get(url)"
   ]
  },
  {
   "cell_type": "code",
   "execution_count": 48,
   "metadata": {
    "collapsed": true
   },
   "outputs": [
    {
     "data": {
      "text/plain": [
       "<selenium.webdriver.remote.webelement.WebElement (session=\"c6a2f0b4886d26b2a71d9ac99581adbf\", element=\"c25ad57f-0e01-4188-934d-18ca7e86627f\")>"
      ]
     },
     "execution_count": 48,
     "metadata": {},
     "output_type": "execute_result"
    }
   ],
   "source": [
    "search_job = driver.find_element_by_xpath('/html/body/div[1]/div[3]/div[2]/section/div/form/div[1]/div/div/div/div[1]/div[2]/input')\n",
    "search_job"
   ]
  },
  {
   "cell_type": "code",
   "execution_count": 49,
   "metadata": {},
   "outputs": [],
   "source": [
    "search_job.send_keys(\"Data scientist\")"
   ]
  },
  {
   "cell_type": "code",
   "execution_count": 50,
   "metadata": {
    "collapsed": true
   },
   "outputs": [
    {
     "data": {
      "text/plain": [
       "<selenium.webdriver.remote.webelement.WebElement (session=\"c6a2f0b4886d26b2a71d9ac99581adbf\", element=\"e39c14f0-2c40-4a75-9f7c-f7bbe519b90d\")>"
      ]
     },
     "execution_count": 50,
     "metadata": {},
     "output_type": "execute_result"
    }
   ],
   "source": [
    "search_btn = driver.find_element_by_xpath(\"//button[@class='btn']\")\n",
    "search_btn"
   ]
  },
  {
   "cell_type": "code",
   "execution_count": 51,
   "metadata": {},
   "outputs": [],
   "source": [
    "search_btn.click()"
   ]
  },
  {
   "cell_type": "code",
   "execution_count": 54,
   "metadata": {},
   "outputs": [],
   "source": [
    "location_filter = driver.find_element_by_xpath('/html/body/div[1]/div[3]/div[2]/section[1]/div[2]/div[2]/div[2]/div[2]/label/p')\n",
    "location_filter.click()"
   ]
  },
  {
   "cell_type": "code",
   "execution_count": 56,
   "metadata": {},
   "outputs": [],
   "source": [
    "salary_filter = driver.find_element_by_xpath('/html/body/div[1]/div[3]/div[2]/section[1]/div[2]/div[3]/div[2]/div[2]/label/p')\n",
    "salary_filter.click()"
   ]
  },
  {
   "cell_type": "code",
   "execution_count": 57,
   "metadata": {
    "collapsed": true
   },
   "outputs": [
    {
     "data": {
      "text/plain": [
       "[<selenium.webdriver.remote.webelement.WebElement (session=\"c6a2f0b4886d26b2a71d9ac99581adbf\", element=\"5d71f637-1388-4fb4-8062-bcc7cbc85e24\")>,\n",
       " <selenium.webdriver.remote.webelement.WebElement (session=\"c6a2f0b4886d26b2a71d9ac99581adbf\", element=\"78029e6f-60cf-41a7-aab6-73af4234c47d\")>,\n",
       " <selenium.webdriver.remote.webelement.WebElement (session=\"c6a2f0b4886d26b2a71d9ac99581adbf\", element=\"f6d57644-9142-4802-baf1-e5ca20202466\")>,\n",
       " <selenium.webdriver.remote.webelement.WebElement (session=\"c6a2f0b4886d26b2a71d9ac99581adbf\", element=\"010b86f5-cc6f-4afa-94de-cdfa4582203a\")>,\n",
       " <selenium.webdriver.remote.webelement.WebElement (session=\"c6a2f0b4886d26b2a71d9ac99581adbf\", element=\"0ed1ec4c-b17c-49f1-87bf-98a23165820a\")>,\n",
       " <selenium.webdriver.remote.webelement.WebElement (session=\"c6a2f0b4886d26b2a71d9ac99581adbf\", element=\"c50f3d2c-f840-4e1d-8cf9-0f5cb18d713f\")>,\n",
       " <selenium.webdriver.remote.webelement.WebElement (session=\"c6a2f0b4886d26b2a71d9ac99581adbf\", element=\"f3e83404-a201-4934-9cd5-dff22ac3499a\")>,\n",
       " <selenium.webdriver.remote.webelement.WebElement (session=\"c6a2f0b4886d26b2a71d9ac99581adbf\", element=\"03915470-08b2-4139-84b7-7c361cfe870e\")>,\n",
       " <selenium.webdriver.remote.webelement.WebElement (session=\"c6a2f0b4886d26b2a71d9ac99581adbf\", element=\"63e27149-f875-4e50-8cda-d2cdf68be0e4\")>,\n",
       " <selenium.webdriver.remote.webelement.WebElement (session=\"c6a2f0b4886d26b2a71d9ac99581adbf\", element=\"5fa44d79-4525-4720-9904-efd684b086e7\")>]"
      ]
     },
     "execution_count": 57,
     "metadata": {},
     "output_type": "execute_result"
    }
   ],
   "source": [
    "titles_tags=driver.find_elements_by_xpath(\"//a[@class='title fw500 ellipsis']\")\n",
    "titles_tags[:10]"
   ]
  },
  {
   "cell_type": "code",
   "execution_count": 58,
   "metadata": {
    "collapsed": true
   },
   "outputs": [
    {
     "data": {
      "text/plain": [
       "['Only Fresher / Data Scientist / Data Analyst / Analytics - MNC OSC',\n",
       " 'Data Scientist / Data Analyst -Business Analyst',\n",
       " 'Data Scientist -Delhi',\n",
       " 'Data Scientist - Text NLP | Noida',\n",
       " 'Data Scientist',\n",
       " 'Data Scientist - Machine Learning/NLP',\n",
       " 'Data analytics / Data scientist intern (work from Home)',\n",
       " 'Chaayos is Looking For Data Scientist',\n",
       " 'Data Scientist',\n",
       " 'We are hiring- Data Scientist +Python- Noida']"
      ]
     },
     "execution_count": 58,
     "metadata": {},
     "output_type": "execute_result"
    }
   ],
   "source": [
    "job_titles=[]\n",
    "for i in titles_tags:\n",
    "    job_titles.append(i.text)\n",
    "job_titles[:10]"
   ]
  },
  {
   "cell_type": "code",
   "execution_count": 59,
   "metadata": {
    "collapsed": true
   },
   "outputs": [
    {
     "data": {
      "text/plain": [
       "[<selenium.webdriver.remote.webelement.WebElement (session=\"c6a2f0b4886d26b2a71d9ac99581adbf\", element=\"46acff74-a2bf-4172-b1d1-da2a63a30c92\")>,\n",
       " <selenium.webdriver.remote.webelement.WebElement (session=\"c6a2f0b4886d26b2a71d9ac99581adbf\", element=\"fd8d44ec-b5b8-450e-bd12-af9a04434b28\")>,\n",
       " <selenium.webdriver.remote.webelement.WebElement (session=\"c6a2f0b4886d26b2a71d9ac99581adbf\", element=\"14f49567-1c2b-46d7-b565-2f7b361f626c\")>,\n",
       " <selenium.webdriver.remote.webelement.WebElement (session=\"c6a2f0b4886d26b2a71d9ac99581adbf\", element=\"a2a6e6c7-f64c-42e8-81a1-cfba9551029e\")>,\n",
       " <selenium.webdriver.remote.webelement.WebElement (session=\"c6a2f0b4886d26b2a71d9ac99581adbf\", element=\"b70e6e06-733f-4f7a-b361-f4cb53004d14\")>,\n",
       " <selenium.webdriver.remote.webelement.WebElement (session=\"c6a2f0b4886d26b2a71d9ac99581adbf\", element=\"399eee92-58f4-4ba8-9e2a-90d0ce2687e9\")>,\n",
       " <selenium.webdriver.remote.webelement.WebElement (session=\"c6a2f0b4886d26b2a71d9ac99581adbf\", element=\"c24a23d1-54c6-4577-ac1d-500eee544ad6\")>,\n",
       " <selenium.webdriver.remote.webelement.WebElement (session=\"c6a2f0b4886d26b2a71d9ac99581adbf\", element=\"a922e8f4-7c2f-4308-bc56-34d6040f3ca6\")>,\n",
       " <selenium.webdriver.remote.webelement.WebElement (session=\"c6a2f0b4886d26b2a71d9ac99581adbf\", element=\"44ad41d4-a0a4-4573-9979-a8cd113a994c\")>,\n",
       " <selenium.webdriver.remote.webelement.WebElement (session=\"c6a2f0b4886d26b2a71d9ac99581adbf\", element=\"013526eb-1bee-442a-bac9-ae5453896422\")>]"
      ]
     },
     "execution_count": 59,
     "metadata": {},
     "output_type": "execute_result"
    }
   ],
   "source": [
    "location_tags=driver.find_elements_by_xpath(\"//li[@class='fleft grey-text br2 placeHolderLi location']//span\")\n",
    "location_tags[:10]"
   ]
  },
  {
   "cell_type": "code",
   "execution_count": 60,
   "metadata": {
    "collapsed": true
   },
   "outputs": [
    {
     "data": {
      "text/plain": [
       "['Noida, Gurgaon/Gurugram, Delhi / NCR',\n",
       " 'Mumbai, Hyderabad/Secunderabad, Pune, Gurgaon/Gurugram, Chennai, Bangalore/Bengaluru',\n",
       " 'New Delhi',\n",
       " 'Noida',\n",
       " 'Noida',\n",
       " 'Gurgaon/Gurugram',\n",
       " 'Kolkata, Bangalore/Bengaluru, Delhi / NCR',\n",
       " 'New Delhi',\n",
       " 'Mumbai, Gurgaon/Gurugram, Bangalore/Bengaluru',\n",
       " 'Noida, Gurgaon/Gurugram, Delhi / NCR']"
      ]
     },
     "execution_count": 60,
     "metadata": {},
     "output_type": "execute_result"
    }
   ],
   "source": [
    "location_list=[]\n",
    "for i in location_tags:\n",
    "    location_list.append(i.text)\n",
    "location_list[:10]"
   ]
  },
  {
   "cell_type": "code",
   "execution_count": 61,
   "metadata": {
    "collapsed": true
   },
   "outputs": [
    {
     "data": {
      "text/plain": [
       "[<selenium.webdriver.remote.webelement.WebElement (session=\"c6a2f0b4886d26b2a71d9ac99581adbf\", element=\"83817235-1f10-465b-a377-88d466f4b58c\")>,\n",
       " <selenium.webdriver.remote.webelement.WebElement (session=\"c6a2f0b4886d26b2a71d9ac99581adbf\", element=\"bdae4b09-8739-487b-8c5b-3ade34b950eb\")>,\n",
       " <selenium.webdriver.remote.webelement.WebElement (session=\"c6a2f0b4886d26b2a71d9ac99581adbf\", element=\"2841f5fa-8ca9-4e68-b2a7-12ea57d65bb8\")>,\n",
       " <selenium.webdriver.remote.webelement.WebElement (session=\"c6a2f0b4886d26b2a71d9ac99581adbf\", element=\"199e3221-5f79-4adb-98a0-2b11614ab227\")>,\n",
       " <selenium.webdriver.remote.webelement.WebElement (session=\"c6a2f0b4886d26b2a71d9ac99581adbf\", element=\"a8243bf7-105a-492b-a3cd-a1adc06afcdd\")>,\n",
       " <selenium.webdriver.remote.webelement.WebElement (session=\"c6a2f0b4886d26b2a71d9ac99581adbf\", element=\"2f8296fa-f0d6-494e-8e45-e760475ea393\")>,\n",
       " <selenium.webdriver.remote.webelement.WebElement (session=\"c6a2f0b4886d26b2a71d9ac99581adbf\", element=\"2549e73f-6243-468e-9f6d-f064bc7cc5cf\")>,\n",
       " <selenium.webdriver.remote.webelement.WebElement (session=\"c6a2f0b4886d26b2a71d9ac99581adbf\", element=\"70dbee98-cdce-48e9-bbec-644c0721eb39\")>,\n",
       " <selenium.webdriver.remote.webelement.WebElement (session=\"c6a2f0b4886d26b2a71d9ac99581adbf\", element=\"2a7ea62f-4650-4454-9128-9b6b1d290144\")>,\n",
       " <selenium.webdriver.remote.webelement.WebElement (session=\"c6a2f0b4886d26b2a71d9ac99581adbf\", element=\"c7b3496d-d73d-4118-a2e5-b8dd6726654d\")>]"
      ]
     },
     "execution_count": 61,
     "metadata": {},
     "output_type": "execute_result"
    }
   ],
   "source": [
    "company_tag=driver.find_elements_by_xpath(\"//a[@class='subTitle ellipsis fleft']\")\n",
    "company_tag[:10]"
   ]
  },
  {
   "cell_type": "code",
   "execution_count": 62,
   "metadata": {
    "collapsed": true
   },
   "outputs": [
    {
     "data": {
      "text/plain": [
       "['GABA Consultancy services',\n",
       " 'Inflexion Analytix Private Limited',\n",
       " 'CHANGE LEADERS CONSULTING',\n",
       " 'Acidaes Solutions Pvt. Ltd.',\n",
       " 'NEC CORPORATION INDIA PRIVATE LIMITED',\n",
       " 'TalPro',\n",
       " 'TalkValley LLC',\n",
       " 'Chaayos (Sunshine Teahouse Pvt. Ltd.)',\n",
       " 'Fractal Analytics',\n",
       " 'RANDSTAD INDIA PVT LTD']"
      ]
     },
     "execution_count": 62,
     "metadata": {},
     "output_type": "execute_result"
    }
   ],
   "source": [
    "company_name=[]\n",
    "for i in company_tag:\n",
    "    company_name.append(i.text)\n",
    "company_name[:10]"
   ]
  },
  {
   "cell_type": "code",
   "execution_count": 63,
   "metadata": {},
   "outputs": [
    {
     "name": "stdout",
     "output_type": "stream",
     "text": [
      "20 20 20\n"
     ]
    }
   ],
   "source": [
    "print(len(job_titles),len(company_name),len(location_list))"
   ]
  },
  {
   "cell_type": "code",
   "execution_count": 2,
   "metadata": {},
   "outputs": [],
   "source": [
    "import selenium\n",
    "import pandas as pd\n",
    "from selenium import webdriver"
   ]
  },
  {
   "cell_type": "code",
   "execution_count": 3,
   "metadata": {},
   "outputs": [],
   "source": [
    "driver = webdriver.Chrome(\"chromedriver.exe\")"
   ]
  },
  {
   "cell_type": "code",
   "execution_count": 4,
   "metadata": {},
   "outputs": [],
   "source": [
    "url = 'https://www.naukri.com/'\n",
    "driver.get(url)"
   ]
  },
  {
   "cell_type": "code",
   "execution_count": 5,
   "metadata": {
    "collapsed": true
   },
   "outputs": [
    {
     "data": {
      "text/plain": [
       "<selenium.webdriver.remote.webelement.WebElement (session=\"41cb7c172c7fd78f7e7c1748f53dffb0\", element=\"9dd4f9a4-2db0-4d7b-b4c4-d4d0be31f07a\")>"
      ]
     },
     "execution_count": 5,
     "metadata": {},
     "output_type": "execute_result"
    }
   ],
   "source": [
    "search_job = driver.find_element_by_xpath('/html/body/div[1]/div[3]/div[2]/section/div/form/div[1]/div/div/div/div[1]/div[2]/input')\n",
    "search_job"
   ]
  },
  {
   "cell_type": "code",
   "execution_count": 6,
   "metadata": {},
   "outputs": [],
   "source": [
    "search_job.send_keys(\"Data scientist\")"
   ]
  },
  {
   "cell_type": "code",
   "execution_count": 7,
   "metadata": {
    "collapsed": true
   },
   "outputs": [
    {
     "data": {
      "text/plain": [
       "<selenium.webdriver.remote.webelement.WebElement (session=\"41cb7c172c7fd78f7e7c1748f53dffb0\", element=\"fc840260-e3e7-414a-bf9d-4539eb8801ad\")>"
      ]
     },
     "execution_count": 7,
     "metadata": {},
     "output_type": "execute_result"
    }
   ],
   "source": [
    "search_btn = driver.find_element_by_xpath(\"//button[@class='btn']\")\n",
    "search_btn"
   ]
  },
  {
   "cell_type": "code",
   "execution_count": 8,
   "metadata": {},
   "outputs": [],
   "source": [
    "search_btn.click()"
   ]
  },
  {
   "cell_type": "code",
   "execution_count": 9,
   "metadata": {},
   "outputs": [],
   "source": [
    "location_filter = driver.find_element_by_xpath('/html/body/div[1]/div[3]/div[2]/section[1]/div[2]/div[2]/div[2]/div[2]/label/p')\n",
    "location_filter.click()"
   ]
  },
  {
   "cell_type": "code",
   "execution_count": 10,
   "metadata": {},
   "outputs": [],
   "source": [
    "salary_filter = driver.find_element_by_xpath('/html/body/div[1]/div[3]/div[2]/section[1]/div[2]/div[3]/div[2]/div[2]/label/p')\n",
    "salary_filter.click()"
   ]
  },
  {
   "cell_type": "code",
   "execution_count": 11,
   "metadata": {
    "collapsed": true
   },
   "outputs": [
    {
     "data": {
      "text/plain": [
       "[<selenium.webdriver.remote.webelement.WebElement (session=\"41cb7c172c7fd78f7e7c1748f53dffb0\", element=\"ab3eda7e-8ac3-4782-abb7-aa871f030236\")>,\n",
       " <selenium.webdriver.remote.webelement.WebElement (session=\"41cb7c172c7fd78f7e7c1748f53dffb0\", element=\"4d60d421-16b4-4c15-b958-23a4e6dc72f0\")>,\n",
       " <selenium.webdriver.remote.webelement.WebElement (session=\"41cb7c172c7fd78f7e7c1748f53dffb0\", element=\"c1721ac6-c437-49a3-a9b8-18d28ae6a5d6\")>,\n",
       " <selenium.webdriver.remote.webelement.WebElement (session=\"41cb7c172c7fd78f7e7c1748f53dffb0\", element=\"4969e0bc-fdc7-45fa-b2a9-b771d1e03829\")>,\n",
       " <selenium.webdriver.remote.webelement.WebElement (session=\"41cb7c172c7fd78f7e7c1748f53dffb0\", element=\"2f6e921f-65a1-4823-9dd9-5b2da854360d\")>,\n",
       " <selenium.webdriver.remote.webelement.WebElement (session=\"41cb7c172c7fd78f7e7c1748f53dffb0\", element=\"5ba4a504-bfb5-4f52-904d-6eb10c1126f1\")>,\n",
       " <selenium.webdriver.remote.webelement.WebElement (session=\"41cb7c172c7fd78f7e7c1748f53dffb0\", element=\"23081c5f-ea62-471d-bb1e-07a8c3243726\")>,\n",
       " <selenium.webdriver.remote.webelement.WebElement (session=\"41cb7c172c7fd78f7e7c1748f53dffb0\", element=\"1c288530-72f1-4c89-ba4b-3a5081bff775\")>,\n",
       " <selenium.webdriver.remote.webelement.WebElement (session=\"41cb7c172c7fd78f7e7c1748f53dffb0\", element=\"6391fa49-450c-4554-b53b-816bbc1ffb2d\")>,\n",
       " <selenium.webdriver.remote.webelement.WebElement (session=\"41cb7c172c7fd78f7e7c1748f53dffb0\", element=\"662a86cb-a17d-4d7f-b045-2dea053e2819\")>]"
      ]
     },
     "execution_count": 11,
     "metadata": {},
     "output_type": "execute_result"
    }
   ],
   "source": [
    "titles_tags=driver.find_elements_by_xpath(\"//a[@class='title fw500 ellipsis']\")\n",
    "titles_tags[:10]"
   ]
  },
  {
   "cell_type": "code",
   "execution_count": 12,
   "metadata": {
    "collapsed": true
   },
   "outputs": [
    {
     "data": {
      "text/plain": [
       "['Data Scientist - Machine Learning/ NLP',\n",
       " 'Only Fresher / Data Scientist / Data Analyst / Analytics - MNC OSC',\n",
       " 'Data Scientist / Data Analyst -Business Analyst',\n",
       " 'Data Scientist - Text NLP | Noida',\n",
       " 'Data Scientist - Machine Learning/NLP',\n",
       " 'Data Scientist - Machine Learning/NLP',\n",
       " 'Data analytics / Data scientist intern (work from Home)',\n",
       " 'Chaayos is Looking For Data Scientist',\n",
       " 'Data Scientist',\n",
       " 'We are hiring- Data Scientist +Python- Noida']"
      ]
     },
     "execution_count": 12,
     "metadata": {},
     "output_type": "execute_result"
    }
   ],
   "source": [
    "job_titles=[]\n",
    "for i in titles_tags:\n",
    "    job_titles.append(i.text)\n",
    "job_titles[:10]"
   ]
  },
  {
   "cell_type": "code",
   "execution_count": 13,
   "metadata": {
    "collapsed": true
   },
   "outputs": [
    {
     "data": {
      "text/plain": [
       "[<selenium.webdriver.remote.webelement.WebElement (session=\"41cb7c172c7fd78f7e7c1748f53dffb0\", element=\"982600b6-c213-4808-8bb2-36400c6ded80\")>,\n",
       " <selenium.webdriver.remote.webelement.WebElement (session=\"41cb7c172c7fd78f7e7c1748f53dffb0\", element=\"0e2e4dda-e3be-4c92-a19e-c166e164e9e4\")>,\n",
       " <selenium.webdriver.remote.webelement.WebElement (session=\"41cb7c172c7fd78f7e7c1748f53dffb0\", element=\"56c1ed82-2f5a-48f2-80e8-a6befd3ec575\")>,\n",
       " <selenium.webdriver.remote.webelement.WebElement (session=\"41cb7c172c7fd78f7e7c1748f53dffb0\", element=\"d38fe89c-29e9-452e-a353-0c364b761e69\")>,\n",
       " <selenium.webdriver.remote.webelement.WebElement (session=\"41cb7c172c7fd78f7e7c1748f53dffb0\", element=\"90694c54-ff95-41db-88f6-6d95ce92d6ba\")>,\n",
       " <selenium.webdriver.remote.webelement.WebElement (session=\"41cb7c172c7fd78f7e7c1748f53dffb0\", element=\"3e8a9a02-d467-4bc5-9bc4-8fc766aade9e\")>,\n",
       " <selenium.webdriver.remote.webelement.WebElement (session=\"41cb7c172c7fd78f7e7c1748f53dffb0\", element=\"634df1a2-6d86-4c34-b8b3-67b0f6f15c96\")>,\n",
       " <selenium.webdriver.remote.webelement.WebElement (session=\"41cb7c172c7fd78f7e7c1748f53dffb0\", element=\"75beeee1-fbad-4d29-91bf-b40585dd83c1\")>,\n",
       " <selenium.webdriver.remote.webelement.WebElement (session=\"41cb7c172c7fd78f7e7c1748f53dffb0\", element=\"f6422dc9-4743-496c-a75d-bba9eb1b6d9e\")>,\n",
       " <selenium.webdriver.remote.webelement.WebElement (session=\"41cb7c172c7fd78f7e7c1748f53dffb0\", element=\"c6f2845b-4d43-40fc-bc03-847c5cfa9c8f\")>]"
      ]
     },
     "execution_count": 13,
     "metadata": {},
     "output_type": "execute_result"
    }
   ],
   "source": [
    "location_tags=driver.find_elements_by_xpath(\"//li[@class='fleft grey-text br2 placeHolderLi location']//span\")\n",
    "location_tags[:10]"
   ]
  },
  {
   "cell_type": "code",
   "execution_count": 14,
   "metadata": {
    "collapsed": true
   },
   "outputs": [
    {
     "data": {
      "text/plain": [
       "['Gurgaon/Gurugram',\n",
       " 'Noida, Gurgaon/Gurugram, Delhi / NCR',\n",
       " 'Mumbai, Hyderabad/Secunderabad, Pune, Gurgaon/Gurugram, Chennai, Bangalore/Bengaluru',\n",
       " 'Noida',\n",
       " 'Gurgaon/Gurugram',\n",
       " 'Gurgaon/Gurugram',\n",
       " 'Kolkata, Bangalore/Bengaluru, Delhi / NCR',\n",
       " 'New Delhi',\n",
       " 'Mumbai, Gurgaon/Gurugram, Bangalore/Bengaluru',\n",
       " 'Noida, Gurgaon/Gurugram, Delhi / NCR']"
      ]
     },
     "execution_count": 14,
     "metadata": {},
     "output_type": "execute_result"
    }
   ],
   "source": [
    "location_list=[]\n",
    "for i in location_tags:\n",
    "    location_list.append(i.text)\n",
    "location_list[:10]"
   ]
  },
  {
   "cell_type": "code",
   "execution_count": 15,
   "metadata": {
    "collapsed": true
   },
   "outputs": [
    {
     "data": {
      "text/plain": [
       "[<selenium.webdriver.remote.webelement.WebElement (session=\"41cb7c172c7fd78f7e7c1748f53dffb0\", element=\"2f101a6f-4dd9-43cd-91e7-74d9ba8d2356\")>,\n",
       " <selenium.webdriver.remote.webelement.WebElement (session=\"41cb7c172c7fd78f7e7c1748f53dffb0\", element=\"3fca2814-9e3e-45ed-8ed4-b56d98fbc12b\")>,\n",
       " <selenium.webdriver.remote.webelement.WebElement (session=\"41cb7c172c7fd78f7e7c1748f53dffb0\", element=\"35fa6a8c-8b1a-42c3-9736-8ac4ed520045\")>,\n",
       " <selenium.webdriver.remote.webelement.WebElement (session=\"41cb7c172c7fd78f7e7c1748f53dffb0\", element=\"e3756d26-6969-4fc8-a953-4129ac79f68c\")>,\n",
       " <selenium.webdriver.remote.webelement.WebElement (session=\"41cb7c172c7fd78f7e7c1748f53dffb0\", element=\"4bfb0ddc-4228-47ad-beb8-773ec0bd56ba\")>,\n",
       " <selenium.webdriver.remote.webelement.WebElement (session=\"41cb7c172c7fd78f7e7c1748f53dffb0\", element=\"2100f130-f6bb-4bd1-9545-19f3f936ae6f\")>,\n",
       " <selenium.webdriver.remote.webelement.WebElement (session=\"41cb7c172c7fd78f7e7c1748f53dffb0\", element=\"aae59375-05d0-4458-bd6d-d894d47776f7\")>,\n",
       " <selenium.webdriver.remote.webelement.WebElement (session=\"41cb7c172c7fd78f7e7c1748f53dffb0\", element=\"f4e6b2f9-4ede-432d-bfa8-e1abc779c920\")>,\n",
       " <selenium.webdriver.remote.webelement.WebElement (session=\"41cb7c172c7fd78f7e7c1748f53dffb0\", element=\"0340f590-3441-494a-89a5-3edccaba0df1\")>,\n",
       " <selenium.webdriver.remote.webelement.WebElement (session=\"41cb7c172c7fd78f7e7c1748f53dffb0\", element=\"2306969f-9b1c-4bce-8a96-ef1d808ca9f9\")>]"
      ]
     },
     "execution_count": 15,
     "metadata": {},
     "output_type": "execute_result"
    }
   ],
   "source": [
    "company_tag=driver.find_elements_by_xpath(\"//a[@class='subTitle ellipsis fleft']\")\n",
    "company_tag[:10]"
   ]
  },
  {
   "cell_type": "code",
   "execution_count": 16,
   "metadata": {
    "collapsed": true
   },
   "outputs": [
    {
     "data": {
      "text/plain": [
       "['TalPro',\n",
       " 'GABA Consultancy services',\n",
       " 'Inflexion Analytix Private Limited',\n",
       " 'Acidaes Solutions Pvt. Ltd.',\n",
       " 'TalPro',\n",
       " 'TalPro',\n",
       " 'TalkValley LLC',\n",
       " 'Chaayos (Sunshine Teahouse Pvt. Ltd.)',\n",
       " 'Fractal Analytics',\n",
       " 'RANDSTAD INDIA PVT LTD']"
      ]
     },
     "execution_count": 16,
     "metadata": {},
     "output_type": "execute_result"
    }
   ],
   "source": [
    "company_name=[]\n",
    "for i in company_tag:\n",
    "    company_name.append(i.text)\n",
    "company_name[:10]"
   ]
  },
  {
   "cell_type": "code",
   "execution_count": 17,
   "metadata": {
    "collapsed": true
   },
   "outputs": [
    {
     "data": {
      "text/plain": [
       "[<selenium.webdriver.remote.webelement.WebElement (session=\"41cb7c172c7fd78f7e7c1748f53dffb0\", element=\"ad3d660f-2ae5-4672-82da-d7496f7112e7\")>,\n",
       " <selenium.webdriver.remote.webelement.WebElement (session=\"41cb7c172c7fd78f7e7c1748f53dffb0\", element=\"079a61ea-33b4-4903-84ac-f94b84a90adb\")>,\n",
       " <selenium.webdriver.remote.webelement.WebElement (session=\"41cb7c172c7fd78f7e7c1748f53dffb0\", element=\"3951eb38-4567-473a-9314-b752ca2cd1c8\")>,\n",
       " <selenium.webdriver.remote.webelement.WebElement (session=\"41cb7c172c7fd78f7e7c1748f53dffb0\", element=\"c7fa37fa-e3d5-4f74-b5eb-9a02c6c9d346\")>,\n",
       " <selenium.webdriver.remote.webelement.WebElement (session=\"41cb7c172c7fd78f7e7c1748f53dffb0\", element=\"a136b05b-9a00-4912-8c7d-fc4de79c00e2\")>,\n",
       " <selenium.webdriver.remote.webelement.WebElement (session=\"41cb7c172c7fd78f7e7c1748f53dffb0\", element=\"19ff5882-f9ef-4184-bdc1-851f9b0e3923\")>,\n",
       " <selenium.webdriver.remote.webelement.WebElement (session=\"41cb7c172c7fd78f7e7c1748f53dffb0\", element=\"449391af-6cde-4a22-8e95-77f367762bd9\")>,\n",
       " <selenium.webdriver.remote.webelement.WebElement (session=\"41cb7c172c7fd78f7e7c1748f53dffb0\", element=\"f5750157-2895-4a44-bb79-a944e41ab2f1\")>,\n",
       " <selenium.webdriver.remote.webelement.WebElement (session=\"41cb7c172c7fd78f7e7c1748f53dffb0\", element=\"750e7070-a966-4e0c-8500-a47354f2131b\")>,\n",
       " <selenium.webdriver.remote.webelement.WebElement (session=\"41cb7c172c7fd78f7e7c1748f53dffb0\", element=\"a0224bfd-6424-4903-b4d2-d29429ea123e\")>]"
      ]
     },
     "execution_count": 17,
     "metadata": {},
     "output_type": "execute_result"
    }
   ],
   "source": [
    "Experience_tag=driver.find_elements_by_xpath(\"//li[@class='fleft grey-text br2 placeHolderLi experience']\")\n",
    "Experience_tag[:10]"
   ]
  },
  {
   "cell_type": "code",
   "execution_count": 18,
   "metadata": {
    "collapsed": true
   },
   "outputs": [
    {
     "data": {
      "text/plain": [
       "['2-6 Yrs',\n",
       " '0-0 Yrs',\n",
       " '0-3 Yrs',\n",
       " '3-5 Yrs',\n",
       " '2-6 Yrs',\n",
       " '2-4 Yrs',\n",
       " '0-5 Yrs',\n",
       " '0-5 Yrs',\n",
       " '3-7 Yrs',\n",
       " '4-7 Yrs']"
      ]
     },
     "execution_count": 18,
     "metadata": {},
     "output_type": "execute_result"
    }
   ],
   "source": [
    "Experience=[]\n",
    "for i in Experience_tag:\n",
    "    Experience.append(i.text)\n",
    "Experience[:10]"
   ]
  },
  {
   "cell_type": "code",
   "execution_count": 19,
   "metadata": {
    "collapsed": true
   },
   "outputs": [
    {
     "name": "stdout",
     "output_type": "stream",
     "text": [
      "20 20 20 20\n"
     ]
    }
   ],
   "source": [
    "print(len(job_titles),len(company_name),len(location_list),len(Experience_tag))"
   ]
  },
  {
   "cell_type": "code",
   "execution_count": 22,
   "metadata": {},
   "outputs": [],
   "source": [
    "jobs=pd.DataFrame({})\n",
    "jobs['title']=job_titles[:10]\n",
    "jobs['company']=company_name[:10]\n",
    "jobs['location']=location_list[:10]\n",
    "jobs['Experience_tag']=Experience[:10]"
   ]
  },
  {
   "cell_type": "code",
   "execution_count": 23,
   "metadata": {
    "collapsed": true
   },
   "outputs": [
    {
     "data": {
      "text/html": [
       "<div>\n",
       "<style scoped>\n",
       "    .dataframe tbody tr th:only-of-type {\n",
       "        vertical-align: middle;\n",
       "    }\n",
       "\n",
       "    .dataframe tbody tr th {\n",
       "        vertical-align: top;\n",
       "    }\n",
       "\n",
       "    .dataframe thead th {\n",
       "        text-align: right;\n",
       "    }\n",
       "</style>\n",
       "<table border=\"1\" class=\"dataframe\">\n",
       "  <thead>\n",
       "    <tr style=\"text-align: right;\">\n",
       "      <th></th>\n",
       "      <th>title</th>\n",
       "      <th>company</th>\n",
       "      <th>location</th>\n",
       "      <th>Experience_tag</th>\n",
       "    </tr>\n",
       "  </thead>\n",
       "  <tbody>\n",
       "    <tr>\n",
       "      <th>0</th>\n",
       "      <td>Data Scientist - Machine Learning/ NLP</td>\n",
       "      <td>TalPro</td>\n",
       "      <td>Gurgaon/Gurugram</td>\n",
       "      <td>2-6 Yrs</td>\n",
       "    </tr>\n",
       "    <tr>\n",
       "      <th>1</th>\n",
       "      <td>Only Fresher / Data Scientist / Data Analyst /...</td>\n",
       "      <td>GABA Consultancy services</td>\n",
       "      <td>Noida, Gurgaon/Gurugram, Delhi / NCR</td>\n",
       "      <td>0-0 Yrs</td>\n",
       "    </tr>\n",
       "    <tr>\n",
       "      <th>2</th>\n",
       "      <td>Data Scientist / Data Analyst -Business Analyst</td>\n",
       "      <td>Inflexion Analytix Private Limited</td>\n",
       "      <td>Mumbai, Hyderabad/Secunderabad, Pune, Gurgaon/...</td>\n",
       "      <td>0-3 Yrs</td>\n",
       "    </tr>\n",
       "    <tr>\n",
       "      <th>3</th>\n",
       "      <td>Data Scientist - Text NLP | Noida</td>\n",
       "      <td>Acidaes Solutions Pvt. Ltd.</td>\n",
       "      <td>Noida</td>\n",
       "      <td>3-5 Yrs</td>\n",
       "    </tr>\n",
       "    <tr>\n",
       "      <th>4</th>\n",
       "      <td>Data Scientist - Machine Learning/NLP</td>\n",
       "      <td>TalPro</td>\n",
       "      <td>Gurgaon/Gurugram</td>\n",
       "      <td>2-6 Yrs</td>\n",
       "    </tr>\n",
       "    <tr>\n",
       "      <th>5</th>\n",
       "      <td>Data Scientist - Machine Learning/NLP</td>\n",
       "      <td>TalPro</td>\n",
       "      <td>Gurgaon/Gurugram</td>\n",
       "      <td>2-4 Yrs</td>\n",
       "    </tr>\n",
       "    <tr>\n",
       "      <th>6</th>\n",
       "      <td>Data analytics / Data scientist intern (work f...</td>\n",
       "      <td>TalkValley LLC</td>\n",
       "      <td>Kolkata, Bangalore/Bengaluru, Delhi / NCR</td>\n",
       "      <td>0-5 Yrs</td>\n",
       "    </tr>\n",
       "    <tr>\n",
       "      <th>7</th>\n",
       "      <td>Chaayos is Looking For Data Scientist</td>\n",
       "      <td>Chaayos (Sunshine Teahouse Pvt. Ltd.)</td>\n",
       "      <td>New Delhi</td>\n",
       "      <td>0-5 Yrs</td>\n",
       "    </tr>\n",
       "    <tr>\n",
       "      <th>8</th>\n",
       "      <td>Data Scientist</td>\n",
       "      <td>Fractal Analytics</td>\n",
       "      <td>Mumbai, Gurgaon/Gurugram, Bangalore/Bengaluru</td>\n",
       "      <td>3-7 Yrs</td>\n",
       "    </tr>\n",
       "    <tr>\n",
       "      <th>9</th>\n",
       "      <td>We are hiring- Data Scientist +Python- Noida</td>\n",
       "      <td>RANDSTAD INDIA PVT LTD</td>\n",
       "      <td>Noida, Gurgaon/Gurugram, Delhi / NCR</td>\n",
       "      <td>4-7 Yrs</td>\n",
       "    </tr>\n",
       "  </tbody>\n",
       "</table>\n",
       "</div>"
      ],
      "text/plain": [
       "                                               title  \\\n",
       "0             Data Scientist - Machine Learning/ NLP   \n",
       "1  Only Fresher / Data Scientist / Data Analyst /...   \n",
       "2    Data Scientist / Data Analyst -Business Analyst   \n",
       "3                  Data Scientist - Text NLP | Noida   \n",
       "4              Data Scientist - Machine Learning/NLP   \n",
       "5              Data Scientist - Machine Learning/NLP   \n",
       "6  Data analytics / Data scientist intern (work f...   \n",
       "7              Chaayos is Looking For Data Scientist   \n",
       "8                                     Data Scientist   \n",
       "9       We are hiring- Data Scientist +Python- Noida   \n",
       "\n",
       "                                 company  \\\n",
       "0                                 TalPro   \n",
       "1              GABA Consultancy services   \n",
       "2     Inflexion Analytix Private Limited   \n",
       "3            Acidaes Solutions Pvt. Ltd.   \n",
       "4                                 TalPro   \n",
       "5                                 TalPro   \n",
       "6                         TalkValley LLC   \n",
       "7  Chaayos (Sunshine Teahouse Pvt. Ltd.)   \n",
       "8                      Fractal Analytics   \n",
       "9                 RANDSTAD INDIA PVT LTD   \n",
       "\n",
       "                                            location Experience_tag  \n",
       "0                                   Gurgaon/Gurugram        2-6 Yrs  \n",
       "1               Noida, Gurgaon/Gurugram, Delhi / NCR        0-0 Yrs  \n",
       "2  Mumbai, Hyderabad/Secunderabad, Pune, Gurgaon/...        0-3 Yrs  \n",
       "3                                              Noida        3-5 Yrs  \n",
       "4                                   Gurgaon/Gurugram        2-6 Yrs  \n",
       "5                                   Gurgaon/Gurugram        2-4 Yrs  \n",
       "6          Kolkata, Bangalore/Bengaluru, Delhi / NCR        0-5 Yrs  \n",
       "7                                          New Delhi        0-5 Yrs  \n",
       "8      Mumbai, Gurgaon/Gurugram, Bangalore/Bengaluru        3-7 Yrs  \n",
       "9               Noida, Gurgaon/Gurugram, Delhi / NCR        4-7 Yrs  "
      ]
     },
     "execution_count": 23,
     "metadata": {},
     "output_type": "execute_result"
    }
   ],
   "source": [
    "jobs"
   ]
  },
  {
   "cell_type": "markdown",
   "metadata": {},
   "source": [
    "#Q6 : Scrape data of first 100 sunglasses listings on flipkart.com. You have to \n",
    "scrape four attributes:\n",
    "1. Brand\n",
    "2. Product Description\n",
    "3. Price\n",
    "4. Discount %\n",
    "The attributes which you have to scrape is ticked marked in the below image.\n",
    "To scrape the data you have to go through following steps:\n",
    "1. Go to flipkart webpage by url https://www.flipkart.com/\n",
    "2. Enter “sunglasses” in the search field where “search for products, brands and \n",
    "more” is written and click the search icon\n",
    "3. after that you will reach to a webpage having a lot of sunglasses. From this page \n",
    "you can scrap the required data as usual.\n",
    "4. after scraping data from the first page, go to the “Next” Button at the bottom of \n",
    "the page , then click on itWEB SCRAPING ASSIGNMENT-2\n",
    ".\n",
    "5. Now scrape data from this page as usual\n",
    "6. repeat this until you get data for 100 sunglasses."
   ]
  },
  {
   "cell_type": "code",
   "execution_count": 25,
   "metadata": {},
   "outputs": [],
   "source": [
    "url = 'https://www.flipkart.com/'\n",
    "driver.get(url)"
   ]
  },
  {
   "cell_type": "code",
   "execution_count": 27,
   "metadata": {
    "collapsed": true
   },
   "outputs": [
    {
     "data": {
      "text/plain": [
       "<selenium.webdriver.remote.webelement.WebElement (session=\"41cb7c172c7fd78f7e7c1748f53dffb0\", element=\"4e9d3798-0e17-4bce-bb5a-a8bc72472fbf\")>"
      ]
     },
     "execution_count": 27,
     "metadata": {},
     "output_type": "execute_result"
    }
   ],
   "source": [
    "search_product = driver.find_element_by_xpath('/html/body/div[1]/div/div[1]/div[1]/div[2]/div[2]/form/div/div/input')\n",
    "search_product"
   ]
  },
  {
   "cell_type": "code",
   "execution_count": 28,
   "metadata": {},
   "outputs": [],
   "source": [
    "search_product.send_keys(\"sunglasses\")"
   ]
  },
  {
   "cell_type": "code",
   "execution_count": 30,
   "metadata": {
    "collapsed": true
   },
   "outputs": [
    {
     "data": {
      "text/plain": [
       "<selenium.webdriver.remote.webelement.WebElement (session=\"41cb7c172c7fd78f7e7c1748f53dffb0\", element=\"69df76c7-fee4-4529-9063-eecc44a5b781\")>"
      ]
     },
     "execution_count": 30,
     "metadata": {},
     "output_type": "execute_result"
    }
   ],
   "source": [
    "search_btn = driver.find_element_by_xpath(\"//button[@class='L0Z3Pu']\")\n",
    "search_btn"
   ]
  },
  {
   "cell_type": "code",
   "execution_count": 31,
   "metadata": {},
   "outputs": [],
   "source": [
    "search_btn.click()"
   ]
  },
  {
   "cell_type": "code",
   "execution_count": 32,
   "metadata": {},
   "outputs": [],
   "source": [
    "Brand_filter = driver.find_element_by_xpath('/html/body/div[1]/div/div[3]/div[1]/div[1]/div/div[1]/div/section[4]/div[2]/div[1]/div[2]/div/label/div[2]')\n",
    "Brand_filter.click()"
   ]
  },
  {
   "cell_type": "code",
   "execution_count": 33,
   "metadata": {
    "collapsed": true
   },
   "outputs": [
    {
     "data": {
      "text/plain": [
       "[<selenium.webdriver.remote.webelement.WebElement (session=\"41cb7c172c7fd78f7e7c1748f53dffb0\", element=\"7c98c7c6-baaa-4f09-8112-c367c815d051\")>,\n",
       " <selenium.webdriver.remote.webelement.WebElement (session=\"41cb7c172c7fd78f7e7c1748f53dffb0\", element=\"0085bfa8-39a9-4ecf-b9dd-32e770755f25\")>,\n",
       " <selenium.webdriver.remote.webelement.WebElement (session=\"41cb7c172c7fd78f7e7c1748f53dffb0\", element=\"373fff62-0b48-414f-994e-29d4dcae172f\")>,\n",
       " <selenium.webdriver.remote.webelement.WebElement (session=\"41cb7c172c7fd78f7e7c1748f53dffb0\", element=\"ec61a587-ef76-4011-bdb9-60f94b813d74\")>,\n",
       " <selenium.webdriver.remote.webelement.WebElement (session=\"41cb7c172c7fd78f7e7c1748f53dffb0\", element=\"5fe3ef46-6b85-4787-8fc8-196df7d4cdaa\")>,\n",
       " <selenium.webdriver.remote.webelement.WebElement (session=\"41cb7c172c7fd78f7e7c1748f53dffb0\", element=\"ea52c0af-4189-4b07-8f92-1fa6b1651e53\")>,\n",
       " <selenium.webdriver.remote.webelement.WebElement (session=\"41cb7c172c7fd78f7e7c1748f53dffb0\", element=\"454d3af3-ef94-4d75-92b6-8a12bf29ce05\")>,\n",
       " <selenium.webdriver.remote.webelement.WebElement (session=\"41cb7c172c7fd78f7e7c1748f53dffb0\", element=\"1e41e3f3-d5d7-4ed6-bc6f-05b650cd38f5\")>,\n",
       " <selenium.webdriver.remote.webelement.WebElement (session=\"41cb7c172c7fd78f7e7c1748f53dffb0\", element=\"9a9e1350-54c1-4ab0-8d79-0567d8b40ebf\")>,\n",
       " <selenium.webdriver.remote.webelement.WebElement (session=\"41cb7c172c7fd78f7e7c1748f53dffb0\", element=\"a0754552-9d01-4769-821b-4cb3c6237f89\")>,\n",
       " <selenium.webdriver.remote.webelement.WebElement (session=\"41cb7c172c7fd78f7e7c1748f53dffb0\", element=\"0366aba4-1535-484a-ab05-5dd103fc2ec4\")>,\n",
       " <selenium.webdriver.remote.webelement.WebElement (session=\"41cb7c172c7fd78f7e7c1748f53dffb0\", element=\"ac2a8d3f-1ebd-45ba-9866-490cc6d3eea8\")>,\n",
       " <selenium.webdriver.remote.webelement.WebElement (session=\"41cb7c172c7fd78f7e7c1748f53dffb0\", element=\"e9d28422-8f4e-43d9-bf3d-369f71c6db2a\")>,\n",
       " <selenium.webdriver.remote.webelement.WebElement (session=\"41cb7c172c7fd78f7e7c1748f53dffb0\", element=\"65f4c084-692c-416f-9dcc-e24920442ecb\")>,\n",
       " <selenium.webdriver.remote.webelement.WebElement (session=\"41cb7c172c7fd78f7e7c1748f53dffb0\", element=\"430aa38c-cd62-4d1b-a1d7-42028cad7c9c\")>,\n",
       " <selenium.webdriver.remote.webelement.WebElement (session=\"41cb7c172c7fd78f7e7c1748f53dffb0\", element=\"bca338db-3e15-40a7-9373-cda841dfcc29\")>,\n",
       " <selenium.webdriver.remote.webelement.WebElement (session=\"41cb7c172c7fd78f7e7c1748f53dffb0\", element=\"44c559ad-2fda-45dd-9a1c-7b750cc37e8f\")>,\n",
       " <selenium.webdriver.remote.webelement.WebElement (session=\"41cb7c172c7fd78f7e7c1748f53dffb0\", element=\"2476bdbf-1bc4-4b19-8a03-1aa3f75d97ec\")>,\n",
       " <selenium.webdriver.remote.webelement.WebElement (session=\"41cb7c172c7fd78f7e7c1748f53dffb0\", element=\"e41f4c76-424e-40e8-8c1f-7c55ab3f4f1d\")>,\n",
       " <selenium.webdriver.remote.webelement.WebElement (session=\"41cb7c172c7fd78f7e7c1748f53dffb0\", element=\"232e7e61-415d-4251-ba72-e202ba76bef7\")>,\n",
       " <selenium.webdriver.remote.webelement.WebElement (session=\"41cb7c172c7fd78f7e7c1748f53dffb0\", element=\"eb3286e4-a259-43d3-b02e-06b40abc4a1b\")>,\n",
       " <selenium.webdriver.remote.webelement.WebElement (session=\"41cb7c172c7fd78f7e7c1748f53dffb0\", element=\"1f9c1e80-c6a7-40fd-8a6f-848df368ef86\")>,\n",
       " <selenium.webdriver.remote.webelement.WebElement (session=\"41cb7c172c7fd78f7e7c1748f53dffb0\", element=\"61ef043a-54f2-4f6e-ad2b-186dc056d3bd\")>,\n",
       " <selenium.webdriver.remote.webelement.WebElement (session=\"41cb7c172c7fd78f7e7c1748f53dffb0\", element=\"5f5964ba-ffd9-468b-b6fb-7a3bc687a59b\")>,\n",
       " <selenium.webdriver.remote.webelement.WebElement (session=\"41cb7c172c7fd78f7e7c1748f53dffb0\", element=\"6b5c500f-5d77-4d12-98f0-9a4fb8278536\")>,\n",
       " <selenium.webdriver.remote.webelement.WebElement (session=\"41cb7c172c7fd78f7e7c1748f53dffb0\", element=\"833f910f-b735-4d7a-8a4f-f61f4b0c5203\")>,\n",
       " <selenium.webdriver.remote.webelement.WebElement (session=\"41cb7c172c7fd78f7e7c1748f53dffb0\", element=\"639e90c9-3b4f-42b5-94cf-7afbac6df875\")>,\n",
       " <selenium.webdriver.remote.webelement.WebElement (session=\"41cb7c172c7fd78f7e7c1748f53dffb0\", element=\"1d40878c-63b6-41c7-bf89-07ae2dc1883d\")>,\n",
       " <selenium.webdriver.remote.webelement.WebElement (session=\"41cb7c172c7fd78f7e7c1748f53dffb0\", element=\"69a37686-57c9-4c90-adaa-94b15894e0cb\")>,\n",
       " <selenium.webdriver.remote.webelement.WebElement (session=\"41cb7c172c7fd78f7e7c1748f53dffb0\", element=\"033373bc-2f51-4919-88ba-5ac34400dd37\")>,\n",
       " <selenium.webdriver.remote.webelement.WebElement (session=\"41cb7c172c7fd78f7e7c1748f53dffb0\", element=\"d18ce4b2-6cb3-4a51-aa4a-9289b9330295\")>,\n",
       " <selenium.webdriver.remote.webelement.WebElement (session=\"41cb7c172c7fd78f7e7c1748f53dffb0\", element=\"dc3e2c71-ab56-46bc-afdd-803b3b5c0f0b\")>,\n",
       " <selenium.webdriver.remote.webelement.WebElement (session=\"41cb7c172c7fd78f7e7c1748f53dffb0\", element=\"e2a84d1e-5da4-4b9f-b606-93bffb8571cc\")>,\n",
       " <selenium.webdriver.remote.webelement.WebElement (session=\"41cb7c172c7fd78f7e7c1748f53dffb0\", element=\"ec4aa8f3-f1ac-444e-bd7c-5503fea2a6eb\")>,\n",
       " <selenium.webdriver.remote.webelement.WebElement (session=\"41cb7c172c7fd78f7e7c1748f53dffb0\", element=\"3b32fe09-7f92-4a4f-94f6-5156827361d4\")>,\n",
       " <selenium.webdriver.remote.webelement.WebElement (session=\"41cb7c172c7fd78f7e7c1748f53dffb0\", element=\"88b2c749-3cc5-42f0-a0c3-fb5aafd839a0\")>,\n",
       " <selenium.webdriver.remote.webelement.WebElement (session=\"41cb7c172c7fd78f7e7c1748f53dffb0\", element=\"c6932563-d133-42b8-a285-e7b41cfe82fe\")>,\n",
       " <selenium.webdriver.remote.webelement.WebElement (session=\"41cb7c172c7fd78f7e7c1748f53dffb0\", element=\"0c161fe4-c7e3-4e50-83fb-f0acd18d086c\")>,\n",
       " <selenium.webdriver.remote.webelement.WebElement (session=\"41cb7c172c7fd78f7e7c1748f53dffb0\", element=\"31a41bb4-5b5c-4e7f-bd50-5500d328f119\")>,\n",
       " <selenium.webdriver.remote.webelement.WebElement (session=\"41cb7c172c7fd78f7e7c1748f53dffb0\", element=\"f069a931-79ae-45e4-931e-7f79468c38a1\")>]"
      ]
     },
     "execution_count": 33,
     "metadata": {},
     "output_type": "execute_result"
    }
   ],
   "source": [
    "Brand_tags=driver.find_elements_by_xpath(\"//div[@class='_2WkVRV']\")\n",
    "Brand_tags"
   ]
  },
  {
   "cell_type": "code",
   "execution_count": 69,
   "metadata": {
    "collapsed": true
   },
   "outputs": [
    {
     "data": {
      "text/plain": [
       "['Fastrack',\n",
       " 'Fastrack',\n",
       " 'Fastrack',\n",
       " 'Fastrack',\n",
       " 'Fastrack',\n",
       " 'Fastrack',\n",
       " 'Fastrack',\n",
       " 'Fastrack',\n",
       " 'Fastrack',\n",
       " 'Fastrack',\n",
       " 'Fastrack',\n",
       " 'Fastrack',\n",
       " 'Fastrack',\n",
       " 'Fastrack',\n",
       " 'Fastrack',\n",
       " 'Fastrack',\n",
       " 'Fastrack',\n",
       " 'Fastrack',\n",
       " 'Fastrack',\n",
       " 'Fastrack',\n",
       " 'Fastrack',\n",
       " 'Fastrack',\n",
       " 'Fastrack',\n",
       " 'Fastrack',\n",
       " 'Fastrack',\n",
       " 'Fastrack',\n",
       " 'Fastrack',\n",
       " 'Fastrack',\n",
       " 'Fastrack',\n",
       " 'Fastrack',\n",
       " 'Fastrack',\n",
       " 'Fastrack',\n",
       " 'Fastrack',\n",
       " 'Fastrack',\n",
       " 'Fastrack',\n",
       " 'Fastrack',\n",
       " 'Fastrack',\n",
       " 'Fastrack',\n",
       " 'Fastrack',\n",
       " 'Fastrack',\n",
       " 'Fastrack',\n",
       " 'Fastrack',\n",
       " 'Fastrack',\n",
       " 'Fastrack',\n",
       " 'Fastrack',\n",
       " 'Fastrack',\n",
       " 'Fastrack',\n",
       " 'Fastrack',\n",
       " 'Fastrack',\n",
       " 'Fastrack',\n",
       " 'Fastrack',\n",
       " 'Fastrack',\n",
       " 'Fastrack',\n",
       " 'Fastrack',\n",
       " 'Fastrack',\n",
       " 'Fastrack',\n",
       " 'Fastrack',\n",
       " 'Fastrack',\n",
       " 'Fastrack',\n",
       " 'Fastrack',\n",
       " 'Fastrack',\n",
       " 'Fastrack',\n",
       " 'Fastrack',\n",
       " 'Fastrack',\n",
       " 'Fastrack',\n",
       " 'Fastrack',\n",
       " 'Fastrack',\n",
       " 'Fastrack',\n",
       " 'Fastrack',\n",
       " 'Fastrack',\n",
       " 'Fastrack',\n",
       " 'Fastrack',\n",
       " 'Fastrack',\n",
       " 'Fastrack',\n",
       " 'Fastrack',\n",
       " 'Fastrack',\n",
       " 'Fastrack',\n",
       " 'Fastrack',\n",
       " 'Fastrack',\n",
       " 'Fastrack',\n",
       " 'Fastrack',\n",
       " 'Fastrack',\n",
       " 'Fastrack',\n",
       " 'Fastrack',\n",
       " 'Fastrack',\n",
       " 'Fastrack',\n",
       " 'Fastrack',\n",
       " 'Fastrack',\n",
       " 'Fastrack',\n",
       " 'Fastrack',\n",
       " 'Fastrack',\n",
       " 'Fastrack',\n",
       " 'Fastrack',\n",
       " 'Fastrack',\n",
       " 'Fastrack',\n",
       " 'Fastrack',\n",
       " 'Fastrack',\n",
       " 'Fastrack',\n",
       " 'Fastrack',\n",
       " 'Fastrack',\n",
       " 'Fastrack',\n",
       " 'Fastrack',\n",
       " 'Fastrack',\n",
       " 'Fastrack',\n",
       " 'Fastrack',\n",
       " 'Fastrack',\n",
       " 'Fastrack',\n",
       " 'Fastrack',\n",
       " 'Fastrack',\n",
       " 'Fastrack',\n",
       " 'Fastrack',\n",
       " 'Fastrack',\n",
       " 'Fastrack',\n",
       " 'Fastrack',\n",
       " 'Fastrack',\n",
       " 'Fastrack',\n",
       " 'Fastrack',\n",
       " 'Fastrack',\n",
       " 'Fastrack',\n",
       " 'Fastrack',\n",
       " 'Fastrack',\n",
       " 'Fastrack',\n",
       " 'Fastrack',\n",
       " 'Fastrack',\n",
       " 'Fastrack',\n",
       " 'Fastrack',\n",
       " 'Fastrack',\n",
       " 'Fastrack',\n",
       " 'Fastrack',\n",
       " 'Fastrack',\n",
       " 'Fastrack',\n",
       " 'Fastrack',\n",
       " 'Fastrack',\n",
       " 'Fastrack',\n",
       " 'Fastrack',\n",
       " 'Fastrack',\n",
       " 'Fastrack',\n",
       " 'Fastrack',\n",
       " 'Fastrack',\n",
       " 'Fastrack',\n",
       " 'Fastrack',\n",
       " 'Fastrack',\n",
       " 'Fastrack',\n",
       " 'Fastrack',\n",
       " 'Fastrack',\n",
       " 'Fastrack',\n",
       " 'Fastrack',\n",
       " 'Fastrack',\n",
       " 'Fastrack',\n",
       " 'Fastrack',\n",
       " 'Fastrack',\n",
       " 'Fastrack',\n",
       " 'Fastrack',\n",
       " 'Fastrack',\n",
       " 'Fastrack',\n",
       " 'Fastrack',\n",
       " 'Fastrack',\n",
       " 'Fastrack',\n",
       " 'Fastrack',\n",
       " 'Fastrack',\n",
       " 'Fastrack',\n",
       " 'Fastrack',\n",
       " 'Fastrack',\n",
       " 'Fastrack',\n",
       " 'Fastrack',\n",
       " 'Fastrack',\n",
       " 'Fastrack',\n",
       " 'Fastrack',\n",
       " 'Fastrack',\n",
       " 'Fastrack',\n",
       " 'Fastrack',\n",
       " 'Fastrack',\n",
       " 'Fastrack',\n",
       " 'Fastrack',\n",
       " 'Fastrack',\n",
       " 'Fastrack',\n",
       " 'Fastrack',\n",
       " 'Fastrack',\n",
       " 'Fastrack',\n",
       " 'Fastrack',\n",
       " 'Fastrack',\n",
       " 'Fastrack',\n",
       " 'Fastrack',\n",
       " 'Fastrack',\n",
       " 'Fastrack',\n",
       " 'Fastrack',\n",
       " 'Fastrack',\n",
       " 'Fastrack',\n",
       " 'Fastrack',\n",
       " 'Fastrack',\n",
       " 'Fastrack',\n",
       " 'Fastrack',\n",
       " 'Fastrack',\n",
       " 'Fastrack',\n",
       " 'Fastrack',\n",
       " 'Fastrack',\n",
       " 'Fastrack',\n",
       " 'Fastrack',\n",
       " 'Fastrack',\n",
       " 'Fastrack',\n",
       " 'Fastrack',\n",
       " 'Fastrack',\n",
       " 'Fastrack',\n",
       " 'Fastrack',\n",
       " 'Fastrack',\n",
       " 'Fastrack',\n",
       " 'Fastrack',\n",
       " 'Fastrack',\n",
       " 'Fastrack',\n",
       " 'Fastrack',\n",
       " 'Fastrack',\n",
       " 'Fastrack',\n",
       " 'Fastrack',\n",
       " 'Fastrack',\n",
       " 'Fastrack',\n",
       " 'Fastrack',\n",
       " 'Fastrack',\n",
       " 'Fastrack',\n",
       " 'Fastrack',\n",
       " 'Fastrack',\n",
       " 'Fastrack',\n",
       " 'Fastrack',\n",
       " 'Fastrack',\n",
       " 'Fastrack',\n",
       " 'Fastrack',\n",
       " 'Fastrack',\n",
       " 'Fastrack',\n",
       " 'Fastrack',\n",
       " 'Fastrack',\n",
       " 'Fastrack',\n",
       " 'Fastrack',\n",
       " 'Fastrack',\n",
       " 'Fastrack',\n",
       " 'Fastrack',\n",
       " 'Fastrack',\n",
       " 'Fastrack',\n",
       " 'Fastrack',\n",
       " 'Fastrack',\n",
       " 'Fastrack',\n",
       " 'Fastrack',\n",
       " 'Fastrack',\n",
       " 'Fastrack',\n",
       " 'Fastrack',\n",
       " 'Fastrack',\n",
       " 'Fastrack',\n",
       " 'Fastrack',\n",
       " 'Fastrack',\n",
       " 'Fastrack',\n",
       " 'Fastrack',\n",
       " 'Fastrack',\n",
       " 'Fastrack',\n",
       " 'Fastrack',\n",
       " 'Fastrack',\n",
       " 'Fastrack',\n",
       " 'Fastrack',\n",
       " 'Fastrack',\n",
       " 'Fastrack',\n",
       " 'Fastrack',\n",
       " 'Fastrack',\n",
       " 'Fastrack',\n",
       " 'Fastrack',\n",
       " 'Fastrack',\n",
       " 'Fastrack',\n",
       " 'Fastrack',\n",
       " 'Fastrack',\n",
       " 'Fastrack',\n",
       " 'Fastrack',\n",
       " 'Fastrack',\n",
       " 'Fastrack',\n",
       " 'Fastrack',\n",
       " 'Fastrack',\n",
       " 'Fastrack',\n",
       " 'Fastrack',\n",
       " 'Fastrack',\n",
       " 'Fastrack',\n",
       " 'Fastrack',\n",
       " 'Fastrack',\n",
       " 'Fastrack',\n",
       " 'Fastrack',\n",
       " 'Fastrack',\n",
       " 'Fastrack',\n",
       " 'Fastrack',\n",
       " 'Fastrack',\n",
       " 'Fastrack',\n",
       " 'Fastrack',\n",
       " 'Fastrack',\n",
       " 'Fastrack',\n",
       " 'Fastrack',\n",
       " 'Fastrack',\n",
       " 'Fastrack',\n",
       " 'Fastrack',\n",
       " 'Fastrack',\n",
       " 'Fastrack',\n",
       " 'Fastrack',\n",
       " 'Fastrack',\n",
       " 'Fastrack',\n",
       " 'Fastrack',\n",
       " 'Fastrack',\n",
       " 'Fastrack',\n",
       " 'Fastrack',\n",
       " 'Fastrack',\n",
       " 'Fastrack',\n",
       " 'Fastrack',\n",
       " 'Fastrack',\n",
       " 'Fastrack',\n",
       " 'Fastrack',\n",
       " 'Fastrack',\n",
       " 'Fastrack',\n",
       " 'Fastrack',\n",
       " 'Fastrack',\n",
       " 'Fastrack',\n",
       " 'Fastrack',\n",
       " 'Fastrack',\n",
       " 'Fastrack',\n",
       " 'Fastrack',\n",
       " 'Fastrack',\n",
       " 'Fastrack',\n",
       " 'Fastrack',\n",
       " 'Fastrack',\n",
       " 'Fastrack',\n",
       " 'Fastrack',\n",
       " 'Fastrack',\n",
       " 'Fastrack',\n",
       " 'Fastrack',\n",
       " 'Fastrack',\n",
       " 'Fastrack',\n",
       " 'Fastrack',\n",
       " 'Fastrack',\n",
       " 'Fastrack',\n",
       " 'Fastrack',\n",
       " 'Fastrack',\n",
       " 'Fastrack',\n",
       " 'Fastrack',\n",
       " 'Fastrack',\n",
       " 'Fastrack',\n",
       " 'Fastrack',\n",
       " 'Fastrack',\n",
       " 'Fastrack',\n",
       " 'Fastrack',\n",
       " 'Fastrack',\n",
       " 'Fastrack',\n",
       " 'Fastrack',\n",
       " 'Fastrack',\n",
       " 'Fastrack',\n",
       " 'Fastrack',\n",
       " 'Fastrack',\n",
       " 'Fastrack',\n",
       " 'Fastrack',\n",
       " 'Fastrack',\n",
       " 'Fastrack',\n",
       " 'Fastrack',\n",
       " 'Fastrack',\n",
       " 'Fastrack',\n",
       " 'Fastrack',\n",
       " 'Fastrack',\n",
       " 'Fastrack',\n",
       " 'Fastrack',\n",
       " 'Fastrack',\n",
       " 'Fastrack',\n",
       " 'Fastrack',\n",
       " 'Fastrack',\n",
       " 'Fastrack',\n",
       " 'Fastrack',\n",
       " 'Fastrack',\n",
       " 'Fastrack',\n",
       " 'Fastrack',\n",
       " 'Fastrack',\n",
       " 'Fastrack',\n",
       " 'Fastrack',\n",
       " 'Fastrack',\n",
       " 'Fastrack',\n",
       " 'Fastrack',\n",
       " 'Fastrack',\n",
       " 'Fastrack',\n",
       " 'Fastrack',\n",
       " 'Fastrack',\n",
       " 'Fastrack',\n",
       " 'Fastrack',\n",
       " 'Fastrack',\n",
       " 'Fastrack',\n",
       " 'Fastrack',\n",
       " 'Fastrack',\n",
       " 'Fastrack',\n",
       " 'Fastrack',\n",
       " 'Fastrack',\n",
       " 'Fastrack',\n",
       " 'Fastrack',\n",
       " 'Fastrack',\n",
       " 'Fastrack',\n",
       " 'Fastrack',\n",
       " 'Fastrack',\n",
       " 'Fastrack',\n",
       " 'Fastrack',\n",
       " 'Fastrack',\n",
       " 'Fastrack',\n",
       " 'Fastrack',\n",
       " 'Fastrack',\n",
       " 'Fastrack',\n",
       " 'Fastrack',\n",
       " 'Fastrack',\n",
       " 'Fastrack',\n",
       " 'Fastrack',\n",
       " 'Fastrack',\n",
       " 'Fastrack',\n",
       " 'Fastrack',\n",
       " 'Fastrack',\n",
       " 'Fastrack',\n",
       " 'Fastrack',\n",
       " 'Fastrack',\n",
       " 'Fastrack',\n",
       " 'Fastrack',\n",
       " 'Fastrack',\n",
       " 'Fastrack',\n",
       " 'Fastrack',\n",
       " 'Fastrack',\n",
       " 'Fastrack',\n",
       " 'Fastrack',\n",
       " 'Fastrack',\n",
       " 'Fastrack',\n",
       " 'Fastrack',\n",
       " 'Fastrack',\n",
       " 'Fastrack',\n",
       " 'Fastrack',\n",
       " 'Fastrack',\n",
       " 'Fastrack',\n",
       " 'Fastrack',\n",
       " 'Fastrack',\n",
       " 'Fastrack',\n",
       " 'Fastrack',\n",
       " 'Fastrack',\n",
       " 'Fastrack',\n",
       " 'Fastrack',\n",
       " 'Fastrack',\n",
       " 'Fastrack',\n",
       " 'Fastrack',\n",
       " 'Fastrack',\n",
       " 'Fastrack',\n",
       " 'Fastrack',\n",
       " 'Fastrack',\n",
       " 'Fastrack']"
      ]
     },
     "execution_count": 69,
     "metadata": {},
     "output_type": "execute_result"
    }
   ],
   "source": [
    "Brand_list=[]\n",
    "for i in page_url:\n",
    "    driver.get(i)\n",
    "    Brand_tags=driver.find_elements_by_xpath(\"//div[@class='_2WkVRV']\")\n",
    "    for i in Brand_tags:\n",
    "        Brand_list.append(i.text)\n",
    "Brand_list"
   ]
  },
  {
   "cell_type": "code",
   "execution_count": 53,
   "metadata": {
    "collapsed": true
   },
   "outputs": [
    {
     "data": {
      "text/plain": [
       "['https://www.flipkart.com/search?q=sunglasses&otracker=search&otracker1=search&marketplace=FLIPKART&as-show=on&as=off&p%5B%5D=facets.brand%255B%255D%3DFastrack&page=1',\n",
       " 'https://www.flipkart.com/search?q=sunglasses&otracker=search&otracker1=search&marketplace=FLIPKART&as-show=on&as=off&p%5B%5D=facets.brand%255B%255D%3DFastrack&page=2',\n",
       " 'https://www.flipkart.com/search?q=sunglasses&otracker=search&otracker1=search&marketplace=FLIPKART&as-show=on&as=off&p%5B%5D=facets.brand%255B%255D%3DFastrack&page=3',\n",
       " 'https://www.flipkart.com/search?q=sunglasses&otracker=search&otracker1=search&marketplace=FLIPKART&as-show=on&as=off&p%5B%5D=facets.brand%255B%255D%3DFastrack&page=4',\n",
       " 'https://www.flipkart.com/search?q=sunglasses&otracker=search&otracker1=search&marketplace=FLIPKART&as-show=on&as=off&p%5B%5D=facets.brand%255B%255D%3DFastrack&page=5',\n",
       " 'https://www.flipkart.com/search?q=sunglasses&otracker=search&otracker1=search&marketplace=FLIPKART&as-show=on&as=off&p%5B%5D=facets.brand%255B%255D%3DFastrack&page=6',\n",
       " 'https://www.flipkart.com/search?q=sunglasses&otracker=search&otracker1=search&marketplace=FLIPKART&as-show=on&as=off&p%5B%5D=facets.brand%255B%255D%3DFastrack&page=7',\n",
       " 'https://www.flipkart.com/search?q=sunglasses&otracker=search&otracker1=search&marketplace=FLIPKART&as-show=on&as=off&p%5B%5D=facets.brand%255B%255D%3DFastrack&page=8',\n",
       " 'https://www.flipkart.com/search?q=sunglasses&otracker=search&otracker1=search&marketplace=FLIPKART&as-show=on&as=off&p%5B%5D=facets.brand%255B%255D%3DFastrack&page=9',\n",
       " 'https://www.flipkart.com/search?q=sunglasses&otracker=search&otracker1=search&marketplace=FLIPKART&as-show=on&as=off&p%5B%5D=facets.brand%255B%255D%3DFastrack&page=10',\n",
       " 'https://www.flipkart.com/search?q=sunglasses&otracker=search&otracker1=search&marketplace=FLIPKART&as-show=on&as=off&p%5B%5D=facets.brand%255B%255D%3DFastrack&page=2']"
      ]
     },
     "execution_count": 53,
     "metadata": {},
     "output_type": "execute_result"
    }
   ],
   "source": [
    "page_url = []\n",
    "url = driver.find_elements_by_xpath(\"//nav[@class='yFHi8N']//a\")\n",
    "for i in url:\n",
    "    page_url.append(i.get_attribute(\"href\"))\n",
    "page_url"
   ]
  },
  {
   "cell_type": "code",
   "execution_count": 56,
   "metadata": {
    "collapsed": true
   },
   "outputs": [
    {
     "data": {
      "text/plain": [
       "['Fastrack',\n",
       " 'Fastrack',\n",
       " 'Fastrack',\n",
       " 'Fastrack',\n",
       " 'Fastrack',\n",
       " 'Fastrack',\n",
       " 'Fastrack',\n",
       " 'Fastrack',\n",
       " 'Fastrack',\n",
       " 'Fastrack',\n",
       " 'Fastrack',\n",
       " 'Fastrack',\n",
       " 'Fastrack',\n",
       " 'Fastrack',\n",
       " 'Fastrack',\n",
       " 'Fastrack',\n",
       " 'Fastrack',\n",
       " 'Fastrack',\n",
       " 'Fastrack',\n",
       " 'Fastrack',\n",
       " 'Fastrack',\n",
       " 'Fastrack',\n",
       " 'Fastrack',\n",
       " 'Fastrack',\n",
       " 'Fastrack',\n",
       " 'Fastrack',\n",
       " 'Fastrack',\n",
       " 'Fastrack',\n",
       " 'Fastrack',\n",
       " 'Fastrack',\n",
       " 'Fastrack',\n",
       " 'Fastrack',\n",
       " 'Fastrack',\n",
       " 'Fastrack',\n",
       " 'Fastrack',\n",
       " 'Fastrack',\n",
       " 'Fastrack',\n",
       " 'Fastrack',\n",
       " 'Fastrack',\n",
       " 'Fastrack',\n",
       " 'Fastrack',\n",
       " 'Fastrack',\n",
       " 'Fastrack',\n",
       " 'Fastrack',\n",
       " 'Fastrack',\n",
       " 'Fastrack',\n",
       " 'Fastrack',\n",
       " 'Fastrack',\n",
       " 'Fastrack',\n",
       " 'Fastrack',\n",
       " 'Fastrack',\n",
       " 'Fastrack',\n",
       " 'Fastrack',\n",
       " 'Fastrack',\n",
       " 'Fastrack',\n",
       " 'Fastrack',\n",
       " 'Fastrack',\n",
       " 'Fastrack',\n",
       " 'Fastrack',\n",
       " 'Fastrack',\n",
       " 'Fastrack',\n",
       " 'Fastrack',\n",
       " 'Fastrack',\n",
       " 'Fastrack',\n",
       " 'Fastrack',\n",
       " 'Fastrack',\n",
       " 'Fastrack',\n",
       " 'Fastrack',\n",
       " 'Fastrack',\n",
       " 'Fastrack',\n",
       " 'Fastrack',\n",
       " 'Fastrack',\n",
       " 'Fastrack',\n",
       " 'Fastrack',\n",
       " 'Fastrack',\n",
       " 'Fastrack',\n",
       " 'Fastrack',\n",
       " 'Fastrack',\n",
       " 'Fastrack',\n",
       " 'Fastrack',\n",
       " 'Fastrack',\n",
       " 'Fastrack',\n",
       " 'Fastrack',\n",
       " 'Fastrack',\n",
       " 'Fastrack',\n",
       " 'Fastrack',\n",
       " 'Fastrack',\n",
       " 'Fastrack',\n",
       " 'Fastrack',\n",
       " 'Fastrack',\n",
       " 'Fastrack',\n",
       " 'Fastrack',\n",
       " 'Fastrack',\n",
       " 'Fastrack',\n",
       " 'Fastrack',\n",
       " 'Fastrack',\n",
       " 'Fastrack',\n",
       " 'Fastrack',\n",
       " 'Fastrack',\n",
       " 'Fastrack',\n",
       " 'Fastrack',\n",
       " 'Fastrack',\n",
       " 'Fastrack',\n",
       " 'Fastrack',\n",
       " 'Fastrack',\n",
       " 'Fastrack',\n",
       " 'Fastrack',\n",
       " 'Fastrack',\n",
       " 'Fastrack',\n",
       " 'Fastrack',\n",
       " 'Fastrack',\n",
       " 'Fastrack',\n",
       " 'Fastrack',\n",
       " 'Fastrack',\n",
       " 'Fastrack',\n",
       " 'Fastrack',\n",
       " 'Fastrack',\n",
       " 'Fastrack',\n",
       " 'Fastrack',\n",
       " 'Fastrack',\n",
       " 'Fastrack',\n",
       " 'Fastrack',\n",
       " 'Fastrack',\n",
       " 'Fastrack',\n",
       " 'Fastrack',\n",
       " 'Fastrack',\n",
       " 'Fastrack',\n",
       " 'Fastrack',\n",
       " 'Fastrack',\n",
       " 'Fastrack',\n",
       " 'Fastrack',\n",
       " 'Fastrack',\n",
       " 'Fastrack',\n",
       " 'Fastrack',\n",
       " 'Fastrack',\n",
       " 'Fastrack',\n",
       " 'Fastrack',\n",
       " 'Fastrack',\n",
       " 'Fastrack',\n",
       " 'Fastrack',\n",
       " 'Fastrack',\n",
       " 'Fastrack',\n",
       " 'Fastrack',\n",
       " 'Fastrack',\n",
       " 'Fastrack',\n",
       " 'Fastrack',\n",
       " 'Fastrack',\n",
       " 'Fastrack',\n",
       " 'Fastrack',\n",
       " 'Fastrack',\n",
       " 'Fastrack',\n",
       " 'Fastrack',\n",
       " 'Fastrack',\n",
       " 'Fastrack',\n",
       " 'Fastrack',\n",
       " 'Fastrack',\n",
       " 'Fastrack',\n",
       " 'Fastrack',\n",
       " 'Fastrack',\n",
       " 'Fastrack',\n",
       " 'Fastrack',\n",
       " 'Fastrack',\n",
       " 'Fastrack',\n",
       " 'Fastrack',\n",
       " 'Fastrack',\n",
       " 'Fastrack',\n",
       " 'Fastrack',\n",
       " 'Fastrack',\n",
       " 'Fastrack',\n",
       " 'Fastrack',\n",
       " 'Fastrack',\n",
       " 'Fastrack',\n",
       " 'Fastrack',\n",
       " 'Fastrack',\n",
       " 'Fastrack',\n",
       " 'Fastrack',\n",
       " 'Fastrack',\n",
       " 'Fastrack',\n",
       " 'Fastrack',\n",
       " 'Fastrack',\n",
       " 'Fastrack',\n",
       " 'Fastrack',\n",
       " 'Fastrack',\n",
       " 'Fastrack',\n",
       " 'Fastrack',\n",
       " 'Fastrack',\n",
       " 'Fastrack',\n",
       " 'Fastrack',\n",
       " 'Fastrack',\n",
       " 'Fastrack',\n",
       " 'Fastrack',\n",
       " 'Fastrack',\n",
       " 'Fastrack',\n",
       " 'Fastrack',\n",
       " 'Fastrack',\n",
       " 'Fastrack',\n",
       " 'Fastrack',\n",
       " 'Fastrack',\n",
       " 'Fastrack',\n",
       " 'Fastrack',\n",
       " 'Fastrack',\n",
       " 'Fastrack',\n",
       " 'Fastrack',\n",
       " 'Fastrack',\n",
       " 'Fastrack',\n",
       " 'Fastrack',\n",
       " 'Fastrack',\n",
       " 'Fastrack',\n",
       " 'Fastrack',\n",
       " 'Fastrack',\n",
       " 'Fastrack',\n",
       " 'Fastrack',\n",
       " 'Fastrack',\n",
       " 'Fastrack',\n",
       " 'Fastrack',\n",
       " 'Fastrack',\n",
       " 'Fastrack',\n",
       " 'Fastrack',\n",
       " 'Fastrack',\n",
       " 'Fastrack',\n",
       " 'Fastrack',\n",
       " 'Fastrack',\n",
       " 'Fastrack',\n",
       " 'Fastrack',\n",
       " 'Fastrack',\n",
       " 'Fastrack',\n",
       " 'Fastrack',\n",
       " 'Fastrack',\n",
       " 'Fastrack',\n",
       " 'Fastrack',\n",
       " 'Fastrack',\n",
       " 'Fastrack',\n",
       " 'Fastrack',\n",
       " 'Fastrack',\n",
       " 'Fastrack',\n",
       " 'Fastrack',\n",
       " 'Fastrack',\n",
       " 'Fastrack',\n",
       " 'Fastrack',\n",
       " 'Fastrack',\n",
       " 'Fastrack',\n",
       " 'Fastrack',\n",
       " 'Fastrack',\n",
       " 'Fastrack',\n",
       " 'Fastrack',\n",
       " 'Fastrack',\n",
       " 'Fastrack',\n",
       " 'Fastrack',\n",
       " 'Fastrack',\n",
       " 'Fastrack',\n",
       " 'Fastrack',\n",
       " 'Fastrack',\n",
       " 'Fastrack',\n",
       " 'Fastrack',\n",
       " 'Fastrack',\n",
       " 'Fastrack',\n",
       " 'Fastrack',\n",
       " 'Fastrack',\n",
       " 'Fastrack',\n",
       " 'Fastrack',\n",
       " 'Fastrack',\n",
       " 'Fastrack',\n",
       " 'Fastrack',\n",
       " 'Fastrack',\n",
       " 'Fastrack',\n",
       " 'Fastrack',\n",
       " 'Fastrack',\n",
       " 'Fastrack',\n",
       " 'Fastrack',\n",
       " 'Fastrack',\n",
       " 'Fastrack',\n",
       " 'Fastrack',\n",
       " 'Fastrack',\n",
       " 'Fastrack',\n",
       " 'Fastrack',\n",
       " 'Fastrack',\n",
       " 'Fastrack',\n",
       " 'Fastrack',\n",
       " 'Fastrack',\n",
       " 'Fastrack',\n",
       " 'Fastrack',\n",
       " 'Fastrack',\n",
       " 'Fastrack',\n",
       " 'Fastrack',\n",
       " 'Fastrack',\n",
       " 'Fastrack',\n",
       " 'Fastrack',\n",
       " 'Fastrack',\n",
       " 'Fastrack',\n",
       " 'Fastrack',\n",
       " 'Fastrack',\n",
       " 'Fastrack',\n",
       " 'Fastrack',\n",
       " 'Fastrack',\n",
       " 'Fastrack',\n",
       " 'Fastrack',\n",
       " 'Fastrack',\n",
       " 'Fastrack',\n",
       " 'Fastrack',\n",
       " 'Fastrack',\n",
       " 'Fastrack',\n",
       " 'Fastrack',\n",
       " 'Fastrack',\n",
       " 'Fastrack',\n",
       " 'Fastrack',\n",
       " 'Fastrack',\n",
       " 'Fastrack',\n",
       " 'Fastrack',\n",
       " 'Fastrack',\n",
       " 'Fastrack',\n",
       " 'Fastrack',\n",
       " 'Fastrack',\n",
       " 'Fastrack',\n",
       " 'Fastrack',\n",
       " 'Fastrack',\n",
       " 'Fastrack',\n",
       " 'Fastrack',\n",
       " 'Fastrack',\n",
       " 'Fastrack',\n",
       " 'Fastrack',\n",
       " 'Fastrack',\n",
       " 'Fastrack',\n",
       " 'Fastrack',\n",
       " 'Fastrack',\n",
       " 'Fastrack',\n",
       " 'Fastrack',\n",
       " 'Fastrack',\n",
       " 'Fastrack',\n",
       " 'Fastrack',\n",
       " 'Fastrack',\n",
       " 'Fastrack',\n",
       " 'Fastrack',\n",
       " 'Fastrack',\n",
       " 'Fastrack',\n",
       " 'Fastrack',\n",
       " 'Fastrack',\n",
       " 'Fastrack',\n",
       " 'Fastrack',\n",
       " 'Fastrack',\n",
       " 'Fastrack',\n",
       " 'Fastrack',\n",
       " 'Fastrack',\n",
       " 'Fastrack',\n",
       " 'Fastrack',\n",
       " 'Fastrack',\n",
       " 'Fastrack',\n",
       " 'Fastrack',\n",
       " 'Fastrack',\n",
       " 'Fastrack',\n",
       " 'Fastrack',\n",
       " 'Fastrack',\n",
       " 'Fastrack',\n",
       " 'Fastrack',\n",
       " 'Fastrack',\n",
       " 'Fastrack',\n",
       " 'Fastrack',\n",
       " 'Fastrack',\n",
       " 'Fastrack',\n",
       " 'Fastrack',\n",
       " 'Fastrack',\n",
       " 'Fastrack',\n",
       " 'Fastrack',\n",
       " 'Fastrack',\n",
       " 'Fastrack',\n",
       " 'Fastrack',\n",
       " 'Fastrack',\n",
       " 'Fastrack',\n",
       " 'Fastrack',\n",
       " 'Fastrack',\n",
       " 'Fastrack',\n",
       " 'Fastrack',\n",
       " 'Fastrack',\n",
       " 'Fastrack',\n",
       " 'Fastrack',\n",
       " 'Fastrack',\n",
       " 'Fastrack',\n",
       " 'Fastrack',\n",
       " 'Fastrack',\n",
       " 'Fastrack',\n",
       " 'Fastrack',\n",
       " 'Fastrack',\n",
       " 'Fastrack',\n",
       " 'Fastrack',\n",
       " 'Fastrack',\n",
       " 'Fastrack',\n",
       " 'Fastrack',\n",
       " 'Fastrack',\n",
       " 'Fastrack',\n",
       " 'Fastrack',\n",
       " 'Fastrack',\n",
       " 'Fastrack',\n",
       " 'Fastrack',\n",
       " 'Fastrack',\n",
       " 'Fastrack',\n",
       " 'Fastrack',\n",
       " 'Fastrack',\n",
       " 'Fastrack',\n",
       " 'Fastrack',\n",
       " 'Fastrack',\n",
       " 'Fastrack',\n",
       " 'Fastrack',\n",
       " 'Fastrack',\n",
       " 'Fastrack',\n",
       " 'Fastrack',\n",
       " 'Fastrack',\n",
       " 'Fastrack',\n",
       " 'Fastrack',\n",
       " 'Fastrack',\n",
       " 'Fastrack',\n",
       " 'Fastrack',\n",
       " 'Fastrack',\n",
       " 'Fastrack',\n",
       " 'Fastrack',\n",
       " 'Fastrack',\n",
       " 'Fastrack',\n",
       " 'Fastrack',\n",
       " 'Fastrack',\n",
       " 'Fastrack',\n",
       " 'Fastrack',\n",
       " 'Fastrack',\n",
       " 'Fastrack',\n",
       " 'Fastrack',\n",
       " 'Fastrack',\n",
       " 'Fastrack',\n",
       " 'Fastrack',\n",
       " 'Fastrack',\n",
       " 'Fastrack',\n",
       " 'Fastrack',\n",
       " 'Fastrack',\n",
       " 'Fastrack',\n",
       " 'Fastrack',\n",
       " 'Fastrack',\n",
       " 'Fastrack',\n",
       " 'Fastrack',\n",
       " 'Fastrack',\n",
       " 'Fastrack',\n",
       " 'Fastrack',\n",
       " 'Fastrack',\n",
       " 'Fastrack',\n",
       " 'Fastrack']"
      ]
     },
     "execution_count": 56,
     "metadata": {},
     "output_type": "execute_result"
    }
   ],
   "source": [
    "Brand_list=[]\n",
    "for i in page_url:\n",
    "    driver.get(i)\n",
    "    Brand_tags=driver.find_elements_by_xpath(\"//div[@class='_2WkVRV']\")\n",
    "    for i in Brand_tags:\n",
    "        Brand_list.append(i.text)\n",
    "Brand_list"
   ]
  },
  {
   "cell_type": "code",
   "execution_count": 58,
   "metadata": {
    "collapsed": true
   },
   "outputs": [
    {
     "data": {
      "text/plain": [
       "[<selenium.webdriver.remote.webelement.WebElement (session=\"41cb7c172c7fd78f7e7c1748f53dffb0\", element=\"89d97cd2-3583-4070-99d8-0a80b1dc1117\")>,\n",
       " <selenium.webdriver.remote.webelement.WebElement (session=\"41cb7c172c7fd78f7e7c1748f53dffb0\", element=\"8c87abfa-d69f-4d9c-ada0-7161c0b2cad9\")>,\n",
       " <selenium.webdriver.remote.webelement.WebElement (session=\"41cb7c172c7fd78f7e7c1748f53dffb0\", element=\"c1331923-2dfd-4e9d-b467-b33f44ec3655\")>,\n",
       " <selenium.webdriver.remote.webelement.WebElement (session=\"41cb7c172c7fd78f7e7c1748f53dffb0\", element=\"328373b9-8da6-4494-87fd-3f992b134e1c\")>,\n",
       " <selenium.webdriver.remote.webelement.WebElement (session=\"41cb7c172c7fd78f7e7c1748f53dffb0\", element=\"16f97f59-d38f-4f37-92a5-4d16b862adcd\")>,\n",
       " <selenium.webdriver.remote.webelement.WebElement (session=\"41cb7c172c7fd78f7e7c1748f53dffb0\", element=\"7168d324-6d23-4cb8-ac52-9364faf7bce6\")>,\n",
       " <selenium.webdriver.remote.webelement.WebElement (session=\"41cb7c172c7fd78f7e7c1748f53dffb0\", element=\"3a096daf-1d3b-4f9e-ae8e-2a46aa76cd83\")>,\n",
       " <selenium.webdriver.remote.webelement.WebElement (session=\"41cb7c172c7fd78f7e7c1748f53dffb0\", element=\"2e7734b3-207a-4f63-8c58-14a4a9eec28b\")>,\n",
       " <selenium.webdriver.remote.webelement.WebElement (session=\"41cb7c172c7fd78f7e7c1748f53dffb0\", element=\"6aa26ca2-bb01-4348-8181-b2caf1c9b3ee\")>,\n",
       " <selenium.webdriver.remote.webelement.WebElement (session=\"41cb7c172c7fd78f7e7c1748f53dffb0\", element=\"b621d252-fc5a-417e-bb1b-2c3b839c88af\")>,\n",
       " <selenium.webdriver.remote.webelement.WebElement (session=\"41cb7c172c7fd78f7e7c1748f53dffb0\", element=\"48083117-2bd5-4b44-a169-310cef0518a6\")>,\n",
       " <selenium.webdriver.remote.webelement.WebElement (session=\"41cb7c172c7fd78f7e7c1748f53dffb0\", element=\"ec1ea37a-0dd0-4af6-95ed-541382ccf4d2\")>,\n",
       " <selenium.webdriver.remote.webelement.WebElement (session=\"41cb7c172c7fd78f7e7c1748f53dffb0\", element=\"d5331d1b-a40c-48d6-aa8d-bec0336d732a\")>,\n",
       " <selenium.webdriver.remote.webelement.WebElement (session=\"41cb7c172c7fd78f7e7c1748f53dffb0\", element=\"3abfc2ae-d630-47ad-bbee-aab378d8b6e3\")>,\n",
       " <selenium.webdriver.remote.webelement.WebElement (session=\"41cb7c172c7fd78f7e7c1748f53dffb0\", element=\"c15daa4b-5ce6-48e0-91ee-c1a36607afb9\")>,\n",
       " <selenium.webdriver.remote.webelement.WebElement (session=\"41cb7c172c7fd78f7e7c1748f53dffb0\", element=\"72274653-5620-4533-8857-9e1d538e0aed\")>,\n",
       " <selenium.webdriver.remote.webelement.WebElement (session=\"41cb7c172c7fd78f7e7c1748f53dffb0\", element=\"ce38d6c0-793d-46bc-bad1-ace592ae6a84\")>,\n",
       " <selenium.webdriver.remote.webelement.WebElement (session=\"41cb7c172c7fd78f7e7c1748f53dffb0\", element=\"834bbb1f-1865-4279-b490-335a7b8b3f21\")>,\n",
       " <selenium.webdriver.remote.webelement.WebElement (session=\"41cb7c172c7fd78f7e7c1748f53dffb0\", element=\"72b629ba-506b-43e8-8b69-fa762f5fb54e\")>,\n",
       " <selenium.webdriver.remote.webelement.WebElement (session=\"41cb7c172c7fd78f7e7c1748f53dffb0\", element=\"4d7307cf-5556-46fe-9cfa-dd6b08238a4c\")>,\n",
       " <selenium.webdriver.remote.webelement.WebElement (session=\"41cb7c172c7fd78f7e7c1748f53dffb0\", element=\"1e289c6d-048e-4b21-a5e8-f1ba10310725\")>,\n",
       " <selenium.webdriver.remote.webelement.WebElement (session=\"41cb7c172c7fd78f7e7c1748f53dffb0\", element=\"438c641d-b42d-4b92-8164-e9c2f5edb6c7\")>,\n",
       " <selenium.webdriver.remote.webelement.WebElement (session=\"41cb7c172c7fd78f7e7c1748f53dffb0\", element=\"ab9a6aa0-95af-4bd4-9d9f-d4e6ab5e6abd\")>,\n",
       " <selenium.webdriver.remote.webelement.WebElement (session=\"41cb7c172c7fd78f7e7c1748f53dffb0\", element=\"21912372-8a57-41a3-9128-720e2352f6b8\")>,\n",
       " <selenium.webdriver.remote.webelement.WebElement (session=\"41cb7c172c7fd78f7e7c1748f53dffb0\", element=\"ec3649b7-c19f-477e-b425-4843bb588c8f\")>,\n",
       " <selenium.webdriver.remote.webelement.WebElement (session=\"41cb7c172c7fd78f7e7c1748f53dffb0\", element=\"3b03fedd-631e-44c1-ac01-33563771778f\")>,\n",
       " <selenium.webdriver.remote.webelement.WebElement (session=\"41cb7c172c7fd78f7e7c1748f53dffb0\", element=\"9f95d14c-dffa-4469-8c6f-ed644b6f971d\")>,\n",
       " <selenium.webdriver.remote.webelement.WebElement (session=\"41cb7c172c7fd78f7e7c1748f53dffb0\", element=\"986429fa-68e9-47b4-ac2f-4d3f3370d314\")>,\n",
       " <selenium.webdriver.remote.webelement.WebElement (session=\"41cb7c172c7fd78f7e7c1748f53dffb0\", element=\"395ff0a7-6f69-47a6-a438-2f47cbab5fc3\")>,\n",
       " <selenium.webdriver.remote.webelement.WebElement (session=\"41cb7c172c7fd78f7e7c1748f53dffb0\", element=\"d938d246-a79f-4ebb-9019-7a4ebce1369a\")>,\n",
       " <selenium.webdriver.remote.webelement.WebElement (session=\"41cb7c172c7fd78f7e7c1748f53dffb0\", element=\"acb40670-23d7-46bc-820a-8b8a81a7189e\")>,\n",
       " <selenium.webdriver.remote.webelement.WebElement (session=\"41cb7c172c7fd78f7e7c1748f53dffb0\", element=\"e1ae827e-61b7-480f-b192-2dff7107e11e\")>,\n",
       " <selenium.webdriver.remote.webelement.WebElement (session=\"41cb7c172c7fd78f7e7c1748f53dffb0\", element=\"ebd545c6-da24-4de4-8cd9-fcc055210c0e\")>,\n",
       " <selenium.webdriver.remote.webelement.WebElement (session=\"41cb7c172c7fd78f7e7c1748f53dffb0\", element=\"3ca0ae38-b72d-4f39-9071-e474a5beee7d\")>,\n",
       " <selenium.webdriver.remote.webelement.WebElement (session=\"41cb7c172c7fd78f7e7c1748f53dffb0\", element=\"76727865-c3b7-4890-92ad-ec7c76bc8587\")>,\n",
       " <selenium.webdriver.remote.webelement.WebElement (session=\"41cb7c172c7fd78f7e7c1748f53dffb0\", element=\"a7686760-44c3-49a4-824b-b78931cd761f\")>,\n",
       " <selenium.webdriver.remote.webelement.WebElement (session=\"41cb7c172c7fd78f7e7c1748f53dffb0\", element=\"25f49570-f9e1-4964-b497-eb0fb967c899\")>,\n",
       " <selenium.webdriver.remote.webelement.WebElement (session=\"41cb7c172c7fd78f7e7c1748f53dffb0\", element=\"b1450680-3759-439d-b54f-9ab0f4a786ba\")>,\n",
       " <selenium.webdriver.remote.webelement.WebElement (session=\"41cb7c172c7fd78f7e7c1748f53dffb0\", element=\"4a3ec237-cf13-4d75-9681-20571d84d787\")>,\n",
       " <selenium.webdriver.remote.webelement.WebElement (session=\"41cb7c172c7fd78f7e7c1748f53dffb0\", element=\"d919867d-a187-433d-9c21-209e1b344ab7\")>]"
      ]
     },
     "execution_count": 58,
     "metadata": {},
     "output_type": "execute_result"
    }
   ],
   "source": [
    "Price_tags=driver.find_elements_by_xpath(\"//div[@class='_25b18c']\")\n",
    "Price_tags"
   ]
  },
  {
   "cell_type": "code",
   "execution_count": 61,
   "metadata": {
    "collapsed": true
   },
   "outputs": [
    {
     "data": {
      "text/plain": [
       "['₹404₹89955% off',\n",
       " '₹513₹79935% off',\n",
       " '₹509₹79936% off',\n",
       " '₹401₹89955% off',\n",
       " '₹587₹89934% off',\n",
       " '₹641₹89928% off',\n",
       " '₹499₹89944% off',\n",
       " '₹1,075₹1,29917% off',\n",
       " '₹729₹89918% off',\n",
       " '₹1,030₹1,29920% off',\n",
       " '₹503₹79937% off',\n",
       " '₹949₹1,29926% off',\n",
       " '₹1,058₹2,09949% off',\n",
       " '₹520₹79934% off',\n",
       " '₹748₹7996% off',\n",
       " '₹738₹99926% off',\n",
       " '₹721₹89919% off',\n",
       " '₹754₹89916% off',\n",
       " '₹568₹79928% off',\n",
       " '₹880₹1,29932% off',\n",
       " '₹739₹89917% off',\n",
       " '₹380₹79952% off',\n",
       " '₹542₹99945% off',\n",
       " '₹1,854₹1,9997% off',\n",
       " '₹630₹79921% off',\n",
       " '₹490₹1,09955% off',\n",
       " '₹506₹89943% off',\n",
       " '₹1,338₹1,3994% off',\n",
       " '₹734₹89918% off',\n",
       " '₹895',\n",
       " '₹675₹89924% off',\n",
       " '₹509₹79936% off',\n",
       " '₹1,969₹1,9991% off',\n",
       " '₹764₹89915% off',\n",
       " '₹1,009₹1,29922% off',\n",
       " '₹1,527₹1,89919% off',\n",
       " '₹2,229₹2,2993% off',\n",
       " '₹2,369₹2,4995% off',\n",
       " '₹1,999',\n",
       " '₹755₹89916% off',\n",
       " '₹1,133₹1,29912% off',\n",
       " '₹626₹79921% off',\n",
       " '₹770₹7993% off',\n",
       " '₹788₹89912% off',\n",
       " '₹1,601₹1,99919% off',\n",
       " '₹949₹9995% off',\n",
       " '₹1,010₹1,29922% off',\n",
       " '₹806₹1,29937% off',\n",
       " '₹683₹79914% off',\n",
       " '₹444₹89950% off',\n",
       " '₹756₹89915% off',\n",
       " '₹481₹2,89983% off',\n",
       " '₹457₹89949% off',\n",
       " '₹2,559₹2,6995% off',\n",
       " '₹1,663₹2,49933% off',\n",
       " '₹1,025₹2,89964% off',\n",
       " '₹467₹89948% off',\n",
       " '₹1,325₹2,09936% off',\n",
       " '₹695₹1,29946% off',\n",
       " '₹1,512₹1,99924% off',\n",
       " '₹694₹79913% off',\n",
       " '₹1,203₹1,99939% off',\n",
       " '₹2,140₹2,2996% off',\n",
       " '₹474₹79940% off',\n",
       " '₹592₹1,29954% off',\n",
       " '₹680₹89924% off',\n",
       " '₹1,371₹1,99931% off',\n",
       " '₹740₹89917% off',\n",
       " '₹491₹89945% off',\n",
       " '₹1,355₹2,59947% off',\n",
       " '₹1,381₹1,99930% off',\n",
       " '₹799',\n",
       " '₹812₹2,29964% off',\n",
       " '₹917₹1,39934% off',\n",
       " '₹1,910₹2,0999% off',\n",
       " '₹1,740₹1,7993% off',\n",
       " '₹1,609₹2,09923% off',\n",
       " '₹792₹89911% off',\n",
       " '₹1,605₹1,99919% off',\n",
       " '₹731₹7998% off',\n",
       " '₹1,514₹2,69943% off',\n",
       " '₹1,799',\n",
       " '₹2,430₹2,79913% off',\n",
       " '₹1,490₹2,49940% off',\n",
       " '₹2,659₹2,7995% off',\n",
       " '₹1,639₹1,99918% off',\n",
       " '₹1,199₹1,99940% off',\n",
       " '₹1,002₹1,29922% off',\n",
       " '₹1,999',\n",
       " '₹1,774₹1,8996% off',\n",
       " '₹991₹1,89947% off',\n",
       " '₹1,266₹1,49915% off',\n",
       " '₹978₹1,49934% off',\n",
       " '₹1,350₹1,59915% off',\n",
       " '₹1,667₹2,49933% off',\n",
       " '₹952₹1,09913% off',\n",
       " '₹1,762₹2,09916% off',\n",
       " '₹1,020₹1,29921% off',\n",
       " '₹763₹89915% off',\n",
       " '₹1,373₹1,69919% off',\n",
       " '₹2,899',\n",
       " '₹1,199₹1,49920% off',\n",
       " '₹1,583₹2,49936% off',\n",
       " '₹2,838₹2,8992% off',\n",
       " '₹2,485₹2,6997% off',\n",
       " '₹1,208₹2,29947% off',\n",
       " '₹1,044₹1,29919% off',\n",
       " '₹907₹1,29930% off',\n",
       " '₹2,799',\n",
       " '₹1,799',\n",
       " '₹1,990₹2,69926% off',\n",
       " '₹2,058₹2,29910% off',\n",
       " '₹949₹9995% off',\n",
       " '₹2,499',\n",
       " '₹544₹89939% off',\n",
       " '₹814₹1,69952% off',\n",
       " '₹1,688₹1,99915% off',\n",
       " '₹737₹1,49950% off',\n",
       " '₹808₹89910% off',\n",
       " '₹769₹89914% off',\n",
       " '₹814₹1,69952% off',\n",
       " '₹1,910₹1,9994% off',\n",
       " '₹1,139₹1,29912% off',\n",
       " '₹2,104₹2,89927% off',\n",
       " '₹1,962₹1,9991% off',\n",
       " '₹948₹9995% off',\n",
       " '₹2,180₹2,69919% off',\n",
       " '₹999',\n",
       " '₹863₹1,29933% off',\n",
       " '₹1,999',\n",
       " '₹2,179₹2,2995% off',\n",
       " '₹1,839₹2,29920% off',\n",
       " '₹900₹1,99954% off',\n",
       " '₹2,699',\n",
       " '₹575₹79928% off',\n",
       " '₹2,099',\n",
       " '₹2,499',\n",
       " '₹1,399₹2,09933% off',\n",
       " '₹1,470₹2,29936% off',\n",
       " '₹650₹79918% off',\n",
       " '₹1,995₹2,29913% off',\n",
       " '₹854₹99914% off',\n",
       " '₹1,930₹2,0998% off',\n",
       " '₹2,040₹2,29911% off',\n",
       " '₹1,419₹1,79921% off',\n",
       " '₹1,821₹1,9998% off',\n",
       " '₹1,722₹1,99913% off',\n",
       " '₹1,910₹1,9994% off',\n",
       " '₹834₹1,29935% off',\n",
       " '₹759₹7995% off',\n",
       " '₹1,487₹2,09929% off',\n",
       " '₹2,099',\n",
       " '₹1,376₹1,79923% off',\n",
       " '₹721₹1,99963% off',\n",
       " '₹1,559₹1,99922% off',\n",
       " '₹650₹79918% off',\n",
       " '₹1,439₹1,59910% off',\n",
       " '₹2,899',\n",
       " '₹1,980₹1,999',\n",
       " '₹1,599₹1,79911% off',\n",
       " '₹2,099',\n",
       " '₹607₹79924% off',\n",
       " '₹570₹79928% off',\n",
       " '₹1,008₹2,09951% off',\n",
       " '₹942₹1,69944% off',\n",
       " '₹2,499',\n",
       " '₹719₹79910% off',\n",
       " '₹1,499',\n",
       " '₹1,740₹1,8998% off',\n",
       " '₹888₹1,29931% off',\n",
       " '₹976₹1,39930% off',\n",
       " '₹2,899',\n",
       " '₹1,498₹1,69911% off',\n",
       " '₹1,758₹2,29923% off',\n",
       " '₹2,699',\n",
       " '₹1,709₹1,99914% off',\n",
       " '₹1,911₹2,49923% off',\n",
       " '₹1,911₹2,49923% off',\n",
       " '₹2,099',\n",
       " '₹2,299',\n",
       " '₹555₹79930% off',\n",
       " '₹1,452₹1,89923% off',\n",
       " '₹763₹1,09930% off',\n",
       " '₹850₹8995% off',\n",
       " '₹721₹99927% off',\n",
       " '₹1,045₹1,39925% off',\n",
       " '₹1,376₹1,79923% off',\n",
       " '₹1,949₹2,49922% off',\n",
       " '₹901₹1,29930% off',\n",
       " '₹1,694₹2,09919% off',\n",
       " '₹1,965₹2,29914% off',\n",
       " '₹1,758₹2,29923% off',\n",
       " '₹699₹79912% off',\n",
       " '₹1,039₹1,29920% off',\n",
       " '₹1,995₹2,69926% off',\n",
       " '₹799',\n",
       " '₹1,789',\n",
       " '₹1,519₹1,89920% off',\n",
       " '₹1,760₹1,99911% off',\n",
       " '₹1,699',\n",
       " '₹1,499',\n",
       " '₹1,950₹1,9992% off',\n",
       " '₹1,706₹2,09918% off',\n",
       " '₹1,155₹2,09944% off',\n",
       " '₹1,129₹1,39919% off',\n",
       " '₹683₹2,09967% off',\n",
       " '₹2,249₹2,49910% off',\n",
       " '₹2,699',\n",
       " '₹2,299',\n",
       " '₹1,799',\n",
       " '₹2,450₹2,4991% off',\n",
       " '₹2,374₹2,4995% off',\n",
       " '₹930₹9996% off',\n",
       " '₹1,299',\n",
       " '₹1,399',\n",
       " '₹854₹99914% off',\n",
       " '₹1,805₹2,09914% off',\n",
       " '₹1,999',\n",
       " '₹1,999',\n",
       " '₹714₹79910% off',\n",
       " '₹1,452₹1,89923% off',\n",
       " '₹1,799',\n",
       " '₹1,699',\n",
       " '₹1,026₹1,49931% off',\n",
       " '₹2,659₹2,7995% off',\n",
       " '₹645₹99935% off',\n",
       " '₹2,299',\n",
       " '₹1,899',\n",
       " '₹1,399',\n",
       " '₹2,064₹2,69923% off',\n",
       " '₹2,699',\n",
       " '₹1,426₹1,99528% off',\n",
       " '₹614₹89931% off',\n",
       " '₹962₹1,29925% off',\n",
       " '₹1,538₹1,79914% off',\n",
       " '₹2,295₹2,69914% off',\n",
       " '₹1,410₹1,4995% off',\n",
       " '₹1,694₹1,99915% off',\n",
       " '₹2,184₹2,2995% off',\n",
       " '₹1,363₹1,59514% off',\n",
       " '₹1,442₹1,69715% off',\n",
       " '₹1,799₹1,99910% off',\n",
       " '₹2,064₹2,69923% off',\n",
       " '₹1,093₹2,69959% off',\n",
       " '₹617₹69911% off',\n",
       " '₹1,919₹2,39920% off',\n",
       " '₹2,140₹2,2996% off',\n",
       " '₹1,911₹2,49923% off',\n",
       " '₹2,140₹2,2996% off',\n",
       " '₹1,799₹1,99910% off',\n",
       " '₹826₹99917% off',\n",
       " '₹2,136₹2,49914% off',\n",
       " '₹1,499',\n",
       " '₹1,622₹1,99918% off',\n",
       " '₹719₹79910% off',\n",
       " '₹1,110₹1,29914% off',\n",
       " '₹1,370₹1,59914% off',\n",
       " '₹1,653₹2,49933% off',\n",
       " '₹1,044₹1,0995% off',\n",
       " '₹2,099',\n",
       " '₹1,091₹1,29916% off',\n",
       " '₹1,799₹1,99910% off',\n",
       " '₹712₹79910% off',\n",
       " '₹2,899',\n",
       " '₹1,781₹1,7991% off',\n",
       " '₹1,709₹1,99914% off',\n",
       " '₹1,110₹1,29914% off',\n",
       " '₹2,099',\n",
       " '₹1,434₹1,69915% off',\n",
       " '₹1,299',\n",
       " '₹2,294₹2,69915% off',\n",
       " '₹1,161₹1,39917% off',\n",
       " '₹1,376₹1,79923% off',\n",
       " '₹1,599₹1,99920% off',\n",
       " '₹880₹1,69948% off',\n",
       " '₹683₹89924% off',\n",
       " '₹2,699',\n",
       " '₹1,299₹1,69923% off',\n",
       " '₹1,880₹2,19914% off',\n",
       " '₹2,217₹2,89923% off',\n",
       " '₹1,599₹2,35031% off',\n",
       " '₹1,299₹1,69923% off',\n",
       " '₹1,249₹1,49916% off',\n",
       " '₹999',\n",
       " '₹1,759₹2,19920% off',\n",
       " '₹959₹1,19920% off',\n",
       " '₹2,699',\n",
       " '₹2,099',\n",
       " '₹2,099',\n",
       " '₹1,799₹2,09914% off',\n",
       " '₹1,330₹1,49911% off',\n",
       " '₹1,169₹1,29910% off',\n",
       " '₹1,799',\n",
       " '₹1,747₹2,29924% off',\n",
       " '₹1,648₹1,6993% off',\n",
       " '₹2,499',\n",
       " '₹1,623₹1,89914% off',\n",
       " '₹1,259₹1,39910% off',\n",
       " '₹2,799',\n",
       " '₹1,999',\n",
       " '₹2,499',\n",
       " '₹1,649₹2,49033% off',\n",
       " '₹2,198₹2,199',\n",
       " '₹1,799',\n",
       " '₹1,299',\n",
       " '₹2,099',\n",
       " '₹1,169₹1,29910% off',\n",
       " '₹1,035₹1,49930% off',\n",
       " '₹2,099',\n",
       " '₹1,899₹1,9995% off',\n",
       " '₹2,299',\n",
       " '₹1,299',\n",
       " '₹1,799',\n",
       " '₹1,999',\n",
       " '₹1,911₹2,49923% off',\n",
       " '₹1,376₹1,69919% off',\n",
       " '₹1,980₹1,999',\n",
       " '₹1,197₹1,2997% off',\n",
       " '₹1,281₹1,49914% off',\n",
       " '₹1,452₹1,89923% off',\n",
       " '₹2,299',\n",
       " '₹1,529₹1,69910% off',\n",
       " '₹1,259₹1,39910% off',\n",
       " '₹2,299',\n",
       " '₹939₹1,09914% off',\n",
       " '₹1,376₹1,69919% off',\n",
       " '₹1,376₹1,69919% off',\n",
       " '₹2,699',\n",
       " '₹2,699',\n",
       " '₹902₹1,09917% off',\n",
       " '₹1,619₹1,79910% off',\n",
       " '₹2,299',\n",
       " '₹1,850₹1,9997% off',\n",
       " '₹2,699',\n",
       " '₹516₹1,49965% off',\n",
       " '₹855₹8994% off',\n",
       " '₹1,980₹1,999',\n",
       " '₹1,999',\n",
       " '₹1,036₹1,39925% off',\n",
       " '₹1,730₹1,99913% off',\n",
       " '₹2,064₹2,69923% off',\n",
       " '₹1,169₹1,29910% off',\n",
       " '₹2,599',\n",
       " '₹1,030₹1,29920% off',\n",
       " '₹1,119₹1,39920% off',\n",
       " '₹1,499',\n",
       " '₹1,839₹2,29920% off',\n",
       " '₹2,299',\n",
       " '₹1,758₹2,29923% off',\n",
       " '₹2,375₹2,79915% off',\n",
       " '₹1,799',\n",
       " '₹2,659₹2,7995% off',\n",
       " '₹1,889₹2,09910% off',\n",
       " '₹2,699',\n",
       " '₹1,169₹1,29910% off',\n",
       " '₹1,869₹2,69930% off',\n",
       " '₹1,690₹1,699',\n",
       " '₹2,299',\n",
       " '₹2,299',\n",
       " '₹1,119₹1,39920% off',\n",
       " '₹2,299',\n",
       " '₹2,299',\n",
       " '₹2,150₹2,2996% off',\n",
       " '₹2,499',\n",
       " '₹2,099',\n",
       " '₹1,199',\n",
       " '₹1,299₹1,69923% off',\n",
       " '₹1,039₹1,29920% off',\n",
       " '₹1,999',\n",
       " '₹1,709₹1,99914% off',\n",
       " '₹1,794₹2,09914% off',\n",
       " '₹2,299',\n",
       " '₹2,690₹2,7993% off',\n",
       " '₹1,899',\n",
       " '₹1,699',\n",
       " '₹1,199₹1,49920% off',\n",
       " '₹1,799',\n",
       " '₹1,709₹1,99914% off',\n",
       " '₹1,419₹1,79921% off',\n",
       " '₹1,799',\n",
       " '₹1,745₹1,7993% off',\n",
       " '₹719₹79910% off',\n",
       " '₹1,538₹1,79914% off',\n",
       " '₹1,350₹1,3993% off',\n",
       " '₹2,099',\n",
       " '₹1,890₹2,0999% off',\n",
       " '₹1,580₹1,79912% off',\n",
       " '₹2,519₹2,79910% off',\n",
       " '₹939₹1,09914% off',\n",
       " '₹2,099',\n",
       " '₹1,899',\n",
       " '₹1,320₹1,79926% off',\n",
       " '₹1,799₹1,99910% off',\n",
       " '₹1,999',\n",
       " '₹1,311₹1,59918% off',\n",
       " '₹1,799',\n",
       " '₹1,911₹2,49923% off',\n",
       " '₹2,064₹2,69923% off',\n",
       " '₹1,259₹1,39910% off',\n",
       " '₹2,470₹2,79911% off',\n",
       " '₹1,133₹1,29912% off',\n",
       " '₹626₹79921% off',\n",
       " '₹770₹7993% off',\n",
       " '₹788₹89912% off',\n",
       " '₹1,601₹1,99919% off',\n",
       " '₹949₹9995% off',\n",
       " '₹1,010₹1,29922% off',\n",
       " '₹806₹1,29937% off',\n",
       " '₹683₹79914% off',\n",
       " '₹444₹89950% off',\n",
       " '₹756₹89915% off',\n",
       " '₹481₹2,89983% off',\n",
       " '₹457₹89949% off',\n",
       " '₹2,559₹2,6995% off',\n",
       " '₹1,663₹2,49933% off',\n",
       " '₹1,025₹2,89964% off',\n",
       " '₹467₹89948% off',\n",
       " '₹1,325₹2,09936% off',\n",
       " '₹695₹1,29946% off',\n",
       " '₹1,512₹1,99924% off',\n",
       " '₹694₹79913% off',\n",
       " '₹1,203₹1,99939% off',\n",
       " '₹2,140₹2,2996% off',\n",
       " '₹474₹79940% off',\n",
       " '₹592₹1,29954% off',\n",
       " '₹680₹89924% off',\n",
       " '₹1,371₹1,99931% off',\n",
       " '₹740₹89917% off',\n",
       " '₹491₹89945% off',\n",
       " '₹1,355₹2,59947% off',\n",
       " '₹1,381₹1,99930% off',\n",
       " '₹799',\n",
       " '₹812₹2,29964% off',\n",
       " '₹917₹1,39934% off',\n",
       " '₹1,910₹2,0999% off',\n",
       " '₹1,740₹1,7993% off',\n",
       " '₹1,609₹2,09923% off',\n",
       " '₹792₹89911% off',\n",
       " '₹1,605₹1,99919% off',\n",
       " '₹731₹7998% off']"
      ]
     },
     "execution_count": 61,
     "metadata": {},
     "output_type": "execute_result"
    }
   ],
   "source": [
    "Price_list=[]\n",
    "for i in page_url:\n",
    "    driver.get(i)\n",
    "    Price_tags=driver.find_elements_by_xpath(\"//div[@class='_25b18c']\")\n",
    "    for i in Price_tags:\n",
    "        Price_list.append(i.text)\n",
    "Price_list"
   ]
  },
  {
   "cell_type": "code",
   "execution_count": 70,
   "metadata": {},
   "outputs": [
    {
     "name": "stdout",
     "output_type": "stream",
     "text": [
      "440 440\n"
     ]
    }
   ],
   "source": [
    "print(len(Brand_list),len(Price_list))"
   ]
  },
  {
   "cell_type": "code",
   "execution_count": 71,
   "metadata": {
    "collapsed": true
   },
   "outputs": [
    {
     "data": {
      "text/plain": [
       "[<selenium.webdriver.remote.webelement.WebElement (session=\"41cb7c172c7fd78f7e7c1748f53dffb0\", element=\"83032bba-1b0e-4ed6-972c-4183eba61ba0\")>,\n",
       " <selenium.webdriver.remote.webelement.WebElement (session=\"41cb7c172c7fd78f7e7c1748f53dffb0\", element=\"4589974e-43e8-4404-b3a4-d4fddda3b4eb\")>,\n",
       " <selenium.webdriver.remote.webelement.WebElement (session=\"41cb7c172c7fd78f7e7c1748f53dffb0\", element=\"0a9bbe52-ad25-4070-aef8-cce3a50a4626\")>,\n",
       " <selenium.webdriver.remote.webelement.WebElement (session=\"41cb7c172c7fd78f7e7c1748f53dffb0\", element=\"e95d8f16-63ae-4cca-ae82-78d7bdc39e05\")>,\n",
       " <selenium.webdriver.remote.webelement.WebElement (session=\"41cb7c172c7fd78f7e7c1748f53dffb0\", element=\"4ce87d31-afdb-4924-a44b-3ba5da9ada45\")>,\n",
       " <selenium.webdriver.remote.webelement.WebElement (session=\"41cb7c172c7fd78f7e7c1748f53dffb0\", element=\"5838dcce-5934-4c49-a0a8-e28290b6ae6b\")>,\n",
       " <selenium.webdriver.remote.webelement.WebElement (session=\"41cb7c172c7fd78f7e7c1748f53dffb0\", element=\"036d2ebe-839c-4750-81d4-e8a3cf764ecd\")>,\n",
       " <selenium.webdriver.remote.webelement.WebElement (session=\"41cb7c172c7fd78f7e7c1748f53dffb0\", element=\"e2b9923a-3b6a-46d1-9ce4-a912a8062bbf\")>,\n",
       " <selenium.webdriver.remote.webelement.WebElement (session=\"41cb7c172c7fd78f7e7c1748f53dffb0\", element=\"25f6a33e-6331-4774-9110-949fe55fe2d1\")>,\n",
       " <selenium.webdriver.remote.webelement.WebElement (session=\"41cb7c172c7fd78f7e7c1748f53dffb0\", element=\"97d848e2-0162-4e81-ab60-9fe99779a0c2\")>,\n",
       " <selenium.webdriver.remote.webelement.WebElement (session=\"41cb7c172c7fd78f7e7c1748f53dffb0\", element=\"a42531f8-59bb-4d5b-98a3-575dd452801b\")>,\n",
       " <selenium.webdriver.remote.webelement.WebElement (session=\"41cb7c172c7fd78f7e7c1748f53dffb0\", element=\"97281f9d-61fa-468a-b908-7476fd056b22\")>,\n",
       " <selenium.webdriver.remote.webelement.WebElement (session=\"41cb7c172c7fd78f7e7c1748f53dffb0\", element=\"0a9faf31-ecb5-4f91-adf3-7a4080928069\")>,\n",
       " <selenium.webdriver.remote.webelement.WebElement (session=\"41cb7c172c7fd78f7e7c1748f53dffb0\", element=\"3f99800e-fa2a-48bb-aa4b-e6315346cec9\")>,\n",
       " <selenium.webdriver.remote.webelement.WebElement (session=\"41cb7c172c7fd78f7e7c1748f53dffb0\", element=\"ff0415c6-1f0a-4bad-b961-b23734d1b145\")>,\n",
       " <selenium.webdriver.remote.webelement.WebElement (session=\"41cb7c172c7fd78f7e7c1748f53dffb0\", element=\"d0d9a150-98ca-4b0b-800f-002289db8834\")>,\n",
       " <selenium.webdriver.remote.webelement.WebElement (session=\"41cb7c172c7fd78f7e7c1748f53dffb0\", element=\"0da6c27f-70d8-4cbd-a7b7-f10ac55fdb6a\")>,\n",
       " <selenium.webdriver.remote.webelement.WebElement (session=\"41cb7c172c7fd78f7e7c1748f53dffb0\", element=\"28ae5818-3a6a-4a61-ad32-86778e3ffae9\")>,\n",
       " <selenium.webdriver.remote.webelement.WebElement (session=\"41cb7c172c7fd78f7e7c1748f53dffb0\", element=\"c066938d-8aad-42f2-adc6-e9b2d444181e\")>,\n",
       " <selenium.webdriver.remote.webelement.WebElement (session=\"41cb7c172c7fd78f7e7c1748f53dffb0\", element=\"db8c568e-5a59-4525-b6c3-618ad3b48e66\")>,\n",
       " <selenium.webdriver.remote.webelement.WebElement (session=\"41cb7c172c7fd78f7e7c1748f53dffb0\", element=\"215b88cb-91de-4498-ac4e-f7b4f18273a1\")>,\n",
       " <selenium.webdriver.remote.webelement.WebElement (session=\"41cb7c172c7fd78f7e7c1748f53dffb0\", element=\"fe5f6bc2-b3ca-4fdd-a1a4-e83145302061\")>,\n",
       " <selenium.webdriver.remote.webelement.WebElement (session=\"41cb7c172c7fd78f7e7c1748f53dffb0\", element=\"d92cce3f-6277-4f5d-87cc-280972b50347\")>,\n",
       " <selenium.webdriver.remote.webelement.WebElement (session=\"41cb7c172c7fd78f7e7c1748f53dffb0\", element=\"49b5d07c-1966-4ee1-b12f-c1c2fd03b613\")>,\n",
       " <selenium.webdriver.remote.webelement.WebElement (session=\"41cb7c172c7fd78f7e7c1748f53dffb0\", element=\"e3b9ff55-8897-4c4d-ba64-a267de580b7a\")>,\n",
       " <selenium.webdriver.remote.webelement.WebElement (session=\"41cb7c172c7fd78f7e7c1748f53dffb0\", element=\"fa7a99d0-9659-48ea-821d-2bcd9c14f69d\")>,\n",
       " <selenium.webdriver.remote.webelement.WebElement (session=\"41cb7c172c7fd78f7e7c1748f53dffb0\", element=\"2ff03215-4f83-403a-b50e-512bbb1de48d\")>,\n",
       " <selenium.webdriver.remote.webelement.WebElement (session=\"41cb7c172c7fd78f7e7c1748f53dffb0\", element=\"54e54084-1e34-4ecd-adaa-80418492ea34\")>,\n",
       " <selenium.webdriver.remote.webelement.WebElement (session=\"41cb7c172c7fd78f7e7c1748f53dffb0\", element=\"0c490a38-cc86-49a2-bb49-355f20703545\")>,\n",
       " <selenium.webdriver.remote.webelement.WebElement (session=\"41cb7c172c7fd78f7e7c1748f53dffb0\", element=\"426e0c3e-1e58-4043-8da7-9d782d0a467f\")>,\n",
       " <selenium.webdriver.remote.webelement.WebElement (session=\"41cb7c172c7fd78f7e7c1748f53dffb0\", element=\"5c52c93c-9eed-4ef0-9af6-4765f7181035\")>,\n",
       " <selenium.webdriver.remote.webelement.WebElement (session=\"41cb7c172c7fd78f7e7c1748f53dffb0\", element=\"182b1d38-fb33-4399-b3d6-f03a9ecc6ec7\")>,\n",
       " <selenium.webdriver.remote.webelement.WebElement (session=\"41cb7c172c7fd78f7e7c1748f53dffb0\", element=\"8377122f-1833-4913-80f9-ae1a4357cb8f\")>,\n",
       " <selenium.webdriver.remote.webelement.WebElement (session=\"41cb7c172c7fd78f7e7c1748f53dffb0\", element=\"d9d35040-da7a-483e-8f4a-168bb38eb127\")>,\n",
       " <selenium.webdriver.remote.webelement.WebElement (session=\"41cb7c172c7fd78f7e7c1748f53dffb0\", element=\"c2724bf3-4e1a-4a91-87e2-77e570886e3d\")>,\n",
       " <selenium.webdriver.remote.webelement.WebElement (session=\"41cb7c172c7fd78f7e7c1748f53dffb0\", element=\"df054998-a959-49d3-b015-5b6d0f1eb2a6\")>,\n",
       " <selenium.webdriver.remote.webelement.WebElement (session=\"41cb7c172c7fd78f7e7c1748f53dffb0\", element=\"8dd9474d-d6d8-4dc9-9feb-913c3a94a6a9\")>]"
      ]
     },
     "execution_count": 71,
     "metadata": {},
     "output_type": "execute_result"
    }
   ],
   "source": [
    "Discount_tags=driver.find_elements_by_xpath(\"//div[@class='_3Ay6Sb']\")\n",
    "Discount_tags"
   ]
  },
  {
   "cell_type": "code",
   "execution_count": 72,
   "metadata": {
    "collapsed": true
   },
   "outputs": [
    {
     "data": {
      "text/plain": [
       "['55% off',\n",
       " '35% off',\n",
       " '36% off',\n",
       " '34% off',\n",
       " '55% off',\n",
       " '28% off',\n",
       " '44% off',\n",
       " '18% off',\n",
       " '17% off',\n",
       " '20% off',\n",
       " '37% off',\n",
       " '34% off',\n",
       " '26% off',\n",
       " '49% off',\n",
       " '26% off',\n",
       " '6% off',\n",
       " '19% off',\n",
       " '28% off',\n",
       " '16% off',\n",
       " '32% off',\n",
       " '52% off',\n",
       " '17% off',\n",
       " '7% off',\n",
       " '45% off',\n",
       " '55% off',\n",
       " '21% off',\n",
       " '43% off',\n",
       " '4% off',\n",
       " '18% off',\n",
       " '24% off',\n",
       " '36% off',\n",
       " '1% off',\n",
       " '15% off',\n",
       " '22% off',\n",
       " '19% off',\n",
       " '3% off',\n",
       " '5% off',\n",
       " '16% off',\n",
       " '21% off',\n",
       " '3% off',\n",
       " '12% off',\n",
       " '12% off',\n",
       " '5% off',\n",
       " '22% off',\n",
       " '37% off',\n",
       " '14% off',\n",
       " '50% off',\n",
       " '15% off',\n",
       " '49% off',\n",
       " '5% off',\n",
       " '83% off',\n",
       " '33% off',\n",
       " '64% off',\n",
       " '48% off',\n",
       " '36% off',\n",
       " '46% off',\n",
       " '24% off',\n",
       " '13% off',\n",
       " '40% off',\n",
       " '39% off',\n",
       " '6% off',\n",
       " '24% off',\n",
       " '17% off',\n",
       " '47% off',\n",
       " '30% off',\n",
       " '45% off',\n",
       " '64% off',\n",
       " '34% off',\n",
       " '9% off',\n",
       " '3% off',\n",
       " '23% off',\n",
       " '11% off',\n",
       " '19% off',\n",
       " '8% off',\n",
       " '13% off',\n",
       " '43% off',\n",
       " '5% off',\n",
       " '40% off',\n",
       " '22% off',\n",
       " '40% off',\n",
       " '6% off',\n",
       " '15% off',\n",
       " '34% off',\n",
       " '47% off',\n",
       " '15% off',\n",
       " '33% off',\n",
       " '13% off',\n",
       " '16% off',\n",
       " '21% off',\n",
       " '19% off',\n",
       " '36% off',\n",
       " '20% off',\n",
       " '2% off',\n",
       " '7% off',\n",
       " '47% off',\n",
       " '19% off',\n",
       " '26% off',\n",
       " '10% off',\n",
       " '5% off',\n",
       " '39% off',\n",
       " '14% off',\n",
       " '50% off',\n",
       " '10% off',\n",
       " '15% off',\n",
       " '5% off',\n",
       " '52% off',\n",
       " '1% off',\n",
       " '27% off',\n",
       " '4% off',\n",
       " '19% off',\n",
       " '14% off',\n",
       " '4% off',\n",
       " '27% off',\n",
       " '1% off',\n",
       " '12% off',\n",
       " '19% off',\n",
       " '5% off',\n",
       " '5% off',\n",
       " '33% off',\n",
       " '20% off',\n",
       " '54% off',\n",
       " '28% off',\n",
       " '33% off',\n",
       " '36% off',\n",
       " '18% off',\n",
       " '13% off',\n",
       " '14% off',\n",
       " '8% off',\n",
       " '11% off',\n",
       " '21% off',\n",
       " '4% off',\n",
       " '8% off',\n",
       " '13% off',\n",
       " '35% off',\n",
       " '5% off',\n",
       " '29% off',\n",
       " '18% off',\n",
       " '22% off',\n",
       " '23% off',\n",
       " '63% off',\n",
       " '10% off',\n",
       " '11% off',\n",
       " '24% off',\n",
       " '28% off',\n",
       " '44% off',\n",
       " '51% off',\n",
       " '10% off',\n",
       " '8% off',\n",
       " '31% off',\n",
       " '11% off',\n",
       " '30% off',\n",
       " '23% off',\n",
       " '14% off',\n",
       " '23% off',\n",
       " '23% off',\n",
       " '27% off',\n",
       " '25% off',\n",
       " '5% off',\n",
       " '30% off',\n",
       " '30% off',\n",
       " '23% off',\n",
       " '30% off',\n",
       " '23% off',\n",
       " '22% off',\n",
       " '14% off',\n",
       " '19% off',\n",
       " '20% off',\n",
       " '26% off',\n",
       " '23% off',\n",
       " '12% off',\n",
       " '2% off',\n",
       " '11% off',\n",
       " '20% off',\n",
       " '67% off',\n",
       " '19% off',\n",
       " '44% off',\n",
       " '18% off',\n",
       " '10% off',\n",
       " '1% off',\n",
       " '5% off',\n",
       " '6% off',\n",
       " '14% off',\n",
       " '14% off',\n",
       " '10% off',\n",
       " '23% off',\n",
       " '31% off',\n",
       " '5% off',\n",
       " '35% off',\n",
       " '25% off',\n",
       " '14% off',\n",
       " '28% off',\n",
       " '31% off',\n",
       " '23% off',\n",
       " '15% off',\n",
       " '5% off',\n",
       " '14% off',\n",
       " '5% off',\n",
       " '15% off',\n",
       " '23% off',\n",
       " '14% off',\n",
       " '23% off',\n",
       " '24% off',\n",
       " '20% off',\n",
       " '16% off',\n",
       " '23% off',\n",
       " '31% off',\n",
       " '14% off',\n",
       " '11% off',\n",
       " '24% off',\n",
       " '10% off',\n",
       " '10% off',\n",
       " '3% off',\n",
       " '33% off',\n",
       " '10% off',\n",
       " '30% off',\n",
       " '23% off',\n",
       " '14% off',\n",
       " '7% off',\n",
       " '19% off',\n",
       " '5% off',\n",
       " '10% off',\n",
       " '19% off',\n",
       " '14% off',\n",
       " '23% off',\n",
       " '7% off',\n",
       " '65% off',\n",
       " '19% off',\n",
       " '20% off',\n",
       " '25% off',\n",
       " '13% off',\n",
       " '23% off',\n",
       " '10% off',\n",
       " '4% off',\n",
       " '20% off',\n",
       " '15% off',\n",
       " '23% off',\n",
       " '20% off',\n",
       " '10% off',\n",
       " '5% off',\n",
       " '30% off',\n",
       " '20% off',\n",
       " '14% off',\n",
       " '22% off',\n",
       " '6% off',\n",
       " '23% off',\n",
       " '14% off',\n",
       " '14% off',\n",
       " '3% off',\n",
       " '20% off',\n",
       " '14% off',\n",
       " '3% off',\n",
       " '21% off',\n",
       " '9% off',\n",
       " '12% off',\n",
       " '3% off',\n",
       " '14% off',\n",
       " '10% off',\n",
       " '10% off',\n",
       " '18% off',\n",
       " '10% off',\n",
       " '11% off',\n",
       " '15% off',\n",
       " '23% off',\n",
       " '23% off',\n",
       " '23% off',\n",
       " '10% off',\n",
       " '19% off',\n",
       " '10% off',\n",
       " '5% off',\n",
       " '5% off',\n",
       " '32% off',\n",
       " '6% off',\n",
       " '23% off',\n",
       " '20% off',\n",
       " '14% off',\n",
       " '3% off',\n",
       " '14% off',\n",
       " '21% off',\n",
       " '20% off',\n",
       " '3% off',\n",
       " '14% off',\n",
       " '10% off',\n",
       " '14% off',\n",
       " '3% off',\n",
       " '12% off',\n",
       " '10% off',\n",
       " '14% off',\n",
       " '9% off',\n",
       " '26% off',\n",
       " '18% off',\n",
       " '10% off',\n",
       " '23% off',\n",
       " '23% off',\n",
       " '11% off',\n",
       " '15% off',\n",
       " '3% off',\n",
       " '12% off',\n",
       " '12% off',\n",
       " '5% off',\n",
       " '22% off',\n",
       " '37% off',\n",
       " '14% off',\n",
       " '50% off',\n",
       " '15% off',\n",
       " '49% off',\n",
       " '5% off',\n",
       " '83% off',\n",
       " '33% off',\n",
       " '64% off',\n",
       " '48% off',\n",
       " '36% off',\n",
       " '46% off',\n",
       " '24% off',\n",
       " '13% off',\n",
       " '40% off',\n",
       " '39% off',\n",
       " '6% off',\n",
       " '24% off',\n",
       " '17% off',\n",
       " '47% off',\n",
       " '30% off',\n",
       " '45% off',\n",
       " '64% off',\n",
       " '34% off',\n",
       " '9% off',\n",
       " '3% off',\n",
       " '23% off',\n",
       " '11% off',\n",
       " '19% off',\n",
       " '8% off',\n",
       " '13% off',\n",
       " '43% off']"
      ]
     },
     "execution_count": 72,
     "metadata": {},
     "output_type": "execute_result"
    }
   ],
   "source": [
    "Discount_list=[]\n",
    "for i in page_url:\n",
    "    driver.get(i)\n",
    "    Discount_tags=driver.find_elements_by_xpath(\"//div[@class='_3Ay6Sb']\")\n",
    "    for i in Discount_tags:\n",
    "        Discount_list.append(i.text)\n",
    "Discount_list"
   ]
  },
  {
   "cell_type": "code",
   "execution_count": 75,
   "metadata": {
    "collapsed": true
   },
   "outputs": [
    {
     "name": "stdout",
     "output_type": "stream",
     "text": [
      "440 440 332\n"
     ]
    }
   ],
   "source": [
    "print(len(Brand_list),len(Price_list),len(Discount_list))"
   ]
  },
  {
   "cell_type": "code",
   "execution_count": 79,
   "metadata": {},
   "outputs": [],
   "source": [
    "Product=pd.DataFrame({})\n",
    "Product['Brand']=Brand_list[:100]\n",
    "Product['Price']=Price_list[:100]\n",
    "Product['Discount']=Discount_list[:100]"
   ]
  },
  {
   "cell_type": "code",
   "execution_count": 80,
   "metadata": {
    "collapsed": true
   },
   "outputs": [
    {
     "data": {
      "text/html": [
       "<div>\n",
       "<style scoped>\n",
       "    .dataframe tbody tr th:only-of-type {\n",
       "        vertical-align: middle;\n",
       "    }\n",
       "\n",
       "    .dataframe tbody tr th {\n",
       "        vertical-align: top;\n",
       "    }\n",
       "\n",
       "    .dataframe thead th {\n",
       "        text-align: right;\n",
       "    }\n",
       "</style>\n",
       "<table border=\"1\" class=\"dataframe\">\n",
       "  <thead>\n",
       "    <tr style=\"text-align: right;\">\n",
       "      <th></th>\n",
       "      <th>Brand</th>\n",
       "      <th>Price</th>\n",
       "      <th>Discount</th>\n",
       "    </tr>\n",
       "  </thead>\n",
       "  <tbody>\n",
       "    <tr>\n",
       "      <th>0</th>\n",
       "      <td>Fastrack</td>\n",
       "      <td>₹404₹89955% off</td>\n",
       "      <td>55% off</td>\n",
       "    </tr>\n",
       "    <tr>\n",
       "      <th>1</th>\n",
       "      <td>Fastrack</td>\n",
       "      <td>₹513₹79935% off</td>\n",
       "      <td>35% off</td>\n",
       "    </tr>\n",
       "    <tr>\n",
       "      <th>2</th>\n",
       "      <td>Fastrack</td>\n",
       "      <td>₹509₹79936% off</td>\n",
       "      <td>36% off</td>\n",
       "    </tr>\n",
       "    <tr>\n",
       "      <th>3</th>\n",
       "      <td>Fastrack</td>\n",
       "      <td>₹401₹89955% off</td>\n",
       "      <td>34% off</td>\n",
       "    </tr>\n",
       "    <tr>\n",
       "      <th>4</th>\n",
       "      <td>Fastrack</td>\n",
       "      <td>₹587₹89934% off</td>\n",
       "      <td>55% off</td>\n",
       "    </tr>\n",
       "    <tr>\n",
       "      <th>...</th>\n",
       "      <td>...</td>\n",
       "      <td>...</td>\n",
       "      <td>...</td>\n",
       "    </tr>\n",
       "    <tr>\n",
       "      <th>95</th>\n",
       "      <td>Fastrack</td>\n",
       "      <td>₹952₹1,09913% off</td>\n",
       "      <td>19% off</td>\n",
       "    </tr>\n",
       "    <tr>\n",
       "      <th>96</th>\n",
       "      <td>Fastrack</td>\n",
       "      <td>₹1,762₹2,09916% off</td>\n",
       "      <td>26% off</td>\n",
       "    </tr>\n",
       "    <tr>\n",
       "      <th>97</th>\n",
       "      <td>Fastrack</td>\n",
       "      <td>₹1,020₹1,29921% off</td>\n",
       "      <td>10% off</td>\n",
       "    </tr>\n",
       "    <tr>\n",
       "      <th>98</th>\n",
       "      <td>Fastrack</td>\n",
       "      <td>₹763₹89915% off</td>\n",
       "      <td>5% off</td>\n",
       "    </tr>\n",
       "    <tr>\n",
       "      <th>99</th>\n",
       "      <td>Fastrack</td>\n",
       "      <td>₹1,373₹1,69919% off</td>\n",
       "      <td>39% off</td>\n",
       "    </tr>\n",
       "  </tbody>\n",
       "</table>\n",
       "<p>100 rows × 3 columns</p>\n",
       "</div>"
      ],
      "text/plain": [
       "       Brand                Price Discount\n",
       "0   Fastrack      ₹404₹89955% off  55% off\n",
       "1   Fastrack      ₹513₹79935% off  35% off\n",
       "2   Fastrack      ₹509₹79936% off  36% off\n",
       "3   Fastrack      ₹401₹89955% off  34% off\n",
       "4   Fastrack      ₹587₹89934% off  55% off\n",
       "..       ...                  ...      ...\n",
       "95  Fastrack    ₹952₹1,09913% off  19% off\n",
       "96  Fastrack  ₹1,762₹2,09916% off  26% off\n",
       "97  Fastrack  ₹1,020₹1,29921% off  10% off\n",
       "98  Fastrack      ₹763₹89915% off   5% off\n",
       "99  Fastrack  ₹1,373₹1,69919% off  39% off\n",
       "\n",
       "[100 rows x 3 columns]"
      ]
     },
     "execution_count": 80,
     "metadata": {},
     "output_type": "execute_result"
    }
   ],
   "source": [
    "Product"
   ]
  },
  {
   "cell_type": "markdown",
   "metadata": {},
   "source": [
    "# Q7: Scrape 100 reviews data from flipkart.com for iphone11 phone. You have to \n",
    "go the link: https://www.flipkart.com/apple-iphone-11-black-64-gb-includes\u0002earpods-power\u0002adapter/p/itm0f37c2240b217?pid=MOBFKCTSVZAXUHGR&lid=LSTMOBFKC\n",
    "TSVZAXUHGREPBFGI&marketplace.\n",
    "When you will open the above link you will reach to the below shown webpage.\n",
    "As shown in the above page you have to scrape the tick marked attributes.\n",
    "These are \n",
    "1. Rating \n",
    "2. Review_summary \n",
    "3. Full review\n",
    "You have to scrape this data for first 100 reviews."
   ]
  },
  {
   "cell_type": "code",
   "execution_count": 87,
   "metadata": {},
   "outputs": [],
   "source": [
    "import selenium\n",
    "import pandas as pd\n",
    "from selenium import webdriver"
   ]
  },
  {
   "cell_type": "code",
   "execution_count": null,
   "metadata": {},
   "outputs": [],
   "source": []
  },
  {
   "cell_type": "code",
   "execution_count": 88,
   "metadata": {},
   "outputs": [],
   "source": [
    "driver = webdriver.Chrome(\"chromedriver.exe\")"
   ]
  },
  {
   "cell_type": "code",
   "execution_count": 99,
   "metadata": {},
   "outputs": [],
   "source": [
    "url = 'https://www.flipkart.com/apple-iphone-11-black-64-gb-includes-earpods-power-adapter/p/itm0f37c2240b217?pid=MOBFKCTSVZAXUHGR&lid=LSTMOBFKCTSVZAXUHGREPBFGI&marketplace'\n",
    "driver.get(url)"
   ]
  },
  {
   "cell_type": "code",
   "execution_count": 100,
   "metadata": {
    "collapsed": true
   },
   "outputs": [
    {
     "data": {
      "text/plain": [
       "['https://www.flipkart.com/apple-iphone-11-black-64-gb-includes-earpods-power-adapter/product-reviews/itm0f37c2240b217?pid=MOBFKCTSVZAXUHGR&lid=LSTMOBFKCTSVZAXUHGREPBFGI&marketplace=FLIPKART&page=1',\n",
       " 'https://www.flipkart.com/apple-iphone-11-black-64-gb-includes-earpods-power-adapter/product-reviews/itm0f37c2240b217?pid=MOBFKCTSVZAXUHGR&lid=LSTMOBFKCTSVZAXUHGREPBFGI&marketplace=FLIPKART&page=2',\n",
       " 'https://www.flipkart.com/apple-iphone-11-black-64-gb-includes-earpods-power-adapter/product-reviews/itm0f37c2240b217?pid=MOBFKCTSVZAXUHGR&lid=LSTMOBFKCTSVZAXUHGREPBFGI&marketplace=FLIPKART&page=3',\n",
       " 'https://www.flipkart.com/apple-iphone-11-black-64-gb-includes-earpods-power-adapter/product-reviews/itm0f37c2240b217?pid=MOBFKCTSVZAXUHGR&lid=LSTMOBFKCTSVZAXUHGREPBFGI&marketplace=FLIPKART&page=4',\n",
       " 'https://www.flipkart.com/apple-iphone-11-black-64-gb-includes-earpods-power-adapter/product-reviews/itm0f37c2240b217?pid=MOBFKCTSVZAXUHGR&lid=LSTMOBFKCTSVZAXUHGREPBFGI&marketplace=FLIPKART&page=5',\n",
       " 'https://www.flipkart.com/apple-iphone-11-black-64-gb-includes-earpods-power-adapter/product-reviews/itm0f37c2240b217?pid=MOBFKCTSVZAXUHGR&lid=LSTMOBFKCTSVZAXUHGREPBFGI&marketplace=FLIPKART&page=6',\n",
       " 'https://www.flipkart.com/apple-iphone-11-black-64-gb-includes-earpods-power-adapter/product-reviews/itm0f37c2240b217?pid=MOBFKCTSVZAXUHGR&lid=LSTMOBFKCTSVZAXUHGREPBFGI&marketplace=FLIPKART&page=7',\n",
       " 'https://www.flipkart.com/apple-iphone-11-black-64-gb-includes-earpods-power-adapter/product-reviews/itm0f37c2240b217?pid=MOBFKCTSVZAXUHGR&lid=LSTMOBFKCTSVZAXUHGREPBFGI&marketplace=FLIPKART&page=8',\n",
       " 'https://www.flipkart.com/apple-iphone-11-black-64-gb-includes-earpods-power-adapter/product-reviews/itm0f37c2240b217?pid=MOBFKCTSVZAXUHGR&lid=LSTMOBFKCTSVZAXUHGREPBFGI&marketplace=FLIPKART&page=9',\n",
       " 'https://www.flipkart.com/apple-iphone-11-black-64-gb-includes-earpods-power-adapter/product-reviews/itm0f37c2240b217?pid=MOBFKCTSVZAXUHGR&lid=LSTMOBFKCTSVZAXUHGREPBFGI&marketplace=FLIPKART&page=10',\n",
       " 'https://www.flipkart.com/apple-iphone-11-black-64-gb-includes-earpods-power-adapter/product-reviews/itm0f37c2240b217?pid=MOBFKCTSVZAXUHGR&lid=LSTMOBFKCTSVZAXUHGREPBFGI&marketplace=FLIPKART&page=2']"
      ]
     },
     "execution_count": 100,
     "metadata": {},
     "output_type": "execute_result"
    }
   ],
   "source": [
    "page_url = []\n",
    "url = driver.find_elements_by_xpath(\"//nav[@class='yFHi8N']//a\")\n",
    "for i in url:\n",
    "    page_url.append(i.get_attribute(\"href\"))\n",
    "page_url"
   ]
  },
  {
   "cell_type": "code",
   "execution_count": 111,
   "metadata": {
    "collapsed": true
   },
   "outputs": [
    {
     "data": {
      "text/plain": [
       "['5',\n",
       " '5',\n",
       " '5',\n",
       " '5',\n",
       " '5',\n",
       " '5',\n",
       " '4',\n",
       " '5',\n",
       " '5',\n",
       " '5',\n",
       " '5',\n",
       " '5',\n",
       " '5',\n",
       " '5',\n",
       " '5',\n",
       " '5',\n",
       " '5',\n",
       " '5',\n",
       " '4',\n",
       " '5',\n",
       " '5',\n",
       " '5',\n",
       " '5',\n",
       " '5',\n",
       " '5',\n",
       " '4',\n",
       " '5',\n",
       " '5',\n",
       " '5',\n",
       " '5',\n",
       " '5',\n",
       " '5',\n",
       " '5',\n",
       " '4',\n",
       " '5',\n",
       " '5',\n",
       " '5',\n",
       " '5',\n",
       " '5',\n",
       " '5',\n",
       " '5',\n",
       " '5',\n",
       " '5',\n",
       " '5',\n",
       " '4',\n",
       " '5',\n",
       " '5',\n",
       " '5',\n",
       " '5',\n",
       " '5',\n",
       " '5',\n",
       " '5',\n",
       " '5',\n",
       " '5',\n",
       " '5',\n",
       " '5',\n",
       " '5',\n",
       " '5',\n",
       " '5',\n",
       " '5',\n",
       " '5',\n",
       " '5',\n",
       " '5',\n",
       " '4',\n",
       " '5',\n",
       " '5',\n",
       " '4',\n",
       " '5',\n",
       " '4',\n",
       " '5',\n",
       " '5',\n",
       " '5',\n",
       " '5',\n",
       " '5',\n",
       " '5',\n",
       " '4',\n",
       " '5',\n",
       " '5',\n",
       " '5',\n",
       " '4',\n",
       " '5',\n",
       " '5',\n",
       " '5',\n",
       " '5',\n",
       " '5',\n",
       " '3',\n",
       " '3',\n",
       " '5',\n",
       " '5',\n",
       " '5',\n",
       " '5',\n",
       " '5',\n",
       " '4',\n",
       " '5',\n",
       " '5',\n",
       " '4',\n",
       " '4',\n",
       " '4',\n",
       " '5',\n",
       " '5']"
      ]
     },
     "execution_count": 111,
     "metadata": {},
     "output_type": "execute_result"
    }
   ],
   "source": [
    "Rating=[]\n",
    "for i in page_url:\n",
    "    driver.get(i)\n",
    "    Rating_tags=driver.find_elements_by_xpath(\"//div[@class='_3LWZlK _1BLPMq']\")\n",
    "    for i in Rating_tags:\n",
    "        Rating.append(i.text)\n",
    "Rating[:100]"
   ]
  },
  {
   "cell_type": "code",
   "execution_count": 110,
   "metadata": {
    "collapsed": true
   },
   "outputs": [
    {
     "data": {
      "text/plain": [
       "['Brilliant',\n",
       " 'Perfect product!',\n",
       " 'Fabulous!',\n",
       " 'Worth every penny',\n",
       " 'Great product',\n",
       " 'Simply awesome',\n",
       " 'Good choice',\n",
       " 'Worth every penny',\n",
       " 'Highly recommended',\n",
       " 'Perfect product!',\n",
       " 'Perfect product!',\n",
       " 'Worth every penny',\n",
       " 'Perfect product!',\n",
       " 'Highly recommended',\n",
       " 'Worth every penny',\n",
       " 'Simply awesome',\n",
       " 'Terrific',\n",
       " 'Perfect product!',\n",
       " 'Nice product',\n",
       " 'Highly recommended',\n",
       " 'Classy product',\n",
       " 'Wonderful',\n",
       " 'Brilliant',\n",
       " 'Must buy!',\n",
       " 'Perfect product!',\n",
       " 'Good choice',\n",
       " 'Terrific purchase',\n",
       " 'Wonderful',\n",
       " 'Mind-blowing purchase',\n",
       " 'Simply awesome',\n",
       " 'Great product',\n",
       " 'Terrific purchase',\n",
       " 'Simply awesome',\n",
       " 'Good quality product',\n",
       " 'Very poor',\n",
       " 'Best in the market!',\n",
       " 'Perfect product!',\n",
       " 'Must buy!',\n",
       " 'Fabulous!',\n",
       " 'Mind-blowing purchase',\n",
       " 'Mind-blowing purchase',\n",
       " 'Wonderful',\n",
       " 'Worth every penny',\n",
       " 'Great product',\n",
       " 'Just wow!',\n",
       " 'Very Good',\n",
       " 'Super!',\n",
       " 'Classy product',\n",
       " 'Perfect product!',\n",
       " 'Just wow!',\n",
       " 'Awesome',\n",
       " 'Terrific',\n",
       " 'Terrific purchase',\n",
       " 'Awesome',\n",
       " 'Perfect product!',\n",
       " 'Brilliant',\n",
       " 'Perfect product!',\n",
       " 'Classy product',\n",
       " 'Awesome',\n",
       " 'Perfect product!',\n",
       " 'Excellent',\n",
       " 'Not recommended at all',\n",
       " 'Fabulous!',\n",
       " 'Excellent',\n",
       " 'Must buy!',\n",
       " 'Value-for-money',\n",
       " 'Brilliant',\n",
       " 'Terrific purchase',\n",
       " 'Good quality product',\n",
       " 'Perfect product!',\n",
       " 'Value-for-money',\n",
       " 'Just wow!',\n",
       " 'Super!',\n",
       " 'Best in the market!',\n",
       " 'Mind-blowing purchase',\n",
       " 'Excellent',\n",
       " 'Excellent',\n",
       " 'Pretty good',\n",
       " 'Must buy!',\n",
       " 'Worth every penny',\n",
       " 'Mind-blowing purchase',\n",
       " 'Good quality product',\n",
       " 'Fabulous!',\n",
       " 'Awesome',\n",
       " 'Awesome',\n",
       " 'Terrific purchase',\n",
       " 'Awesome',\n",
       " 'Decent product',\n",
       " 'Does the job',\n",
       " 'Wonderful',\n",
       " 'Fabulous!',\n",
       " 'Classy product',\n",
       " 'Super!',\n",
       " 'Fabulous!',\n",
       " 'Pretty good',\n",
       " 'Excellent',\n",
       " 'Best in the market!',\n",
       " 'Wonderful',\n",
       " 'Nice product',\n",
       " 'Good quality product']"
      ]
     },
     "execution_count": 110,
     "metadata": {},
     "output_type": "execute_result"
    }
   ],
   "source": [
    "Review=[]\n",
    "for i in page_url:\n",
    "    driver.get(i)\n",
    "    Review_tags=driver.find_elements_by_xpath(\"//p[@class='_2-N8zT']\")\n",
    "    for i in Review_tags:\n",
    "        Review.append(i.text)\n",
    "Review[:100]"
   ]
  },
  {
   "cell_type": "code",
   "execution_count": 109,
   "metadata": {
    "collapsed": true
   },
   "outputs": [
    {
     "data": {
      "text/plain": [
       "['The Best Phone for the Money\\n\\nThe iPhone 11 offers superb cameras, a more durable design and excellent battery life for an affordable price.\\n\\nCompelling ultra-wide camera\\nNew Night mode is excellent\\nLong battery life',\n",
       " 'Amazing phone with great cameras and better battery which gives you the best performance. I just love the camera .',\n",
       " 'This is my first iOS phone. I am very happy with this product. Very much satisfied with this. I love this phone.',\n",
       " 'Previously I was using one plus 3t it was a great phone\\nAnd then I decided to upgrade I am stuck between Samsung s10 plus or iPhone 11\\nI have seen the specs and everything were good except the display it’s somewhere between 720-1080 and it’s not even an amoled it’s an LCD display\\nBut I decided to go with iPhone because I have never used an IOS device I have Been an android user from the past 9 years I ordered IPhone 11 (128gb) product red\\nMy experience after using 3 weeks\\n1. The delivery ...\\nREAD MORE',\n",
       " 'Amazing Powerful and Durable Gadget.\\n\\nI’m am very happy with the camera picture quality, Amazing face id unlocked in dark room, Strong battery with perfect screen size as you can carry easily in pocket. This is my third iPhone.\\n\\nI shifted from android Samsung Note series to iPhone because of the strong build quality and peace of mind for next 3-4 years.\\n\\nDon’t think to much just go for it and I suggest you to go for minimum 128gb variant or more 256gb.\\n\\nI’ve attached my puppy pics and no fi...\\nREAD MORE',\n",
       " 'Really satisfied with the Product I received... It’s totally genuine and the packaging was also really good so if ur planning to buy just go for it.',\n",
       " 'So far it’s been an AMAZING experience coming back to iOS after nearly a decade but it’s not as versatile as android though phone is sturdy dropped it accidentally a couple of times and nothing happened fortunately camera is awesome',\n",
       " 'i11 is worthy to buy, too much happy with the product. Thank u flipkart I received the item on time..loved it..',\n",
       " 'iphone 11 is a very good phone to buy only if you can compromise for the display. The display on this is device is pretty good but you can get other options with better displays in this price segment.\\nIf you can survive with an HD+ LCD panel with thicker bezels and a notch up top then this is a very good phone for you.\\nCameras are awesome, battery backup excellent, great performance and a decent premium look. Good job Apple !',\n",
       " 'It’s a must buy who is looking for an upgrade from previous generation of iPhones. If you are using XR then still you can hold on for sometime and upgrade to 2020 model else this phone is a must buy . Camera quality is amazing and wide angle is something to count upon. Performance wise it’s amazing and feels premium while holding in hand. So a big YES for this device. Go for 128 GB variant as the 4K videos will occupy lots of space and the storage can get over very quickly. Try to buy it with...\\nREAD MORE',\n",
       " 'Value for money❤️❤️\\nIts awesome mobile phone in the world ...\\nDisplay was very good and bright ..\\nTrust me freinds you r never regret after Buying..\\nJust go for it....\\nI love this phone and i switch to iphone x to 11',\n",
       " 'Best budget Iphone till date ❤️ go for it guys without second thought. Let me explain you guys about Camera, Display, battery, and performance.\\n\\nCamera: at this price range there is no comparison of camera, you’ll love the picture quality as well as video quality. I am a Vlogger I wanted an iPhone with 4k video by front camera and I got this phone and I am more than happy 😃\\n\\nBattery: I use this phone roughly as I am active social media person and I have a youtube channel. so the battery ba...\\nREAD MORE',\n",
       " \"Iphone is just awesome.. battery backup is very very nice.. continuously for 10 hours we can use it.camera is just awesome.. display is just fab.i love it alot..i had to wait 15 days for it as i pre ordered it..overalll it's worth the price..these all images are clicked by my iPhone..and i love it.\",\n",
       " 'What a camera .....just awesome ..you can feel this iPhone just awesome . Good for gaming also ...try pubg in hd it’s just wow',\n",
       " 'It’s been almost a month since I have been using this phone. I upgraded from an iPhone 8. The main issue with my 8 was battery and this phone is just awesome when it comes to battery. It lasts a day and a half for me with my regular use , internet connected always with 4g\\nCan’t move forward without saying this. Battery of this phone is a life saver when I am traveling or at work when I don’t get the option to charge\\nCamera is superb. Front cam selfies and back cam photos are just awesome.\\n...\\nREAD MORE',\n",
       " 'Excellent camera, good performance, no lag. The lcd display is also good.. but difference come when we watch movie in prime and Netflix, the colours are not vibrant.. as we see in amoled display.. and the charger in box is of 5 watts.. takes more than 3 hours to charge from 0 to 100.. so guys be prepare to buy 18 watts charger . Finally I am an android user, it was my first Iapple phone, I promise u guys the iOS is so smooth.. overall the phone is damn good.... close eyes to buy it.. thanks t...\\nREAD MORE',\n",
       " 'Really worth of money. i just love it. It is the best phone ever.',\n",
       " 'Battery backup is extraordinary, camera is decent & performance offered by A13 bionic is awsome. The display is good in practical usage like the visibility of display is very good in direct sun light compare to pro models. Iam extremely satisfied for the money I spent.',\n",
       " 'Awesome Phone. Slightly high price but worth. Better than iPhone XR.\\nCamera is superb and wide angle camera is very clear.\\n12MP selfie camera is also very good.\\nA13 Chip gives a very good and smooth performance.',\n",
       " \"It's my first time to use iOS phone and I am loving my upgradation 😍😍 I love the color, I love the assebility of the phone....I need to learn more about its functionality, but as far as I have seen, it's quite easy and it has a lot of functions to work on, specially if you are a content writer or a blogger you get a lot of content creation platforms and they are really amazing.\\n\\nThis phone not only for good quality photography but a lot of other task too.😍💯\",\n",
       " 'Superb Product !!!\\nA big and worthy upgrade from mi 3S to iphone 11 .\\nTotally loved it !',\n",
       " 'This is my first ever I phone. Before this I was using my google nexus 5. But moving from android to iOS is a great experience. It’s worth at this price. I will highly recommend it if you want to move to iOS. The best part of this phone is it’s camera and it’s battery life. This two things have won my heart. I loved it. Happy to have it in my hand. Still exploring its features. And can’t forget to mention Flipkart service. Very prompt service and fast delivery.',\n",
       " 'I have migrated from OP 7pro... and trust me, iPhone 11 is totally worth it.. following are the reasons:-\\n1)there is ABSOLUTELY NO ISSUE WITH THE DISPLAY... its crisp, sharp and I found it to be much much better than OP7 pro. Netflix, Prime video all run crisply... you won’t miss a thing. True Tone works flawlessly...the display brightness is perfect. OP have not calibrated their screens properly.\\n2) iPhone 11 series have really good cameras... others have spoken in depth about them.\\n3) bat...\\nREAD MORE',\n",
       " 'It’s an amazing product from apple and the camera is simply superb. Phone is faster.Night shot is simply superb and detailing and colour differentiation from camera is an added advantage\\n\\nThis review I have written from iPhone 11 only and I am glad to say outside.\\n\\nCons wise if we see HD+ display only, no battery percentage indicator as in older iPhone 8.\\nNo assistive touch control button in it\\nNo oleophobic coating on back panel glass and finger prints are visible but since I bought mint gr...\\nREAD MORE',\n",
       " 'After 1 month use I found camera quality best compared to my previous Samsung note 10+.Display not good as note 10 also charging too slow.Apple should add fast charger like 11 plus and pro.Best phone for daily use',\n",
       " 'Looking so good 👍 😍 super 👌 stylish 😎 phone\\nClean box 📦 good 👍 delivery 👌 fast delivery\\nOriginal box Original iphone 📱 👌 😍😍😍',\n",
       " 'Upgraded from iphone 6 to 11 best phone for iphone users battery is much better than other iphones camera is awesome love to use it.camera is so clear in night.',\n",
       " 'I just directly switch from iphone 6s to iphone 11 .The best premium smartphone I recommend to everyone. Excellent quality and colors the iphone have in 11 series.\\nCamera quality is just awesome and the major feel when we hold in our hands. The sound quality and volume is also higher then the previous models.\\nI will recommend to buy iphone 11 instead of pro models , there is nothing much difference as this model contains everything which fulfill our needs.\\n\\nOnly one thing that I dislike abo...\\nREAD MORE',\n",
       " 'This will help you more. See if you are planning to buy iPhone 11. I will say. Yes. But there are some plans I just want to disclose before you buy. 1) If you are an existing iPhone X/XS/XS Max/ XR user, better you guys do not think it to buy. You guys have more or less better gadget. 2) If you are an android user and planning to buy premium phone. I will suggest them to please buy iPhone instead of buying an Android. I bet you will never go back to android after using IOS. Now I want to shar...\\nREAD MORE',\n",
       " \"It's very high performances devise i am like the service of flipkart delevary very fast and packing very nice perfect phone\",\n",
       " 'Well you all know the specifications . One of a kind. Best iPhone till date. Many enhancements to the camera app with many options. Love the glass body with matte finish in the lens area on the back. Lovely colours to choose from. Best battery in an iPhone till date, enough to last more than a day in normal usage. I tested my iPhone 11 battery and lasted for than 24 hours after full charge still with 30% battery charge left. Watched movies for some time. Normal usage on calls, browsing, musi...\\nREAD MORE',\n",
       " 'The built quality is not very premium.\\nThe battery back is great .\\nThe LCD panel is not so sharp but the brightness level is very High .\\nCamera is super duper awesome.\\nThe red colour which people think is bright is actually very soothing and excellent colour to choose from .\\nThe A13 Bionic chip is really a flagship processor and can beat any phone which even has 12 gb ram .\\nCamera module is very great and looks very stylish.',\n",
       " 'Really good actually this is my first apple product am using its really awesome performance wise excellent. Am really happy with this iphone11',\n",
       " 'it is very good at performance. Camera is best like before and very smooth response even in water. Don’t buy 12 mini buy iPhone 11 , it is far better than 12 mini believe me ! Have a nice day \\uf8ff ☺️',\n",
       " 'Reviewing again after 5 months. At the beginning the battery and performance was good but it degraded soon. Also I was facing heating issues. The mobile will heat up like a stove sometimes. You cannot even play Pubg even in low settings properly, performance is not a problem but heating is. Also if you play that game for 10 mins the brightness will be automatically down due to over heating even when the auto brightness is set to off. This will not be solved even if u manually increase the bri...\\nREAD MORE',\n",
       " 'Great iPhone very snappy experience as apple kind. Upgraded from iPhone 7.\\nPros\\n-Camera top class\\n- Battery top performed\\n-Chipset no need to say as apple kind\\n-Security as you expect from apple\\n- Display super bright industry leading colour\\naccuracy and super responsive\\n-Build quality as expect from apple sturdy\\npremium durable beautiful stylish.\\n-Os most stable os in smartphone industry\\n\\nCons\\n-No 5G\\n-Display is not based on OLED technology\\n-Charger headphones and 1 apple stic...\\nREAD MORE',\n",
       " 'It is just awesome mobile for this price from Apple,\\n\\nAfter 10 days review\\n\\nBattery enough for 1 day even 24*7 Internet will be on and mostly internet usage\\n\\nCamera is just awesome cool , android 64 MP is equal to this just 12 MP\\n\\nA13 Bionic chip will give more high performance without hanging\\n\\nAudio stereo speakers will give Dolby atoms sound with crystal clear\\n\\nVideo recording is like cinematic shots of every sec can be a 4K 60fps. Just awesome this phone\\niPhone 11 loved one',\n",
       " 'Best Apple iPhone that i have bought at a very reasonable price, camera quality is next level just awesome n of superior quality android phones not even close(RIP) to that and also battery is really good but packaging by Flipkart of iPhone was very poor of such a expensive product, firstly im bit worried about the quality of product if i purchased it through online how was the product but i think now this was mine best decision to bought it through Flipkart online because i got genuine Apple...\\nREAD MORE',\n",
       " \"I can say I'm damn impressed with iPhone 11. As they says iPhone 11 have the toughest glass ever in the smartphone which you'll find on the front and back and it's totally smooth. The fit and finish is full apple quality - there's no sense that any cheaping out has happened in the construction. Without saying it's camera features this review won't complete. The iPhone 11 has a dual camera system, consisting of a wide angle len's that's pretty much same as found on the iPhone XR last year, but...\\nREAD MORE\",\n",
       " 'Best Quality Product OF iPhone Series , Sound Quality & Camera quality is very awesome, Battery Life is very Sufficient for 24 hr Backup With Full Internet Access , I love this this Product too much , It is very fast & making me Very fast in all my daily Routine\\nHighlights;\\n1.Camera: 5 STAR\\n2.Video Recording: 5 star\\n3.Night mODE sHOOTING & Camera:4 star\\n4. Audio Quality: Awesome\\n5. Battery : 5 Star\\n6. Touch:5 Star\\n7. Processor: Very Fast\\nThe M...\\nREAD MORE',\n",
       " 'First thanks to Flipkart for this amazing deal and phone is outstanding. I upgraded from iPhone 7 and this is like very big upgrade. But the packaging was very basic I expected a good packaging as they only wrapped one layer of bubble wrap which I don’t think is enough to protect this expensive phone. And I recommend this phone and seller as well.\\n\\nAnd I’m posting this review after using it for 4 days.',\n",
       " 'Superfast delivery by Flipkart. Thanks.\\n\\n1. iPhone 11 is a pretty solid phone for the money you are paying.\\n2. All the bad reviews about the display is confusing. It’s not that bad.\\n3. I switched from a Oneplus 7t. I have no complaints about the display quality of iPhone. Yes, it’s not OLED, so, we are missing on the deep blacks. But that’s it. It is a very colour accurate display. Gets adequately bright and I could not find any pixelation.\\n4. Performance is one of the best, if not best, in ...\\nREAD MORE',\n",
       " 'Smooth like butter, camera like fantabulous, sound is crystal clear & its red color is damn attractive, i am just loving it. Must buy if you love photography.\\n\\nLucky to get it in sale, thank you Flipkart.',\n",
       " \"Again back to apple iphone after a gap of 2-3 years. It's pleasure to use iOS and the quality product by Apple. Iphone 11 still works like a beast in 2021 also. It really capable of doing day to day usage as well as hard core gaming. Battery is awesome. I'm really too much satisfied with it. Apart fto the very gorgious IPS LCD (AMOLED will be better) everything is mind boggling. Iphone💕.\",\n",
       " 'The ultimate performance\\nCamera is superb\\nThe battery backup also very good i never saw iphone gives this much of battery backup\\nIf any one wana buy iphone 11 definitely i will recommend this mobile\\nIt has the better battery and powerfull processer peak performance glorious camera and the display also 100% high quality lcd display if u had money for for 12 if u dont wana invest much money on that then go for iphone 11 it has maximum same specs only main difference between the 12 and 11 is...\\nREAD MORE',\n",
       " 'impressive super phone and best in class camera ,sound and face unlock is super fast just see and phone is unlock and fast in daily apps use',\n",
       " \"It's a great phone. From camera to display everything is best for the price.\\nBest camera , best performance. I think everyone should buy it . This phone has best battery life so far in iphone series which I had used earlier. Happy to have it. Thanks Flipkart\",\n",
       " 'Well while switching from android to iOS the first thing you need to be careful about is that you will loose all your whatsapp chat backups as both are different operating systems. Camera clarity is awesome and though being an lcd screen clarity and resolution is good. Battery backup is also good unlike previous gen iPhone. So far the experience is good will Padre after a few months of usage.\\n\\nP.S the black is more of a dark grey shade and not jet black',\n",
       " 'In love with this iphone great performance,camera ,battery everything. Go for it have a uncompareble battery backup, no doubts in iPhone camera here You can see the picture which is shot on my iPhone In love with this iphone great performance,camera ,battery everything. Go for it have a uncompareble battery backup, no doubts in iPhone camera here You can see the picture which is shot on my iPhone In love with this iphone great performance,camera ,battery everything. Go for it have a uncompare...\\nREAD MORE',\n",
       " 'Best in class. Battery backup is good especially when you play games like Pubg COD. But it is sort of heavy when you hold in hands. Portrait mode is best to click pictures. Stage light effect is awesome. Try to click photos outside in nature because photos inside home or room will not give you the quality in any phone even in DSLR.',\n",
       " 'Very excited to have this phone. This phone has the real power unlike the android phones having SD 855 . The battery life is very good and the camera quality is excellent as comapred to redmi and other phones except google pixel. I M enjoying every single bit of it. Would recommed only if you have the budget.',\n",
       " \"I upgraded (downgraded?) from my iPhone X since the phone fell down and I didn't want to repair the screen. The box that the phone came in was super slim and I was worried that there'd be no 5W charger with it and my fears were confirmed. However, thankfully I had the 18W USB-C PD charger from Apple which I bought for my iPhone X and it worked perfectly. The charging time is as lethargic as ever though and it takes about 1:30 mins or even 2 hours depending on charge remaining. I'll list some ...\\nREAD MORE\",\n",
       " 'Its Very awesome product working and good camera quality and all about best product and also flipkart is very great deal and offer nice price',\n",
       " 'I am using this phone for 5 days and its one of the best camera out there ❤️ the screen is not oled and i am coming from iphone xs so its little bit not up to the mark i would say\\nBut overall value for money💕😍the battery back up is far better than my iphone xs and its worth in my apple ecosystem💫❤️if u are an apple User and have the eco system then go for it❤️though i will be getting the new iphone but its pretty good💫',\n",
       " 'Best and amazing product.....phone looks so premium.... battary is also good as expected .... Wide angle camera is so addictive ...if you are a IOS lover....then this phone will be the best choice for you all!!💯🔥',\n",
       " 'Excellent camera and display touching very nice and smooth very improvement against iPhone XR and new processor is very fast',\n",
       " 'Awesome purchase. Amazing phone with good battery backup. It’s a top notch device. White colour looks amazing. Phone has a few extra feature than iPhone XR. Overall, this is value for money',\n",
       " 'Totally in love with this ❤ the camera quality is amazing just love it 😘😘😘 itsss dammnnnnnn amazing... Must buy iPhone 11 this is my best experience ever ☀👌👌🧡🧡🧡🧡🧡 thanku apple ❤',\n",
       " 'Always love the apple products, upgraded from old iPhone 6S plus to this after having my first baby. I just love to click baby’s photos with it. Overall I just love this phone. Battery back up is okay, sound quality is good. Haven’t tested yet waterproof yet. Only one thing I hate is apple could have given charger & headphones in box.',\n",
       " 'Value for money\\n5 star rating\\nExcellent camera\\nBattery backup full day in single charge.\\n\\nTougher and water resistant design, glossy back.\\nThe screen has excellent brightness and contrast.\\nApple A13 Bionic is the fastest smartphone chip on the planet.\\nExcellent battery life, fast charging support.\\nStereo speakers with great quality.',\n",
       " 'Amazing camera and feel super machine I am not describe my feeling but this is amazing Phone I am so lucky I have this',\n",
       " 'They are selling cheep quality items. There is a black line on the edge of the display. Waiting for the replacement..\\n\\nUpdate:today I got the replacement from flipkart.. The second one is nice and the display and camera quality is much better than the previous one.. Thanks for the support',\n",
       " 'awesome phone to have. it has got many smart features apart from mind blowing looks, camera, display, battery and sound. have fallen in love with this phone. must buy phone if you have got enough money. thanks to flipkart and apple of course..',\n",
       " 'Its a fabulous mobile look awesome performance unbeaten camera like dslr battery good i think this is a beast of mobile',\n",
       " 'Dear friends... I want to share my experience with you about this amazing I phone 11....this is my first iPhone and special things about this mobile is it has great camera, battery backup and awesome display.... I mean everything is perfect.loved it 👍👍👍',\n",
       " \"Just got this iphone 11\\nAnd it is most powerful mobile phone I have used ever\\n\\nSo,go for it if you want a phone with best specification like camera,battery backup,display, A13 bionic chip\\n\\nThat's my review about this phone but yours can be differ from me....\",\n",
       " 'Amazing phone and on great deal I received with super fast delivery by Flipkart...',\n",
       " 'finally an iPhone with very nice battery backup. update from iPhone 7 and happy to have it. camera is not up to the mark in low light but overall a recommended phone if your budget allows 😀',\n",
       " \"I'm switching this phone to oppo reno 10x zoom\\nIt's really impressive\\nRarely I'm missing smooth display touch response like oppo reno but\\nI really loved it.\\nCamera really impressive\",\n",
       " 'Worth the money’ starting first from its performance it beats out all phones , second the smoothness of camera is awesome, contrast ratio is much than expected. Price will not matter if u r a quality person, if not other phones are available with better discount',\n",
       " \"I'm Really happy with the product\\nDelivery was fast as well\\n..it was a gift for my sister and she loved it so much.\",\n",
       " 'Great iphone.\\nI am writing this review after 2 months of usage.\\nCamera is excellent, especially the nightmode\\nDisplay perfect\\nBattery backup awesome\\nSound quality very good\\nOverall Apple gives you a perfect iphone in this range.\\nReally in love with iPhone 11',\n",
       " 'Did an upgrade from 6s plus to iphone 11.\\nAo far the experience is well and good. Felt smoother than 6s plus. The camera quality is superb. Battery backup is descent. Not a heavy user, and gets power more than a day. Go for it if you need an alrounder iphone in a competitve price.',\n",
       " 'Damn this phone is a blast . Upgraded from android to ios and is a duperb experience. Battery backup is top notch and display also pretty good',\n",
       " 'awesome Phone Smooth Touch Too good Sexyy looks one word Awesome',\n",
       " \"Just go for it.\\nThis phone is really amazing. I ordered it for my wife and we click photos on this thing which are better than dslr. I own OnePlus 6t but it's camera sucks. iPhone is really amazing when it comes to camera. It's worth spending 50k on this. Cons- only display is lcd. While using u don't feel it but if u compare with other phone then u can see difference quite easily.\\nChanging from Android to iphone is bit difficult coz most of things u don't know but I liked it. Some of the a...\\nREAD MORE\",\n",
       " \"It was amazing experience for me. Honestly i am using iPhone first time so I don't have that much past experience about that. But after using 7 days this mobile i want to give some honest feedback.\\n1- Display 9 out of 10\\n2- Camera 9.5 out of 10\\n3- Battery 7 out of 10\\n4- Performance 9.5 out of 10\\n5- Features & Functions 10 out of 10\\n6- Outer looks and colour 10 out of 10\\nRest i think i will understand after using this for few months.\\nI will highly recommend you guys if you have budget then you...\\nREAD MORE\",\n",
       " \"I've used this phone for over a month now and here are my takeaways.\\nI would like to first talk about the best things about this phone and then the cons of it.\\n\\nPros:\\nThis phone is a performance beast. It handles large games and applications effortlessly and you won't find any stutters or lags while playing graphic intensive games like pubg, cod , mortal kombat and asphalt.\\n\\nThis phone has only 4gb ram and yet the ram management is amazing, it can keep 3 heavy games in memory without reload...\\nREAD MORE\",\n",
       " 'I rate this product 5* as it has got amazing user experience with the best performing A13 bionic processor. The screen responds and graphics rendering is top notch. With casual gaming and internet browsing, the battery lasts for approx. 1 day. Camera is very good. You will fall in love with the portrait mode. You can call me a loyal Apple customer or whatever but I won’t stop praising the products and overall experience. That user experience matters and is worth every penny you pay.\\n\\nBelow ar...\\nREAD MORE',\n",
       " 'Undoubtedly Iphone 11 is the most successful model till now and its performance is extraordinary and the security features are very impressive, display is more vibrant sound quality Camera Quality 5*****, but Iphone should add accessories too and act like scrooge.',\n",
       " 'Absolutely powerful gadget. Loved it’s look! Soo glassy and classy. I would definitely recommend this model of Apple. Only disappointed with the 5W charger, one should purchase an 18W adapter for fast charging. Though battery backup is great. Bought it in September 2020, reviewing after so long so I’m gonna put the genuine review here.✅',\n",
       " 'I was torn between the oneplus 8 pro and the iphone 11. I had to shell out extra money for this, but I say if you can afford it, this truely is the best package.\\nMind blowing camera, battery and overall performance. Face Id works like magic even in complete darkness without firing up the screen brightness. The phones with in display fingerprint scanners do this at night time and it really burns your eyes.\\nI wanted the oneplus for its display but tbh the OLEDs on oneplus is really bad. Flick...\\nREAD MORE',\n",
       " 'I purchased the iPhone 11 a month back. I must say Apple has impressed me yet again . I have been an Apple user for past 5 years . The phone is power packed with amazing features . What impressed me the most was the battery backup the phone offers . Battery can easily run upto 1.5 days in single charge with moderate to\\nHeavy usage . If you’re looking for a value for money device , I don’t see any other phone in the price range which can match the iPhone 11 .\\nOne thing I didn’t like was that ...\\nREAD MORE',\n",
       " 'Can’t beat the software and hardware integration of apple.\\nPerforms like a beast. Great quality camera\\n6-7 hours screen on time which is good. Nothing much to complaint about the screen. Good connectivity speeds.\\nGreat buy and Flipkart’s delivery top notch as usual',\n",
       " 'I dreamt about this day from a long time.... Getting an iPhone with my own money.... Super happy and worth spending every penny',\n",
       " 'I use a Note10+ and have been using both iOS and Android devices.\\n\\nCamera has really good features and portraits are super good, better than Samsung flagship. Overall camera setup can still be enhanced and hopeful for better upgrades on software in next release\\n\\nOperating system is quite a breeze and user experience of daily usage is very high as compared to Android. I moved to iOS very swiftly in 2 days for all my office work from Note10+\\n\\nBattery holds up quite well with 4 hrs of call and ...\\nREAD MORE',\n",
       " 'The phone is completely good\\nAs far as camera Apple is king of it\\nAnd its a beast in performance\\nAnd the battery is pretty good too',\n",
       " 'Everything u ll like it when u use this iPhone. Simple changes only not many to lower models but it’s nice to use. Little heavy compared to previous models like 7,8',\n",
       " \"phone is good but in display is 720p lcd in this price range we can get full hd OLED displays with higher refresh rate processor is very good camera is nice but looks kind of oldish in front of todays phone also there's no charging in box had to buy it seperately\",\n",
       " 'Nice value for money good and best price I phone mind blowing camera processor very fast other android mobile I am happy India top selling phone 2020',\n",
       " 'Product is nice at the deviled time the delivery boy not open the box and this order is oBD but he is not open and not showing product he gives Product and gone time God product is super nice and good Tq Flipkart and seller love you Flipkart Product is nice display good touch screen amazing compared to other brands over all Product is super. Tq Flipkart',\n",
       " 'We are on apple ecosystem for almost eight years now with couple of iPads and iPhones, including Xr.\\n\\nBought iPhone 11 as a gift to my daughter who loves it. We chose for a purple coloured one. Believe me it is gorgeous and towards the lighter shade. Dazzling and brilliant!\\n\\nThe phone is great and does excellent RAM management like any other Apple device.\\n\\nThe screen, though a LCD and lesser ppi as compared to other flagship phones of competitor brands, is a delight to watch with perfect re...\\nREAD MORE',\n",
       " 'This is my first ever iPhone.\\nAnd I truly don’t regret switching to IOS from my Android.\\n\\nIt is easily an alternative to a DSLR camera.\\nIf you’re obsessed with photos and videos, just don’t think twice or don’t compare to other androids(Samsung S10 lite or OnePlus 8/8T), as it’s far better from them in every field.\\nComparing will only make you confused.\\n\\nI am getting an average Screen on Time of around 10 hours with 30 percent left. I haven’t let my device discharged below 30 % as it aff...\\nREAD MORE',\n",
       " 'Everything is perfect pictures come out so clearly and at first I wasn’t sure when I got it then when I started to use it and get the hang of it it was amazing!! I can’t wait to see what the next future phones will be like. The screen display on this bad boy are unbelievable they are so clear and never fail me. The performance is super cool there is a lot of cool features as well I like this phone because I feel that it is easy to use and one of my favorite things about this phone is the Face...\\nREAD MORE',\n",
       " 'I was using Iphone 6s and also Oneplus 6t. Both mobiles were perfectly alright in Photos, gaming, and smooth interface . My 6s mobile getting battery issue. thought upgrade to 11. Really like this mobile of its Internal storage (compare to 6s) , camera and its touch feeling. Its a worth buying mobile for me.',\n",
       " 'Value for money product. This iphone 11 is really amazing. Again nice release by apple. Great camera, battery backup is excellent. I just love this phone',\n",
       " \"The best all rounder iphone. Flipkart is doing a great job. They're delivery services are blazing fast. I got delivery on the same day. Genuine Apple Product. Working great. Talking about review There's no need of review for iphones. They're simply the best.\",\n",
       " \"I genuinely liked it. One of the best mobile phones I have used. It's sho smooth and it's security is very astonishing. Plus it has a very good camera quality. so overall it's a win win.\",\n",
       " \"If you are looking for a premium phone under 55k, this is the one for you.Got the iPhone 11 during the Republic day sale. Performance is top notch in this price range. Camera's do a perfect job in taking good quality photos and videos. Battery backup too is satisfactory. Writing this review after using for a week. Any further observations would be updated.\",\n",
       " 'Awesome camera, smooth and fast UI, display is great (though not LED) but the black area at the top could have been reduced. Battery remains a day even if used heavily. Charger in the box is ok, but 12 or 18W could have been nothing like anything. Overall an excellent product and comfortable to use. I have got it almost a month back and so far so good.']"
      ]
     },
     "execution_count": 109,
     "metadata": {},
     "output_type": "execute_result"
    }
   ],
   "source": [
    "Review_Full=[]\n",
    "for i in page_url:\n",
    "    driver.get(i)\n",
    "    Full_Review=driver.find_elements_by_xpath(\"//div[@class='t-ZTKy']\")\n",
    "    for i in Full_Review:\n",
    "        Review_Full.append(i.text)\n",
    "Review_Full[:100]"
   ]
  },
  {
   "cell_type": "code",
   "execution_count": 115,
   "metadata": {},
   "outputs": [
    {
     "name": "stdout",
     "output_type": "stream",
     "text": [
      "108 110 110\n"
     ]
    }
   ],
   "source": [
    "print(len(Rating),len(Review),len(Review_Full))"
   ]
  },
  {
   "cell_type": "markdown",
   "metadata": {},
   "source": [
    "# Q8: Scrape data for first 100 sneakers you find when you visit flipkart.com and \n",
    "search for “sneakers” in the search field.\n",
    "You have to scrape 4 attributes of each sneaker :\n",
    "1. Brand\n",
    "2. Product Description\n",
    "3. Price\n",
    "4. discount %\n",
    "As shown in the below image, you have to scrape the tick marked attributes.\n",
    " \n",
    "Also note that all the steps required during scraping should be done through code \n",
    "only and not manually."
   ]
  },
  {
   "cell_type": "code",
   "execution_count": null,
   "metadata": {},
   "outputs": [],
   "source": []
  },
  {
   "cell_type": "code",
   "execution_count": 1,
   "metadata": {},
   "outputs": [],
   "source": [
    "import selenium\n",
    "import pandas as pd\n",
    "from selenium import webdriver"
   ]
  },
  {
   "cell_type": "code",
   "execution_count": 2,
   "metadata": {},
   "outputs": [],
   "source": [
    "driver = webdriver.Chrome(\"chromedriver.exe\")"
   ]
  },
  {
   "cell_type": "code",
   "execution_count": 3,
   "metadata": {},
   "outputs": [],
   "source": [
    "url = 'https://www.flipkart.com/'\n",
    "driver.get(url)"
   ]
  },
  {
   "cell_type": "code",
   "execution_count": 4,
   "metadata": {
    "collapsed": true
   },
   "outputs": [
    {
     "data": {
      "text/plain": [
       "<selenium.webdriver.remote.webelement.WebElement (session=\"139db55fa3b5d951d96d62ce3cfc69a6\", element=\"eba01de0-bb6d-46d0-b21d-a6fa34653edb\")>"
      ]
     },
     "execution_count": 4,
     "metadata": {},
     "output_type": "execute_result"
    }
   ],
   "source": [
    "search_product = driver.find_element_by_xpath('/html/body/div[1]/div/div[1]/div[1]/div[2]/div[2]/form/div/div/input')\n",
    "search_product"
   ]
  },
  {
   "cell_type": "code",
   "execution_count": 6,
   "metadata": {},
   "outputs": [],
   "source": [
    "search_product.send_keys(\"Sneakers\")"
   ]
  },
  {
   "cell_type": "code",
   "execution_count": 7,
   "metadata": {
    "collapsed": true
   },
   "outputs": [
    {
     "data": {
      "text/plain": [
       "<selenium.webdriver.remote.webelement.WebElement (session=\"139db55fa3b5d951d96d62ce3cfc69a6\", element=\"cc671714-2471-4191-b37c-297d927dfc6a\")>"
      ]
     },
     "execution_count": 7,
     "metadata": {},
     "output_type": "execute_result"
    }
   ],
   "source": [
    "search_btn = driver.find_element_by_xpath(\"//button[@class='L0Z3Pu']\")\n",
    "search_btn"
   ]
  },
  {
   "cell_type": "code",
   "execution_count": 9,
   "metadata": {},
   "outputs": [],
   "source": [
    "search_btn.click()"
   ]
  },
  {
   "cell_type": "code",
   "execution_count": 10,
   "metadata": {
    "collapsed": true
   },
   "outputs": [
    {
     "data": {
      "text/plain": [
       "[<selenium.webdriver.remote.webelement.WebElement (session=\"139db55fa3b5d951d96d62ce3cfc69a6\", element=\"2f9a1956-9d0a-4541-b4be-5fe8ddb7e56f\")>,\n",
       " <selenium.webdriver.remote.webelement.WebElement (session=\"139db55fa3b5d951d96d62ce3cfc69a6\", element=\"892fff5f-aed8-4df3-b8de-404887d71581\")>,\n",
       " <selenium.webdriver.remote.webelement.WebElement (session=\"139db55fa3b5d951d96d62ce3cfc69a6\", element=\"09f5f3c1-89d4-497c-9a67-c861641a15af\")>,\n",
       " <selenium.webdriver.remote.webelement.WebElement (session=\"139db55fa3b5d951d96d62ce3cfc69a6\", element=\"7183a0f1-851c-470d-b65b-da4e663cbe37\")>,\n",
       " <selenium.webdriver.remote.webelement.WebElement (session=\"139db55fa3b5d951d96d62ce3cfc69a6\", element=\"c13829da-0e81-414b-8e52-4c16733a4db0\")>,\n",
       " <selenium.webdriver.remote.webelement.WebElement (session=\"139db55fa3b5d951d96d62ce3cfc69a6\", element=\"5b640ca2-271f-4297-a5cf-7bbc43645cf9\")>,\n",
       " <selenium.webdriver.remote.webelement.WebElement (session=\"139db55fa3b5d951d96d62ce3cfc69a6\", element=\"54871686-2bad-461e-b35e-72737a4aa096\")>,\n",
       " <selenium.webdriver.remote.webelement.WebElement (session=\"139db55fa3b5d951d96d62ce3cfc69a6\", element=\"58d7a23b-e247-425e-9c05-1a6a0a8e5612\")>,\n",
       " <selenium.webdriver.remote.webelement.WebElement (session=\"139db55fa3b5d951d96d62ce3cfc69a6\", element=\"b207179a-7527-489b-9fb6-db7a50637fb4\")>,\n",
       " <selenium.webdriver.remote.webelement.WebElement (session=\"139db55fa3b5d951d96d62ce3cfc69a6\", element=\"2437d29e-9400-424c-b970-c39e0790baf1\")>,\n",
       " <selenium.webdriver.remote.webelement.WebElement (session=\"139db55fa3b5d951d96d62ce3cfc69a6\", element=\"eee33fca-782a-4437-9c9b-175d22fb667a\")>,\n",
       " <selenium.webdriver.remote.webelement.WebElement (session=\"139db55fa3b5d951d96d62ce3cfc69a6\", element=\"f4f31b07-d144-452b-931c-b03aac5b7ddd\")>,\n",
       " <selenium.webdriver.remote.webelement.WebElement (session=\"139db55fa3b5d951d96d62ce3cfc69a6\", element=\"607d7ca3-30bd-4ebb-803a-61a6d95f3355\")>,\n",
       " <selenium.webdriver.remote.webelement.WebElement (session=\"139db55fa3b5d951d96d62ce3cfc69a6\", element=\"f5fb50ee-3717-414b-8ede-e7b5205f0b60\")>,\n",
       " <selenium.webdriver.remote.webelement.WebElement (session=\"139db55fa3b5d951d96d62ce3cfc69a6\", element=\"de79f41b-e5b1-4867-8333-196264fbe3e5\")>,\n",
       " <selenium.webdriver.remote.webelement.WebElement (session=\"139db55fa3b5d951d96d62ce3cfc69a6\", element=\"498837f5-62ff-445d-bd70-95be5d19712e\")>,\n",
       " <selenium.webdriver.remote.webelement.WebElement (session=\"139db55fa3b5d951d96d62ce3cfc69a6\", element=\"e06ed7d0-b966-4574-bdce-565beccc4c36\")>,\n",
       " <selenium.webdriver.remote.webelement.WebElement (session=\"139db55fa3b5d951d96d62ce3cfc69a6\", element=\"7243edba-6510-44ab-8f81-964d7ac774e5\")>,\n",
       " <selenium.webdriver.remote.webelement.WebElement (session=\"139db55fa3b5d951d96d62ce3cfc69a6\", element=\"166a04cf-de95-4b6b-8e1a-03e7253cabff\")>,\n",
       " <selenium.webdriver.remote.webelement.WebElement (session=\"139db55fa3b5d951d96d62ce3cfc69a6\", element=\"32861686-eed0-425f-9429-fb5da347513f\")>,\n",
       " <selenium.webdriver.remote.webelement.WebElement (session=\"139db55fa3b5d951d96d62ce3cfc69a6\", element=\"2617f45e-0cfc-44c4-b6bf-c7f3320388dd\")>,\n",
       " <selenium.webdriver.remote.webelement.WebElement (session=\"139db55fa3b5d951d96d62ce3cfc69a6\", element=\"f04228b7-6906-413d-ae61-d4fdbea664cf\")>,\n",
       " <selenium.webdriver.remote.webelement.WebElement (session=\"139db55fa3b5d951d96d62ce3cfc69a6\", element=\"886c275a-c4a0-4cba-bf15-184d8830f2f0\")>,\n",
       " <selenium.webdriver.remote.webelement.WebElement (session=\"139db55fa3b5d951d96d62ce3cfc69a6\", element=\"6678f4bb-47fd-4148-8294-d619a0f3d784\")>,\n",
       " <selenium.webdriver.remote.webelement.WebElement (session=\"139db55fa3b5d951d96d62ce3cfc69a6\", element=\"78fc55a9-4c35-481c-a462-f8c632412be9\")>,\n",
       " <selenium.webdriver.remote.webelement.WebElement (session=\"139db55fa3b5d951d96d62ce3cfc69a6\", element=\"eb93c514-c807-429b-b8cc-954dfca416e9\")>,\n",
       " <selenium.webdriver.remote.webelement.WebElement (session=\"139db55fa3b5d951d96d62ce3cfc69a6\", element=\"cf4d8602-ec42-4dda-844c-e7cb14a75dee\")>,\n",
       " <selenium.webdriver.remote.webelement.WebElement (session=\"139db55fa3b5d951d96d62ce3cfc69a6\", element=\"e029d9dc-44e7-43de-9288-52259157ac25\")>,\n",
       " <selenium.webdriver.remote.webelement.WebElement (session=\"139db55fa3b5d951d96d62ce3cfc69a6\", element=\"603ff891-3dbe-4937-a746-bb44370da986\")>,\n",
       " <selenium.webdriver.remote.webelement.WebElement (session=\"139db55fa3b5d951d96d62ce3cfc69a6\", element=\"85d19edf-526c-4f31-b4de-3ea73c2ba72c\")>,\n",
       " <selenium.webdriver.remote.webelement.WebElement (session=\"139db55fa3b5d951d96d62ce3cfc69a6\", element=\"de60a5b1-c395-4c34-a1bf-ea51bec1980b\")>,\n",
       " <selenium.webdriver.remote.webelement.WebElement (session=\"139db55fa3b5d951d96d62ce3cfc69a6\", element=\"e7217b6d-d8b5-4f63-ac36-4e7366da3117\")>,\n",
       " <selenium.webdriver.remote.webelement.WebElement (session=\"139db55fa3b5d951d96d62ce3cfc69a6\", element=\"d8e558de-a86e-4cf2-8a6b-aaf563120900\")>,\n",
       " <selenium.webdriver.remote.webelement.WebElement (session=\"139db55fa3b5d951d96d62ce3cfc69a6\", element=\"be785228-3593-4c39-9321-9090b0a5bf92\")>,\n",
       " <selenium.webdriver.remote.webelement.WebElement (session=\"139db55fa3b5d951d96d62ce3cfc69a6\", element=\"560d258c-859e-4027-a6bd-d19256e426c4\")>,\n",
       " <selenium.webdriver.remote.webelement.WebElement (session=\"139db55fa3b5d951d96d62ce3cfc69a6\", element=\"cde9f05d-587a-42b6-81b3-d9167b8defc5\")>,\n",
       " <selenium.webdriver.remote.webelement.WebElement (session=\"139db55fa3b5d951d96d62ce3cfc69a6\", element=\"a7d08a63-c882-4254-b9a9-ca6c56e9ce39\")>,\n",
       " <selenium.webdriver.remote.webelement.WebElement (session=\"139db55fa3b5d951d96d62ce3cfc69a6\", element=\"9e5a3e1b-d488-4a90-b1fc-7d72a9509e68\")>,\n",
       " <selenium.webdriver.remote.webelement.WebElement (session=\"139db55fa3b5d951d96d62ce3cfc69a6\", element=\"ee49f9d5-a0c9-4634-872f-3665e2d40ee9\")>,\n",
       " <selenium.webdriver.remote.webelement.WebElement (session=\"139db55fa3b5d951d96d62ce3cfc69a6\", element=\"ee645b8b-a8e2-4968-ad4e-972f9a9dfc79\")>]"
      ]
     },
     "execution_count": 10,
     "metadata": {},
     "output_type": "execute_result"
    }
   ],
   "source": [
    "Brand_tag=driver.find_elements_by_xpath(\"//div[@class='_2WkVRV']\")\n",
    "Brand_tag"
   ]
  },
  {
   "cell_type": "code",
   "execution_count": 12,
   "metadata": {
    "collapsed": true
   },
   "outputs": [
    {
     "data": {
      "text/plain": [
       "['https://www.flipkart.com/search?q=Sneakers&otracker=search&otracker1=search&marketplace=FLIPKART&as-show=on&as=off&page=1',\n",
       " 'https://www.flipkart.com/search?q=Sneakers&otracker=search&otracker1=search&marketplace=FLIPKART&as-show=on&as=off&page=2',\n",
       " 'https://www.flipkart.com/search?q=Sneakers&otracker=search&otracker1=search&marketplace=FLIPKART&as-show=on&as=off&page=3',\n",
       " 'https://www.flipkart.com/search?q=Sneakers&otracker=search&otracker1=search&marketplace=FLIPKART&as-show=on&as=off&page=4',\n",
       " 'https://www.flipkart.com/search?q=Sneakers&otracker=search&otracker1=search&marketplace=FLIPKART&as-show=on&as=off&page=5',\n",
       " 'https://www.flipkart.com/search?q=Sneakers&otracker=search&otracker1=search&marketplace=FLIPKART&as-show=on&as=off&page=6',\n",
       " 'https://www.flipkart.com/search?q=Sneakers&otracker=search&otracker1=search&marketplace=FLIPKART&as-show=on&as=off&page=7',\n",
       " 'https://www.flipkart.com/search?q=Sneakers&otracker=search&otracker1=search&marketplace=FLIPKART&as-show=on&as=off&page=8',\n",
       " 'https://www.flipkart.com/search?q=Sneakers&otracker=search&otracker1=search&marketplace=FLIPKART&as-show=on&as=off&page=9',\n",
       " 'https://www.flipkart.com/search?q=Sneakers&otracker=search&otracker1=search&marketplace=FLIPKART&as-show=on&as=off&page=10',\n",
       " 'https://www.flipkart.com/search?q=Sneakers&otracker=search&otracker1=search&marketplace=FLIPKART&as-show=on&as=off&page=2']"
      ]
     },
     "execution_count": 12,
     "metadata": {},
     "output_type": "execute_result"
    }
   ],
   "source": [
    "page_url = []\n",
    "url = driver.find_elements_by_xpath(\"//nav[@class='yFHi8N']//a\")\n",
    "for i in url:\n",
    "    page_url.append(i.get_attribute(\"href\"))\n",
    "page_url"
   ]
  },
  {
   "cell_type": "code",
   "execution_count": 29,
   "metadata": {
    "collapsed": true
   },
   "outputs": [
    {
     "data": {
      "text/plain": [
       "['Onivixo',\n",
       " 'Birde',\n",
       " 'CALCADOS',\n",
       " 'Shoes Bank',\n",
       " 'BRUTON',\n",
       " 'Robbie jones',\n",
       " 'Alfiya',\n",
       " 'Zixer',\n",
       " 'PEHANOSA',\n",
       " 'World Wear Footwear',\n",
       " 'KULP',\n",
       " 'Birde',\n",
       " 'Robbie jones',\n",
       " 'Robbie jones',\n",
       " 'World Wear Footwear',\n",
       " 'Absolute comfort',\n",
       " 'Stefano Rads',\n",
       " 'Kraasa',\n",
       " 'Numenzo',\n",
       " 'Chevit',\n",
       " 'Chevit',\n",
       " 'SCATCHITE',\n",
       " 'India hub',\n",
       " 'Zixer',\n",
       " 'HOTSTYLE',\n",
       " 'ASTEROID',\n",
       " 'bluemaker',\n",
       " 'Echor',\n",
       " 'HOTSTYLE',\n",
       " 'SPARX',\n",
       " 'D-SNEAKERZ',\n",
       " 'Chevit',\n",
       " 'Birde',\n",
       " 'HOTSTYLE',\n",
       " 'Arohi',\n",
       " 'Chevit',\n",
       " 'BRUTON',\n",
       " 'Zsyto',\n",
       " 'Chevit',\n",
       " 'Next INN',\n",
       " 'believe',\n",
       " 'FILA',\n",
       " 'NIKE',\n",
       " 'Onivixo',\n",
       " 'Chevit',\n",
       " 'ESSENCE',\n",
       " 'Jokatoo',\n",
       " 'Birde',\n",
       " 'bluemaker',\n",
       " 'ESSENCE',\n",
       " 'PUMA',\n",
       " 'Chevit',\n",
       " 'Svpanther',\n",
       " 'India hub',\n",
       " 'Fzzirok',\n",
       " 'Zixer',\n",
       " 'PEXLO',\n",
       " 'PUMA',\n",
       " 'CAMPUS',\n",
       " 'CALCADOS',\n",
       " 'NIKE',\n",
       " 'Zorth',\n",
       " 'ESSENCE',\n",
       " 'Birde',\n",
       " 'T-ROCK',\n",
       " 'Absolute comfort',\n",
       " 'ESSENCE',\n",
       " 'Zixer',\n",
       " 'Chevit',\n",
       " 'PUMA',\n",
       " 'ESSENCE',\n",
       " 'Absolute comfort',\n",
       " 'DUCATI',\n",
       " 'World Wear Footwear',\n",
       " 'Robbie jones',\n",
       " 'Chevit',\n",
       " 'PUMA',\n",
       " 'JACK & JONES',\n",
       " 'BRUTON',\n",
       " 'Chevit',\n",
       " 'Robbie jones',\n",
       " 'NIKE',\n",
       " 'FILA',\n",
       " 'Onivixo',\n",
       " 'DIGITRENDZZ',\n",
       " 'Birde',\n",
       " 'PUMA',\n",
       " 'India hub',\n",
       " 'Birde',\n",
       " 'Jack Diamond',\n",
       " 'PUMA',\n",
       " 'Birde',\n",
       " 'BRUTON',\n",
       " 'Absolute comfort',\n",
       " 'Wakefield',\n",
       " 'Chevit',\n",
       " 'Zixer',\n",
       " 'SPARX',\n",
       " 'PUMA',\n",
       " 'Zixer']"
      ]
     },
     "execution_count": 29,
     "metadata": {},
     "output_type": "execute_result"
    }
   ],
   "source": [
    "Brand_list=[]\n",
    "for i in page_url:\n",
    "    driver.get(i)\n",
    "    Brand_tags=driver.find_elements_by_xpath(\"//div[@class='_2WkVRV']\")\n",
    "    for i in Brand_tags:\n",
    "        Brand_list.append(i.text)\n",
    "Brand_list[:100]"
   ]
  },
  {
   "cell_type": "code",
   "execution_count": 16,
   "metadata": {
    "collapsed": true
   },
   "outputs": [
    {
     "data": {
      "text/plain": [
       "[<selenium.webdriver.remote.webelement.WebElement (session=\"139db55fa3b5d951d96d62ce3cfc69a6\", element=\"3f6b1b4c-ba84-4906-a2b0-b863cecd3250\")>,\n",
       " <selenium.webdriver.remote.webelement.WebElement (session=\"139db55fa3b5d951d96d62ce3cfc69a6\", element=\"0281b18e-89d4-4377-90d6-50e10b993d52\")>,\n",
       " <selenium.webdriver.remote.webelement.WebElement (session=\"139db55fa3b5d951d96d62ce3cfc69a6\", element=\"402504d4-7bf7-480a-b306-e0dd3c25927d\")>,\n",
       " <selenium.webdriver.remote.webelement.WebElement (session=\"139db55fa3b5d951d96d62ce3cfc69a6\", element=\"627f4884-b670-433c-b6c8-fcfbbf04467b\")>,\n",
       " <selenium.webdriver.remote.webelement.WebElement (session=\"139db55fa3b5d951d96d62ce3cfc69a6\", element=\"0daff1e6-221a-42a3-a24c-53aa231120e4\")>,\n",
       " <selenium.webdriver.remote.webelement.WebElement (session=\"139db55fa3b5d951d96d62ce3cfc69a6\", element=\"7929726d-d45d-4f2e-a30b-c56de079b6c5\")>,\n",
       " <selenium.webdriver.remote.webelement.WebElement (session=\"139db55fa3b5d951d96d62ce3cfc69a6\", element=\"ace45d63-5eae-44e4-8fe8-e3131de6e7bc\")>,\n",
       " <selenium.webdriver.remote.webelement.WebElement (session=\"139db55fa3b5d951d96d62ce3cfc69a6\", element=\"4dd6a8e4-8a68-4fb7-bf23-35205c8a5d3c\")>,\n",
       " <selenium.webdriver.remote.webelement.WebElement (session=\"139db55fa3b5d951d96d62ce3cfc69a6\", element=\"57cf9d52-f420-4544-a92a-f603d7418ce7\")>,\n",
       " <selenium.webdriver.remote.webelement.WebElement (session=\"139db55fa3b5d951d96d62ce3cfc69a6\", element=\"74f01082-4bae-4cf7-8be9-d5decdd2fed1\")>,\n",
       " <selenium.webdriver.remote.webelement.WebElement (session=\"139db55fa3b5d951d96d62ce3cfc69a6\", element=\"2944ba5f-d254-4da1-9590-c72775175a28\")>,\n",
       " <selenium.webdriver.remote.webelement.WebElement (session=\"139db55fa3b5d951d96d62ce3cfc69a6\", element=\"ebf04423-23e0-4a3d-a7bd-f9caf8b37e78\")>,\n",
       " <selenium.webdriver.remote.webelement.WebElement (session=\"139db55fa3b5d951d96d62ce3cfc69a6\", element=\"83028ee6-b4ea-4889-adbb-6326734d6a0a\")>,\n",
       " <selenium.webdriver.remote.webelement.WebElement (session=\"139db55fa3b5d951d96d62ce3cfc69a6\", element=\"62b8cf70-fcaa-44da-b38e-98702f756e4c\")>,\n",
       " <selenium.webdriver.remote.webelement.WebElement (session=\"139db55fa3b5d951d96d62ce3cfc69a6\", element=\"3fa47fc1-fb49-454e-879e-27c2f4363db3\")>,\n",
       " <selenium.webdriver.remote.webelement.WebElement (session=\"139db55fa3b5d951d96d62ce3cfc69a6\", element=\"1d2b3cee-84e4-4bd4-abc0-4d1b7bc206c5\")>,\n",
       " <selenium.webdriver.remote.webelement.WebElement (session=\"139db55fa3b5d951d96d62ce3cfc69a6\", element=\"ffbde6a0-3b7d-49c9-8a0f-7dad2de86bb3\")>,\n",
       " <selenium.webdriver.remote.webelement.WebElement (session=\"139db55fa3b5d951d96d62ce3cfc69a6\", element=\"d2619ff3-bd0d-46c3-8856-697115b47db9\")>,\n",
       " <selenium.webdriver.remote.webelement.WebElement (session=\"139db55fa3b5d951d96d62ce3cfc69a6\", element=\"c257d036-cad0-4528-ac4b-271fb5727ddc\")>,\n",
       " <selenium.webdriver.remote.webelement.WebElement (session=\"139db55fa3b5d951d96d62ce3cfc69a6\", element=\"28ebd117-25d1-47cd-b50d-f4903107ac2d\")>,\n",
       " <selenium.webdriver.remote.webelement.WebElement (session=\"139db55fa3b5d951d96d62ce3cfc69a6\", element=\"e1ca5f72-ee14-445d-8f1d-cd9f38ca1af2\")>,\n",
       " <selenium.webdriver.remote.webelement.WebElement (session=\"139db55fa3b5d951d96d62ce3cfc69a6\", element=\"7c0042db-5d78-4b2d-a41d-e5d228b94e46\")>,\n",
       " <selenium.webdriver.remote.webelement.WebElement (session=\"139db55fa3b5d951d96d62ce3cfc69a6\", element=\"a8bf864a-dd9c-4c69-8c9f-590673050180\")>,\n",
       " <selenium.webdriver.remote.webelement.WebElement (session=\"139db55fa3b5d951d96d62ce3cfc69a6\", element=\"3226fb9c-ac36-46ad-ad28-99ab50a4dc45\")>,\n",
       " <selenium.webdriver.remote.webelement.WebElement (session=\"139db55fa3b5d951d96d62ce3cfc69a6\", element=\"0faeac46-299e-4a8b-8ca4-bf3bce86e8e1\")>,\n",
       " <selenium.webdriver.remote.webelement.WebElement (session=\"139db55fa3b5d951d96d62ce3cfc69a6\", element=\"9699e07f-f61f-4740-b409-a12b2af3b984\")>,\n",
       " <selenium.webdriver.remote.webelement.WebElement (session=\"139db55fa3b5d951d96d62ce3cfc69a6\", element=\"5288c984-057e-498c-b74a-17506a9095a0\")>,\n",
       " <selenium.webdriver.remote.webelement.WebElement (session=\"139db55fa3b5d951d96d62ce3cfc69a6\", element=\"4cbf4ce4-43e6-49f8-80e3-b6e33a25664c\")>,\n",
       " <selenium.webdriver.remote.webelement.WebElement (session=\"139db55fa3b5d951d96d62ce3cfc69a6\", element=\"76a58486-7bcd-469a-af47-96498e70425a\")>,\n",
       " <selenium.webdriver.remote.webelement.WebElement (session=\"139db55fa3b5d951d96d62ce3cfc69a6\", element=\"ee9b3a12-d235-4407-ac63-6cf702e8f1c2\")>,\n",
       " <selenium.webdriver.remote.webelement.WebElement (session=\"139db55fa3b5d951d96d62ce3cfc69a6\", element=\"c0432979-feb5-4bc1-87e2-cadd3ac3412f\")>,\n",
       " <selenium.webdriver.remote.webelement.WebElement (session=\"139db55fa3b5d951d96d62ce3cfc69a6\", element=\"b4292e16-4f63-4ee5-9fb5-77d62016c54b\")>,\n",
       " <selenium.webdriver.remote.webelement.WebElement (session=\"139db55fa3b5d951d96d62ce3cfc69a6\", element=\"8becb3b4-3c16-4613-a216-6383cea27940\")>,\n",
       " <selenium.webdriver.remote.webelement.WebElement (session=\"139db55fa3b5d951d96d62ce3cfc69a6\", element=\"ee6e5055-69a7-4c6a-b177-39c68c563898\")>,\n",
       " <selenium.webdriver.remote.webelement.WebElement (session=\"139db55fa3b5d951d96d62ce3cfc69a6\", element=\"5cfd3149-e655-4288-8f22-8b52f49a6a57\")>,\n",
       " <selenium.webdriver.remote.webelement.WebElement (session=\"139db55fa3b5d951d96d62ce3cfc69a6\", element=\"33b1943c-483f-4b36-b644-78447d3afe78\")>,\n",
       " <selenium.webdriver.remote.webelement.WebElement (session=\"139db55fa3b5d951d96d62ce3cfc69a6\", element=\"0569e877-667d-4f2d-98fb-d72ef0f174cc\")>,\n",
       " <selenium.webdriver.remote.webelement.WebElement (session=\"139db55fa3b5d951d96d62ce3cfc69a6\", element=\"37207522-d0bf-4ced-baf9-88700237539f\")>,\n",
       " <selenium.webdriver.remote.webelement.WebElement (session=\"139db55fa3b5d951d96d62ce3cfc69a6\", element=\"19f47a74-55e4-46a3-ad53-18849b4edcaa\")>,\n",
       " <selenium.webdriver.remote.webelement.WebElement (session=\"139db55fa3b5d951d96d62ce3cfc69a6\", element=\"7d26a112-5b41-44ef-a70b-e04493a3e511\")>]"
      ]
     },
     "execution_count": 16,
     "metadata": {},
     "output_type": "execute_result"
    }
   ],
   "source": [
    "Price_tag=driver.find_elements_by_xpath(\"//div[@class='_30jeq3']\")\n",
    "Price_tag"
   ]
  },
  {
   "cell_type": "code",
   "execution_count": 28,
   "metadata": {
    "collapsed": true
   },
   "outputs": [
    {
     "data": {
      "text/plain": [
       "['₹599',\n",
       " '₹673',\n",
       " '₹748',\n",
       " '₹349',\n",
       " '₹615',\n",
       " '₹379',\n",
       " '₹373',\n",
       " '₹555',\n",
       " '₹499',\n",
       " '₹240',\n",
       " '₹449',\n",
       " '₹588',\n",
       " '₹474',\n",
       " '₹449',\n",
       " '₹499',\n",
       " '₹348',\n",
       " '₹217',\n",
       " '₹416',\n",
       " '₹378',\n",
       " '₹474',\n",
       " '₹759',\n",
       " '₹377',\n",
       " '₹410',\n",
       " '₹555',\n",
       " '₹283',\n",
       " '₹499',\n",
       " '₹449',\n",
       " '₹539',\n",
       " '₹199',\n",
       " '₹699',\n",
       " '₹365',\n",
       " '₹664',\n",
       " '₹588',\n",
       " '₹283',\n",
       " '₹439',\n",
       " '₹499',\n",
       " '₹757',\n",
       " '₹378',\n",
       " '₹470',\n",
       " '₹599',\n",
       " '₹399',\n",
       " '₹1,365',\n",
       " '₹2,472',\n",
       " '₹599',\n",
       " '₹389',\n",
       " '₹442',\n",
       " '₹418',\n",
       " '₹410',\n",
       " '₹449',\n",
       " '₹399',\n",
       " '₹1,363',\n",
       " '₹673',\n",
       " '₹499',\n",
       " '₹449',\n",
       " '₹349',\n",
       " '₹470',\n",
       " '₹698',\n",
       " '₹1,697',\n",
       " '₹1,329',\n",
       " '₹410',\n",
       " '₹3,297',\n",
       " '₹464',\n",
       " '₹442',\n",
       " '₹748',\n",
       " '₹378',\n",
       " '₹474',\n",
       " '₹442',\n",
       " '₹588',\n",
       " '₹470',\n",
       " '₹1,628',\n",
       " '₹442',\n",
       " '₹348',\n",
       " '₹1,259',\n",
       " '₹240',\n",
       " '₹474',\n",
       " '₹474',\n",
       " '₹1,720',\n",
       " '₹1,048',\n",
       " '₹662',\n",
       " '₹759',\n",
       " '₹499',\n",
       " '₹1,822',\n",
       " '₹1,047',\n",
       " '₹599',\n",
       " '₹379',\n",
       " '₹525',\n",
       " '₹2,439',\n",
       " '₹410',\n",
       " '₹399',\n",
       " '₹635',\n",
       " '₹1,600',\n",
       " '₹673',\n",
       " '₹299',\n",
       " '₹284',\n",
       " '₹225',\n",
       " '₹470',\n",
       " '₹555',\n",
       " '₹730',\n",
       " '₹1,285',\n",
       " '₹555']"
      ]
     },
     "execution_count": 28,
     "metadata": {},
     "output_type": "execute_result"
    }
   ],
   "source": [
    "Price_list=[]\n",
    "for i in page_url:\n",
    "    driver.get(i)\n",
    "    Price_tags=driver.find_elements_by_xpath(\"//div[@class='_30jeq3']\")\n",
    "    for i in Price_tags:\n",
    "        Price_list.append(i.text)\n",
    "Price_list[:100]"
   ]
  },
  {
   "cell_type": "code",
   "execution_count": 18,
   "metadata": {
    "collapsed": true
   },
   "outputs": [
    {
     "data": {
      "text/plain": [
       "[<selenium.webdriver.remote.webelement.WebElement (session=\"139db55fa3b5d951d96d62ce3cfc69a6\", element=\"e46b5082-b8c0-421a-a6a5-f3952c3e819a\")>,\n",
       " <selenium.webdriver.remote.webelement.WebElement (session=\"139db55fa3b5d951d96d62ce3cfc69a6\", element=\"59796b15-4560-4135-be43-7f9359a20ca3\")>,\n",
       " <selenium.webdriver.remote.webelement.WebElement (session=\"139db55fa3b5d951d96d62ce3cfc69a6\", element=\"77b31898-ecab-46db-8afd-3acd737d7c36\")>,\n",
       " <selenium.webdriver.remote.webelement.WebElement (session=\"139db55fa3b5d951d96d62ce3cfc69a6\", element=\"e2da1bd8-bd40-4faf-83ac-e8f1011c58a8\")>,\n",
       " <selenium.webdriver.remote.webelement.WebElement (session=\"139db55fa3b5d951d96d62ce3cfc69a6\", element=\"7ce5e294-2e2e-4736-b376-bcab5bfaab67\")>,\n",
       " <selenium.webdriver.remote.webelement.WebElement (session=\"139db55fa3b5d951d96d62ce3cfc69a6\", element=\"59670fbd-eff6-4012-9f00-04f7426ae66d\")>,\n",
       " <selenium.webdriver.remote.webelement.WebElement (session=\"139db55fa3b5d951d96d62ce3cfc69a6\", element=\"ebac0574-ddcc-4907-903d-153e441c35e6\")>,\n",
       " <selenium.webdriver.remote.webelement.WebElement (session=\"139db55fa3b5d951d96d62ce3cfc69a6\", element=\"6b56c174-a588-4143-b745-cdbd340fe5dc\")>,\n",
       " <selenium.webdriver.remote.webelement.WebElement (session=\"139db55fa3b5d951d96d62ce3cfc69a6\", element=\"23f46f27-089a-4a6c-a534-4e36e14c3424\")>,\n",
       " <selenium.webdriver.remote.webelement.WebElement (session=\"139db55fa3b5d951d96d62ce3cfc69a6\", element=\"c7a65724-020f-4167-ba3a-215bd48593a7\")>,\n",
       " <selenium.webdriver.remote.webelement.WebElement (session=\"139db55fa3b5d951d96d62ce3cfc69a6\", element=\"5e16833c-7c4b-41d2-8c07-13fcdd676541\")>,\n",
       " <selenium.webdriver.remote.webelement.WebElement (session=\"139db55fa3b5d951d96d62ce3cfc69a6\", element=\"2e389a8b-8136-4c6e-a560-9cfcea080a60\")>,\n",
       " <selenium.webdriver.remote.webelement.WebElement (session=\"139db55fa3b5d951d96d62ce3cfc69a6\", element=\"f3edd8ae-4c13-4b50-a29c-e8ce560577c9\")>,\n",
       " <selenium.webdriver.remote.webelement.WebElement (session=\"139db55fa3b5d951d96d62ce3cfc69a6\", element=\"ddc164a4-1c1c-4fa7-bcec-3d1ce33aa0f5\")>,\n",
       " <selenium.webdriver.remote.webelement.WebElement (session=\"139db55fa3b5d951d96d62ce3cfc69a6\", element=\"25fa5f0b-7302-4d25-9403-54eb6b5dd14c\")>,\n",
       " <selenium.webdriver.remote.webelement.WebElement (session=\"139db55fa3b5d951d96d62ce3cfc69a6\", element=\"99473918-977a-4a78-8c76-6ca2f79a3863\")>,\n",
       " <selenium.webdriver.remote.webelement.WebElement (session=\"139db55fa3b5d951d96d62ce3cfc69a6\", element=\"b8d2bd63-69b7-4512-b8b4-e3a506921199\")>,\n",
       " <selenium.webdriver.remote.webelement.WebElement (session=\"139db55fa3b5d951d96d62ce3cfc69a6\", element=\"2d2791ee-4a29-4e82-8b20-289125dee348\")>,\n",
       " <selenium.webdriver.remote.webelement.WebElement (session=\"139db55fa3b5d951d96d62ce3cfc69a6\", element=\"c9abd27d-226c-48a5-b633-372d42957058\")>,\n",
       " <selenium.webdriver.remote.webelement.WebElement (session=\"139db55fa3b5d951d96d62ce3cfc69a6\", element=\"c499725e-a265-4c58-b1e8-e248af4f81b1\")>,\n",
       " <selenium.webdriver.remote.webelement.WebElement (session=\"139db55fa3b5d951d96d62ce3cfc69a6\", element=\"53f01290-6f73-491c-9139-36112637240a\")>,\n",
       " <selenium.webdriver.remote.webelement.WebElement (session=\"139db55fa3b5d951d96d62ce3cfc69a6\", element=\"93cadf58-bea1-4286-a730-b0cd0ccaef37\")>,\n",
       " <selenium.webdriver.remote.webelement.WebElement (session=\"139db55fa3b5d951d96d62ce3cfc69a6\", element=\"c34b6ae0-f4cc-4b49-a768-6ce9a1b0fe0f\")>,\n",
       " <selenium.webdriver.remote.webelement.WebElement (session=\"139db55fa3b5d951d96d62ce3cfc69a6\", element=\"dc614de2-e4ab-4950-9cf2-280fb2b10bbf\")>,\n",
       " <selenium.webdriver.remote.webelement.WebElement (session=\"139db55fa3b5d951d96d62ce3cfc69a6\", element=\"8fb224cb-91b8-4acd-ab11-c111bb317042\")>,\n",
       " <selenium.webdriver.remote.webelement.WebElement (session=\"139db55fa3b5d951d96d62ce3cfc69a6\", element=\"44f693c8-786c-49fa-8507-83c696e4fa6c\")>,\n",
       " <selenium.webdriver.remote.webelement.WebElement (session=\"139db55fa3b5d951d96d62ce3cfc69a6\", element=\"3d388dc3-6662-45be-903f-5df1e3c06145\")>,\n",
       " <selenium.webdriver.remote.webelement.WebElement (session=\"139db55fa3b5d951d96d62ce3cfc69a6\", element=\"3e32e0fa-e88d-48c9-8874-b346533a34af\")>,\n",
       " <selenium.webdriver.remote.webelement.WebElement (session=\"139db55fa3b5d951d96d62ce3cfc69a6\", element=\"c5b59abe-f029-4bb6-9342-484ce3c3519a\")>,\n",
       " <selenium.webdriver.remote.webelement.WebElement (session=\"139db55fa3b5d951d96d62ce3cfc69a6\", element=\"3e285cfe-e0fa-49e5-9141-b1b6dcd5e921\")>,\n",
       " <selenium.webdriver.remote.webelement.WebElement (session=\"139db55fa3b5d951d96d62ce3cfc69a6\", element=\"a9a377dd-48ba-4515-92fb-c1aebabd12fe\")>,\n",
       " <selenium.webdriver.remote.webelement.WebElement (session=\"139db55fa3b5d951d96d62ce3cfc69a6\", element=\"90b7194d-6aed-40b2-aab2-b02db3a03cd7\")>,\n",
       " <selenium.webdriver.remote.webelement.WebElement (session=\"139db55fa3b5d951d96d62ce3cfc69a6\", element=\"5f02520f-546d-4b46-8f45-1cf77d3567ff\")>,\n",
       " <selenium.webdriver.remote.webelement.WebElement (session=\"139db55fa3b5d951d96d62ce3cfc69a6\", element=\"93e2f763-6231-40b9-b214-4888eadc09d0\")>,\n",
       " <selenium.webdriver.remote.webelement.WebElement (session=\"139db55fa3b5d951d96d62ce3cfc69a6\", element=\"7f5a0eb9-9e08-4494-8d43-72bff9ab9baa\")>,\n",
       " <selenium.webdriver.remote.webelement.WebElement (session=\"139db55fa3b5d951d96d62ce3cfc69a6\", element=\"cd68e564-f457-4701-92b9-6b0c3cefe7f3\")>,\n",
       " <selenium.webdriver.remote.webelement.WebElement (session=\"139db55fa3b5d951d96d62ce3cfc69a6\", element=\"29902139-7dc8-411e-8418-12bf251901d4\")>,\n",
       " <selenium.webdriver.remote.webelement.WebElement (session=\"139db55fa3b5d951d96d62ce3cfc69a6\", element=\"d00cf673-5c0a-4426-b902-0d8db168085b\")>,\n",
       " <selenium.webdriver.remote.webelement.WebElement (session=\"139db55fa3b5d951d96d62ce3cfc69a6\", element=\"aea27b8e-b996-4eca-ae84-b2d69702adc6\")>,\n",
       " <selenium.webdriver.remote.webelement.WebElement (session=\"139db55fa3b5d951d96d62ce3cfc69a6\", element=\"449eb753-db05-42e8-b5a4-2d7568025bf0\")>]"
      ]
     },
     "execution_count": 18,
     "metadata": {},
     "output_type": "execute_result"
    }
   ],
   "source": [
    "Discount_tags=driver.find_elements_by_xpath(\"//div[@class='_3Ay6Sb']\")\n",
    "Discount_tags"
   ]
  },
  {
   "cell_type": "code",
   "execution_count": 27,
   "metadata": {
    "collapsed": true
   },
   "outputs": [
    {
     "data": {
      "text/plain": [
       "['50% off',\n",
       " '66% off',\n",
       " '62% off',\n",
       " '65% off',\n",
       " '84% off',\n",
       " '62% off',\n",
       " '62% off',\n",
       " '76% off',\n",
       " '50% off',\n",
       " '51% off',\n",
       " '55% off',\n",
       " '65% off',\n",
       " '52% off',\n",
       " '55% off',\n",
       " '81% off',\n",
       " '76% off',\n",
       " '68% off',\n",
       " '58% off',\n",
       " '62% off',\n",
       " '46% off',\n",
       " '69% off',\n",
       " '62% off',\n",
       " '86% off',\n",
       " '71% off',\n",
       " '43% off',\n",
       " '75% off',\n",
       " '55% off',\n",
       " '72% off',\n",
       " '60% off',\n",
       " '44% off',\n",
       " '40% off',\n",
       " '70% off',\n",
       " '43% off',\n",
       " '56% off',\n",
       " '55% off',\n",
       " '81% off',\n",
       " '62% off',\n",
       " '68% off',\n",
       " '82% off',\n",
       " '60% off',\n",
       " '60% off',\n",
       " '45% off',\n",
       " '50% off',\n",
       " '22% off',\n",
       " '55% off',\n",
       " '71% off',\n",
       " '86% off',\n",
       " '55% off',\n",
       " '60% off',\n",
       " '54% off',\n",
       " '66% off',\n",
       " '50% off',\n",
       " '85% off',\n",
       " '65% off',\n",
       " '68% off',\n",
       " '70% off',\n",
       " '57% off',\n",
       " '30% off',\n",
       " '79% off',\n",
       " '40% off',\n",
       " '53% off',\n",
       " '55% off',\n",
       " '44% off',\n",
       " '62% off',\n",
       " '68% off',\n",
       " '55% off',\n",
       " '62% off',\n",
       " '76% off',\n",
       " '59% off',\n",
       " '55% off',\n",
       " '76% off',\n",
       " '65% off',\n",
       " '51% off',\n",
       " '52% off',\n",
       " '44% off',\n",
       " '56% off',\n",
       " '76% off',\n",
       " '83% off',\n",
       " '65% off',\n",
       " '50% off',\n",
       " '63% off',\n",
       " '66% off',\n",
       " '50% off',\n",
       " '62% off',\n",
       " '47% off',\n",
       " '55% off',\n",
       " '66% off',\n",
       " '20% off',\n",
       " '36% off',\n",
       " '54% off',\n",
       " '68% off',\n",
       " '88% off',\n",
       " '71% off',\n",
       " '55% off',\n",
       " '44% off',\n",
       " '44% off',\n",
       " '23% off',\n",
       " '54% off',\n",
       " '62% off',\n",
       " '69% off']"
      ]
     },
     "execution_count": 27,
     "metadata": {},
     "output_type": "execute_result"
    }
   ],
   "source": [
    "Discount_list=[]\n",
    "for i in page_url:\n",
    "    driver.get(i)\n",
    "    Discount_tags=driver.find_elements_by_xpath(\"//div[@class='_3Ay6Sb']\")\n",
    "    for i in Discount_tags:\n",
    "        Discount_list.append(i.text)\n",
    "Discount_list[:100]"
   ]
  },
  {
   "cell_type": "code",
   "execution_count": 23,
   "metadata": {
    "collapsed": true
   },
   "outputs": [
    {
     "data": {
      "text/plain": [
       "[<selenium.webdriver.remote.webelement.WebElement (session=\"139db55fa3b5d951d96d62ce3cfc69a6\", element=\"fb8a1dab-e7d2-4c97-997d-e498dd395a96\")>,\n",
       " <selenium.webdriver.remote.webelement.WebElement (session=\"139db55fa3b5d951d96d62ce3cfc69a6\", element=\"f95b6301-ed03-47fe-8bbd-1afacf9a6349\")>,\n",
       " <selenium.webdriver.remote.webelement.WebElement (session=\"139db55fa3b5d951d96d62ce3cfc69a6\", element=\"2705a97a-7173-4bfb-8d3e-cbce751c2d20\")>,\n",
       " <selenium.webdriver.remote.webelement.WebElement (session=\"139db55fa3b5d951d96d62ce3cfc69a6\", element=\"1308aca0-9368-4612-a6b3-0ecd4b9ae442\")>,\n",
       " <selenium.webdriver.remote.webelement.WebElement (session=\"139db55fa3b5d951d96d62ce3cfc69a6\", element=\"4ded5ae4-b8aa-4e56-bfa9-0acf768e4adc\")>,\n",
       " <selenium.webdriver.remote.webelement.WebElement (session=\"139db55fa3b5d951d96d62ce3cfc69a6\", element=\"095cc801-dc54-4b7f-a47b-5df2a7c8230a\")>,\n",
       " <selenium.webdriver.remote.webelement.WebElement (session=\"139db55fa3b5d951d96d62ce3cfc69a6\", element=\"e61964a5-5959-470f-b71d-45978d2c8e46\")>,\n",
       " <selenium.webdriver.remote.webelement.WebElement (session=\"139db55fa3b5d951d96d62ce3cfc69a6\", element=\"9d6ceed4-c146-49a8-9c9b-77a3734a10eb\")>,\n",
       " <selenium.webdriver.remote.webelement.WebElement (session=\"139db55fa3b5d951d96d62ce3cfc69a6\", element=\"86e48562-9178-4f2c-916f-ee7c01296acd\")>,\n",
       " <selenium.webdriver.remote.webelement.WebElement (session=\"139db55fa3b5d951d96d62ce3cfc69a6\", element=\"4cfeadea-e5f9-4308-9c3e-0828adccb3c1\")>,\n",
       " <selenium.webdriver.remote.webelement.WebElement (session=\"139db55fa3b5d951d96d62ce3cfc69a6\", element=\"a804c792-870a-4a1f-909f-56b766d9b2af\")>,\n",
       " <selenium.webdriver.remote.webelement.WebElement (session=\"139db55fa3b5d951d96d62ce3cfc69a6\", element=\"3375755e-6a63-4b41-9244-15df544ceccb\")>,\n",
       " <selenium.webdriver.remote.webelement.WebElement (session=\"139db55fa3b5d951d96d62ce3cfc69a6\", element=\"1e6f3b42-245c-4e80-8a7a-a7828b0a7b48\")>,\n",
       " <selenium.webdriver.remote.webelement.WebElement (session=\"139db55fa3b5d951d96d62ce3cfc69a6\", element=\"393b5b9d-d9c7-4a34-80e9-f0c46ddfa6b5\")>,\n",
       " <selenium.webdriver.remote.webelement.WebElement (session=\"139db55fa3b5d951d96d62ce3cfc69a6\", element=\"d61b04a7-4d3a-4fa5-9399-fcc111da4c57\")>,\n",
       " <selenium.webdriver.remote.webelement.WebElement (session=\"139db55fa3b5d951d96d62ce3cfc69a6\", element=\"9d04fff2-1cf5-4efb-88c8-11b88214ba28\")>,\n",
       " <selenium.webdriver.remote.webelement.WebElement (session=\"139db55fa3b5d951d96d62ce3cfc69a6\", element=\"c1af7930-b39d-47b1-b379-74cd04921f5d\")>,\n",
       " <selenium.webdriver.remote.webelement.WebElement (session=\"139db55fa3b5d951d96d62ce3cfc69a6\", element=\"edb0a4b9-baa9-4010-ab58-951f9f7d5434\")>,\n",
       " <selenium.webdriver.remote.webelement.WebElement (session=\"139db55fa3b5d951d96d62ce3cfc69a6\", element=\"e0585e56-eeb1-48f8-9e25-58132e093a61\")>,\n",
       " <selenium.webdriver.remote.webelement.WebElement (session=\"139db55fa3b5d951d96d62ce3cfc69a6\", element=\"2584680a-d350-476c-8950-a3d611e1c5a0\")>,\n",
       " <selenium.webdriver.remote.webelement.WebElement (session=\"139db55fa3b5d951d96d62ce3cfc69a6\", element=\"de623f39-f752-4917-8b0e-9ed16d6cc0f2\")>,\n",
       " <selenium.webdriver.remote.webelement.WebElement (session=\"139db55fa3b5d951d96d62ce3cfc69a6\", element=\"f47503e9-89c0-409a-a711-c425cda582cf\")>,\n",
       " <selenium.webdriver.remote.webelement.WebElement (session=\"139db55fa3b5d951d96d62ce3cfc69a6\", element=\"b5113b8f-6d09-4f6b-802f-6af335060ab6\")>,\n",
       " <selenium.webdriver.remote.webelement.WebElement (session=\"139db55fa3b5d951d96d62ce3cfc69a6\", element=\"f1e01b1f-63e4-45e8-812b-a1aee1f43eb7\")>,\n",
       " <selenium.webdriver.remote.webelement.WebElement (session=\"139db55fa3b5d951d96d62ce3cfc69a6\", element=\"60d09bcb-3f80-4af5-9bc8-4432a0b810e9\")>,\n",
       " <selenium.webdriver.remote.webelement.WebElement (session=\"139db55fa3b5d951d96d62ce3cfc69a6\", element=\"95037758-b3d1-40f5-852d-ad104e2a15f3\")>,\n",
       " <selenium.webdriver.remote.webelement.WebElement (session=\"139db55fa3b5d951d96d62ce3cfc69a6\", element=\"bb6589fb-9075-4c05-85e8-7e4362b446ab\")>,\n",
       " <selenium.webdriver.remote.webelement.WebElement (session=\"139db55fa3b5d951d96d62ce3cfc69a6\", element=\"cb291ec6-b250-46ac-ac5d-2d992476d303\")>,\n",
       " <selenium.webdriver.remote.webelement.WebElement (session=\"139db55fa3b5d951d96d62ce3cfc69a6\", element=\"524e3184-18e1-4a09-b08c-a660ce726c8f\")>,\n",
       " <selenium.webdriver.remote.webelement.WebElement (session=\"139db55fa3b5d951d96d62ce3cfc69a6\", element=\"adb8041f-b1ea-4cca-9ff9-2c533c0c91b3\")>,\n",
       " <selenium.webdriver.remote.webelement.WebElement (session=\"139db55fa3b5d951d96d62ce3cfc69a6\", element=\"af3a9b23-2010-4b6f-841e-2c5d805c5655\")>,\n",
       " <selenium.webdriver.remote.webelement.WebElement (session=\"139db55fa3b5d951d96d62ce3cfc69a6\", element=\"dec0fb01-0aa4-434f-99c7-b8d41ba49a2f\")>,\n",
       " <selenium.webdriver.remote.webelement.WebElement (session=\"139db55fa3b5d951d96d62ce3cfc69a6\", element=\"0d119431-713a-483b-ab20-e4aa706d8197\")>]"
      ]
     },
     "execution_count": 23,
     "metadata": {},
     "output_type": "execute_result"
    }
   ],
   "source": [
    "Discription_tag=driver.find_elements_by_xpath(\"//a[@class='IRpwTa']\")\n",
    "Discription_tag"
   ]
  },
  {
   "cell_type": "code",
   "execution_count": 26,
   "metadata": {
    "collapsed": true
   },
   "outputs": [
    {
     "data": {
      "text/plain": [
       "['Sneakers For Men',\n",
       " 'Combo Pack of 4 Casual Shoes Sneakers For Men',\n",
       " \"White Sneaker For Men's/Boy's Sneakers For Men\",\n",
       " 'Combo Pack Of 4 Casual Sneakers For Men',\n",
       " 'Casual Sneakers Shoes For Men Sneakers For Men',\n",
       " 'Shoes in Black Color Party weShoes in Black Color Party...',\n",
       " 'Sneakers For Men',\n",
       " '5011-Latest Collection Stylish Casual Loafer Sneakers S...',\n",
       " 'Casual Sneakers White Shoes For Men And Boys Sneakers F...',\n",
       " 'Combo Pack of 5 Casual Shoes Loafers Sneakers For Men',\n",
       " 'Sneakers For Men',\n",
       " 'Sneakers For Men',\n",
       " 'Combo Pack of 4 Latest Collection Stylish Casual Loafer...',\n",
       " 'Series 7 Sneakers For Men',\n",
       " 'Sneakers For Men',\n",
       " 'Combo Pack of 4 Casual Sneakers With Sneakers For Men',\n",
       " 'Speed Set of 5 Pairs Sneakers Outdoors Casuals for Men ...',\n",
       " 'Sneakers Sneakers For Men',\n",
       " 'Sneakers Sneakers For Men',\n",
       " \"Original Luxury Branded Fashionable Men's Casual Walkin...\",\n",
       " 'casual for men (blue 06) Sneakers For Men',\n",
       " 'Trend Sneakers For Men',\n",
       " \"Casual , Partywear Sneakers Shoes For Men's And Boys Wh...\",\n",
       " 'Affordable Combo Pack of 03 Pairs Sneakers Outdoor Loaf...',\n",
       " 'Combo Pack of 4 Casual Shoes Sneakers For Men',\n",
       " 'Sneakers Sneakers For Men',\n",
       " 'Sneakers For Men',\n",
       " 'Perfect & Affordable Combo Pack of 02 Pairs Sneakers Ou...',\n",
       " 'Combo Pack of 5 Casual Sneakers With Sneakers For Men',\n",
       " 'Unique & Perfect Collection Combo Pack of 02 Shoes for ...',\n",
       " 'Sneakers for men(black_6) Sneakers For Men',\n",
       " 'DERICO Sneakers For Men',\n",
       " 'Court Royale AC Sneakers For Men',\n",
       " 'Sneakers For Men',\n",
       " 'Super 445 Fashion Sneakers For Men',\n",
       " 'Sneakers For Men',\n",
       " 'Combo Pack of 4 Casual Shoes Sneakers For Men',\n",
       " 'casual for men (beige 06) Sneakers For Men',\n",
       " 'Sneakers For Men',\n",
       " 'Lazy Knit Slip On IDP Sneakers For Men',\n",
       " 'Unique & Perfect Collection Combo Pack of 02 Shoes for ...',\n",
       " 'Fashionable casual sneaker shoes Sneakers For Men',\n",
       " 'Combo Pack of 3 Casual Sneakers Shoes Sneakers For Men',\n",
       " 'Flex Generation V1 IDP Sneakers For Men',\n",
       " 'EXPLORE Sneakers For Men',\n",
       " 'SB Heritage Vulc Skate Sneakers For Men',\n",
       " 'New Fashion Outdoor Trendy Lightweight Casual,Canvas St...',\n",
       " 'Sneakers For Men',\n",
       " 'Combo Pack of 5 Casual Shoes Loafers Sneakers For Men',\n",
       " 'Synthetic Leather Casual Partywear Wedding Sneakers Sho...',\n",
       " 'COMBO-PACK-(3)-SNEAKER-WRBT Sneakers For Men',\n",
       " 'Trendy Sneakers For Men',\n",
       " \"Super & Trendy Men's Pack of 02 Pair Shoes for Boys Cas...\",\n",
       " 'Poise Perf V1 IDP Sneakers For Men',\n",
       " 'Trendy Sneakers For Men',\n",
       " 'Combo Pack of 4 Casual Sneakers With Sneakers For Men',\n",
       " 'Sneakers For Men',\n",
       " 'Men 5014 Latest Collection Stylish Casual Sports Loafer...',\n",
       " 'Casual Sneakers Shoes For Men And Boys Sneakers For Men',\n",
       " 'Speed Set of 5 Pairs Sneakers Outdoors Casuals for Men ...',\n",
       " 'Flex Generation V1 IDP Sneakers For Men',\n",
       " 'JFWMARC SUEDE COMBO Sneakers For Men',\n",
       " 'Combo Pack Of 4 Casual Sneakers For Men',\n",
       " 'Trend Sneakers For Men',\n",
       " 'Casual Sneakers White Shoes For Men And Boys Sneakers F...',\n",
       " 'Explore Strada Sneakers For Men',\n",
       " 'EMAN Sneakers For Men',\n",
       " 'Sneakers For Men',\n",
       " 'Sneakers For Men',\n",
       " 'Combo Pack of 2 Casual Shoes Sneakers For Men',\n",
       " 'Ralph Sampson Vulc Sneakers For Men',\n",
       " 'Combo Pack of 4 Casual Shoes Sneakers For Men',\n",
       " \"Men's Stylish Casual Shoes Sneakers For Men\",\n",
       " 'Puma Smash v2 Buck Sneakers For Men',\n",
       " 'Unique & Perfect Collection Combo Pack of 02 Shoes for ...',\n",
       " 'Combo Pack of 2 Casual Shoes Sneakers For Men',\n",
       " 'Sneakers For Men',\n",
       " 'Sneakers For Men',\n",
       " 'Fashionable casual sneaker shoes Sneakers For Men',\n",
       " 'SM-162 Sneakers For Men',\n",
       " 'Rigel IDP Sneakers For Men',\n",
       " 'SB CHECK SOLAR CNVS Sneakers For Men',\n",
       " 'Combo Pack of 5 Casual Shoes Loafers Sneakers For Men',\n",
       " 'Sneakers For Men',\n",
       " 'Sneakers For Men  (White) Sneakers For Men',\n",
       " 'Walking shoes,Casual Sneakers For Men',\n",
       " 'JFWMARC SUEDE COMBO Sneakers For Men',\n",
       " 'Combo Pack of 4 Casual Sneakers With Sneakers For Men',\n",
       " 'Speed Set of 5 Pairs Sneakers Outdoors Casuals for Men ...',\n",
       " 'Combo Pack of 2 Casual Shoes Sneakers For Men',\n",
       " 'Combo Pack of 2 Latest Collection Stylish Casual Loafer...',\n",
       " 'Trend Sneakers For Men',\n",
       " 'HIGHLAND HEATHER Sneakers For Men',\n",
       " 'Simha IDP Sneakers For Men',\n",
       " 'JFWBENNY KNIT SLIP ON Sneakers For Men',\n",
       " 'Combo Pack Of 3 Loafer Shoes Sneakers For Men',\n",
       " 'Court Royale 2 Low Sneakers For Men',\n",
       " 'Sneakers For Men',\n",
       " 'Casual Sneakers Green Shoes For Men And Boys Sneakers F...',\n",
       " 'Sneakers For Men']"
      ]
     },
     "execution_count": 26,
     "metadata": {},
     "output_type": "execute_result"
    }
   ],
   "source": [
    "Discription_Full=[]\n",
    "for i in page_url:\n",
    "    driver.get(i)\n",
    "    Discription_tag=driver.find_elements_by_xpath(\"//a[@class='IRpwTa']\")\n",
    "    for i in Discription_tag:\n",
    "        Discription_Full.append(i.text)\n",
    "Discription_Full[:100]"
   ]
  },
  {
   "cell_type": "code",
   "execution_count": 30,
   "metadata": {
    "collapsed": true
   },
   "outputs": [
    {
     "name": "stdout",
     "output_type": "stream",
     "text": [
      "440 440 436 349\n"
     ]
    }
   ],
   "source": [
    "print(len(Brand_list),len(Price_list),len(Discount_list),len(Discription_Full))"
   ]
  },
  {
   "cell_type": "code",
   "execution_count": 31,
   "metadata": {},
   "outputs": [],
   "source": [
    "Sneaker=pd.DataFrame({})\n",
    "Sneaker['Brand']=Brand_list[:100]\n",
    "Sneaker['Price']=Price_list[:100]\n",
    "Sneaker['Discount']=Discount_list[:100]\n",
    "Sneaker['Discription']=Discription_Full[:100]"
   ]
  },
  {
   "cell_type": "code",
   "execution_count": 32,
   "metadata": {
    "collapsed": true
   },
   "outputs": [
    {
     "data": {
      "text/html": [
       "<div>\n",
       "<style scoped>\n",
       "    .dataframe tbody tr th:only-of-type {\n",
       "        vertical-align: middle;\n",
       "    }\n",
       "\n",
       "    .dataframe tbody tr th {\n",
       "        vertical-align: top;\n",
       "    }\n",
       "\n",
       "    .dataframe thead th {\n",
       "        text-align: right;\n",
       "    }\n",
       "</style>\n",
       "<table border=\"1\" class=\"dataframe\">\n",
       "  <thead>\n",
       "    <tr style=\"text-align: right;\">\n",
       "      <th></th>\n",
       "      <th>Brand</th>\n",
       "      <th>Price</th>\n",
       "      <th>Discount</th>\n",
       "      <th>Discription</th>\n",
       "    </tr>\n",
       "  </thead>\n",
       "  <tbody>\n",
       "    <tr>\n",
       "      <th>0</th>\n",
       "      <td>Onivixo</td>\n",
       "      <td>₹599</td>\n",
       "      <td>50% off</td>\n",
       "      <td>Sneakers For Men</td>\n",
       "    </tr>\n",
       "    <tr>\n",
       "      <th>1</th>\n",
       "      <td>Birde</td>\n",
       "      <td>₹673</td>\n",
       "      <td>66% off</td>\n",
       "      <td>Combo Pack of 4 Casual Shoes Sneakers For Men</td>\n",
       "    </tr>\n",
       "    <tr>\n",
       "      <th>2</th>\n",
       "      <td>CALCADOS</td>\n",
       "      <td>₹748</td>\n",
       "      <td>62% off</td>\n",
       "      <td>White Sneaker For Men's/Boy's Sneakers For Men</td>\n",
       "    </tr>\n",
       "    <tr>\n",
       "      <th>3</th>\n",
       "      <td>Shoes Bank</td>\n",
       "      <td>₹349</td>\n",
       "      <td>65% off</td>\n",
       "      <td>Combo Pack Of 4 Casual Sneakers For Men</td>\n",
       "    </tr>\n",
       "    <tr>\n",
       "      <th>4</th>\n",
       "      <td>BRUTON</td>\n",
       "      <td>₹615</td>\n",
       "      <td>84% off</td>\n",
       "      <td>Casual Sneakers Shoes For Men Sneakers For Men</td>\n",
       "    </tr>\n",
       "    <tr>\n",
       "      <th>...</th>\n",
       "      <td>...</td>\n",
       "      <td>...</td>\n",
       "      <td>...</td>\n",
       "      <td>...</td>\n",
       "    </tr>\n",
       "    <tr>\n",
       "      <th>95</th>\n",
       "      <td>Chevit</td>\n",
       "      <td>₹470</td>\n",
       "      <td>44% off</td>\n",
       "      <td>Combo Pack Of 3 Loafer Shoes Sneakers For Men</td>\n",
       "    </tr>\n",
       "    <tr>\n",
       "      <th>96</th>\n",
       "      <td>Zixer</td>\n",
       "      <td>₹555</td>\n",
       "      <td>23% off</td>\n",
       "      <td>Court Royale 2 Low Sneakers For Men</td>\n",
       "    </tr>\n",
       "    <tr>\n",
       "      <th>97</th>\n",
       "      <td>SPARX</td>\n",
       "      <td>₹730</td>\n",
       "      <td>54% off</td>\n",
       "      <td>Sneakers For Men</td>\n",
       "    </tr>\n",
       "    <tr>\n",
       "      <th>98</th>\n",
       "      <td>PUMA</td>\n",
       "      <td>₹1,285</td>\n",
       "      <td>62% off</td>\n",
       "      <td>Casual Sneakers Green Shoes For Men And Boys S...</td>\n",
       "    </tr>\n",
       "    <tr>\n",
       "      <th>99</th>\n",
       "      <td>Zixer</td>\n",
       "      <td>₹555</td>\n",
       "      <td>69% off</td>\n",
       "      <td>Sneakers For Men</td>\n",
       "    </tr>\n",
       "  </tbody>\n",
       "</table>\n",
       "<p>100 rows × 4 columns</p>\n",
       "</div>"
      ],
      "text/plain": [
       "         Brand   Price Discount  \\\n",
       "0      Onivixo    ₹599  50% off   \n",
       "1        Birde    ₹673  66% off   \n",
       "2     CALCADOS    ₹748  62% off   \n",
       "3   Shoes Bank    ₹349  65% off   \n",
       "4       BRUTON    ₹615  84% off   \n",
       "..         ...     ...      ...   \n",
       "95      Chevit    ₹470  44% off   \n",
       "96       Zixer    ₹555  23% off   \n",
       "97       SPARX    ₹730  54% off   \n",
       "98        PUMA  ₹1,285  62% off   \n",
       "99       Zixer    ₹555  69% off   \n",
       "\n",
       "                                          Discription  \n",
       "0                                    Sneakers For Men  \n",
       "1       Combo Pack of 4 Casual Shoes Sneakers For Men  \n",
       "2      White Sneaker For Men's/Boy's Sneakers For Men  \n",
       "3             Combo Pack Of 4 Casual Sneakers For Men  \n",
       "4      Casual Sneakers Shoes For Men Sneakers For Men  \n",
       "..                                                ...  \n",
       "95      Combo Pack Of 3 Loafer Shoes Sneakers For Men  \n",
       "96                Court Royale 2 Low Sneakers For Men  \n",
       "97                                   Sneakers For Men  \n",
       "98  Casual Sneakers Green Shoes For Men And Boys S...  \n",
       "99                                   Sneakers For Men  \n",
       "\n",
       "[100 rows x 4 columns]"
      ]
     },
     "execution_count": 32,
     "metadata": {},
     "output_type": "execute_result"
    }
   ],
   "source": [
    "Sneaker"
   ]
  },
  {
   "cell_type": "markdown",
   "metadata": {},
   "source": [
    "# :Q9 Go to the link - https://www.myntra.com/shoes\n",
    "Set Price filter to “Rs. 6649 to Rs. 13099” , Color filter to “Black”, as shown in \n",
    "the below imageWEB SCRAPING ASSIGNMENT-2\n",
    ".\n",
    "And then scrape First 100 shoes data you get. The data should include “Brand” of \n",
    "the shoes , Short Shoe description, price of the shoe as shown in the below image.\n",
    "Please note that applying the filter and scraping the data , everything should be \n",
    "done through code only and there should not be any manual step"
   ]
  },
  {
   "cell_type": "code",
   "execution_count": 1,
   "metadata": {},
   "outputs": [],
   "source": [
    "import selenium\n",
    "import pandas as pd\n",
    "from selenium import webdriver"
   ]
  },
  {
   "cell_type": "code",
   "execution_count": 11,
   "metadata": {},
   "outputs": [],
   "source": [
    "driver = webdriver.Chrome(\"chromedriver.exe\")"
   ]
  },
  {
   "cell_type": "code",
   "execution_count": 12,
   "metadata": {},
   "outputs": [],
   "source": [
    "url = 'https://www.myntra.com/shoes'\n",
    "driver.get(url)"
   ]
  },
  {
   "cell_type": "code",
   "execution_count": 13,
   "metadata": {
    "collapsed": true
   },
   "outputs": [
    {
     "data": {
      "text/plain": [
       "<selenium.webdriver.remote.webelement.WebElement (session=\"67bffddcda091b4bfbeb696584d91012\", element=\"3485a41d-d19e-46ac-a393-e9ada2a8fd39\")>"
      ]
     },
     "execution_count": 13,
     "metadata": {},
     "output_type": "execute_result"
    }
   ],
   "source": [
    "search_product = driver.find_element_by_xpath('/html/body/div[1]/div/div/header/div[2]/div[3]/input')\n",
    "search_product"
   ]
  },
  {
   "cell_type": "code",
   "execution_count": 8,
   "metadata": {},
   "outputs": [],
   "source": [
    "search_product.send_keys(\"Shoe\")"
   ]
  },
  {
   "cell_type": "code",
   "execution_count": 9,
   "metadata": {
    "collapsed": true
   },
   "outputs": [
    {
     "data": {
      "text/plain": [
       "<selenium.webdriver.remote.webelement.WebElement (session=\"c55879d374b4a6fb8018a9676b369d9b\", element=\"3449c8ba-b37c-4915-b7f1-c9176c568968\")>"
      ]
     },
     "execution_count": 9,
     "metadata": {},
     "output_type": "execute_result"
    }
   ],
   "source": [
    "search_btn = driver.find_element_by_xpath(\"//a[@class='desktop-submit']\")\n",
    "search_btn"
   ]
  },
  {
   "cell_type": "code",
   "execution_count": 14,
   "metadata": {},
   "outputs": [],
   "source": [
    "Price_filter = driver.find_element_by_xpath('/html/body/div[2]/div/div[1]/main/div[3]/div[1]/section/div/div[5]/ul/li[2]/label')\n",
    "Price_filter.click()"
   ]
  },
  {
   "cell_type": "code",
   "execution_count": 15,
   "metadata": {},
   "outputs": [],
   "source": [
    "Colour_filter = driver.find_element_by_xpath('/html/body/div[2]/div/div[1]/main/div[3]/div[1]/section/div/div[6]/ul/li[1]/label')\n",
    "Colour_filter.click()"
   ]
  },
  {
   "cell_type": "code",
   "execution_count": 16,
   "metadata": {
    "collapsed": true
   },
   "outputs": [
    {
     "data": {
      "text/plain": [
       "[<selenium.webdriver.remote.webelement.WebElement (session=\"67bffddcda091b4bfbeb696584d91012\", element=\"c06e3acf-2708-44c5-a050-737da1dac0df\")>,\n",
       " <selenium.webdriver.remote.webelement.WebElement (session=\"67bffddcda091b4bfbeb696584d91012\", element=\"bb70985a-41ff-44c3-ab7c-1ee5a525eddf\")>,\n",
       " <selenium.webdriver.remote.webelement.WebElement (session=\"67bffddcda091b4bfbeb696584d91012\", element=\"176cb33b-764c-42ce-82f8-e1b0bfa6e872\")>,\n",
       " <selenium.webdriver.remote.webelement.WebElement (session=\"67bffddcda091b4bfbeb696584d91012\", element=\"216598b0-8aa4-485c-89c7-2dff44407716\")>,\n",
       " <selenium.webdriver.remote.webelement.WebElement (session=\"67bffddcda091b4bfbeb696584d91012\", element=\"f2b9569e-a507-4212-b82b-831e6c7ad3e5\")>,\n",
       " <selenium.webdriver.remote.webelement.WebElement (session=\"67bffddcda091b4bfbeb696584d91012\", element=\"b77703c2-9865-4b0b-af2f-76608cd57217\")>,\n",
       " <selenium.webdriver.remote.webelement.WebElement (session=\"67bffddcda091b4bfbeb696584d91012\", element=\"2b4591b1-935e-4ff3-98fb-8b497d56351b\")>,\n",
       " <selenium.webdriver.remote.webelement.WebElement (session=\"67bffddcda091b4bfbeb696584d91012\", element=\"97491b2b-f68e-40e0-bb82-d302faebcd03\")>,\n",
       " <selenium.webdriver.remote.webelement.WebElement (session=\"67bffddcda091b4bfbeb696584d91012\", element=\"0e6da027-cbc0-40c6-8c52-8bf227ea68f4\")>,\n",
       " <selenium.webdriver.remote.webelement.WebElement (session=\"67bffddcda091b4bfbeb696584d91012\", element=\"74a23167-b084-407a-9a05-769a4b9cf15d\")>,\n",
       " <selenium.webdriver.remote.webelement.WebElement (session=\"67bffddcda091b4bfbeb696584d91012\", element=\"821d86c0-f605-4be7-9ddc-d659270b0006\")>,\n",
       " <selenium.webdriver.remote.webelement.WebElement (session=\"67bffddcda091b4bfbeb696584d91012\", element=\"fe4fa3c7-c9fb-44bd-9c59-7650464588d5\")>,\n",
       " <selenium.webdriver.remote.webelement.WebElement (session=\"67bffddcda091b4bfbeb696584d91012\", element=\"8868e659-f465-40d7-bad8-433f8c85e78e\")>,\n",
       " <selenium.webdriver.remote.webelement.WebElement (session=\"67bffddcda091b4bfbeb696584d91012\", element=\"2e00abb0-1edc-4a7b-b0a5-00e17ccc49af\")>,\n",
       " <selenium.webdriver.remote.webelement.WebElement (session=\"67bffddcda091b4bfbeb696584d91012\", element=\"96605100-e469-45c8-8189-c7bfae7dc817\")>,\n",
       " <selenium.webdriver.remote.webelement.WebElement (session=\"67bffddcda091b4bfbeb696584d91012\", element=\"51c8ca4f-42df-4d38-b677-d88fd47685c4\")>,\n",
       " <selenium.webdriver.remote.webelement.WebElement (session=\"67bffddcda091b4bfbeb696584d91012\", element=\"735cddca-42b4-44cb-a4dd-e9d824720237\")>,\n",
       " <selenium.webdriver.remote.webelement.WebElement (session=\"67bffddcda091b4bfbeb696584d91012\", element=\"672f56b5-89f7-4711-98a9-01834e3a2fc0\")>,\n",
       " <selenium.webdriver.remote.webelement.WebElement (session=\"67bffddcda091b4bfbeb696584d91012\", element=\"3fdd5620-c26a-422c-bf6d-d8dd47f76baf\")>,\n",
       " <selenium.webdriver.remote.webelement.WebElement (session=\"67bffddcda091b4bfbeb696584d91012\", element=\"668aab3e-be34-4c43-b44d-913d0ed0e110\")>,\n",
       " <selenium.webdriver.remote.webelement.WebElement (session=\"67bffddcda091b4bfbeb696584d91012\", element=\"48c38159-346a-43a0-8819-cbdd765a1ff6\")>,\n",
       " <selenium.webdriver.remote.webelement.WebElement (session=\"67bffddcda091b4bfbeb696584d91012\", element=\"6ce59643-ea44-4dc0-92c8-c60729b515fb\")>,\n",
       " <selenium.webdriver.remote.webelement.WebElement (session=\"67bffddcda091b4bfbeb696584d91012\", element=\"e008cac2-b3f1-46cf-b3f3-e844dc31f203\")>,\n",
       " <selenium.webdriver.remote.webelement.WebElement (session=\"67bffddcda091b4bfbeb696584d91012\", element=\"8b77f64f-cd93-4097-979f-7fdeab086016\")>,\n",
       " <selenium.webdriver.remote.webelement.WebElement (session=\"67bffddcda091b4bfbeb696584d91012\", element=\"e6c9c18d-b616-4d87-b61a-39dab9eef8a5\")>,\n",
       " <selenium.webdriver.remote.webelement.WebElement (session=\"67bffddcda091b4bfbeb696584d91012\", element=\"e73a2563-4e1b-4c43-9a30-c9e1ef1626fd\")>,\n",
       " <selenium.webdriver.remote.webelement.WebElement (session=\"67bffddcda091b4bfbeb696584d91012\", element=\"cc61e8e0-197c-4cd0-8fb0-aa1aacb805ee\")>]"
      ]
     },
     "execution_count": 16,
     "metadata": {},
     "output_type": "execute_result"
    }
   ],
   "source": [
    "Price_tag=driver.find_elements_by_xpath(\"//span[@class='product-discountedPrice']\")\n",
    "Price_tag"
   ]
  },
  {
   "cell_type": "code",
   "execution_count": 19,
   "metadata": {
    "collapsed": true
   },
   "outputs": [
    {
     "data": {
      "text/plain": [
       "['https://www.myntra.com/shoes?f=Color%3ABlack_36454f&plaEnabled=false&rf=Price%3A6589.0_13059.0_6589.0%20TO%2013059.0&p=2',\n",
       " 'https://www.myntra.com/shoes?f=Color%3ABlack_36454f&plaEnabled=false&rf=Price%3A6589.0_13059.0_6589.0%20TO%2013059.0&p=3',\n",
       " 'https://www.myntra.com/shoes?f=Color%3ABlack_36454f&plaEnabled=false&rf=Price%3A6589.0_13059.0_6589.0%20TO%2013059.0&p=4',\n",
       " 'https://www.myntra.com/shoes?f=Color%3ABlack_36454f&plaEnabled=false&rf=Price%3A6589.0_13059.0_6589.0%20TO%2013059.0&p=5',\n",
       " 'https://www.myntra.com/shoes?f=Color%3ABlack_36454f&plaEnabled=false&rf=Price%3A6589.0_13059.0_6589.0%20TO%2013059.0&p=6',\n",
       " 'https://www.myntra.com/shoes?f=Color%3ABlack_36454f&plaEnabled=false&rf=Price%3A6589.0_13059.0_6589.0%20TO%2013059.0&p=7',\n",
       " 'https://www.myntra.com/shoes?f=Color%3ABlack_36454f&plaEnabled=false&rf=Price%3A6589.0_13059.0_6589.0%20TO%2013059.0&p=8',\n",
       " 'https://www.myntra.com/shoes?f=Color%3ABlack_36454f&plaEnabled=false&rf=Price%3A6589.0_13059.0_6589.0%20TO%2013059.0&p=9',\n",
       " 'https://www.myntra.com/shoes?f=Color%3ABlack_36454f&plaEnabled=false&rf=Price%3A6589.0_13059.0_6589.0%20TO%2013059.0&p=10']"
      ]
     },
     "execution_count": 19,
     "metadata": {},
     "output_type": "execute_result"
    }
   ],
   "source": [
    "page_url = []\n",
    "url = driver.find_elements_by_xpath(\"//li[@class='pagination-number']//a\")\n",
    "for i in url:\n",
    "    page_url.append(i.get_attribute(\"href\"))\n",
    "page_url"
   ]
  },
  {
   "cell_type": "code",
   "execution_count": 20,
   "metadata": {
    "collapsed": true
   },
   "outputs": [
    {
     "data": {
      "text/plain": [
       "['Rs. 7192',\n",
       " 'Rs. 6675',\n",
       " 'Rs. 6622',\n",
       " 'Rs. 8621',\n",
       " 'Rs. 8046',\n",
       " 'Rs. 7595',\n",
       " 'Rs. 8999',\n",
       " 'Rs. 7039',\n",
       " 'Rs. 8499',\n",
       " 'Rs. 11899',\n",
       " 'Rs. 9799',\n",
       " 'Rs. 6636',\n",
       " 'Rs. 7699',\n",
       " 'Rs. 6636',\n",
       " 'Rs. 7192',\n",
       " 'Rs. 6749',\n",
       " 'Rs. 8792',\n",
       " 'Rs. 6993',\n",
       " 'Rs. 6749',\n",
       " 'Rs. 7693',\n",
       " 'Rs. 7440',\n",
       " 'Rs. 7436',\n",
       " 'Rs. 11305',\n",
       " 'Rs. 6993',\n",
       " 'Rs. 7999',\n",
       " 'Rs. 6799',\n",
       " 'Rs. 8399',\n",
       " 'Rs. 9513',\n",
       " 'Rs. 6599',\n",
       " 'Rs. 7999',\n",
       " 'Rs. 9599',\n",
       " 'Rs. 7799',\n",
       " 'Rs. 8999',\n",
       " 'Rs. 9303',\n",
       " 'Rs. 7696',\n",
       " 'Rs. 8399',\n",
       " 'Rs. 8799',\n",
       " 'Rs. 6995',\n",
       " 'Rs. 9047',\n",
       " 'Rs. 8771',\n",
       " 'Rs. 6969',\n",
       " 'Rs. 7199',\n",
       " 'Rs. 7699',\n",
       " 'Rs. 6792',\n",
       " 'Rs. 9499',\n",
       " 'Rs. 10399',\n",
       " 'Rs. 8449',\n",
       " 'Rs. 6999',\n",
       " 'Rs. 7693',\n",
       " 'Rs. 10493',\n",
       " 'Rs. 7149',\n",
       " 'Rs. 7149',\n",
       " 'Rs. 7699',\n",
       " 'Rs. 8999',\n",
       " 'Rs. 7799',\n",
       " 'Rs. 7799',\n",
       " 'Rs. 6873',\n",
       " 'Rs. 8799',\n",
       " 'Rs. 8999',\n",
       " 'Rs. 7693',\n",
       " 'Rs. 7999',\n",
       " 'Rs. 6999',\n",
       " 'Rs. 7349',\n",
       " 'Rs. 8746',\n",
       " 'Rs. 9196',\n",
       " 'Rs. 6999',\n",
       " 'Rs. 9099',\n",
       " 'Rs. 9099',\n",
       " 'Rs. 9093',\n",
       " 'Rs. 7499',\n",
       " 'Rs. 9099',\n",
       " 'Rs. 7400',\n",
       " 'Rs. 8792',\n",
       " 'Rs. 9099',\n",
       " 'Rs. 7350',\n",
       " 'Rs. 11249',\n",
       " 'Rs. 8999',\n",
       " 'Rs. 7799',\n",
       " 'Rs. 8399',\n",
       " 'Rs. 7192',\n",
       " 'Rs. 7192',\n",
       " 'Rs. 7192',\n",
       " 'Rs. 6599',\n",
       " 'Rs. 9796',\n",
       " 'Rs. 7199',\n",
       " 'Rs. 7206',\n",
       " 'Rs. 8399',\n",
       " 'Rs. 7699',\n",
       " 'Rs. 7699',\n",
       " 'Rs. 6599',\n",
       " 'Rs. 7199',\n",
       " 'Rs. 9279',\n",
       " 'Rs. 6749',\n",
       " 'Rs. 7192',\n",
       " 'Rs. 6999',\n",
       " 'Rs. 8953',\n",
       " 'Rs. 8154',\n",
       " 'Rs. 7192',\n",
       " 'Rs. 6993',\n",
       " 'Rs. 6999']"
      ]
     },
     "execution_count": 20,
     "metadata": {},
     "output_type": "execute_result"
    }
   ],
   "source": [
    "Price_list=[]\n",
    "for i in page_url:\n",
    "    driver.get(i)\n",
    "    Price_tags=driver.find_elements_by_xpath(\"//span[@class='product-discountedPrice']\")\n",
    "    for i in Price_tags:\n",
    "        Price_list.append(i.text)\n",
    "Price_list[:100]"
   ]
  },
  {
   "cell_type": "code",
   "execution_count": 22,
   "metadata": {
    "collapsed": true
   },
   "outputs": [
    {
     "data": {
      "text/plain": [
       "[<selenium.webdriver.remote.webelement.WebElement (session=\"67bffddcda091b4bfbeb696584d91012\", element=\"b90ccb22-a1d9-4c96-8d53-10efeda8f8b3\")>,\n",
       " <selenium.webdriver.remote.webelement.WebElement (session=\"67bffddcda091b4bfbeb696584d91012\", element=\"89c095af-8311-4170-b8ea-3520493c945a\")>,\n",
       " <selenium.webdriver.remote.webelement.WebElement (session=\"67bffddcda091b4bfbeb696584d91012\", element=\"205e9482-a677-439e-9a6c-ef69142f142b\")>,\n",
       " <selenium.webdriver.remote.webelement.WebElement (session=\"67bffddcda091b4bfbeb696584d91012\", element=\"8c86555c-b46f-4198-a250-a530ab571235\")>,\n",
       " <selenium.webdriver.remote.webelement.WebElement (session=\"67bffddcda091b4bfbeb696584d91012\", element=\"33dbf8c4-a77f-456d-b58d-17df0db105dd\")>,\n",
       " <selenium.webdriver.remote.webelement.WebElement (session=\"67bffddcda091b4bfbeb696584d91012\", element=\"1a9d5df6-2c42-4b9f-80c4-c0da29c1bdfa\")>,\n",
       " <selenium.webdriver.remote.webelement.WebElement (session=\"67bffddcda091b4bfbeb696584d91012\", element=\"6e4de941-83e7-4032-86b0-2ccb7abd41cd\")>,\n",
       " <selenium.webdriver.remote.webelement.WebElement (session=\"67bffddcda091b4bfbeb696584d91012\", element=\"bc8597b3-c87c-4257-be97-45e97118556f\")>,\n",
       " <selenium.webdriver.remote.webelement.WebElement (session=\"67bffddcda091b4bfbeb696584d91012\", element=\"7047df8a-1591-4193-9b12-347238104435\")>,\n",
       " <selenium.webdriver.remote.webelement.WebElement (session=\"67bffddcda091b4bfbeb696584d91012\", element=\"39de51af-8668-4ebb-b069-0760a95afeeb\")>,\n",
       " <selenium.webdriver.remote.webelement.WebElement (session=\"67bffddcda091b4bfbeb696584d91012\", element=\"1068f214-6839-471b-b62e-db095c99ec71\")>,\n",
       " <selenium.webdriver.remote.webelement.WebElement (session=\"67bffddcda091b4bfbeb696584d91012\", element=\"c237a6a9-6a63-4644-b4ad-08f30401a89b\")>,\n",
       " <selenium.webdriver.remote.webelement.WebElement (session=\"67bffddcda091b4bfbeb696584d91012\", element=\"8fecc3b6-4a15-40b6-9008-5911ad0abe5d\")>,\n",
       " <selenium.webdriver.remote.webelement.WebElement (session=\"67bffddcda091b4bfbeb696584d91012\", element=\"12d311ad-d825-4895-ab96-e62721ddfd93\")>,\n",
       " <selenium.webdriver.remote.webelement.WebElement (session=\"67bffddcda091b4bfbeb696584d91012\", element=\"9d54589f-4858-457b-98e7-80eaa8ece181\")>,\n",
       " <selenium.webdriver.remote.webelement.WebElement (session=\"67bffddcda091b4bfbeb696584d91012\", element=\"93709127-7247-406f-a1b9-c35173d76ce7\")>,\n",
       " <selenium.webdriver.remote.webelement.WebElement (session=\"67bffddcda091b4bfbeb696584d91012\", element=\"11fee9fe-64e6-4c10-80f0-5f3cc7827c53\")>,\n",
       " <selenium.webdriver.remote.webelement.WebElement (session=\"67bffddcda091b4bfbeb696584d91012\", element=\"0728d6a2-9d2c-4a64-aef9-d2b6673fe74d\")>,\n",
       " <selenium.webdriver.remote.webelement.WebElement (session=\"67bffddcda091b4bfbeb696584d91012\", element=\"98ba43c5-439c-4270-939f-3d6108e52226\")>,\n",
       " <selenium.webdriver.remote.webelement.WebElement (session=\"67bffddcda091b4bfbeb696584d91012\", element=\"77743174-87cf-41c8-b5d3-94b659e27c05\")>,\n",
       " <selenium.webdriver.remote.webelement.WebElement (session=\"67bffddcda091b4bfbeb696584d91012\", element=\"8e9b2b48-be86-440b-96ea-7a04c66aee3c\")>,\n",
       " <selenium.webdriver.remote.webelement.WebElement (session=\"67bffddcda091b4bfbeb696584d91012\", element=\"c7eb800e-d664-4a25-a699-3aebb82c728a\")>,\n",
       " <selenium.webdriver.remote.webelement.WebElement (session=\"67bffddcda091b4bfbeb696584d91012\", element=\"48665ce5-f499-4a1d-8e4b-9578ea42d498\")>,\n",
       " <selenium.webdriver.remote.webelement.WebElement (session=\"67bffddcda091b4bfbeb696584d91012\", element=\"1df92c1e-ec77-4681-b97c-d298abae307f\")>,\n",
       " <selenium.webdriver.remote.webelement.WebElement (session=\"67bffddcda091b4bfbeb696584d91012\", element=\"c09128bb-f4d9-450e-976a-eb0e368e0c87\")>]"
      ]
     },
     "execution_count": 22,
     "metadata": {},
     "output_type": "execute_result"
    }
   ],
   "source": [
    "Discription_tag=driver.find_elements_by_xpath(\"//h4[@class='product-product']\")\n",
    "Discription_tag"
   ]
  },
  {
   "cell_type": "code",
   "execution_count": 23,
   "metadata": {
    "collapsed": true
   },
   "outputs": [
    {
     "data": {
      "text/plain": [
       "['Men Formal Leather Brogues',\n",
       " 'Women Peep Toe Heels',\n",
       " 'Men Leather Formal Derbys',\n",
       " 'Women Leather Heeled Boots',\n",
       " 'Women Solid Leather Pumps',\n",
       " 'Men Solid Leather Formal Loafers',\n",
       " 'Men Leather Loafers',\n",
       " 'Men REACT MILER 2 Running',\n",
       " 'Men AIR ZOOM PEGASUS 38 Run',\n",
       " 'Men Zoom Winflo 8 Running',\n",
       " 'Men AIR ZOOM PEGASUS 38 Run',\n",
       " 'Men Textured Leather Loafers',\n",
       " 'Men REACT MILER 2 Running',\n",
       " 'Woven Design Casual Sneakers',\n",
       " 'Men JORDAN ONE TAKE II Shoes',\n",
       " 'Men Woven Design Sneakers',\n",
       " 'Men Solid Loafers',\n",
       " 'HOVR Infinite 2 Running Shoes',\n",
       " 'Men Leather Driving Shoes',\n",
       " 'Men Textured Oxfords',\n",
       " 'Men Woven Design Sneakers',\n",
       " 'Men Leather Slip-On Sneakers',\n",
       " 'Men Textured Sneakers',\n",
       " 'Men Ultraboost DNA CC_1 Shoes',\n",
       " 'Ultraboost DNA Running Shoes',\n",
       " 'Women Solid Leather Pumps',\n",
       " 'Men GENERATION ZEROGRAND STITCHLITE',\n",
       " 'Men Wingtip Oxford Sneakers',\n",
       " 'Women Solid Leather Ballerinas',\n",
       " 'Men Woven Design Loafers',\n",
       " 'Men AIR MAX INFINITY Sneakers',\n",
       " 'Men Leather Formal Loafers',\n",
       " 'Women Leather Ballerinas',\n",
       " 'Women Leather Sneakers',\n",
       " 'Women Leather Pumps',\n",
       " 'Men Casual Shoes',\n",
       " 'Men Running Shoes',\n",
       " 'Women Woven Design Sneakers',\n",
       " 'Men Solid Leather Formal Derbys',\n",
       " 'Men Solid Leather Formal Derbys',\n",
       " 'Men Solid Leather Formal Penny Loafers',\n",
       " 'Women Solid Leather Gladiators',\n",
       " 'Women Solid Leather Pumps',\n",
       " 'Women Woven Design Slip-On Sneakers',\n",
       " 'Women Leather Heels',\n",
       " 'Men Leather Formal Oxfords',\n",
       " 'Women Leather Slip-Ons',\n",
       " 'Women Heeled Boots',\n",
       " 'Men PG 5 EP Basketball Shoes',\n",
       " 'Men Leather Chelsea Boots',\n",
       " 'Women Solid Leather Heels',\n",
       " 'Men Textured Formal Leather Loafers',\n",
       " 'Men Leather Formal Monks',\n",
       " 'Women Embellished Sandals',\n",
       " 'Women Solid Block Heels',\n",
       " 'Men Solid Formal Leather Slip-On Shoes',\n",
       " 'Women Leather Solid Pumps',\n",
       " 'Women Sneakers',\n",
       " 'Women Open Toe Flats',\n",
       " 'Women Open Toe Flats',\n",
       " 'Women Solid Leather Loafers',\n",
       " 'Women Solid Flat Boots',\n",
       " 'Ustraa black',\n",
       " 'Men Sneakers',\n",
       " 'Men Leather Loafers',\n",
       " 'Men Leather Sneakers',\n",
       " 'Men EvoRide TOKYO Shoes',\n",
       " 'Men Solid Leather Formal Oxfords',\n",
       " 'Men Solid Leather Formal Derbys',\n",
       " 'Women Sneakers',\n",
       " 'Women Sneakers',\n",
       " 'Men Solid Leather Formal Derbys',\n",
       " 'Women HOVR Infinite 2 Running',\n",
       " 'Men Solid Leather Formal Brogues',\n",
       " 'Women Arizona Oiled Leather Flats',\n",
       " 'Women Derbys Casual Shoes',\n",
       " 'Men Sneakers',\n",
       " 'Men JORDAN DELTA Sneakers',\n",
       " 'Men Leather Formal Slip Ons',\n",
       " 'Men Running Shoes',\n",
       " 'Leather Block Sandals',\n",
       " 'Men Textured Leather Formal Loafers',\n",
       " 'Men Leather Formal Derbys',\n",
       " 'Women AIR ZOOM Running',\n",
       " 'Men Leather Driving Shoes',\n",
       " 'Men ZOOM WINFLO8 Running Shoes',\n",
       " 'Men Woven Design Slip-On Sneakers',\n",
       " 'Men Leather Sneakers',\n",
       " 'Men Nano X1 Training Shoes',\n",
       " 'Men ZX 2K BOOST Sneakers',\n",
       " 'Men Solid Leather Formal Loafers',\n",
       " 'Men Running Shoes',\n",
       " 'Block Heeled Boots',\n",
       " 'Women Woven Design Sneakers',\n",
       " 'Solid Slip On Shoes',\n",
       " 'Men Printed Sneakers',\n",
       " 'Men NMD_R1 Sneakers',\n",
       " 'Women Woven Design Sneakers',\n",
       " 'Women Leather Pumps',\n",
       " 'Women Leather Sneakers']"
      ]
     },
     "execution_count": 23,
     "metadata": {},
     "output_type": "execute_result"
    }
   ],
   "source": [
    "Discription_Full=[]\n",
    "for i in page_url:\n",
    "    driver.get(i)\n",
    "    Discription_tag=driver.find_elements_by_xpath(\"//h4[@class='product-product']\")\n",
    "    for i in Discription_tag:\n",
    "        Discription_Full.append(i.text)\n",
    "Discription_Full[:100]"
   ]
  },
  {
   "cell_type": "code",
   "execution_count": 25,
   "metadata": {
    "collapsed": true
   },
   "outputs": [
    {
     "data": {
      "text/plain": [
       "[<selenium.webdriver.remote.webelement.WebElement (session=\"67bffddcda091b4bfbeb696584d91012\", element=\"063bdaa4-6c79-494f-95ef-d69a0e173ea8\")>,\n",
       " <selenium.webdriver.remote.webelement.WebElement (session=\"67bffddcda091b4bfbeb696584d91012\", element=\"63f5494d-4dd3-48a5-8693-cf0616906cb2\")>,\n",
       " <selenium.webdriver.remote.webelement.WebElement (session=\"67bffddcda091b4bfbeb696584d91012\", element=\"928cf09e-2427-4245-82f4-eca1a4183fea\")>,\n",
       " <selenium.webdriver.remote.webelement.WebElement (session=\"67bffddcda091b4bfbeb696584d91012\", element=\"72422216-c53a-4231-a4de-4def91214cec\")>,\n",
       " <selenium.webdriver.remote.webelement.WebElement (session=\"67bffddcda091b4bfbeb696584d91012\", element=\"dcea0309-55f6-4451-8374-072fd217f7d9\")>,\n",
       " <selenium.webdriver.remote.webelement.WebElement (session=\"67bffddcda091b4bfbeb696584d91012\", element=\"9f88b05a-f07e-4669-8087-6f87920af992\")>,\n",
       " <selenium.webdriver.remote.webelement.WebElement (session=\"67bffddcda091b4bfbeb696584d91012\", element=\"61630194-f288-498f-920b-2c208b8f8ddd\")>,\n",
       " <selenium.webdriver.remote.webelement.WebElement (session=\"67bffddcda091b4bfbeb696584d91012\", element=\"ffee2108-fac0-484d-8b5d-ed9b4d9b0db6\")>,\n",
       " <selenium.webdriver.remote.webelement.WebElement (session=\"67bffddcda091b4bfbeb696584d91012\", element=\"e358baa1-1257-4f4b-9ead-8b3a2039f8dd\")>,\n",
       " <selenium.webdriver.remote.webelement.WebElement (session=\"67bffddcda091b4bfbeb696584d91012\", element=\"511d13bc-3b1d-4918-bbb8-6cb33798db5a\")>,\n",
       " <selenium.webdriver.remote.webelement.WebElement (session=\"67bffddcda091b4bfbeb696584d91012\", element=\"8971484b-31ea-4bc0-b658-774eee3fb380\")>,\n",
       " <selenium.webdriver.remote.webelement.WebElement (session=\"67bffddcda091b4bfbeb696584d91012\", element=\"8633c30e-7730-4c98-8779-e7039785d968\")>,\n",
       " <selenium.webdriver.remote.webelement.WebElement (session=\"67bffddcda091b4bfbeb696584d91012\", element=\"1c9f39cb-2c18-4e0e-8362-bbb7eb01a3ed\")>,\n",
       " <selenium.webdriver.remote.webelement.WebElement (session=\"67bffddcda091b4bfbeb696584d91012\", element=\"cd79f1c0-59b2-4290-bc7c-a95f9a121275\")>,\n",
       " <selenium.webdriver.remote.webelement.WebElement (session=\"67bffddcda091b4bfbeb696584d91012\", element=\"620f2fb8-4d6c-4dcc-9f81-45eb09ea7314\")>,\n",
       " <selenium.webdriver.remote.webelement.WebElement (session=\"67bffddcda091b4bfbeb696584d91012\", element=\"ad316ee8-4189-4102-ae2b-a0d87303b332\")>,\n",
       " <selenium.webdriver.remote.webelement.WebElement (session=\"67bffddcda091b4bfbeb696584d91012\", element=\"78074aa6-a60c-4d63-8689-d1f72e8cbf2e\")>,\n",
       " <selenium.webdriver.remote.webelement.WebElement (session=\"67bffddcda091b4bfbeb696584d91012\", element=\"010ff026-20dc-4b75-b518-2bfbac9372e5\")>,\n",
       " <selenium.webdriver.remote.webelement.WebElement (session=\"67bffddcda091b4bfbeb696584d91012\", element=\"0ebcee3e-f5a4-4cf9-81d0-f7082532b013\")>,\n",
       " <selenium.webdriver.remote.webelement.WebElement (session=\"67bffddcda091b4bfbeb696584d91012\", element=\"c39c5d05-2018-428e-94d5-bd505876110e\")>,\n",
       " <selenium.webdriver.remote.webelement.WebElement (session=\"67bffddcda091b4bfbeb696584d91012\", element=\"929d036c-25a6-4f14-8fd0-ea33d4205e82\")>,\n",
       " <selenium.webdriver.remote.webelement.WebElement (session=\"67bffddcda091b4bfbeb696584d91012\", element=\"bf6621c1-e88e-4f98-8a50-0d010b2ad853\")>,\n",
       " <selenium.webdriver.remote.webelement.WebElement (session=\"67bffddcda091b4bfbeb696584d91012\", element=\"7cda3693-8ba9-432f-89e2-d546547a5e79\")>,\n",
       " <selenium.webdriver.remote.webelement.WebElement (session=\"67bffddcda091b4bfbeb696584d91012\", element=\"133884b2-273d-4a20-b1fe-c2d96ae61d5f\")>,\n",
       " <selenium.webdriver.remote.webelement.WebElement (session=\"67bffddcda091b4bfbeb696584d91012\", element=\"a9059a11-752a-479c-b6b4-487e386f4900\")>]"
      ]
     },
     "execution_count": 25,
     "metadata": {},
     "output_type": "execute_result"
    }
   ],
   "source": [
    "Brand_tag=driver.find_elements_by_xpath(\"//h3[@class='product-brand']\")\n",
    "Brand_tag"
   ]
  },
  {
   "cell_type": "code",
   "execution_count": 26,
   "metadata": {
    "collapsed": true
   },
   "outputs": [
    {
     "data": {
      "text/plain": [
       "['Heel & Buckle London',\n",
       " 'Saint G',\n",
       " 'Hush Puppies',\n",
       " 'Florsheim',\n",
       " 'RARE RABBIT',\n",
       " 'Nike',\n",
       " 'Geox',\n",
       " 'Nike',\n",
       " 'Cole Haan',\n",
       " 'Cole Haan',\n",
       " 'Geox',\n",
       " 'Nike',\n",
       " 'Nike',\n",
       " 'J.FONTINI',\n",
       " 'Nike',\n",
       " 'Lacoste',\n",
       " 'Cole Haan',\n",
       " 'Nike',\n",
       " 'KLEAT',\n",
       " 'J.FONTINI',\n",
       " 'Hush Puppies',\n",
       " 'Lacoste',\n",
       " 'VIONIC',\n",
       " 'ADIDAS',\n",
       " 'ADIDAS',\n",
       " 'ALDO',\n",
       " 'UNDER ARMOUR',\n",
       " 'Cole Haan',\n",
       " 'Geox',\n",
       " 'Geox',\n",
       " 'Cole Haan',\n",
       " 'KLEAT',\n",
       " 'Heel & Buckle London',\n",
       " 'Geox',\n",
       " 'FILA',\n",
       " 'Geox',\n",
       " 'Cole Haan',\n",
       " 'Heel & Buckle London',\n",
       " 'Heel & Buckle London',\n",
       " 'Saint G',\n",
       " 'Nike',\n",
       " 'Saint G',\n",
       " 'Geox',\n",
       " 'Geox',\n",
       " 'J.FONTINI',\n",
       " 'Cole Haan',\n",
       " 'Heel & Buckle London',\n",
       " 'Nike',\n",
       " 'ASICS',\n",
       " 'Florsheim',\n",
       " 'Heel & Buckle London',\n",
       " 'Geox',\n",
       " 'Geox',\n",
       " 'Cole Haan',\n",
       " 'Nike',\n",
       " 'Saint G',\n",
       " 'DAVINCHI',\n",
       " 'Saint G',\n",
       " 'Bugatti',\n",
       " 'DAVINCHI',\n",
       " 'ALDO',\n",
       " 'Kenneth Cole',\n",
       " 'DAVINCHI',\n",
       " 'ALDO',\n",
       " 'Geox',\n",
       " 'Clarks',\n",
       " 'ASICS',\n",
       " 'ALDO',\n",
       " 'ALDO',\n",
       " 'ALDO',\n",
       " 'ALDO',\n",
       " 'Clarks',\n",
       " 'UNDER ARMOUR',\n",
       " 'Kenneth Cole',\n",
       " 'Birkenstock',\n",
       " 'Birkenstock',\n",
       " 'ALDO',\n",
       " 'Nike',\n",
       " 'Geox',\n",
       " 'Xtep',\n",
       " 'J.FONTINI',\n",
       " 'Saint G',\n",
       " 'Geox',\n",
       " 'Geox',\n",
       " 'FILA',\n",
       " 'Nike',\n",
       " 'Nike',\n",
       " 'VIONIC',\n",
       " 'Reebok',\n",
       " 'Clarks',\n",
       " 'ADIDAS Originals',\n",
       " 'Regal',\n",
       " 'Heel & Buckle London',\n",
       " 'ADIDAS',\n",
       " 'Delize',\n",
       " 'ALDO',\n",
       " 'DAVINCHI',\n",
       " 'ADIDAS Originals',\n",
       " 'ADIDAS Originals',\n",
       " 'Cole Haan']"
      ]
     },
     "execution_count": 26,
     "metadata": {},
     "output_type": "execute_result"
    }
   ],
   "source": [
    "Brand_list=[]\n",
    "for i in page_url:\n",
    "    driver.get(i)\n",
    "    Brand_tags=driver.find_elements_by_xpath(\"//h3[@class='product-brand']\")\n",
    "    for i in Brand_tags:\n",
    "        Brand_list.append(i.text)\n",
    "Brand_list[:100]"
   ]
  },
  {
   "cell_type": "code",
   "execution_count": 27,
   "metadata": {
    "collapsed": true
   },
   "outputs": [
    {
     "name": "stdout",
     "output_type": "stream",
     "text": [
      "426 228 425\n"
     ]
    }
   ],
   "source": [
    "print(len(Brand_list),len(Price_list),len(Discription_Full))"
   ]
  },
  {
   "cell_type": "code",
   "execution_count": 28,
   "metadata": {},
   "outputs": [],
   "source": [
    "Shoe=pd.DataFrame({})\n",
    "Shoe['Brand']=Brand_list[:100]\n",
    "Shoe['Price']=Price_list[:100]\n",
    "Shoe['Discription']=Discription_Full[:100]"
   ]
  },
  {
   "cell_type": "code",
   "execution_count": 30,
   "metadata": {
    "collapsed": true
   },
   "outputs": [
    {
     "data": {
      "text/html": [
       "<div>\n",
       "<style scoped>\n",
       "    .dataframe tbody tr th:only-of-type {\n",
       "        vertical-align: middle;\n",
       "    }\n",
       "\n",
       "    .dataframe tbody tr th {\n",
       "        vertical-align: top;\n",
       "    }\n",
       "\n",
       "    .dataframe thead th {\n",
       "        text-align: right;\n",
       "    }\n",
       "</style>\n",
       "<table border=\"1\" class=\"dataframe\">\n",
       "  <thead>\n",
       "    <tr style=\"text-align: right;\">\n",
       "      <th></th>\n",
       "      <th>Brand</th>\n",
       "      <th>Price</th>\n",
       "      <th>Discription</th>\n",
       "    </tr>\n",
       "  </thead>\n",
       "  <tbody>\n",
       "    <tr>\n",
       "      <th>0</th>\n",
       "      <td>Heel &amp; Buckle London</td>\n",
       "      <td>Rs. 7192</td>\n",
       "      <td>Men Formal Leather Brogues</td>\n",
       "    </tr>\n",
       "    <tr>\n",
       "      <th>1</th>\n",
       "      <td>Saint G</td>\n",
       "      <td>Rs. 6675</td>\n",
       "      <td>Women Peep Toe Heels</td>\n",
       "    </tr>\n",
       "    <tr>\n",
       "      <th>2</th>\n",
       "      <td>Hush Puppies</td>\n",
       "      <td>Rs. 6622</td>\n",
       "      <td>Men Leather Formal Derbys</td>\n",
       "    </tr>\n",
       "    <tr>\n",
       "      <th>3</th>\n",
       "      <td>Florsheim</td>\n",
       "      <td>Rs. 8621</td>\n",
       "      <td>Women Leather Heeled Boots</td>\n",
       "    </tr>\n",
       "    <tr>\n",
       "      <th>4</th>\n",
       "      <td>RARE RABBIT</td>\n",
       "      <td>Rs. 8046</td>\n",
       "      <td>Women Solid Leather Pumps</td>\n",
       "    </tr>\n",
       "    <tr>\n",
       "      <th>...</th>\n",
       "      <td>...</td>\n",
       "      <td>...</td>\n",
       "      <td>...</td>\n",
       "    </tr>\n",
       "    <tr>\n",
       "      <th>95</th>\n",
       "      <td>ALDO</td>\n",
       "      <td>Rs. 8953</td>\n",
       "      <td>Men Printed Sneakers</td>\n",
       "    </tr>\n",
       "    <tr>\n",
       "      <th>96</th>\n",
       "      <td>DAVINCHI</td>\n",
       "      <td>Rs. 8154</td>\n",
       "      <td>Men NMD_R1 Sneakers</td>\n",
       "    </tr>\n",
       "    <tr>\n",
       "      <th>97</th>\n",
       "      <td>ADIDAS Originals</td>\n",
       "      <td>Rs. 7192</td>\n",
       "      <td>Women Woven Design Sneakers</td>\n",
       "    </tr>\n",
       "    <tr>\n",
       "      <th>98</th>\n",
       "      <td>ADIDAS Originals</td>\n",
       "      <td>Rs. 6993</td>\n",
       "      <td>Women Leather Pumps</td>\n",
       "    </tr>\n",
       "    <tr>\n",
       "      <th>99</th>\n",
       "      <td>Cole Haan</td>\n",
       "      <td>Rs. 6999</td>\n",
       "      <td>Women Leather Sneakers</td>\n",
       "    </tr>\n",
       "  </tbody>\n",
       "</table>\n",
       "<p>100 rows × 3 columns</p>\n",
       "</div>"
      ],
      "text/plain": [
       "                   Brand     Price                  Discription\n",
       "0   Heel & Buckle London  Rs. 7192   Men Formal Leather Brogues\n",
       "1                Saint G  Rs. 6675         Women Peep Toe Heels\n",
       "2           Hush Puppies  Rs. 6622    Men Leather Formal Derbys\n",
       "3              Florsheim  Rs. 8621   Women Leather Heeled Boots\n",
       "4            RARE RABBIT  Rs. 8046    Women Solid Leather Pumps\n",
       "..                   ...       ...                          ...\n",
       "95                  ALDO  Rs. 8953         Men Printed Sneakers\n",
       "96              DAVINCHI  Rs. 8154          Men NMD_R1 Sneakers\n",
       "97      ADIDAS Originals  Rs. 7192  Women Woven Design Sneakers\n",
       "98      ADIDAS Originals  Rs. 6993          Women Leather Pumps\n",
       "99             Cole Haan  Rs. 6999       Women Leather Sneakers\n",
       "\n",
       "[100 rows x 3 columns]"
      ]
     },
     "execution_count": 30,
     "metadata": {},
     "output_type": "execute_result"
    }
   ],
   "source": [
    "Shoe"
   ]
  },
  {
   "cell_type": "markdown",
   "metadata": {},
   "source": [
    "# :Q10 Go to webpage https://www.amazon.in/\n",
    " Enter “Laptop” in the search field and then click the search icon.\n",
    " Then set CPU Type filter to “Intel Core i7” and “Intel Core i9” as shown in the \n",
    "below image:WEB SCRAPING ASSIGNMENT-2\n",
    ".\n",
    "After setting the filters scrape first 10 laptops data. You have to scrape 3 attributes \n",
    "for each laptop:\n",
    "1. title\n",
    "2. Ratings\n",
    "3. Price\n",
    "As shown in the below image as the tick marked attributes"
   ]
  },
  {
   "cell_type": "code",
   "execution_count": null,
   "metadata": {},
   "outputs": [],
   "source": []
  },
  {
   "cell_type": "code",
   "execution_count": 31,
   "metadata": {},
   "outputs": [],
   "source": [
    "url = 'https://www.amazon.in/'\n",
    "driver.get(url)"
   ]
  },
  {
   "cell_type": "code",
   "execution_count": 32,
   "metadata": {
    "collapsed": true
   },
   "outputs": [
    {
     "data": {
      "text/plain": [
       "<selenium.webdriver.remote.webelement.WebElement (session=\"67bffddcda091b4bfbeb696584d91012\", element=\"98e7ebe9-f3d3-45a4-8c61-cd687f0062dd\")>"
      ]
     },
     "execution_count": 32,
     "metadata": {},
     "output_type": "execute_result"
    }
   ],
   "source": [
    "search_product = driver.find_element_by_xpath('/html/body/div[1]/header/div/div[1]/div[2]/div/form/div[2]/div[1]/input')\n",
    "search_product"
   ]
  },
  {
   "cell_type": "code",
   "execution_count": 33,
   "metadata": {},
   "outputs": [],
   "source": [
    "search_product.send_keys(\"laptops\")"
   ]
  },
  {
   "cell_type": "code",
   "execution_count": 34,
   "metadata": {
    "collapsed": true
   },
   "outputs": [
    {
     "data": {
      "text/plain": [
       "<selenium.webdriver.remote.webelement.WebElement (session=\"67bffddcda091b4bfbeb696584d91012\", element=\"895f4153-df47-4c53-9e78-fc21f6404d1d\")>"
      ]
     },
     "execution_count": 34,
     "metadata": {},
     "output_type": "execute_result"
    }
   ],
   "source": [
    "search_btn = driver.find_element_by_xpath(\"//div[@class='nav-search-submit nav-sprite']\")\n",
    "search_btn"
   ]
  },
  {
   "cell_type": "code",
   "execution_count": 35,
   "metadata": {},
   "outputs": [],
   "source": [
    "search_btn.click()"
   ]
  },
  {
   "cell_type": "code",
   "execution_count": 40,
   "metadata": {},
   "outputs": [],
   "source": [
    "cpu_filter = driver.find_element_by_xpath('/html/body/div[1]/div[2]/div[1]/div/div[2]/div/div[3]/span/div[1]/span/div/div/div[6]/ul[1]/li[10]/span/a/span')\n",
    "cpu_filter.click()"
   ]
  },
  {
   "cell_type": "code",
   "execution_count": 74,
   "metadata": {
    "collapsed": true
   },
   "outputs": [
    {
     "data": {
      "text/plain": [
       "[<selenium.webdriver.remote.webelement.WebElement (session=\"67bffddcda091b4bfbeb696584d91012\", element=\"988af4ce-d854-49a7-abb8-e77d631784e6\")>,\n",
       " <selenium.webdriver.remote.webelement.WebElement (session=\"67bffddcda091b4bfbeb696584d91012\", element=\"ce18747e-14e5-494f-8815-4c7900da2b3b\")>,\n",
       " <selenium.webdriver.remote.webelement.WebElement (session=\"67bffddcda091b4bfbeb696584d91012\", element=\"1f3ea758-c7f3-4081-9a6d-b2d7144604b4\")>,\n",
       " <selenium.webdriver.remote.webelement.WebElement (session=\"67bffddcda091b4bfbeb696584d91012\", element=\"181f8f00-7fe4-45ba-98a2-b17ce1351e41\")>,\n",
       " <selenium.webdriver.remote.webelement.WebElement (session=\"67bffddcda091b4bfbeb696584d91012\", element=\"adb47df0-81bd-44ae-aa61-fc9047994c4b\")>,\n",
       " <selenium.webdriver.remote.webelement.WebElement (session=\"67bffddcda091b4bfbeb696584d91012\", element=\"f1a40667-6b5d-42fb-8da2-cc9c58891a60\")>,\n",
       " <selenium.webdriver.remote.webelement.WebElement (session=\"67bffddcda091b4bfbeb696584d91012\", element=\"e6226cb4-24d4-41e6-9125-4e57adddd384\")>,\n",
       " <selenium.webdriver.remote.webelement.WebElement (session=\"67bffddcda091b4bfbeb696584d91012\", element=\"b843f24f-9947-4c3a-8155-fd8e8f1f2c41\")>,\n",
       " <selenium.webdriver.remote.webelement.WebElement (session=\"67bffddcda091b4bfbeb696584d91012\", element=\"931b5bc8-d5bc-4936-a01e-2ad4550f1e4d\")>,\n",
       " <selenium.webdriver.remote.webelement.WebElement (session=\"67bffddcda091b4bfbeb696584d91012\", element=\"6b753908-47db-44cf-89da-e701fe3e641e\")>]"
      ]
     },
     "execution_count": 74,
     "metadata": {},
     "output_type": "execute_result"
    }
   ],
   "source": [
    "titles_tags=driver.find_elements_by_xpath(\"//h2[@class='a-size-mini a-spacing-none a-color-base s-line-clamp-2']\")\n",
    "titles_tags[:10]"
   ]
  },
  {
   "cell_type": "code",
   "execution_count": 75,
   "metadata": {
    "collapsed": true
   },
   "outputs": [
    {
     "data": {
      "text/plain": [
       "['Mi Notebook Horizon Edition 14 Intel Core i7-10510U 10th Gen 14-inch (35.56 cms) Thin and Light Laptop(8GB/512GB SSD/Windows 10/Nvidia MX350 2GB Graphics/Grey/1.35Kg), XMA1904-AF+Webcam',\n",
       " 'HP Pavilion (2021) Thin & Light 11th Gen Core i7 Laptop, 16 GB RAM, 1TB SSD, Iris Xe Graphics, 14\" (35.56cms) FHD Screen, Windows 10, MS Office, Backlit Keyboard (14-dv0058TU)',\n",
       " 'HP Pavilion x360 (2021) 14\" (35.56cms) FHD Touchscreen Laptop, 11th Gen Core i7, 8 GB RAM, 512GB SSD, 2-in-1 Convertible, Windows 10, MS Office, Finger Print Reader (14-dw1040TU)',\n",
       " 'Mi Notebook Horizon Edition 14 Intel Core i7-10510U 10th Gen 14-inch (35.56 cms) Thin and Light Laptop(8GB/512GB SSD/Windows 10/Nvidia MX350 2GB Graphics/Grey/1.35Kg), XMA1904-AF+Webcam',\n",
       " '(Renewed) Dell Intel 6th Gen Core i7-6820HQ 15-Inch (38.1 cms) Touchscreen 1920x1080 Laptop (8 GB/500 GB HDD/Windows/MS Office Pro 2019 /AMD/Black/2.27 Kg), Latitude E5570',\n",
       " '(Renewed) HP Intel Core i7 6700HQ 15.6-Inch (39.62 cms) 1920 X 1080 Laptop (8 GB/512 GB SSD/Windows/Intel HD Graphics & Nvidia 1000m/Grey/2.7 Kg), Zbook 15',\n",
       " 'HP Pavilion Gaming 10th Gen Intel Core i7 Processor 15.6-inch FHD Gaming Laptop (16GB/512GB SSD + 32GB Intel Optane/Windows 10/NVIDIA 1650Ti 4GB/Shadow Black), 15-dk1509TX',\n",
       " 'ASUS VivoBook S S14 Intel Core i7-1165G7 11th Gen 14-inch FHD Thin and Light Laptop (8GB RAM/512GB SSD + 32GB Optane Memory/Windows 10/Office 2019/Iris X Graphics ;Dreamy White;1.4 Kg), S433EA-AM702TS',\n",
       " 'Lenovo Legion Y540 Intel Core i7 9th Gen 15.6” FHD Gaming (8GB/256SSD + 1TBHDD/Win10/NVIDIA GeForce GTX 1650 4GB/Raven Black/2.3kg), 81SY00U7IN',\n",
       " 'Dell 14 (2021) i7-1165G7 2in1 Touch Screen Laptop, 16Gb RAM, 512Gb SSD, 14” (35.56 cms) FHD Display, Win 10 + MSO, Backlit KB + FPR + Active Pen, Silver Metal Color (Inspiron 5410, D560469WIN9S)']"
      ]
     },
     "execution_count": 75,
     "metadata": {},
     "output_type": "execute_result"
    }
   ],
   "source": [
    "Laptop=[]\n",
    "for i in titles_tags:\n",
    "    Laptop.append(i.text)\n",
    "Laptop[:10]"
   ]
  },
  {
   "cell_type": "code",
   "execution_count": 60,
   "metadata": {
    "collapsed": true
   },
   "outputs": [
    {
     "data": {
      "text/plain": [
       "['https://www.amazon.in/s?k=laptops&i=computers&rh=n%3A1375424031%2Cp_n_feature_thirteen_browse-bin%3A12598163031&dc&qid=1625724219&rnid=12598141031&ref=sr_pg_1']"
      ]
     },
     "execution_count": 60,
     "metadata": {},
     "output_type": "execute_result"
    }
   ],
   "source": [
    "page_url = []\n",
    "url = driver.find_elements_by_xpath(\"//li[@class='a-selected']//a\")\n",
    "for i in url:\n",
    "    page_url.append(i.get_attribute(\"href\"))\n",
    "page_url"
   ]
  },
  {
   "cell_type": "code",
   "execution_count": 154,
   "metadata": {
    "collapsed": true
   },
   "outputs": [
    {
     "data": {
      "text/plain": [
       "['',\n",
       " '',\n",
       " '',\n",
       " '',\n",
       " '',\n",
       " '',\n",
       " '',\n",
       " '',\n",
       " '',\n",
       " '',\n",
       " '',\n",
       " '',\n",
       " '',\n",
       " '',\n",
       " '',\n",
       " '',\n",
       " '',\n",
       " '',\n",
       " '',\n",
       " '',\n",
       " '',\n",
       " '',\n",
       " '']"
      ]
     },
     "execution_count": 154,
     "metadata": {},
     "output_type": "execute_result"
    }
   ],
   "source": [
    "Rating=[]\n",
    "for i in page_url:\n",
    "    driver.get(i)\n",
    "    Rating_tags=driver.find_elements_by_xpath(\"//span[@class='a-icon-alt']\")\n",
    "    for i in Rating_tags:\n",
    "        Rating.append(i.text)\n",
    "Rating"
   ]
  },
  {
   "cell_type": "code",
   "execution_count": 63,
   "metadata": {
    "collapsed": true
   },
   "outputs": [
    {
     "data": {
      "text/plain": [
       "[<selenium.webdriver.remote.webelement.WebElement (session=\"67bffddcda091b4bfbeb696584d91012\", element=\"9e8f6f1b-5813-4ff6-8cbc-42eb4c1f4d00\")>,\n",
       " <selenium.webdriver.remote.webelement.WebElement (session=\"67bffddcda091b4bfbeb696584d91012\", element=\"8bcbcad9-f481-415b-b6dd-4ae33572db39\")>,\n",
       " <selenium.webdriver.remote.webelement.WebElement (session=\"67bffddcda091b4bfbeb696584d91012\", element=\"1b0ea807-6b70-42b0-b814-5fa35967f4f9\")>,\n",
       " <selenium.webdriver.remote.webelement.WebElement (session=\"67bffddcda091b4bfbeb696584d91012\", element=\"05b53126-1658-4a6a-9807-dd1bdff4a37d\")>,\n",
       " <selenium.webdriver.remote.webelement.WebElement (session=\"67bffddcda091b4bfbeb696584d91012\", element=\"4c803520-6e65-4b11-8e3f-40b116118ea8\")>,\n",
       " <selenium.webdriver.remote.webelement.WebElement (session=\"67bffddcda091b4bfbeb696584d91012\", element=\"9732fbf8-2107-4877-9cff-9551f54e597f\")>,\n",
       " <selenium.webdriver.remote.webelement.WebElement (session=\"67bffddcda091b4bfbeb696584d91012\", element=\"6a40106d-4fa6-4a6d-b457-b908555cabee\")>,\n",
       " <selenium.webdriver.remote.webelement.WebElement (session=\"67bffddcda091b4bfbeb696584d91012\", element=\"7c1a9611-393e-4394-8133-83df8a7fd413\")>,\n",
       " <selenium.webdriver.remote.webelement.WebElement (session=\"67bffddcda091b4bfbeb696584d91012\", element=\"46701383-baeb-40dc-84e1-f4937406df95\")>,\n",
       " <selenium.webdriver.remote.webelement.WebElement (session=\"67bffddcda091b4bfbeb696584d91012\", element=\"7e0a00d8-bed9-4147-9b7d-e1c653dd3ed0\")>,\n",
       " <selenium.webdriver.remote.webelement.WebElement (session=\"67bffddcda091b4bfbeb696584d91012\", element=\"18887f40-f686-46fc-9961-2c2cb0393bbd\")>,\n",
       " <selenium.webdriver.remote.webelement.WebElement (session=\"67bffddcda091b4bfbeb696584d91012\", element=\"f074e0cf-0c16-4f84-a891-308e1de549e3\")>,\n",
       " <selenium.webdriver.remote.webelement.WebElement (session=\"67bffddcda091b4bfbeb696584d91012\", element=\"fb674b2b-bd9d-4069-b151-84e902e532b7\")>,\n",
       " <selenium.webdriver.remote.webelement.WebElement (session=\"67bffddcda091b4bfbeb696584d91012\", element=\"6c87ab81-de6f-4338-9bd4-cb51a8e424c3\")>,\n",
       " <selenium.webdriver.remote.webelement.WebElement (session=\"67bffddcda091b4bfbeb696584d91012\", element=\"94e55faf-7939-43d3-9880-b709e976ade9\")>,\n",
       " <selenium.webdriver.remote.webelement.WebElement (session=\"67bffddcda091b4bfbeb696584d91012\", element=\"d878ea54-b0a2-428b-b8c4-e5e8b8fe16e0\")>,\n",
       " <selenium.webdriver.remote.webelement.WebElement (session=\"67bffddcda091b4bfbeb696584d91012\", element=\"bd2f66c9-a0ad-4192-af5e-8f890a534c0a\")>,\n",
       " <selenium.webdriver.remote.webelement.WebElement (session=\"67bffddcda091b4bfbeb696584d91012\", element=\"0d8e9a70-38a4-49eb-b164-79ccfd386db8\")>,\n",
       " <selenium.webdriver.remote.webelement.WebElement (session=\"67bffddcda091b4bfbeb696584d91012\", element=\"b7629d5f-f900-4e7d-b31e-0d50c1099fb6\")>,\n",
       " <selenium.webdriver.remote.webelement.WebElement (session=\"67bffddcda091b4bfbeb696584d91012\", element=\"3502a58a-78bd-46c5-be7e-bca584994230\")>,\n",
       " <selenium.webdriver.remote.webelement.WebElement (session=\"67bffddcda091b4bfbeb696584d91012\", element=\"61fe1ba5-2213-474f-a876-f370509c7e96\")>,\n",
       " <selenium.webdriver.remote.webelement.WebElement (session=\"67bffddcda091b4bfbeb696584d91012\", element=\"9fb6371b-9074-4b17-918c-27658297e6e2\")>,\n",
       " <selenium.webdriver.remote.webelement.WebElement (session=\"67bffddcda091b4bfbeb696584d91012\", element=\"189386b2-affa-4aaf-a118-e6449741ab98\")>,\n",
       " <selenium.webdriver.remote.webelement.WebElement (session=\"67bffddcda091b4bfbeb696584d91012\", element=\"4f3604c1-6d80-4cc0-80b0-2e5cee93033b\")>]"
      ]
     },
     "execution_count": 63,
     "metadata": {},
     "output_type": "execute_result"
    }
   ],
   "source": [
    "Price_tag=driver.find_elements_by_xpath(\"//span[@class='a-price-whole']\")\n",
    "Price_tag"
   ]
  },
  {
   "cell_type": "code",
   "execution_count": 64,
   "metadata": {
    "collapsed": true
   },
   "outputs": [
    {
     "data": {
      "text/plain": [
       "['59,999',\n",
       " '84,990',\n",
       " '79,046',\n",
       " '59,999',\n",
       " '73,700',\n",
       " '64,490',\n",
       " '86,990',\n",
       " '76,990',\n",
       " '69,990',\n",
       " '93,071']"
      ]
     },
     "execution_count": 64,
     "metadata": {},
     "output_type": "execute_result"
    }
   ],
   "source": [
    "Price_list=[]\n",
    "for i in page_url:\n",
    "    driver.get(i)\n",
    "    Price_tags=driver.find_elements_by_xpath(\"//span[@class='a-price-whole']\")\n",
    "    for i in Price_tags:\n",
    "        Price_list.append(i.text)\n",
    "Price_list[:10]"
   ]
  },
  {
   "cell_type": "code",
   "execution_count": 76,
   "metadata": {
    "collapsed": true
   },
   "outputs": [
    {
     "name": "stdout",
     "output_type": "stream",
     "text": [
      "25 20 24\n"
     ]
    }
   ],
   "source": [
    "print(len(Laptop),len(Rating),len(Price_list))"
   ]
  },
  {
   "cell_type": "code",
   "execution_count": 77,
   "metadata": {},
   "outputs": [],
   "source": [
    "Lap=pd.DataFrame({})\n",
    "Lap['Product']=Laptop[:10]\n",
    "Lap['Rating']=Rating[:10]\n",
    "Lap['Price']=Price_list[:10]"
   ]
  },
  {
   "cell_type": "code",
   "execution_count": 79,
   "metadata": {
    "collapsed": true
   },
   "outputs": [
    {
     "data": {
      "text/html": [
       "<div>\n",
       "<style scoped>\n",
       "    .dataframe tbody tr th:only-of-type {\n",
       "        vertical-align: middle;\n",
       "    }\n",
       "\n",
       "    .dataframe tbody tr th {\n",
       "        vertical-align: top;\n",
       "    }\n",
       "\n",
       "    .dataframe thead th {\n",
       "        text-align: right;\n",
       "    }\n",
       "</style>\n",
       "<table border=\"1\" class=\"dataframe\">\n",
       "  <thead>\n",
       "    <tr style=\"text-align: right;\">\n",
       "      <th></th>\n",
       "      <th>Product</th>\n",
       "      <th>Rating</th>\n",
       "      <th>Price</th>\n",
       "    </tr>\n",
       "  </thead>\n",
       "  <tbody>\n",
       "    <tr>\n",
       "      <th>0</th>\n",
       "      <td>Mi Notebook Horizon Edition 14 Intel Core i7-1...</td>\n",
       "      <td></td>\n",
       "      <td>59,999</td>\n",
       "    </tr>\n",
       "    <tr>\n",
       "      <th>1</th>\n",
       "      <td>HP Pavilion (2021) Thin &amp; Light 11th Gen Core ...</td>\n",
       "      <td></td>\n",
       "      <td>84,990</td>\n",
       "    </tr>\n",
       "    <tr>\n",
       "      <th>2</th>\n",
       "      <td>HP Pavilion x360 (2021) 14\" (35.56cms) FHD Tou...</td>\n",
       "      <td></td>\n",
       "      <td>79,046</td>\n",
       "    </tr>\n",
       "    <tr>\n",
       "      <th>3</th>\n",
       "      <td>Mi Notebook Horizon Edition 14 Intel Core i7-1...</td>\n",
       "      <td></td>\n",
       "      <td>59,999</td>\n",
       "    </tr>\n",
       "    <tr>\n",
       "      <th>4</th>\n",
       "      <td>(Renewed) Dell Intel 6th Gen Core i7-6820HQ 15...</td>\n",
       "      <td></td>\n",
       "      <td>73,700</td>\n",
       "    </tr>\n",
       "    <tr>\n",
       "      <th>5</th>\n",
       "      <td>(Renewed) HP Intel Core i7 6700HQ 15.6-Inch (3...</td>\n",
       "      <td></td>\n",
       "      <td>64,490</td>\n",
       "    </tr>\n",
       "    <tr>\n",
       "      <th>6</th>\n",
       "      <td>HP Pavilion Gaming 10th Gen Intel Core i7 Proc...</td>\n",
       "      <td></td>\n",
       "      <td>86,990</td>\n",
       "    </tr>\n",
       "    <tr>\n",
       "      <th>7</th>\n",
       "      <td>ASUS VivoBook S S14 Intel Core i7-1165G7 11th ...</td>\n",
       "      <td></td>\n",
       "      <td>76,990</td>\n",
       "    </tr>\n",
       "    <tr>\n",
       "      <th>8</th>\n",
       "      <td>Lenovo Legion Y540 Intel Core i7 9th Gen 15.6”...</td>\n",
       "      <td></td>\n",
       "      <td>69,990</td>\n",
       "    </tr>\n",
       "    <tr>\n",
       "      <th>9</th>\n",
       "      <td>Dell 14 (2021) i7-1165G7 2in1 Touch Screen Lap...</td>\n",
       "      <td></td>\n",
       "      <td>93,071</td>\n",
       "    </tr>\n",
       "  </tbody>\n",
       "</table>\n",
       "</div>"
      ],
      "text/plain": [
       "                                             Product Rating   Price\n",
       "0  Mi Notebook Horizon Edition 14 Intel Core i7-1...         59,999\n",
       "1  HP Pavilion (2021) Thin & Light 11th Gen Core ...         84,990\n",
       "2  HP Pavilion x360 (2021) 14\" (35.56cms) FHD Tou...         79,046\n",
       "3  Mi Notebook Horizon Edition 14 Intel Core i7-1...         59,999\n",
       "4  (Renewed) Dell Intel 6th Gen Core i7-6820HQ 15...         73,700\n",
       "5  (Renewed) HP Intel Core i7 6700HQ 15.6-Inch (3...         64,490\n",
       "6  HP Pavilion Gaming 10th Gen Intel Core i7 Proc...         86,990\n",
       "7  ASUS VivoBook S S14 Intel Core i7-1165G7 11th ...         76,990\n",
       "8  Lenovo Legion Y540 Intel Core i7 9th Gen 15.6”...         69,990\n",
       "9  Dell 14 (2021) i7-1165G7 2in1 Touch Screen Lap...         93,071"
      ]
     },
     "execution_count": 79,
     "metadata": {},
     "output_type": "execute_result"
    }
   ],
   "source": [
    "Lap"
   ]
  },
  {
   "cell_type": "markdown",
   "metadata": {},
   "source": [
    "# Q5 Write a python program to scrape the salary data for Data Scientist designation \n",
    "in Noida location.\n",
    "You have to scrape Company name, Number of salaries, Average salary, Min\n",
    "salary, Max Salary.\n",
    "The above task will be, done as shown in the below steps:\n",
    "1. first get the webpage https://www.glassdoor.co.in/Salaries/index.htm\n",
    "2. Enter “Data Scientist” in Job title field and “Noida” in location field.\n",
    "3. Click the search button.\n",
    "4. After that you will land on the below page \n",
    "You have to scrape whole data from this webpage\n",
    "5. Scrape data for first 10 companies. Scrape the min salary, max salary, company \n",
    "name, Average salary and rating of the company.\n",
    "6.Store the data in a dataframe.\n",
    "\n"
   ]
  },
  {
   "cell_type": "code",
   "execution_count": 39,
   "metadata": {},
   "outputs": [],
   "source": [
    "driver = webdriver.Chrome(\"chromedriver.exe\")"
   ]
  },
  {
   "cell_type": "code",
   "execution_count": 40,
   "metadata": {},
   "outputs": [],
   "source": [
    "url = 'https://www.glassdoor.co.in/Salaries/index.htm'\n",
    "driver.get(url)"
   ]
  },
  {
   "cell_type": "code",
   "execution_count": 41,
   "metadata": {
    "collapsed": true
   },
   "outputs": [
    {
     "data": {
      "text/plain": [
       "<selenium.webdriver.remote.webelement.WebElement (session=\"6580be9bfa6953523560085acca4ce51\", element=\"99584e07-a88a-40ab-8707-b3e5e2aa6348\")>"
      ]
     },
     "execution_count": 41,
     "metadata": {},
     "output_type": "execute_result"
    }
   ],
   "source": [
    "search_job = driver.find_element_by_xpath('/html/body/div[3]/div/div[1]/div[1]/div/div/form/input[5]')\n",
    "search_job"
   ]
  },
  {
   "cell_type": "code",
   "execution_count": 42,
   "metadata": {},
   "outputs": [],
   "source": [
    "search_job.send_keys(\"Data Scientist\")"
   ]
  },
  {
   "cell_type": "code",
   "execution_count": 45,
   "metadata": {
    "collapsed": true
   },
   "outputs": [
    {
     "data": {
      "text/plain": [
       "<selenium.webdriver.remote.webelement.WebElement (session=\"6580be9bfa6953523560085acca4ce51\", element=\"b1fe8b33-9f96-4dcc-bcaf-e3bd17bf84f8\")>"
      ]
     },
     "execution_count": 45,
     "metadata": {},
     "output_type": "execute_result"
    }
   ],
   "source": [
    "search_btn = driver.find_element_by_xpath(\"//button[@class='gd-btn-mkt']\")\n",
    "search_btn"
   ]
  },
  {
   "cell_type": "code",
   "execution_count": 46,
   "metadata": {},
   "outputs": [],
   "source": [
    "search_btn.click()"
   ]
  },
  {
   "cell_type": "code",
   "execution_count": 43,
   "metadata": {
    "collapsed": true
   },
   "outputs": [
    {
     "data": {
      "text/plain": [
       "<selenium.webdriver.remote.webelement.WebElement (session=\"6580be9bfa6953523560085acca4ce51\", element=\"f1d71b5b-acb1-413e-b98e-2d2d20bf718a\")>"
      ]
     },
     "execution_count": 43,
     "metadata": {},
     "output_type": "execute_result"
    }
   ],
   "source": [
    "search_location = driver.find_element_by_xpath('/html/body/div[3]/div/div[1]/div[1]/div/div/form/input[6]')\n",
    "search_location"
   ]
  },
  {
   "cell_type": "code",
   "execution_count": 44,
   "metadata": {},
   "outputs": [],
   "source": [
    "search_location.send_keys(\"Noida(india)\")"
   ]
  },
  {
   "cell_type": "code",
   "execution_count": 19,
   "metadata": {},
   "outputs": [],
   "source": [
    "search_btn.click()"
   ]
  },
  {
   "cell_type": "code",
   "execution_count": 78,
   "metadata": {
    "collapsed": true
   },
   "outputs": [
    {
     "data": {
      "text/plain": [
       "['https://www.glassdoor.co.in/Salaries/new-delhi-data-scientist-salary-SRCH_IL.0,9_IM1083_KO10,24.htm?clickSource=searchBtn',\n",
       " 'https://www.glassdoor.co.in/Salaries/new-delhi-data-scientist-salary-SRCH_IL.0,9_IM1083_KO10,24_IP2.htm?clickSource=searchBtn',\n",
       " 'https://www.glassdoor.co.in/Salaries/new-delhi-data-scientist-salary-SRCH_IL.0,9_IM1083_KO10,24_IP3.htm?clickSource=searchBtn',\n",
       " 'https://www.glassdoor.co.in/Salaries/new-delhi-data-scientist-salary-SRCH_IL.0,9_IM1083_KO10,24_IP4.htm?clickSource=searchBtn',\n",
       " 'https://www.glassdoor.co.in/Salaries/new-delhi-data-scientist-salary-SRCH_IL.0,9_IM1083_KO10,24_IP5.htm?clickSource=searchBtn']"
      ]
     },
     "execution_count": 78,
     "metadata": {},
     "output_type": "execute_result"
    }
   ],
   "source": [
    "page_url = []\n",
    "url = driver.find_elements_by_xpath(\"//ul[@class='css-1ff5hnt']//a\")\n",
    "for i in url:\n",
    "    page_url.append(i.get_attribute(\"href\"))\n",
    "page_url"
   ]
  },
  {
   "cell_type": "code",
   "execution_count": 48,
   "metadata": {},
   "outputs": [],
   "source": [
    "company_name=[]\n",
    "\n",
    "\n",
    "\n",
    "time.sleep(3)\n",
    "# finding the element where company name is present\n",
    "companies=driver.find_elements_by_xpath(\"//h3[@class='m-0 css-g261rn']\")\n",
    "for i in companies:\n",
    "    if i.text is None :\n",
    "        company_name.append(\"--\") \n",
    "    else:\n",
    "        company_name.append(i.text)"
   ]
  },
  {
   "cell_type": "code",
   "execution_count": 49,
   "metadata": {
    "collapsed": true
   },
   "outputs": [
    {
     "data": {
      "text/plain": [
       "48"
      ]
     },
     "execution_count": 49,
     "metadata": {},
     "output_type": "execute_result"
    }
   ],
   "source": [
    "len(company_name)"
   ]
  },
  {
   "cell_type": "code",
   "execution_count": 50,
   "metadata": {
    "collapsed": true
   },
   "outputs": [
    {
     "data": {
      "text/plain": [
       "['Big Data',\n",
       " 'xxK',\n",
       " 'Data Analyst',\n",
       " 'xxK',\n",
       " 'Quantitative Analyst',\n",
       " 'xxK',\n",
       " 'Senior Data Scientist',\n",
       " 'xxK',\n",
       " 'IBM',\n",
       " '₹9,00,000']"
      ]
     },
     "execution_count": 50,
     "metadata": {},
     "output_type": "execute_result"
    }
   ],
   "source": [
    "company_name[:10]"
   ]
  },
  {
   "cell_type": "code",
   "execution_count": 51,
   "metadata": {
    "collapsed": true
   },
   "outputs": [
    {
     "data": {
      "text/plain": [
       "['3.9', '3.9', '4', '3.9', '4', '3.7', '4.2', '3.6', '3.9', '4']"
      ]
     },
     "execution_count": 51,
     "metadata": {},
     "output_type": "execute_result"
    }
   ],
   "source": [
    "Rating=[]\n",
    "for i in page_url:\n",
    "    driver.get(i)\n",
    "    Rating_tags=driver.find_elements_by_xpath(\"//span[@class='m-0 css-kyx745']\")\n",
    "    for i in Rating_tags:\n",
    "        Rating.append(i.text)\n",
    "Rating[:10]"
   ]
  },
  {
   "cell_type": "code",
   "execution_count": 52,
   "metadata": {
    "collapsed": true
   },
   "outputs": [
    {
     "data": {
      "text/plain": [
       "100"
      ]
     },
     "execution_count": 52,
     "metadata": {},
     "output_type": "execute_result"
    }
   ],
   "source": [
    "len(Rating)"
   ]
  },
  {
   "cell_type": "code",
   "execution_count": 53,
   "metadata": {
    "collapsed": true
   },
   "outputs": [
    {
     "data": {
      "text/plain": [
       "['3.9', '3.9', '4', '3.9', '4', '3.7', '4.2', '3.6', '3.9', '4']"
      ]
     },
     "execution_count": 53,
     "metadata": {},
     "output_type": "execute_result"
    }
   ],
   "source": [
    "Rating[:10]"
   ]
  },
  {
   "cell_type": "code",
   "execution_count": 64,
   "metadata": {
    "collapsed": true
   },
   "outputs": [
    {
     "data": {
      "text/plain": [
       "[<selenium.webdriver.remote.webelement.WebElement (session=\"6580be9bfa6953523560085acca4ce51\", element=\"8ccbe618-7abc-4224-a60c-18c2f979e837\")>,\n",
       " <selenium.webdriver.remote.webelement.WebElement (session=\"6580be9bfa6953523560085acca4ce51\", element=\"2e1be7b4-6fd1-45f6-b2de-2a32ed6bb3bd\")>,\n",
       " <selenium.webdriver.remote.webelement.WebElement (session=\"6580be9bfa6953523560085acca4ce51\", element=\"0c4c5597-75cc-4ad2-b347-1230b4454303\")>,\n",
       " <selenium.webdriver.remote.webelement.WebElement (session=\"6580be9bfa6953523560085acca4ce51\", element=\"71d05676-b1ef-4b19-af5b-9fd4c13b6a23\")>,\n",
       " <selenium.webdriver.remote.webelement.WebElement (session=\"6580be9bfa6953523560085acca4ce51\", element=\"49c782ec-dbcd-45b1-a7f3-f48b0f72b6f0\")>,\n",
       " <selenium.webdriver.remote.webelement.WebElement (session=\"6580be9bfa6953523560085acca4ce51\", element=\"b650a41e-fa4f-4394-8a9d-f1335bb74be2\")>,\n",
       " <selenium.webdriver.remote.webelement.WebElement (session=\"6580be9bfa6953523560085acca4ce51\", element=\"2661d0fb-8d1c-40dc-98de-d43728c3a158\")>,\n",
       " <selenium.webdriver.remote.webelement.WebElement (session=\"6580be9bfa6953523560085acca4ce51\", element=\"bc11a225-a886-4425-8196-759d3f6f8ef4\")>,\n",
       " <selenium.webdriver.remote.webelement.WebElement (session=\"6580be9bfa6953523560085acca4ce51\", element=\"19b19628-4dbf-49cc-93a3-57a49225530e\")>,\n",
       " <selenium.webdriver.remote.webelement.WebElement (session=\"6580be9bfa6953523560085acca4ce51\", element=\"3f6ce278-52cb-47b1-94d7-437e177d7c9a\")>]"
      ]
     },
     "execution_count": 64,
     "metadata": {},
     "output_type": "execute_result"
    }
   ],
   "source": [
    "Salarie_tags=driver.find_elements_by_xpath(\"//div[@class='col-12 col-lg-4 px-lg-0 d-flex align-items-baseline']\")\n",
    "Salarie_tags[:10]"
   ]
  },
  {
   "cell_type": "code",
   "execution_count": 65,
   "metadata": {
    "collapsed": true
   },
   "outputs": [
    {
     "data": {
      "text/plain": [
       "['₹9,00,000\\n /yr',\n",
       " '₹6,15,289\\n /yr',\n",
       " '₹11,63,336\\n /yr',\n",
       " '₹xx,xx,xxx\\n /yr',\n",
       " '₹x,xx,xxx\\n /yr',\n",
       " '₹xx,xx,xxx\\n /yr',\n",
       " '₹x,xx,xxx\\n /yr',\n",
       " '₹xx,xx,xxx\\n /yr',\n",
       " '₹xx,xx,xxx\\n /yr',\n",
       " '₹xx,xx,xxx\\n /yr']"
      ]
     },
     "execution_count": 65,
     "metadata": {},
     "output_type": "execute_result"
    }
   ],
   "source": [
    "Salary=[]\n",
    "for i in Salarie_tags:\n",
    "    Salary.append(i.text)\n",
    "Salary[:10]"
   ]
  },
  {
   "cell_type": "code",
   "execution_count": 66,
   "metadata": {
    "collapsed": true
   },
   "outputs": [
    {
     "data": {
      "text/plain": [
       "20"
      ]
     },
     "execution_count": 66,
     "metadata": {},
     "output_type": "execute_result"
    }
   ],
   "source": [
    "len(Salary)"
   ]
  },
  {
   "cell_type": "code",
   "execution_count": 67,
   "metadata": {
    "collapsed": true
   },
   "outputs": [
    {
     "data": {
      "text/plain": [
       "['₹9,00,000\\n /yr',\n",
       " '₹6,15,289\\n /yr',\n",
       " '₹11,63,336\\n /yr',\n",
       " '₹xx,xx,xxx\\n /yr',\n",
       " '₹x,xx,xxx\\n /yr',\n",
       " '₹xx,xx,xxx\\n /yr',\n",
       " '₹x,xx,xxx\\n /yr',\n",
       " '₹xx,xx,xxx\\n /yr',\n",
       " '₹xx,xx,xxx\\n /yr',\n",
       " '₹xx,xx,xxx\\n /yr',\n",
       " '₹xx,xx,xxx\\n /yr',\n",
       " '₹xx,xx,xxx\\n /yr',\n",
       " '₹xx,xx,xxx\\n /yr',\n",
       " '₹xx,xx,xxx\\n /yr',\n",
       " '₹x,xx,xxx\\n /yr',\n",
       " '₹xx,xx,xxx\\n /yr',\n",
       " '₹xx,xxx\\n /mo',\n",
       " '₹xx,xx,xxx\\n /yr',\n",
       " '₹xx,xx,xxx\\n /yr',\n",
       " '₹xx,xx,xxx\\n /yr']"
      ]
     },
     "execution_count": 67,
     "metadata": {},
     "output_type": "execute_result"
    }
   ],
   "source": [
    "Salary"
   ]
  },
  {
   "cell_type": "code",
   "execution_count": 79,
   "metadata": {},
   "outputs": [
    {
     "name": "stdout",
     "output_type": "stream",
     "text": [
      "48 100 20\n"
     ]
    }
   ],
   "source": [
    "print(len(company_name),len(Rating),len(Salary))"
   ]
  },
  {
   "cell_type": "code",
   "execution_count": 80,
   "metadata": {},
   "outputs": [],
   "source": [
    "Jobs=pd.DataFrame({})\n",
    "Jobs['Company']=company_name[:10]\n",
    "Jobs['Rating']=Rating[:10]\n",
    "Jobs['salarie']=Salary[:10]"
   ]
  },
  {
   "cell_type": "code",
   "execution_count": 81,
   "metadata": {
    "collapsed": true
   },
   "outputs": [
    {
     "data": {
      "text/html": [
       "<div>\n",
       "<style scoped>\n",
       "    .dataframe tbody tr th:only-of-type {\n",
       "        vertical-align: middle;\n",
       "    }\n",
       "\n",
       "    .dataframe tbody tr th {\n",
       "        vertical-align: top;\n",
       "    }\n",
       "\n",
       "    .dataframe thead th {\n",
       "        text-align: right;\n",
       "    }\n",
       "</style>\n",
       "<table border=\"1\" class=\"dataframe\">\n",
       "  <thead>\n",
       "    <tr style=\"text-align: right;\">\n",
       "      <th></th>\n",
       "      <th>Company</th>\n",
       "      <th>Rating</th>\n",
       "      <th>salarie</th>\n",
       "    </tr>\n",
       "  </thead>\n",
       "  <tbody>\n",
       "    <tr>\n",
       "      <th>0</th>\n",
       "      <td>Big Data</td>\n",
       "      <td>3.9</td>\n",
       "      <td>₹9,00,000\\n /yr</td>\n",
       "    </tr>\n",
       "    <tr>\n",
       "      <th>1</th>\n",
       "      <td>xxK</td>\n",
       "      <td>3.9</td>\n",
       "      <td>₹6,15,289\\n /yr</td>\n",
       "    </tr>\n",
       "    <tr>\n",
       "      <th>2</th>\n",
       "      <td>Data Analyst</td>\n",
       "      <td>4</td>\n",
       "      <td>₹11,63,336\\n /yr</td>\n",
       "    </tr>\n",
       "    <tr>\n",
       "      <th>3</th>\n",
       "      <td>xxK</td>\n",
       "      <td>3.9</td>\n",
       "      <td>₹xx,xx,xxx\\n /yr</td>\n",
       "    </tr>\n",
       "    <tr>\n",
       "      <th>4</th>\n",
       "      <td>Quantitative Analyst</td>\n",
       "      <td>4</td>\n",
       "      <td>₹x,xx,xxx\\n /yr</td>\n",
       "    </tr>\n",
       "    <tr>\n",
       "      <th>5</th>\n",
       "      <td>xxK</td>\n",
       "      <td>3.7</td>\n",
       "      <td>₹xx,xx,xxx\\n /yr</td>\n",
       "    </tr>\n",
       "    <tr>\n",
       "      <th>6</th>\n",
       "      <td>Senior Data Scientist</td>\n",
       "      <td>4.2</td>\n",
       "      <td>₹x,xx,xxx\\n /yr</td>\n",
       "    </tr>\n",
       "    <tr>\n",
       "      <th>7</th>\n",
       "      <td>xxK</td>\n",
       "      <td>3.6</td>\n",
       "      <td>₹xx,xx,xxx\\n /yr</td>\n",
       "    </tr>\n",
       "    <tr>\n",
       "      <th>8</th>\n",
       "      <td>IBM</td>\n",
       "      <td>3.9</td>\n",
       "      <td>₹xx,xx,xxx\\n /yr</td>\n",
       "    </tr>\n",
       "    <tr>\n",
       "      <th>9</th>\n",
       "      <td>₹9,00,000</td>\n",
       "      <td>4</td>\n",
       "      <td>₹xx,xx,xxx\\n /yr</td>\n",
       "    </tr>\n",
       "  </tbody>\n",
       "</table>\n",
       "</div>"
      ],
      "text/plain": [
       "                 Company Rating           salarie\n",
       "0               Big Data    3.9   ₹9,00,000\\n /yr\n",
       "1                    xxK    3.9   ₹6,15,289\\n /yr\n",
       "2           Data Analyst      4  ₹11,63,336\\n /yr\n",
       "3                    xxK    3.9  ₹xx,xx,xxx\\n /yr\n",
       "4   Quantitative Analyst      4   ₹x,xx,xxx\\n /yr\n",
       "5                    xxK    3.7  ₹xx,xx,xxx\\n /yr\n",
       "6  Senior Data Scientist    4.2   ₹x,xx,xxx\\n /yr\n",
       "7                    xxK    3.6  ₹xx,xx,xxx\\n /yr\n",
       "8                    IBM    3.9  ₹xx,xx,xxx\\n /yr\n",
       "9              ₹9,00,000      4  ₹xx,xx,xxx\\n /yr"
      ]
     },
     "execution_count": 81,
     "metadata": {},
     "output_type": "execute_result"
    }
   ],
   "source": [
    "Jobs"
   ]
  },
  {
   "cell_type": "code",
   "execution_count": null,
   "metadata": {},
   "outputs": [],
   "source": []
  }
 ],
 "metadata": {
  "kernelspec": {
   "display_name": "Python 3",
   "language": "python",
   "name": "python3"
  },
  "language_info": {
   "codemirror_mode": {
    "name": "ipython",
    "version": 3
   },
   "file_extension": ".py",
   "mimetype": "text/x-python",
   "name": "python",
   "nbconvert_exporter": "python",
   "pygments_lexer": "ipython3",
   "version": "3.8.5"
  }
 },
 "nbformat": 4,
 "nbformat_minor": 4
}
